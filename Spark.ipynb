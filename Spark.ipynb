{
 "cells": [
  {
   "cell_type": "code",
   "execution_count": 74,
   "id": "b2b7d860",
   "metadata": {},
   "outputs": [],
   "source": [
    "from pyspark.sql import SparkSession"
   ]
  },
  {
   "cell_type": "code",
   "execution_count": 75,
   "id": "d8b6e4f7",
   "metadata": {},
   "outputs": [],
   "source": [
    "spark = SparkSession.builder \\\n",
    "        .appName('kafka') \\\n",
    "        .getOrCreate()"
   ]
  },
  {
   "cell_type": "code",
   "execution_count": 76,
   "id": "4d01aa88",
   "metadata": {},
   "outputs": [],
   "source": [
    "stream_df = spark \\\n",
    "  .readStream \\\n",
    "  .format(\"kafka\") \\\n",
    "  .option(\"kafka.bootstrap.servers\", \"broker:29092\") \\\n",
    "  .option(\"startingOffsets\", \"earliest\") \\\n",
    "  .option(\"subscribe\", \"submissions\") \\\n",
    "  .load()"
   ]
  },
  {
   "cell_type": "code",
   "execution_count": 77,
   "id": "0f76c7fe",
   "metadata": {},
   "outputs": [
    {
     "name": "stdout",
     "output_type": "stream",
     "text": [
      "root\n",
      " |-- key: binary (nullable = true)\n",
      " |-- value: binary (nullable = true)\n",
      " |-- topic: string (nullable = true)\n",
      " |-- partition: integer (nullable = true)\n",
      " |-- offset: long (nullable = true)\n",
      " |-- timestamp: timestamp (nullable = true)\n",
      " |-- timestampType: integer (nullable = true)\n",
      "\n"
     ]
    }
   ],
   "source": [
    "stream_df.printSchema()"
   ]
  },
  {
   "cell_type": "code",
   "execution_count": 78,
   "id": "1e5ce210",
   "metadata": {},
   "outputs": [],
   "source": [
    "raw_stream = stream_df \\\n",
    "    .writeStream \\\n",
    "    .format(\"memory\") \\\n",
    "    .queryName(\"raw_submission_view\") \\\n",
    "    .start()"
   ]
  },
  {
   "cell_type": "code",
   "execution_count": 79,
   "id": "4b06c639",
   "metadata": {},
   "outputs": [],
   "source": [
    "from IPython.display import display, clear_output\n",
    "import time"
   ]
  },
  {
   "cell_type": "code",
   "execution_count": 80,
   "id": "38939993",
   "metadata": {},
   "outputs": [],
   "source": [
    "clear_output(wait=True)"
   ]
  },
  {
   "cell_type": "code",
   "execution_count": 81,
   "id": "f376854d",
   "metadata": {},
   "outputs": [
    {
     "name": "stdout",
     "output_type": "stream",
     "text": [
      "+-------------------+--------------------+-----------+---------+------+--------------------+-------------+\n",
      "|                key|               value|      topic|partition|offset|           timestamp|timestampType|\n",
      "+-------------------+--------------------+-----------+---------+------+--------------------+-------------+\n",
      "|[6E 6E 75 76 75 66]|[7B 22 61 75 74 6...|submissions|        0|     0|2021-05-30 11:27:...|            0|\n",
      "|[6E 6E 76 32 38 67]|[7B 22 61 75 74 6...|submissions|        0|     1|2021-05-30 11:27:...|            0|\n",
      "|[6E 6E 77 33 33 78]|[7B 22 61 75 74 6...|submissions|        0|     2|2021-05-30 11:27:...|            0|\n",
      "|[6E 6E 77 6B 68 7A]|[7B 22 61 75 74 6...|submissions|        0|     3|2021-05-30 11:27:...|            0|\n",
      "|[6E 6E 77 71 74 31]|[7B 22 61 75 74 6...|submissions|        0|     4|2021-05-30 11:27:...|            0|\n",
      "|[6E 6E 77 78 64 31]|[7B 22 61 75 74 6...|submissions|        0|     5|2021-05-30 11:27:...|            0|\n",
      "|[6E 6E 78 30 76 35]|[7B 22 61 75 74 6...|submissions|        0|     6|2021-05-30 11:27:...|            0|\n",
      "|[6E 6E 78 35 38 6D]|[7B 22 61 75 74 6...|submissions|        0|     7|2021-05-30 11:27:...|            0|\n",
      "|[6E 6E 78 67 38 74]|[7B 22 61 75 74 6...|submissions|        0|     8|2021-05-30 11:27:...|            0|\n",
      "|[6E 6E 78 6C 72 37]|[7B 22 61 75 74 6...|submissions|        0|     9|2021-05-30 11:27:...|            0|\n",
      "|[6E 6E 78 76 31 6E]|[7B 22 61 75 74 6...|submissions|        0|    10|2021-05-30 11:27:...|            0|\n",
      "|[6E 6E 79 6B 74 72]|[7B 22 61 75 74 6...|submissions|        0|    11|2021-05-30 11:27:...|            0|\n",
      "|[6E 6E 79 75 64 69]|[7B 22 61 75 74 6...|submissions|        0|    12|2021-05-30 11:27:...|            0|\n",
      "|[6E 6E 7A 38 62 72]|[7B 22 61 75 74 6...|submissions|        0|    13|2021-05-30 11:27:...|            0|\n",
      "|[6E 6E 7A 65 74 79]|[7B 22 61 75 74 6...|submissions|        0|    14|2021-05-30 11:27:...|            0|\n",
      "|[6E 6E 7A 6A 76 72]|[7B 22 61 75 74 6...|submissions|        0|    15|2021-05-30 11:27:...|            0|\n",
      "|[6E 6E 7A 6D 79 30]|[7B 22 61 75 74 6...|submissions|        0|    16|2021-05-30 11:27:...|            0|\n",
      "|[6E 6E 7A 6F 64 39]|[7B 22 61 75 74 6...|submissions|        0|    17|2021-05-30 11:27:...|            0|\n",
      "|[6E 6E 7A 71 69 63]|[7B 22 61 75 74 6...|submissions|        0|    18|2021-05-30 11:27:...|            0|\n",
      "|[6E 6E 7A 77 30 6F]|[7B 22 61 75 74 6...|submissions|        0|    19|2021-05-30 11:27:...|            0|\n",
      "+-------------------+--------------------+-----------+---------+------+--------------------+-------------+\n",
      "only showing top 20 rows\n",
      "\n"
     ]
    },
    {
     "data": {
      "text/plain": [
       "None"
      ]
     },
     "metadata": {},
     "output_type": "display_data"
    }
   ],
   "source": [
    "clear_output(wait=True)\n",
    "display(spark.sql('SELECT * FROM raw_submission_view').show(20))\n",
    "time.sleep(1)"
   ]
  },
  {
   "cell_type": "code",
   "execution_count": 82,
   "id": "1c1ade4d",
   "metadata": {},
   "outputs": [],
   "source": [
    "raw_stream.stop()"
   ]
  },
  {
   "cell_type": "code",
   "execution_count": 83,
   "id": "f1735776",
   "metadata": {},
   "outputs": [],
   "source": [
    "from pyspark.sql.types import StringType"
   ]
  },
  {
   "cell_type": "code",
   "execution_count": 84,
   "id": "15a98832",
   "metadata": {},
   "outputs": [],
   "source": [
    "string_stream_df = stream_df \\\n",
    "    .withColumn(\"key\", stream_df[\"key\"].cast(StringType())) \\\n",
    "    .withColumn(\"value\", stream_df[\"value\"].cast(StringType()))"
   ]
  },
  {
   "cell_type": "code",
   "execution_count": 85,
   "id": "537c4043",
   "metadata": {},
   "outputs": [
    {
     "name": "stdout",
     "output_type": "stream",
     "text": [
      "root\n",
      " |-- key: string (nullable = true)\n",
      " |-- value: string (nullable = true)\n",
      " |-- topic: string (nullable = true)\n",
      " |-- partition: integer (nullable = true)\n",
      " |-- offset: long (nullable = true)\n",
      " |-- timestamp: timestamp (nullable = true)\n",
      " |-- timestampType: integer (nullable = true)\n",
      "\n"
     ]
    }
   ],
   "source": [
    "string_stream_df.printSchema()"
   ]
  },
  {
   "cell_type": "code",
   "execution_count": 86,
   "id": "32a6957b",
   "metadata": {},
   "outputs": [],
   "source": [
    "string_stream = string_stream_df \\\n",
    "    .writeStream \\\n",
    "    .format(\"memory\") \\\n",
    "    .queryName(\"string_submission_view\") \\\n",
    "    .start()"
   ]
  },
  {
   "cell_type": "code",
   "execution_count": 87,
   "id": "9c238af4",
   "metadata": {},
   "outputs": [
    {
     "name": "stdout",
     "output_type": "stream",
     "text": [
      "+---------------------------------------------------------------------------------------------------------------------------------------------------------------------------------------------------------------------------------------------------------------------------------------------------------------------------------------------------------------------------------------------------------------------------------------------------------------------------------------------------------------------------------------------------------------------------------------------------------------------------------------------------------------------------------------------------------------------------------------------------------------------------------------------------------------------------------------------------------------------------------------------------+\n",
      "|value                                                                                                                                                                                                                                                                                                                                                                                                                                                                                                                                                                                                                                                                                                                                                                                                                                                                                              |\n",
      "+---------------------------------------------------------------------------------------------------------------------------------------------------------------------------------------------------------------------------------------------------------------------------------------------------------------------------------------------------------------------------------------------------------------------------------------------------------------------------------------------------------------------------------------------------------------------------------------------------------------------------------------------------------------------------------------------------------------------------------------------------------------------------------------------------------------------------------------------------------------------------------------------------+\n",
      "|{\"author_fullname\": \"t2_7ummq\", \"title\": \"Syria: 2 killed, many injured in celebratory gunfire marking President Assad's win\", \"subreddit_name_prefixed\": \"r/worldnews\", \"name\": \"t3_nnuvuf\", \"upvote_ratio\": 0.66, \"ups\": 17, \"score\": 17, \"author_premium\": true, \"created\": 1622346424.0, \"domain\": \"msn.com\", \"url_overridden_by_dest\": \"https://www.msn.com/en-ae/news/middleeast/syria-2-killed-many-injured-in-celebratory-gunfire-marking-president-assad-s-win/ar-AAKvWBD\", \"over_18\": false, \"subreddit_id\": \"t5_2qh13\", \"permalink\": \"/r/worldnews/comments/nnuvuf/syria_2_killed_many_injured_in_celebratory/\", \"parent_whitelist_status\": \"all_ads\", \"url\": \"https://www.msn.com/en-ae/news/middleeast/syria-2-killed-many-injured-in-celebratory-gunfire-marking-president-assad-s-win/ar-AAKvWBD\", \"created_utc\": 1622317624.0}                                                     |\n",
      "|{\"author_fullname\": \"t2_3t8c9oj4\", \"title\": \"Bennett to announce he's joining opposition to form new Israeli government, oust Netanyahu\", \"subreddit_name_prefixed\": \"r/worldnews\", \"name\": \"t3_nnv28g\", \"upvote_ratio\": 0.96, \"ups\": 2061, \"score\": 2061, \"author_premium\": true, \"created\": 1622347000.0, \"domain\": \"axios.com\", \"url_overridden_by_dest\": \"https://www.axios.com/israel-bennett-opposition-new-government-oust-netanyahu-3fd34a7b-3d7c-499b-9af3-ee096cfad5b5.html\", \"over_18\": false, \"subreddit_id\": \"t5_2qh13\", \"permalink\": \"/r/worldnews/comments/nnv28g/bennett_to_announce_hes_joining_opposition_to/\", \"parent_whitelist_status\": \"all_ads\", \"url\": \"https://www.axios.com/israel-bennett-opposition-new-government-oust-netanyahu-3fd34a7b-3d7c-499b-9af3-ee096cfad5b5.html\", \"created_utc\": 1622318200.0}                                                             |\n",
      "|{\"author_fullname\": \"t2_b8bk0\", \"title\": \"Turkish mobster's videos targeting top politicians draw millions of views\", \"subreddit_name_prefixed\": \"r/worldnews\", \"name\": \"t3_nnw33x\", \"upvote_ratio\": 0.82, \"ups\": 52, \"score\": 52, \"author_premium\": false, \"created\": 1622350404.0, \"domain\": \"reuters.com\", \"url_overridden_by_dest\": \"https://www.reuters.com/world/middle-east/turkish-mobsters-videos-targeting-top-politicians-draw-millions-views-2021-05-27/\", \"over_18\": false, \"subreddit_id\": \"t5_2qh13\", \"permalink\": \"/r/worldnews/comments/nnw33x/turkish_mobsters_videos_targeting_top_politicians/\", \"parent_whitelist_status\": \"all_ads\", \"url\": \"https://www.reuters.com/world/middle-east/turkish-mobsters-videos-targeting-top-politicians-draw-millions-views-2021-05-27/\", \"created_utc\": 1622321604.0}                                                                      |\n",
      "|{\"author_fullname\": \"t2_c1tlg\", \"title\": \"Havertz goal wins Champions League for Chelsea against Man City\", \"subreddit_name_prefixed\": \"r/worldnews\", \"name\": \"t3_nnwkhz\", \"upvote_ratio\": 0.59, \"ups\": 8, \"score\": 8, \"author_premium\": false, \"created\": 1622352049.0, \"domain\": \"reuters.com\", \"url_overridden_by_dest\": \"https://www.reuters.com/lifestyle/sports/havertz-goal-wins-champions-league-chelsea-against-man-city-2021-05-29/\", \"over_18\": false, \"subreddit_id\": \"t5_2qh13\", \"permalink\": \"/r/worldnews/comments/nnwkhz/havertz_goal_wins_champions_league_for_chelsea/\", \"parent_whitelist_status\": \"all_ads\", \"url\": \"https://www.reuters.com/lifestyle/sports/havertz-goal-wins-champions-league-chelsea-against-man-city-2021-05-29/\", \"created_utc\": 1622323249.0}                                                                                                           |\n",
      "|{\"author_fullname\": \"t2_a2wzwjox\", \"title\": \"Indigenous people in Canada grapple with \\u2018unthinkable loss\\u2019 | Indigenous Rights News\", \"subreddit_name_prefixed\": \"r/worldnews\", \"name\": \"t3_nnwqt1\", \"upvote_ratio\": 0.85, \"ups\": 171, \"score\": 171, \"author_premium\": false, \"created\": 1622352640.0, \"domain\": \"aljazeera.com\", \"url_overridden_by_dest\": \"https://www.aljazeera.com/news/2021/5/29/indigenous-people-in-canada-grapple-with-unthinkable-loss\", \"over_18\": false, \"subreddit_id\": \"t5_2qh13\", \"permalink\": \"/r/worldnews/comments/nnwqt1/indigenous_people_in_canada_grapple_with/\", \"parent_whitelist_status\": \"all_ads\", \"url\": \"https://www.aljazeera.com/news/2021/5/29/indigenous-people-in-canada-grapple-with-unthinkable-loss\", \"created_utc\": 1622323840.0}                                                                                                     |\n",
      "|{\"author_fullname\": \"t2_7ummq\", \"title\": \"U.S. troops charged with guarding nuclear weapons in Europe used popular education websites to create flash cards, exposing their exact locations and top-secret security protocols, according to the investigative site Bellingcat.\", \"subreddit_name_prefixed\": \"r/worldnews\", \"name\": \"t3_nnwxd1\", \"upvote_ratio\": 0.96, \"ups\": 2068, \"score\": 2068, \"author_premium\": true, \"created\": 1622353244.0, \"domain\": \"voanews.com\", \"url_overridden_by_dest\": \"https://www.voanews.com/usa/nuclear-flash-cards-us-secrets-exposed-learning-apps\", \"over_18\": false, \"subreddit_id\": \"t5_2qh13\", \"permalink\": \"/r/worldnews/comments/nnwxd1/us_troops_charged_with_guarding_nuclear_weapons/\", \"parent_whitelist_status\": \"all_ads\", \"url\": \"https://www.voanews.com/usa/nuclear-flash-cards-us-secrets-exposed-learning-apps\", \"created_utc\": 1622324444.0}|\n",
      "|{\"author_fullname\": \"t2_bpurbs2s\", \"title\": \"Colombian president to send military to Cali to quell protests\", \"subreddit_name_prefixed\": \"r/worldnews\", \"name\": \"t3_nnx0v5\", \"upvote_ratio\": 0.83, \"ups\": 38, \"score\": 38, \"author_premium\": false, \"created\": 1622353576.0, \"domain\": \"upi.com\", \"url_overridden_by_dest\": \"https://www.upi.com/Top_News/World-News/2021/05/29/Colombia-Cali-military-protests-poverty-5-killed/6481622323841/\", \"over_18\": false, \"subreddit_id\": \"t5_2qh13\", \"permalink\": \"/r/worldnews/comments/nnx0v5/colombian_president_to_send_military_to_cali_to/\", \"parent_whitelist_status\": \"all_ads\", \"url\": \"https://www.upi.com/Top_News/World-News/2021/05/29/Colombia-Cali-military-protests-poverty-5-killed/6481622323841/\", \"created_utc\": 1622324776.0}                                                                                                      |\n",
      "|{\"author_fullname\": \"t2_8yk3uzd\", \"title\": \"Vietnam detects hybrid of Indian and UK COVID-19 variants\", \"subreddit_name_prefixed\": \"r/worldnews\", \"name\": \"t3_nnx58m\", \"upvote_ratio\": 0.8, \"ups\": 51, \"score\": 51, \"author_premium\": false, \"created\": 1622353982.0, \"domain\": \"reuters.com\", \"url_overridden_by_dest\": \"https://www.reuters.com/world/asia-pacific/vietnam-detects-hybrid-indian-uk-covid-19-variant-2021-05-29/\", \"over_18\": false, \"subreddit_id\": \"t5_2qh13\", \"permalink\": \"/r/worldnews/comments/nnx58m/vietnam_detects_hybrid_of_indian_and_uk_covid19/\", \"parent_whitelist_status\": \"all_ads\", \"url\": \"https://www.reuters.com/world/asia-pacific/vietnam-detects-hybrid-indian-uk-covid-19-variant-2021-05-29/\", \"created_utc\": 1622325182.0}                                                                                                                             |\n",
      "|{\"author_fullname\": \"t2_84oo4ons\", \"title\": \"US to work with EU on targeted sanctions for Belarus\", \"subreddit_name_prefixed\": \"r/worldnews\", \"name\": \"t3_nnxg8t\", \"upvote_ratio\": 0.92, \"ups\": 247, \"score\": 247, \"author_premium\": true, \"created\": 1622354972.0, \"domain\": \"france24.com\", \"url_overridden_by_dest\": \"https://www.france24.com/en/europe/20210529-us-to-work-with-eu-on-targeted-sanctions-for-belarus\", \"over_18\": false, \"subreddit_id\": \"t5_2qh13\", \"permalink\": \"/r/worldnews/comments/nnxg8t/us_to_work_with_eu_on_targeted_sanctions_for/\", \"parent_whitelist_status\": \"all_ads\", \"url\": \"https://www.france24.com/en/europe/20210529-us-to-work-with-eu-on-targeted-sanctions-for-belarus\", \"created_utc\": 1622326172.0}                                                                                                                                                 |\n",
      "|{\"author_fullname\": \"t2_4de6hm5l\", \"title\": \"Humans Could Live up to 150 Years, New Research Suggests\", \"subreddit_name_prefixed\": \"r/worldnews\", \"name\": \"t3_nnxlr7\", \"upvote_ratio\": 0.85, \"ups\": 199, \"score\": 199, \"author_premium\": false, \"created\": 1622355462.0, \"domain\": \"scientificamerican.com\", \"url_overridden_by_dest\": \"https://www.scientificamerican.com/article/humans-could-live-up-to-150-years-new-research-suggests/\", \"over_18\": false, \"subreddit_id\": \"t5_2qh13\", \"permalink\": \"/r/worldnews/comments/nnxlr7/humans_could_live_up_to_150_years_new_research/\", \"parent_whitelist_status\": \"all_ads\", \"url\": \"https://www.scientificamerican.com/article/humans-could-live-up-to-150-years-new-research-suggests/\", \"created_utc\": 1622326662.0}                                                                                                                          |\n",
      "|{\"author_fullname\": \"t2_rj31v\", \"title\": \"CoronaVac COVID-19 vaccine reduces mortality by 97% : Uruguay study\", \"subreddit_name_prefixed\": \"r/worldnews\", \"name\": \"t3_nnxv1n\", \"upvote_ratio\": 0.75, \"ups\": 50, \"score\": 50, \"author_premium\": false, \"created\": 1622356358.0, \"domain\": \"channelnewsasia.com\", \"url_overridden_by_dest\": \"https://www.channelnewsasia.com/news/business/coronavac-covid-19-vaccine-reduces-mortality-by-97-uruguay-study-14907114\", \"over_18\": false, \"subreddit_id\": \"t5_2qh13\", \"permalink\": \"/r/worldnews/comments/nnxv1n/coronavac_covid19_vaccine_reduces_mortality_by_97/\", \"parent_whitelist_status\": \"all_ads\", \"url\": \"https://www.channelnewsasia.com/news/business/coronavac-covid-19-vaccine-reduces-mortality-by-97-uruguay-study-14907114\", \"created_utc\": 1622327558.0}                                                                            |\n",
      "|{\"author_fullname\": \"t2_c4xlyraf\", \"title\": \"Yemen's Houthis 'fabricated' attack on Saudi border, says coalition spox\", \"subreddit_name_prefixed\": \"r/worldnews\", \"name\": \"t3_nnyktr\", \"upvote_ratio\": 0.7, \"ups\": 15, \"score\": 15, \"author_premium\": false, \"created\": 1622358811.0, \"domain\": \"reuters.com\", \"url_overridden_by_dest\": \"https://www.reuters.com/world/middle-east/yemens-houthis-say-they-have-attacked-saudi-border-frontline-2021-05-29/\", \"over_18\": false, \"subreddit_id\": \"t5_2qh13\", \"permalink\": \"/r/worldnews/comments/nnyktr/yemens_houthis_fabricated_attack_on_saudi_border/\", \"parent_whitelist_status\": \"all_ads\", \"url\": \"https://www.reuters.com/world/middle-east/yemens-houthis-say-they-have-attacked-saudi-border-frontline-2021-05-29/\", \"created_utc\": 1622330011.0}                                                                                        |\n",
      "|{\"author_fullname\": \"t2_b7pl02x\", \"title\": \"A Wave of Afghan Surrenders to the Taliban Picks Up Speed\", \"subreddit_name_prefixed\": \"r/worldnews\", \"name\": \"t3_nnyudi\", \"upvote_ratio\": 0.73, \"ups\": 31, \"score\": 31, \"author_premium\": false, \"created\": 1622359758.0, \"domain\": \"nytimes.com\", \"url_overridden_by_dest\": \"https://www.nytimes.com/2021/05/27/world/asia/afghan-surrender-taliban.html\", \"over_18\": false, \"subreddit_id\": \"t5_2qh13\", \"permalink\": \"/r/worldnews/comments/nnyudi/a_wave_of_afghan_surrenders_to_the_taliban_picks/\", \"parent_whitelist_status\": \"all_ads\", \"url\": \"https://www.nytimes.com/2021/05/27/world/asia/afghan-surrender-taliban.html\", \"created_utc\": 1622330958.0}                                                                                                                                                                                     |\n",
      "|{\"author_fullname\": \"t2_6hndom97\", \"title\": \"Turkey rounds up 33 Taiwanese involved in telecom fraud\", \"subreddit_name_prefixed\": \"r/worldnews\", \"name\": \"t3_nnz8br\", \"upvote_ratio\": 0.65, \"ups\": 22, \"score\": 22, \"author_premium\": false, \"created\": 1622361218.0, \"domain\": \"thestandard.com.hk\", \"url_overridden_by_dest\": \"https://www.thestandard.com.hk/breaking-news/section/3/173347/Turkey-rounds-up-33-Taiwanese-involved-in-telecom-fraud\", \"over_18\": false, \"subreddit_id\": \"t5_2qh13\", \"permalink\": \"/r/worldnews/comments/nnz8br/turkey_rounds_up_33_taiwanese_involved_in_telecom/\", \"parent_whitelist_status\": \"all_ads\", \"url\": \"https://www.thestandard.com.hk/breaking-news/section/3/173347/Turkey-rounds-up-33-Taiwanese-involved-in-telecom-fraud\", \"created_utc\": 1622332418.0}                                                                                          |\n",
      "|{\"author_fullname\": \"t2_5d1owwm3\", \"title\": \"U.S. monitoring Iranian warships that may be headed to Venezuela - Tehran's intent in sending the vessels in the direction of the Western Hemisphere remains a mystery, as does their cargo.\", \"subreddit_name_prefixed\": \"r/worldnews\", \"name\": \"t3_nnzety\", \"upvote_ratio\": 0.85, \"ups\": 120, \"score\": 120, \"author_premium\": false, \"created\": 1622361900.0, \"domain\": \"politico.com\", \"url_overridden_by_dest\": \"https://www.politico.com/news/2021/05/29/iranian-warships-venezuela-491414\", \"over_18\": false, \"subreddit_id\": \"t5_2qh13\", \"permalink\": \"/r/worldnews/comments/nnzety/us_monitoring_iranian_warships_that_may_be_headed/\", \"parent_whitelist_status\": \"all_ads\", \"url\": \"https://www.politico.com/news/2021/05/29/iranian-warships-venezuela-491414\", \"created_utc\": 1622333100.0}                                               |\n",
      "|{\"author_fullname\": \"t2_3tb8axl3\", \"title\": \"More than 200 bodies found at Indigenous school in Canada\", \"subreddit_name_prefixed\": \"r/worldnews\", \"name\": \"t3_nnzjvr\", \"upvote_ratio\": 0.75, \"ups\": 61, \"score\": 61, \"author_premium\": false, \"created\": 1622362436.0, \"domain\": \"apnews.com\", \"url_overridden_by_dest\": \"https://apnews.com/article/caribbean-canada-7430e40bc8808410db45d08feb8fbf71?utm_campaign=SocialFlow&utm_medium=AP&utm_source=Twitter\", \"over_18\": false, \"subreddit_id\": \"t5_2qh13\", \"permalink\": \"/r/worldnews/comments/nnzjvr/more_than_200_bodies_found_at_indigenous_school/\", \"parent_whitelist_status\": \"all_ads\", \"url\": \"https://apnews.com/article/caribbean-canada-7430e40bc8808410db45d08feb8fbf71?utm_campaign=SocialFlow&utm_medium=AP&utm_source=Twitter\", \"created_utc\": 1622333636.0}                                                                  |\n",
      "|{\"author_fullname\": \"t2_aodmq\", \"title\": \"Work underway for forensic experts to identify, repatriate children's remains from B.C. residential school\", \"subreddit_name_prefixed\": \"r/worldnews\", \"name\": \"t3_nnzmy0\", \"upvote_ratio\": 0.87, \"ups\": 153, \"score\": 153, \"author_premium\": false, \"created\": 1622362750.0, \"domain\": \"cbc.ca\", \"url_overridden_by_dest\": \"https://www.cbc.ca/news/canada/british-columbia/returning-childrens-remains-b-c-1.6045807\", \"over_18\": false, \"subreddit_id\": \"t5_2qh13\", \"permalink\": \"/r/worldnews/comments/nnzmy0/work_underway_for_forensic_experts_to_identify/\", \"parent_whitelist_status\": \"all_ads\", \"url\": \"https://www.cbc.ca/news/canada/british-columbia/returning-childrens-remains-b-c-1.6045807\", \"created_utc\": 1622333950.0}                                                                                                               |\n",
      "|{\"author_fullname\": \"t2_2b7oqttf\", \"title\": \"Vietnam discovers new Covid-19 strain, hybrid of Indian and British variants\", \"subreddit_name_prefixed\": \"r/worldnews\", \"name\": \"t3_nnzod9\", \"upvote_ratio\": 0.86, \"ups\": 95, \"score\": 95, \"author_premium\": false, \"created\": 1622362892.0, \"domain\": \"france24.com\", \"url_overridden_by_dest\": \"https://www.france24.com/en/asia-pacific/20210529-vietnam-discovers-new-covid-19-strain-hybrid-of-indian-and-british-variants\", \"over_18\": false, \"subreddit_id\": \"t5_2qh13\", \"permalink\": \"/r/worldnews/comments/nnzod9/vietnam_discovers_new_covid19_strain_hybrid_of/\", \"parent_whitelist_status\": \"all_ads\", \"url\": \"https://www.france24.com/en/asia-pacific/20210529-vietnam-discovers-new-covid-19-strain-hybrid-of-indian-and-british-variants\", \"created_utc\": 1622334092.0}                                                              |\n",
      "|{\"author_fullname\": \"t2_667n05su\", \"title\": \"New Zealand: State of emergency in Ashburton, as floods close roads and rivers surge in Canterbury\", \"subreddit_name_prefixed\": \"r/worldnews\", \"name\": \"t3_nnzqic\", \"upvote_ratio\": 0.82, \"ups\": 41, \"score\": 41, \"author_premium\": false, \"created\": 1622363116.0, \"domain\": \"i.stuff.co.nz\", \"url_overridden_by_dest\": \"https://i.stuff.co.nz/national/weather-news/300320081/state-of-emergency-in-ashburton-as-floods-close-roads-and-rivers-surge-in-canterbury\", \"over_18\": false, \"subreddit_id\": \"t5_2qh13\", \"permalink\": \"/r/worldnews/comments/nnzqic/new_zealand_state_of_emergency_in_ashburton_as/\", \"parent_whitelist_status\": \"all_ads\", \"url\": \"https://i.stuff.co.nz/national/weather-news/300320081/state-of-emergency-in-ashburton-as-floods-close-roads-and-rivers-surge-in-canterbury\", \"created_utc\": 1622334316.0}             |\n",
      "|{\"author_fullname\": \"t2_adsnroe3\", \"title\": \"Thousand flood Brazilians cities to protest Bolsonaro's handling of covid-19\", \"subreddit_name_prefixed\": \"r/worldnews\", \"name\": \"t3_nnzw0o\", \"upvote_ratio\": 0.85, \"ups\": 81, \"score\": 81, \"author_premium\": false, \"created\": 1622363698.0, \"domain\": \"forbes.com\", \"url_overridden_by_dest\": \"https://www.forbes.com/sites/joewalsh/2021/05/29/in-pictures-thousands-flood-brazilian-cities-to-protest-bolsonaros-handling-of-covid-19/\", \"over_18\": false, \"subreddit_id\": \"t5_2qh13\", \"permalink\": \"/r/worldnews/comments/nnzw0o/thousand_flood_brazilians_cities_to_protest/\", \"parent_whitelist_status\": \"all_ads\", \"url\": \"https://www.forbes.com/sites/joewalsh/2021/05/29/in-pictures-thousands-flood-brazilian-cities-to-protest-bolsonaros-handling-of-covid-19/\", \"created_utc\": 1622334898.0}                                           |\n",
      "+---------------------------------------------------------------------------------------------------------------------------------------------------------------------------------------------------------------------------------------------------------------------------------------------------------------------------------------------------------------------------------------------------------------------------------------------------------------------------------------------------------------------------------------------------------------------------------------------------------------------------------------------------------------------------------------------------------------------------------------------------------------------------------------------------------------------------------------------------------------------------------------------------+\n",
      "only showing top 20 rows\n",
      "\n"
     ]
    },
    {
     "data": {
      "text/plain": [
       "None"
      ]
     },
     "metadata": {},
     "output_type": "display_data"
    }
   ],
   "source": [
    "clear_output(wait=True)\n",
    "display(spark.sql('SELECT value FROM string_submission_view WHERE key IS NOT NULL').show(20, False))\n",
    "time.sleep(1)"
   ]
  },
  {
   "cell_type": "code",
   "execution_count": 88,
   "id": "5ec37d8b",
   "metadata": {},
   "outputs": [],
   "source": [
    "string_stream.stop()"
   ]
  },
  {
   "cell_type": "code",
   "execution_count": 89,
   "id": "5ad95400",
   "metadata": {},
   "outputs": [],
   "source": [
    "from pyspark.sql import functions as F\n",
    "from pyspark.sql.types import StructType, StructField, BooleanType, IntegerType, DoubleType, StringType"
   ]
  },
  {
   "cell_type": "code",
   "execution_count": 90,
   "id": "1859790a",
   "metadata": {},
   "outputs": [],
   "source": [
    "schema_inventory = StructType([\n",
    "    StructField(\"author_fullname\", StringType(),  True),\n",
    "    StructField(\"title\", StringType(),  True),\n",
    "    StructField(\"subreddit_name_prefixed\", StringType(), True),\n",
    "    StructField(\"name\", StringType(),  True),\n",
    "    StructField(\"upvote_ratio\", DoubleType(), True),\n",
    "    StructField(\"ups\", IntegerType(), True),\n",
    "    StructField(\"score\", IntegerType(), True),\n",
    "    StructField(\"author_premium\", BooleanType(), True),\n",
    "    StructField(\"created\", IntegerType(), True),\n",
    "    StructField(\"domain\", StringType(),  True),\n",
    "    StructField(\"url_overridden_by_dest\", StringType(),  True),\n",
    "    StructField(\"over_18\", BooleanType(), True),\n",
    "    StructField(\"subreddit_id\", StringType(),  True),\n",
    "    StructField(\"permalink\", StringType(),  True),\n",
    "    StructField(\"parent_whitelist_status\", StringType(),  True),\n",
    "    StructField(\"url\", StringType(),  True),\n",
    "    StructField(\"created_utc\", IntegerType(), True)\n",
    "])\n"
   ]
  },
  {
   "cell_type": "code",
   "execution_count": 91,
   "id": "b94006b8",
   "metadata": {},
   "outputs": [],
   "source": [
    "json_stream_df = string_stream_df\\\n",
    "    .withColumn(\"value\", F.from_json(\"value\", schema_inventory))"
   ]
  },
  {
   "cell_type": "code",
   "execution_count": 92,
   "id": "8e3d05eb",
   "metadata": {},
   "outputs": [
    {
     "name": "stdout",
     "output_type": "stream",
     "text": [
      "root\n",
      " |-- key: string (nullable = true)\n",
      " |-- value: struct (nullable = true)\n",
      " |    |-- author_fullname: string (nullable = true)\n",
      " |    |-- title: string (nullable = true)\n",
      " |    |-- subreddit_name_prefixed: string (nullable = true)\n",
      " |    |-- name: string (nullable = true)\n",
      " |    |-- upvote_ratio: double (nullable = true)\n",
      " |    |-- ups: integer (nullable = true)\n",
      " |    |-- score: integer (nullable = true)\n",
      " |    |-- author_premium: boolean (nullable = true)\n",
      " |    |-- created: integer (nullable = true)\n",
      " |    |-- domain: string (nullable = true)\n",
      " |    |-- url_overridden_by_dest: string (nullable = true)\n",
      " |    |-- over_18: boolean (nullable = true)\n",
      " |    |-- subreddit_id: string (nullable = true)\n",
      " |    |-- permalink: string (nullable = true)\n",
      " |    |-- parent_whitelist_status: string (nullable = true)\n",
      " |    |-- url: string (nullable = true)\n",
      " |    |-- created_utc: integer (nullable = true)\n",
      " |-- topic: string (nullable = true)\n",
      " |-- partition: integer (nullable = true)\n",
      " |-- offset: long (nullable = true)\n",
      " |-- timestamp: timestamp (nullable = true)\n",
      " |-- timestampType: integer (nullable = true)\n",
      "\n"
     ]
    }
   ],
   "source": [
    "json_stream_df.printSchema()"
   ]
  },
  {
   "cell_type": "code",
   "execution_count": 93,
   "id": "216c5c79",
   "metadata": {},
   "outputs": [],
   "source": [
    "json_stream = json_stream_df \\\n",
    "    .writeStream \\\n",
    "    .format(\"memory\") \\\n",
    "    .queryName(\"extract_submissions\") \\\n",
    "    .start()"
   ]
  },
  {
   "cell_type": "code",
   "execution_count": 102,
   "id": "71efa558",
   "metadata": {},
   "outputs": [
    {
     "name": "stdout",
     "output_type": "stream",
     "text": [
      "+------+--------------------+-----------+---------+------+--------------------+-------------+\n",
      "|   key|               value|      topic|partition|offset|           timestamp|timestampType|\n",
      "+------+--------------------+-----------+---------+------+--------------------+-------------+\n",
      "|nnuvuf|{t2_7ummq, Syria:...|submissions|        0|     0|2021-05-30 11:27:...|            0|\n",
      "|nnv28g|{t2_3t8c9oj4, Ben...|submissions|        0|     1|2021-05-30 11:27:...|            0|\n",
      "|nnw33x|{t2_b8bk0, Turkis...|submissions|        0|     2|2021-05-30 11:27:...|            0|\n",
      "|nnwkhz|{t2_c1tlg, Havert...|submissions|        0|     3|2021-05-30 11:27:...|            0|\n",
      "|nnwqt1|{t2_a2wzwjox, Ind...|submissions|        0|     4|2021-05-30 11:27:...|            0|\n",
      "|nnwxd1|{t2_7ummq, U.S. t...|submissions|        0|     5|2021-05-30 11:27:...|            0|\n",
      "|nnx0v5|{t2_bpurbs2s, Col...|submissions|        0|     6|2021-05-30 11:27:...|            0|\n",
      "|nnx58m|{t2_8yk3uzd, Viet...|submissions|        0|     7|2021-05-30 11:27:...|            0|\n",
      "|nnxg8t|{t2_84oo4ons, US ...|submissions|        0|     8|2021-05-30 11:27:...|            0|\n",
      "|nnxlr7|{t2_4de6hm5l, Hum...|submissions|        0|     9|2021-05-30 11:27:...|            0|\n",
      "|nnxv1n|{t2_rj31v, Corona...|submissions|        0|    10|2021-05-30 11:27:...|            0|\n",
      "|nnyktr|{t2_c4xlyraf, Yem...|submissions|        0|    11|2021-05-30 11:27:...|            0|\n",
      "|nnyudi|{t2_b7pl02x, A Wa...|submissions|        0|    12|2021-05-30 11:27:...|            0|\n",
      "|nnz8br|{t2_6hndom97, Tur...|submissions|        0|    13|2021-05-30 11:27:...|            0|\n",
      "|nnzety|{t2_5d1owwm3, U.S...|submissions|        0|    14|2021-05-30 11:27:...|            0|\n",
      "|nnzjvr|{t2_3tb8axl3, Mor...|submissions|        0|    15|2021-05-30 11:27:...|            0|\n",
      "|nnzmy0|{t2_aodmq, Work u...|submissions|        0|    16|2021-05-30 11:27:...|            0|\n",
      "|nnzod9|{t2_2b7oqttf, Vie...|submissions|        0|    17|2021-05-30 11:27:...|            0|\n",
      "|nnzqic|{t2_667n05su, New...|submissions|        0|    18|2021-05-30 11:27:...|            0|\n",
      "|nnzw0o|{t2_adsnroe3, Tho...|submissions|        0|    19|2021-05-30 11:27:...|            0|\n",
      "+------+--------------------+-----------+---------+------+--------------------+-------------+\n",
      "only showing top 20 rows\n",
      "\n"
     ]
    },
    {
     "data": {
      "text/plain": [
       "None"
      ]
     },
     "metadata": {},
     "output_type": "display_data"
    }
   ],
   "source": [
    "clear_output(wait=True)\n",
    "display(spark.sql('SELECT * FROM extract_submissions').show(20))\n",
    "time.sleep(1)"
   ]
  },
  {
   "cell_type": "code",
   "execution_count": 95,
   "id": "bc0f2f8a",
   "metadata": {},
   "outputs": [],
   "source": [
    "json_stream.stop()"
   ]
  },
  {
   "cell_type": "code",
   "execution_count": 96,
   "id": "f89ee766",
   "metadata": {},
   "outputs": [],
   "source": [
    "submission_stream_df = json_stream_df \\\n",
    "    .select( \\\n",
    "        F.col(\"key\").alias(\"event_key\"), \\\n",
    "        F.col(\"topic\").alias(\"event_topic\"), \\\n",
    "        F.col(\"timestamp\").alias(\"event_timestamp\"), \\\n",
    "            \"value.author_fullname\", \\\n",
    "            \"value.title\", \\\n",
    "            \"value.subreddit_name_prefixed\", \\\n",
    "            \"value.name\", \\\n",
    "            \"value.upvote_ratio\", \\\n",
    "            \"value.ups\", \\\n",
    "            \"value.score\", \\\n",
    "            \"value.author_premium\", \\\n",
    "            \"value.created\", \\\n",
    "            \"value.domain\", \\\n",
    "            \"value.url_overridden_by_dest\", \\\n",
    "            \"value.over_18\", \\\n",
    "            \"value.subreddit_id\", \\\n",
    "            \"value.permalink\", \\\n",
    "            \"value.parent_whitelist_status\", \\\n",
    "            \"value.url\", \\\n",
    "            \"value.created_utc\"\n",
    "           )"
   ]
  },
  {
   "cell_type": "code",
   "execution_count": 97,
   "id": "e09967ac",
   "metadata": {},
   "outputs": [
    {
     "name": "stdout",
     "output_type": "stream",
     "text": [
      "root\n",
      " |-- event_key: string (nullable = true)\n",
      " |-- event_topic: string (nullable = true)\n",
      " |-- event_timestamp: timestamp (nullable = true)\n",
      " |-- author_fullname: string (nullable = true)\n",
      " |-- title: string (nullable = true)\n",
      " |-- subreddit_name_prefixed: string (nullable = true)\n",
      " |-- name: string (nullable = true)\n",
      " |-- upvote_ratio: double (nullable = true)\n",
      " |-- ups: integer (nullable = true)\n",
      " |-- score: integer (nullable = true)\n",
      " |-- author_premium: boolean (nullable = true)\n",
      " |-- created: integer (nullable = true)\n",
      " |-- domain: string (nullable = true)\n",
      " |-- url_overridden_by_dest: string (nullable = true)\n",
      " |-- over_18: boolean (nullable = true)\n",
      " |-- subreddit_id: string (nullable = true)\n",
      " |-- permalink: string (nullable = true)\n",
      " |-- parent_whitelist_status: string (nullable = true)\n",
      " |-- url: string (nullable = true)\n",
      " |-- created_utc: integer (nullable = true)\n",
      "\n"
     ]
    }
   ],
   "source": [
    "submission_stream_df.printSchema()"
   ]
  },
  {
   "cell_type": "code",
   "execution_count": 98,
   "id": "1f5c253f",
   "metadata": {},
   "outputs": [],
   "source": [
    "submission_stream = submission_stream_df \\\n",
    "    .writeStream \\\n",
    "    .format(\"memory\") \\\n",
    "    .queryName(\"submission_view\") \\\n",
    "    .start()"
   ]
  },
  {
   "cell_type": "code",
   "execution_count": 103,
   "id": "5567a9dd",
   "metadata": {},
   "outputs": [
    {
     "name": "stdout",
     "output_type": "stream",
     "text": [
      "+---------+-----------+--------------------+---------------+--------------------+-----------------------+---------+------------+----+-----+--------------+-------+--------------------+----------------------+-------+------------+--------------------+-----------------------+--------------------+-----------+\n",
      "|event_key|event_topic|     event_timestamp|author_fullname|               title|subreddit_name_prefixed|     name|upvote_ratio| ups|score|author_premium|created|              domain|url_overridden_by_dest|over_18|subreddit_id|           permalink|parent_whitelist_status|                 url|created_utc|\n",
      "+---------+-----------+--------------------+---------------+--------------------+-----------------------+---------+------------+----+-----+--------------+-------+--------------------+----------------------+-------+------------+--------------------+-----------------------+--------------------+-----------+\n",
      "|   nnuvuf|submissions|2021-05-30 11:27:...|       t2_7ummq|Syria: 2 killed, ...|            r/worldnews|t3_nnuvuf|        0.66|  17|   17|          true|   null|             msn.com|  https://www.msn.c...|  false|    t5_2qh13|/r/worldnews/comm...|                all_ads|https://www.msn.c...|       null|\n",
      "|   nnv28g|submissions|2021-05-30 11:27:...|    t2_3t8c9oj4|Bennett to announ...|            r/worldnews|t3_nnv28g|        0.96|2061| 2061|          true|   null|           axios.com|  https://www.axios...|  false|    t5_2qh13|/r/worldnews/comm...|                all_ads|https://www.axios...|       null|\n",
      "|   nnw33x|submissions|2021-05-30 11:27:...|       t2_b8bk0|Turkish mobster's...|            r/worldnews|t3_nnw33x|        0.82|  52|   52|         false|   null|         reuters.com|  https://www.reute...|  false|    t5_2qh13|/r/worldnews/comm...|                all_ads|https://www.reute...|       null|\n",
      "|   nnwkhz|submissions|2021-05-30 11:27:...|       t2_c1tlg|Havertz goal wins...|            r/worldnews|t3_nnwkhz|        0.59|   8|    8|         false|   null|         reuters.com|  https://www.reute...|  false|    t5_2qh13|/r/worldnews/comm...|                all_ads|https://www.reute...|       null|\n",
      "|   nnwqt1|submissions|2021-05-30 11:27:...|    t2_a2wzwjox|Indigenous people...|            r/worldnews|t3_nnwqt1|        0.85| 171|  171|         false|   null|       aljazeera.com|  https://www.aljaz...|  false|    t5_2qh13|/r/worldnews/comm...|                all_ads|https://www.aljaz...|       null|\n",
      "|   nnwxd1|submissions|2021-05-30 11:27:...|       t2_7ummq|U.S. troops charg...|            r/worldnews|t3_nnwxd1|        0.96|2068| 2068|          true|   null|         voanews.com|  https://www.voane...|  false|    t5_2qh13|/r/worldnews/comm...|                all_ads|https://www.voane...|       null|\n",
      "|   nnx0v5|submissions|2021-05-30 11:27:...|    t2_bpurbs2s|Colombian preside...|            r/worldnews|t3_nnx0v5|        0.83|  38|   38|         false|   null|             upi.com|  https://www.upi.c...|  false|    t5_2qh13|/r/worldnews/comm...|                all_ads|https://www.upi.c...|       null|\n",
      "|   nnx58m|submissions|2021-05-30 11:27:...|     t2_8yk3uzd|Vietnam detects h...|            r/worldnews|t3_nnx58m|         0.8|  51|   51|         false|   null|         reuters.com|  https://www.reute...|  false|    t5_2qh13|/r/worldnews/comm...|                all_ads|https://www.reute...|       null|\n",
      "|   nnxg8t|submissions|2021-05-30 11:27:...|    t2_84oo4ons|US to work with E...|            r/worldnews|t3_nnxg8t|        0.92| 247|  247|          true|   null|        france24.com|  https://www.franc...|  false|    t5_2qh13|/r/worldnews/comm...|                all_ads|https://www.franc...|       null|\n",
      "|   nnxlr7|submissions|2021-05-30 11:27:...|    t2_4de6hm5l|Humans Could Live...|            r/worldnews|t3_nnxlr7|        0.85| 199|  199|         false|   null|scientificamerica...|  https://www.scien...|  false|    t5_2qh13|/r/worldnews/comm...|                all_ads|https://www.scien...|       null|\n",
      "|   nnxv1n|submissions|2021-05-30 11:27:...|       t2_rj31v|CoronaVac COVID-1...|            r/worldnews|t3_nnxv1n|        0.75|  50|   50|         false|   null| channelnewsasia.com|  https://www.chann...|  false|    t5_2qh13|/r/worldnews/comm...|                all_ads|https://www.chann...|       null|\n",
      "|   nnyktr|submissions|2021-05-30 11:27:...|    t2_c4xlyraf|Yemen's Houthis '...|            r/worldnews|t3_nnyktr|         0.7|  15|   15|         false|   null|         reuters.com|  https://www.reute...|  false|    t5_2qh13|/r/worldnews/comm...|                all_ads|https://www.reute...|       null|\n",
      "|   nnyudi|submissions|2021-05-30 11:27:...|     t2_b7pl02x|A Wave of Afghan ...|            r/worldnews|t3_nnyudi|        0.73|  31|   31|         false|   null|         nytimes.com|  https://www.nytim...|  false|    t5_2qh13|/r/worldnews/comm...|                all_ads|https://www.nytim...|       null|\n",
      "|   nnz8br|submissions|2021-05-30 11:27:...|    t2_6hndom97|Turkey rounds up ...|            r/worldnews|t3_nnz8br|        0.65|  22|   22|         false|   null|  thestandard.com.hk|  https://www.thest...|  false|    t5_2qh13|/r/worldnews/comm...|                all_ads|https://www.thest...|       null|\n",
      "|   nnzety|submissions|2021-05-30 11:27:...|    t2_5d1owwm3|U.S. monitoring I...|            r/worldnews|t3_nnzety|        0.85| 120|  120|         false|   null|        politico.com|  https://www.polit...|  false|    t5_2qh13|/r/worldnews/comm...|                all_ads|https://www.polit...|       null|\n",
      "|   nnzjvr|submissions|2021-05-30 11:27:...|    t2_3tb8axl3|More than 200 bod...|            r/worldnews|t3_nnzjvr|        0.75|  61|   61|         false|   null|          apnews.com|  https://apnews.co...|  false|    t5_2qh13|/r/worldnews/comm...|                all_ads|https://apnews.co...|       null|\n",
      "|   nnzmy0|submissions|2021-05-30 11:27:...|       t2_aodmq|Work underway for...|            r/worldnews|t3_nnzmy0|        0.87| 153|  153|         false|   null|              cbc.ca|  https://www.cbc.c...|  false|    t5_2qh13|/r/worldnews/comm...|                all_ads|https://www.cbc.c...|       null|\n",
      "|   nnzod9|submissions|2021-05-30 11:27:...|    t2_2b7oqttf|Vietnam discovers...|            r/worldnews|t3_nnzod9|        0.86|  95|   95|         false|   null|        france24.com|  https://www.franc...|  false|    t5_2qh13|/r/worldnews/comm...|                all_ads|https://www.franc...|       null|\n",
      "|   nnzqic|submissions|2021-05-30 11:27:...|    t2_667n05su|New Zealand: Stat...|            r/worldnews|t3_nnzqic|        0.82|  41|   41|         false|   null|       i.stuff.co.nz|  https://i.stuff.c...|  false|    t5_2qh13|/r/worldnews/comm...|                all_ads|https://i.stuff.c...|       null|\n",
      "|   nnzw0o|submissions|2021-05-30 11:27:...|    t2_adsnroe3|Thousand flood Br...|            r/worldnews|t3_nnzw0o|        0.85|  81|   81|         false|   null|          forbes.com|  https://www.forbe...|  false|    t5_2qh13|/r/worldnews/comm...|                all_ads|https://www.forbe...|       null|\n",
      "+---------+-----------+--------------------+---------------+--------------------+-----------------------+---------+------------+----+-----+--------------+-------+--------------------+----------------------+-------+------------+--------------------+-----------------------+--------------------+-----------+\n",
      "only showing top 20 rows\n",
      "\n"
     ]
    },
    {
     "data": {
      "text/plain": [
       "None"
      ]
     },
     "metadata": {},
     "output_type": "display_data"
    }
   ],
   "source": [
    "clear_output(wait=True)\n",
    "display(spark.sql('SELECT * FROM submission_view').show(20))\n",
    "time.sleep(1)"
   ]
  },
  {
   "cell_type": "code",
   "execution_count": 104,
   "id": "217bfac7",
   "metadata": {},
   "outputs": [
    {
     "name": "stdout",
     "output_type": "stream",
     "text": [
      "+---------------+-----+\n",
      "|         domain|count|\n",
      "+---------------+-----+\n",
      "|    reuters.com|   13|\n",
      "|        bbc.com|    6|\n",
      "|   france24.com|    5|\n",
      "|theguardian.com|    4|\n",
      "|dailymail.co.uk|    3|\n",
      "+---------------+-----+\n",
      "only showing top 5 rows\n",
      "\n"
     ]
    },
    {
     "data": {
      "text/plain": [
       "None"
      ]
     },
     "metadata": {},
     "output_type": "display_data"
    }
   ],
   "source": [
    "clear_output(wait=True)\n",
    "display(spark.sql('SELECT domain, COUNT(1) AS count FROM submission_view GROUP BY domain ORDER BY count DESC').show(5))\n",
    "time.sleep(1)"
   ]
  },
  {
   "cell_type": "code",
   "execution_count": 101,
   "id": "5ec0793c",
   "metadata": {},
   "outputs": [],
   "source": [
    "submission_stream.stop()"
   ]
  },
  {
   "cell_type": "code",
   "execution_count": 105,
   "id": "cd8ea894",
   "metadata": {},
   "outputs": [],
   "source": [
    "spark.stop()"
   ]
  },
  {
   "cell_type": "code",
   "execution_count": null,
   "id": "29c323c0",
   "metadata": {},
   "outputs": [],
   "source": []
  }
 ],
 "metadata": {
  "kernelspec": {
   "display_name": "Python 3",
   "language": "python",
   "name": "python3"
  },
  "language_info": {
   "codemirror_mode": {
    "name": "ipython",
    "version": 3
   },
   "file_extension": ".py",
   "mimetype": "text/x-python",
   "name": "python",
   "nbconvert_exporter": "python",
   "pygments_lexer": "ipython3",
   "version": "3.8.8"
  }
 },
 "nbformat": 4,
 "nbformat_minor": 5
}
