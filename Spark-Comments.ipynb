{
 "cells": [
  {
   "cell_type": "code",
   "execution_count": 1,
   "id": "fba745b4",
   "metadata": {},
   "outputs": [],
   "source": [
    "from pyspark.sql import SparkSession"
   ]
  },
  {
   "cell_type": "code",
   "execution_count": 2,
   "id": "f20e5c45",
   "metadata": {},
   "outputs": [],
   "source": [
    "spark = SparkSession.builder \\\n",
    "        .appName('kafka') \\\n",
    "        .getOrCreate()"
   ]
  },
  {
   "cell_type": "code",
   "execution_count": 3,
   "id": "f926a98e",
   "metadata": {},
   "outputs": [
    {
     "data": {
      "text/plain": [
       "'3.1.1'"
      ]
     },
     "execution_count": 3,
     "metadata": {},
     "output_type": "execute_result"
    }
   ],
   "source": [
    "spark.version"
   ]
  },
  {
   "cell_type": "code",
   "execution_count": 4,
   "id": "76d73385",
   "metadata": {},
   "outputs": [
    {
     "data": {
      "text/plain": [
       "'3.2.0'"
      ]
     },
     "execution_count": 4,
     "metadata": {},
     "output_type": "execute_result"
    }
   ],
   "source": [
    "spark._jvm.org.apache.hadoop.util.VersionInfo.getVersion()"
   ]
  },
  {
   "cell_type": "code",
   "execution_count": 5,
   "id": "31e25177",
   "metadata": {},
   "outputs": [],
   "source": [
    "import configparser\n",
    "import praw\n",
    "from confluent_kafka import Producer\n",
    "import socket\n",
    "import json"
   ]
  },
  {
   "cell_type": "code",
   "execution_count": 6,
   "id": "fb0fb783",
   "metadata": {},
   "outputs": [],
   "source": [
    "df = spark \\\n",
    "  .readStream \\\n",
    "  .format(\"kafka\") \\\n",
    "  .option(\"kafka.bootstrap.servers\", \"broker:29092\") \\\n",
    "  .option(\"startingOffsets\", \"earliest\") \\\n",
    "  .option(\"subscribe\", \"comments\") \\\n",
    "  .load()"
   ]
  },
  {
   "cell_type": "code",
   "execution_count": 7,
   "id": "9ff5b932",
   "metadata": {},
   "outputs": [
    {
     "name": "stdout",
     "output_type": "stream",
     "text": [
      "root\n",
      " |-- key: binary (nullable = true)\n",
      " |-- value: binary (nullable = true)\n",
      " |-- topic: string (nullable = true)\n",
      " |-- partition: integer (nullable = true)\n",
      " |-- offset: long (nullable = true)\n",
      " |-- timestamp: timestamp (nullable = true)\n",
      " |-- timestampType: integer (nullable = true)\n",
      "\n"
     ]
    }
   ],
   "source": [
    "df.printSchema()"
   ]
  },
  {
   "cell_type": "code",
   "execution_count": 8,
   "id": "8305d34a",
   "metadata": {},
   "outputs": [],
   "source": [
    "from IPython.display import display, clear_output\n",
    "import time"
   ]
  },
  {
   "cell_type": "code",
   "execution_count": 9,
   "id": "b9495e32",
   "metadata": {},
   "outputs": [],
   "source": [
    "clear_output(wait=True)"
   ]
  },
  {
   "cell_type": "code",
   "execution_count": 10,
   "id": "c8e9323d",
   "metadata": {},
   "outputs": [],
   "source": [
    "raw_stream = df \\\n",
    "    .writeStream \\\n",
    "    .format(\"memory\") \\\n",
    "    .queryName(\"comment_view\") \\\n",
    "    .start()"
   ]
  },
  {
   "cell_type": "code",
   "execution_count": 11,
   "id": "1ab16557",
   "metadata": {},
   "outputs": [
    {
     "name": "stdout",
     "output_type": "stream",
     "text": [
      "+---+-----+-----+---------+------+---------+-------------+\n",
      "|key|value|topic|partition|offset|timestamp|timestampType|\n",
      "+---+-----+-----+---------+------+---------+-------------+\n",
      "+---+-----+-----+---------+------+---------+-------------+\n",
      "\n"
     ]
    },
    {
     "data": {
      "text/plain": [
       "None"
      ]
     },
     "metadata": {},
     "output_type": "display_data"
    }
   ],
   "source": [
    "display(spark.sql('SELECT * FROM comment_view').show(20))"
   ]
  },
  {
   "cell_type": "code",
   "execution_count": 12,
   "id": "4bcd7d6b",
   "metadata": {},
   "outputs": [],
   "source": [
    "time.sleep(1)"
   ]
  },
  {
   "cell_type": "code",
   "execution_count": 13,
   "id": "3be34d2e",
   "metadata": {},
   "outputs": [
    {
     "name": "stdout",
     "output_type": "stream",
     "text": [
      "+--------------------+--------------------+--------+---------+------+--------------------+-------------+\n",
      "|                 key|               value|   topic|partition|offset|           timestamp|timestampType|\n",
      "+--------------------+--------------------+--------+---------+------+--------------------+-------------+\n",
      "|[68 31 34 78 68 7...|[7B 22 69 64 22 3...|comments|        0|     0|2021-06-09 10:35:...|            0|\n",
      "|[68 31 34 78 69 6...|[7B 22 69 64 22 3...|comments|        0|     1|2021-06-09 10:35:...|            0|\n",
      "|[68 31 34 78 6A 3...|[7B 22 69 64 22 3...|comments|        0|     2|2021-06-09 10:35:...|            0|\n",
      "|[68 31 34 78 6A 6...|[7B 22 69 64 22 3...|comments|        0|     3|2021-06-09 10:35:...|            0|\n",
      "|[68 31 34 78 6A 7...|[7B 22 69 64 22 3...|comments|        0|     4|2021-06-09 10:35:...|            0|\n",
      "|[68 31 34 78 6A 7...|[7B 22 69 64 22 3...|comments|        0|     5|2021-06-09 10:35:...|            0|\n",
      "|[68 31 34 78 6B 6...|[7B 22 69 64 22 3...|comments|        0|     6|2021-06-09 10:35:...|            0|\n",
      "|[68 31 34 78 6B 6...|[7B 22 69 64 22 3...|comments|        0|     7|2021-06-09 10:35:...|            0|\n",
      "|[68 31 34 78 6B 7...|[7B 22 69 64 22 3...|comments|        0|     8|2021-06-09 10:35:...|            0|\n",
      "|[68 31 34 78 6B 7...|[7B 22 69 64 22 3...|comments|        0|     9|2021-06-09 10:35:...|            0|\n",
      "|[68 31 34 78 6C 6...|[7B 22 69 64 22 3...|comments|        0|    10|2021-06-09 10:35:...|            0|\n",
      "|[68 31 34 78 6C 6...|[7B 22 69 64 22 3...|comments|        0|    11|2021-06-09 10:35:...|            0|\n",
      "|[68 31 34 78 6C 6...|[7B 22 69 64 22 3...|comments|        0|    12|2021-06-09 10:35:...|            0|\n",
      "|[68 31 34 78 6C 7...|[7B 22 69 64 22 3...|comments|        0|    13|2021-06-09 10:35:...|            0|\n",
      "|[68 31 34 78 6D 3...|[7B 22 69 64 22 3...|comments|        0|    14|2021-06-09 10:35:...|            0|\n",
      "|[68 31 34 78 6D 3...|[7B 22 69 64 22 3...|comments|        0|    15|2021-06-09 10:35:...|            0|\n",
      "|[68 31 34 78 6D 6...|[7B 22 69 64 22 3...|comments|        0|    16|2021-06-09 10:35:...|            0|\n",
      "|[68 31 34 78 6D 7...|[7B 22 69 64 22 3...|comments|        0|    17|2021-06-09 10:35:...|            0|\n",
      "|[68 31 34 78 6D 7...|[7B 22 69 64 22 3...|comments|        0|    18|2021-06-09 10:35:...|            0|\n",
      "|[68 31 34 78 6E 6...|[7B 22 69 64 22 3...|comments|        0|    19|2021-06-09 10:35:...|            0|\n",
      "+--------------------+--------------------+--------+---------+------+--------------------+-------------+\n",
      "only showing top 20 rows\n",
      "\n"
     ]
    },
    {
     "data": {
      "text/plain": [
       "None"
      ]
     },
     "metadata": {},
     "output_type": "display_data"
    }
   ],
   "source": [
    "clear_output(wait=True)\n",
    "display(spark.sql('SELECT * FROM comment_view').show(20))\n",
    "time.sleep(1)"
   ]
  },
  {
   "cell_type": "code",
   "execution_count": 14,
   "id": "381ac3e3",
   "metadata": {},
   "outputs": [],
   "source": [
    "raw_stream.stop()"
   ]
  },
  {
   "cell_type": "code",
   "execution_count": 15,
   "id": "b2038f94",
   "metadata": {},
   "outputs": [],
   "source": [
    "from pyspark.sql.types import StringType"
   ]
  },
  {
   "cell_type": "code",
   "execution_count": 16,
   "id": "2bedc8cc",
   "metadata": {},
   "outputs": [],
   "source": [
    "string_stream_df = df \\\n",
    "    .withColumn(\"key\", df[\"key\"].cast(StringType())) \\\n",
    "    .withColumn(\"value\", df[\"value\"].cast(StringType()))"
   ]
  },
  {
   "cell_type": "code",
   "execution_count": 17,
   "id": "5c394d94",
   "metadata": {},
   "outputs": [
    {
     "name": "stdout",
     "output_type": "stream",
     "text": [
      "root\n",
      " |-- key: string (nullable = true)\n",
      " |-- value: string (nullable = true)\n",
      " |-- topic: string (nullable = true)\n",
      " |-- partition: integer (nullable = true)\n",
      " |-- offset: long (nullable = true)\n",
      " |-- timestamp: timestamp (nullable = true)\n",
      " |-- timestampType: integer (nullable = true)\n",
      "\n"
     ]
    }
   ],
   "source": [
    "string_stream_df.printSchema()"
   ]
  },
  {
   "cell_type": "code",
   "execution_count": 18,
   "id": "161fbd26",
   "metadata": {},
   "outputs": [],
   "source": [
    "string_stream = string_stream_df \\\n",
    "    .writeStream \\\n",
    "    .format(\"memory\") \\\n",
    "    .queryName(\"string_comments_view\") \\\n",
    "    .start()"
   ]
  },
  {
   "cell_type": "code",
   "execution_count": 19,
   "id": "f795e763",
   "metadata": {},
   "outputs": [
    {
     "name": "stdout",
     "output_type": "stream",
     "text": [
      "+------------------------------------------------------------------------------------------------------------------------------------------------------------------------------------------------------------------------------------------------------------------------------------------------------------------------------------------------------------------------------------------------------------------------------------------------------------------------------------------------------------------------------------------------------------------------------------------------------------------------------------------------------------------------------------------------------------------------------------------------------------------------------------------------------------------------------------------------------------------------------------------------------------------------------------------------------------------------------------------------------------------------------------------------------------------------------------------------------------------------------------------------------------------------------------------------------------------------------------------------------------------------------------------------------------------------------------------------------------------------------------------------------------------------------------------------------------------------------------------------------------------------------------------------------------------------------------------------------------------------------------------------------------------------------------------------------------------------------------------------------------------------------------------------------------------------------------------------------------------------------------------------------------------------------------------------------------------------------------------------------------------------------------------------------------------------------------------------------------------------------------------------------------------------------------------------------------------------------------------------------------------------------------------------------------------------------------------------------------------------------------------------------------------------------------------------------------------------------------------------------------------------------+\n",
      "|value                                                                                                                                                                                                                                                                                                                                                                                                                                                                                                                                                                                                                                                                                                                                                                                                                                                                                                                                                                                                                                                                                                                                                                                                                                                                                                                                                                                                                                                                                                                                                                                                                                                                                                                                                                                                                                                                                                                                                                                                                                                                                                                                                                                                                                                                                                                                                                                                                                                                                                                         |\n",
      "+------------------------------------------------------------------------------------------------------------------------------------------------------------------------------------------------------------------------------------------------------------------------------------------------------------------------------------------------------------------------------------------------------------------------------------------------------------------------------------------------------------------------------------------------------------------------------------------------------------------------------------------------------------------------------------------------------------------------------------------------------------------------------------------------------------------------------------------------------------------------------------------------------------------------------------------------------------------------------------------------------------------------------------------------------------------------------------------------------------------------------------------------------------------------------------------------------------------------------------------------------------------------------------------------------------------------------------------------------------------------------------------------------------------------------------------------------------------------------------------------------------------------------------------------------------------------------------------------------------------------------------------------------------------------------------------------------------------------------------------------------------------------------------------------------------------------------------------------------------------------------------------------------------------------------------------------------------------------------------------------------------------------------------------------------------------------------------------------------------------------------------------------------------------------------------------------------------------------------------------------------------------------------------------------------------------------------------------------------------------------------------------------------------------------------------------------------------------------------------------------------------------------------+\n",
      "|{\"id\": \"h14xhwj\", \"subreddit_id\": \"t5_2qh13\", \"body\": \"Honestly, some people have been complaining about this for years. Most people kept their mouths shut when it was hurting the other side of the political isle. Hopefully now they will see it's not about politics. It's about these greedy idiots that will censor anything if people pay them enough.\", \"link_id\": \"t3_nvkdlh\", \"link_title\": \"Twitter has blocked four accounts in India - including one belonging to Canadian-Punjabi singer Jazzy B, who has frequently tweeted in support of farmers protesting the government's agriculture laws\", \"name\": \"t1_h14xhwj\", \"permalink\": \"/r/worldnews/comments/nvkdlh/twitter_has_blocked_four_accounts_in_india/h14xhwj/\", \"link_permalink\": \"https://www.reddit.com/r/worldnews/comments/nvkdlh/twitter_has_blocked_four_accounts_in_india/\", \"link_author\": \"_wasitacatisaw_\", \"link_url\": \"https://www.ndtv.com/india-news/punjabi-singer-jazzy-bs-twitter-account-blocked-on-government-request-2458739\", \"is_submitter\": false, \"created\": 1623263307.0, \"ups\": 1}                                                                                                                                                                                                                                                                                                                                                                                                                                                                                                                                                                                                                                                                                                                                                                                                                                                                                                                                                                                                                                                                                                                                                                                                                                                                                                                                                                                                                                          |\n",
      "|{\"id\": \"h14xidi\", \"subreddit_id\": \"t5_2qh13\", \"body\": \"This was the moment I when the hypocritical west just lost me, when just a week after a guy in France being killed because of a caricature, they lost their mind about something like this and not just the media even governments. When they just want to blame China for anything, well then I have to believe, that anything else they report is also wrong and just made up bullshit.\", \"link_id\": \"t3_nvh56r\", \"link_title\": \"Uncovered atrocity Australian special forces committed in Afghanistan \\\"More farmers were killed to cover the tracks of special forces after an accidental shooting, alleges new witness\\\"\", \"name\": \"t1_h14xidi\", \"permalink\": \"/r/worldnews/comments/nvh56r/uncovered_atrocity_australian_special_forces/h14xidi/\", \"link_permalink\": \"https://www.reddit.com/r/worldnews/comments/nvh56r/uncovered_atrocity_australian_special_forces/\", \"link_author\": \"_Alecsa_\", \"link_url\": \"https://www.abc.net.au/news/2021-06-09/deadliest-alleged-war-crime-by-special-forces-in-afghanistan/13362000\", \"is_submitter\": false, \"created\": 1623263318.0, \"ups\": 1}                                                                                                                                                                                                                                                                                                                                                                                                                                                                                                                                                                                                                                                                                                                                                                                                                                                                                                                                                                                                                                                                                                                                                                                                                                                                                                                                                                        |\n",
      "|{\"id\": \"h14xj0b\", \"subreddit_id\": \"t5_2qh13\", \"body\": \"Mate, even if they are sued, it's not like the government can physically take shit off the internet, this would quickly become an international issue and you can bet your ass a lot of countries/organizations would jump to back twitter in this. They capitulated, and with not a lot of protestation either, they didn't fucking try.\", \"link_id\": \"t3_nvkdlh\", \"link_title\": \"Twitter has blocked four accounts in India - including one belonging to Canadian-Punjabi singer Jazzy B, who has frequently tweeted in support of farmers protesting the government's agriculture laws\", \"name\": \"t1_h14xj0b\", \"permalink\": \"/r/worldnews/comments/nvkdlh/twitter_has_blocked_four_accounts_in_india/h14xj0b/\", \"link_permalink\": \"https://www.reddit.com/r/worldnews/comments/nvkdlh/twitter_has_blocked_four_accounts_in_india/\", \"link_author\": \"_wasitacatisaw_\", \"link_url\": \"https://www.ndtv.com/india-news/punjabi-singer-jazzy-bs-twitter-account-blocked-on-government-request-2458739\", \"is_submitter\": false, \"created\": 1623263333.0, \"ups\": 1}                                                                                                                                                                                                                                                                                                                                                                                                                                                                                                                                                                                                                                                                                                                                                                                                                                                                                                                                                                                                                                                                                                                                                                                                                                                                                                                                                                                                        |\n",
      "|{\"id\": \"h14xjc7\", \"subreddit_id\": \"t5_2qh13\", \"body\": \"Hasbara\", \"link_id\": \"t3_nvs7w5\", \"link_title\": \"An unpublished report commissioned by the European Union in 2019 found clear evidence of Palestinian textbooks inciting to violence and antisemitism and was kept from the public by the European Commission\", \"name\": \"t1_h14xjc7\", \"permalink\": \"/r/worldnews/comments/nvs7w5/an_unpublished_report_commissioned_by_the/h14xjc7/\", \"link_permalink\": \"https://www.reddit.com/r/worldnews/comments/nvs7w5/an_unpublished_report_commissioned_by_the/\", \"link_author\": \"HariSeldonOlivaw\", \"link_url\": \"https://www.jpost.com/middle-east/eu-study-finds-incitement-in-palestinian-textbooks-remains-unpublished-670505\", \"is_submitter\": false, \"created\": 1623263340.0, \"ups\": 1}                                                                                                                                                                                                                                                                                                                                                                                                                                                                                                                                                                                                                                                                                                                                                                                                                                                                                                                                                                                                                                                                                                                                                                                                                                                                                                                                                                                                                                                                                                                                                                                                                                                                                                                                   |\n",
      "|{\"id\": \"h14xjpu\", \"subreddit_id\": \"t5_2qh13\", \"body\": \"I share your sentiments.  I don't see any change coming.  The system is rotted to the core and most Americans are too distracted to care.\", \"link_id\": \"t3_nvrsn2\", \"link_title\": \"US super-rich 'pay almost no income tax'\", \"name\": \"t1_h14xjpu\", \"permalink\": \"/r/worldnews/comments/nvrsn2/us_superrich_pay_almost_no_income_tax/h14xjpu/\", \"link_permalink\": \"https://www.reddit.com/r/worldnews/comments/nvrsn2/us_superrich_pay_almost_no_income_tax/\", \"link_author\": \"SweeneyisMad\", \"link_url\": \"https://www.bbc.com/news/business-57383869\", \"is_submitter\": false, \"created\": 1623263349.0, \"ups\": 1}                                                                                                                                                                                                                                                                                                                                                                                                                                                                                                                                                                                                                                                                                                                                                                                                                                                                                                                                                                                                                                                                                                                                                                                                                                                                                                                                                                                                                                                                                                                                                                                                                                                                                                                                                                                                                                                      |\n",
      "|{\"id\": \"h14xjzh\", \"subreddit_id\": \"t5_2qh13\", \"body\": \"He's got like \\\"one million\\\" new songs\", \"link_id\": \"t3_nvkdlh\", \"link_title\": \"Twitter has blocked four accounts in India - including one belonging to Canadian-Punjabi singer Jazzy B, who has frequently tweeted in support of farmers protesting the government's agriculture laws\", \"name\": \"t1_h14xjzh\", \"permalink\": \"/r/worldnews/comments/nvkdlh/twitter_has_blocked_four_accounts_in_india/h14xjzh/\", \"link_permalink\": \"https://www.reddit.com/r/worldnews/comments/nvkdlh/twitter_has_blocked_four_accounts_in_india/\", \"link_author\": \"_wasitacatisaw_\", \"link_url\": \"https://www.ndtv.com/india-news/punjabi-singer-jazzy-bs-twitter-account-blocked-on-government-request-2458739\", \"is_submitter\": false, \"created\": 1623263355.0, \"ups\": 1}                                                                                                                                                                                                                                                                                                                                                                                                                                                                                                                                                                                                                                                                                                                                                                                                                                                                                                                                                                                                                                                                                                                                                                                                                                                                                                                                                                                                                                                                                                                                                                                                                                                                                                          |\n",
      "|{\"id\": \"h14xkey\", \"subreddit_id\": \"t5_2qh13\", \"body\": \"Same guy. Different opinions of his role. Muslims venerate Jesus as a prophet, like they do with Muhammad.\", \"link_id\": \"t3_nv5sn7\", \"link_title\": \"Canada will act to dismantle far-right groups after Muslim family attack - Trudeau\", \"name\": \"t1_h14xkey\", \"permalink\": \"/r/worldnews/comments/nv5sn7/canada_will_act_to_dismantle_farright_groups/h14xkey/\", \"link_permalink\": \"https://www.reddit.com/r/worldnews/comments/nv5sn7/canada_will_act_to_dismantle_farright_groups/\", \"link_author\": \"Broiled_Fish_980\", \"link_url\": \"https://www.reuters.com/world/americas/canada-will-act-dismantle-far-right-groups-after-muslim-family-attack-trudeau-2021-06-08/\", \"is_submitter\": false, \"created\": 1623263364.0, \"ups\": 1}                                                                                                                                                                                                                                                                                                                                                                                                                                                                                                                                                                                                                                                                                                                                                                                                                                                                                                                                                                                                                                                                                                                                                                                                                                                                                                                                                                                                                                                                                                                                                                                                                                                                                                                                   |\n",
      "|{\"id\": \"h14xkfb\", \"subreddit_id\": \"t5_2qh13\", \"body\": \"Because this article is about the USA having \\\"concerns\\\"\\n\\nIf they're concerned about the small chance of China maybe doing the thing that the USA have been doing every year for decades, that's a problem.\", \"link_id\": \"t3_nvclj9\", \"link_title\": \"Satellite photos show rapid construction at military base where US has 'serious concerns' about China's presence\", \"name\": \"t1_h14xkfb\", \"permalink\": \"/r/worldnews/comments/nvclj9/satellite_photos_show_rapid_construction_at/h14xkfb/\", \"link_permalink\": \"https://www.reddit.com/r/worldnews/comments/nvclj9/satellite_photos_show_rapid_construction_at/\", \"link_author\": \"Twoweekswithpay\", \"link_url\": \"https://www.businessinsider.com/rapid-construction-at-cambodia-base-amid-concern-about-china-presence-2021-6\", \"is_submitter\": false, \"created\": 1623263365.0, \"ups\": 1}                                                                                                                                                                                                                                                                                                                                                                                                                                                                                                                                                                                                                                                                                                                                                                                                                                                                                                                                                                                                                                                                                                                                                                                                                                                                                                                                                                                                                                                                                                                                                                                                                        |\n",
      "|{\"id\": \"h14xkqn\", \"subreddit_id\": \"t5_2qh13\", \"body\": \"Its always the people who suffer. For the sake of some geopolitical bs.\", \"link_id\": \"t3_nvh56r\", \"link_title\": \"Uncovered atrocity Australian special forces committed in Afghanistan \\\"More farmers were killed to cover the tracks of special forces after an accidental shooting, alleges new witness\\\"\", \"name\": \"t1_h14xkqn\", \"permalink\": \"/r/worldnews/comments/nvh56r/uncovered_atrocity_australian_special_forces/h14xkqn/\", \"link_permalink\": \"https://www.reddit.com/r/worldnews/comments/nvh56r/uncovered_atrocity_australian_special_forces/\", \"link_author\": \"_Alecsa_\", \"link_url\": \"https://www.abc.net.au/news/2021-06-09/deadliest-alleged-war-crime-by-special-forces-in-afghanistan/13362000\", \"is_submitter\": false, \"created\": 1623263372.0, \"ups\": 1}                                                                                                                                                                                                                                                                                                                                                                                                                                                                                                                                                                                                                                                                                                                                                                                                                                                                                                                                                                                                                                                                                                                                                                                                                                                                                                                                                                                                                                                                                                                                                                                                                                                                                          |\n",
      "|{\"id\": \"h14xkwp\", \"subreddit_id\": \"t5_2qh13\", \"body\": \"Your submission has been automatically removed pending manual approval because your account does not meet the minimum karma or account age requirements of /r/worldnews for submitting from an uncommon domain. \\n\\nIf you are new to reddit, we suggest you read\\n\\n* [reddit 101](http://www.reddit.com/r/help/comments/2bx3cj/reddit_101/)\\n\\n* [How reddit works](http://www.redditblog.com/2014/07/how-reddit-works.html)\\n\\n* [The rules of /r/worldnews](http://www.reddit.com/r/worldnews/wiki/rules)\\n\\nYou may also want to review the [Reddit guidelines regarding spam](http://www.reddit.com/help/faq#Whatconstitutesspam) and the [wiki on self-promotion on reddit](http://www.reddit.com/wiki/selfpromotion). \\n\\n*I am a bot, and this action was performed automatically. Please [contact the moderators of this subreddit](/message/compose/?to=/r/worldnews) if you have any questions or concerns.*\", \"link_id\": \"t3_nvsjsp\", \"link_title\": \"Analysis: 50% of news articles posted in r/worldnews are from left-leaning sources and articles from left-leaning sources receive 60% of the upvotes\", \"name\": \"t1_h14xkwp\", \"permalink\": \"/r/worldnews/comments/nvsjsp/analysis_50_of_news_articles_posted_in_rworldnews/h14xkwp/\", \"link_permalink\": \"https://www.reddit.com/r/worldnews/comments/nvsjsp/analysis_50_of_news_articles_posted_in_rworldnews/\", \"link_author\": \"chrismo-a\", \"link_url\": \"https://ground.news/blindspotter/reddit/worldnews?inf=true\", \"is_submitter\": false, \"created\": 1623263376.0, \"ups\": 1}                                                                                                                                                                                                                                                                                                                                                                                                                                                                                                                                                                                                                                                                                                                                                                                                                                                                                                                      |\n",
      "|{\"id\": \"h14xlb5\", \"subreddit_id\": \"t5_2qh13\", \"body\": \">do they not deserve to be shaken of that ignorance?\\n\\nNot really sure what this is implying? That some sort of violence in retribution is solely capably of \\\"shaking ignorance\\\"? We both know that never works.\\n\\n>If you don't hold your government accountable, you are just as much to blame.\\n\\nI disagree. This is victim blaming.\\n\\nPeople can vote, write to their politicians, protest and still not see their more humane policy ideals ever realised. I think it's really shit toand short-sighted to attribute equal blame of a government's actions to the people.\\n\\nIt doesn't absolve them entirely of it, but similarly you can't simply act like they've had direct input on decision-making.\\n\\nThere are limits to the influence of an individual and it's a bit much equating it to those crafting policy.\\n\\n>And American liberals are as bad as the conservatives with their hawkishness. They still buy into the lie that America is democratic and a liberator.\\n\\nI disagree with this too.\\n\\nPlenty of Americans are weary of the war, it's a factor that contributed to Trump's victory. Look at the arms-length approach to Syria despite chemical weapons use.\\n\\nAmerican Liberals are anti Iraq, anti Afghanistan - do you remember[ Michael Moore getting booed at the Oscars](https://www.youtube.com/watch?v=M7Is43K6lrg) for criticising George Bushes wars?\\n\\nOpinion has been diversified from the beginning and shifted very much to wanting to prevent involvement in future conflicts (it's motivated by self-interested dont worry, not purely from humanitarian empathy).\\n\\nI personally think you're simplifying things to over-simplified emotive positions that wrap up entire populations in to conflict.\", \"link_id\": \"t3_nvh56r\", \"link_title\": \"Uncovered atrocity Australian special forces committed in Afghanistan \\\"More farmers were killed to cover the tracks of special forces after an accidental shooting, alleges new witness\\\"\", \"name\": \"t1_h14xlb5\", \"permalink\": \"/r/worldnews/comments/nvh56r/uncovered_atrocity_australian_special_forces/h14xlb5/\", \"link_permalink\": \"https://www.reddit.com/r/worldnews/comments/nvh56r/uncovered_atrocity_australian_special_forces/\", \"link_author\": \"_Alecsa_\", \"link_url\": \"https://www.abc.net.au/news/2021-06-09/deadliest-alleged-war-crime-by-special-forces-in-afghanistan/13362000\", \"is_submitter\": false, \"created\": 1623263384.0, \"ups\": 1}|\n",
      "|{\"id\": \"h14xled\", \"subreddit_id\": \"t5_2qh13\", \"body\": \"So then fucking put Vietnam in the headline. When a variant came from the Uk do Vietnamese headline put that as the Europe variants?\", \"link_id\": \"t3_nvmq02\", \"link_title\": \"Virus variants in Asia threaten the whole world\", \"name\": \"t1_h14xled\", \"permalink\": \"/r/worldnews/comments/nvmq02/virus_variants_in_asia_threaten_the_whole_world/h14xled/\", \"link_permalink\": \"https://www.reddit.com/r/worldnews/comments/nvmq02/virus_variants_in_asia_threaten_the_whole_world/\", \"link_author\": \"hdk61U\", \"link_url\": \"https://www.dw.com/en/virus-variants-in-asia-threaten-the-whole-world/a-57745685\", \"is_submitter\": false, \"created\": 1623263386.0, \"ups\": 1}                                                                                                                                                                                                                                                                                                                                                                                                                                                                                                                                                                                                                                                                                                                                                                                                                                                                                                                                                                                                                                                                                                                                                                                                                                                                                                                                                                                                                                                                                                                                                                                                                                                                                                                                                                                                |\n",
      "|{\"id\": \"h14xlgs\", \"subreddit_id\": \"t5_2qh13\", \"body\": \"Not the same. Cause I don't have any friends.\", \"link_id\": \"t3_nvqy7o\", \"link_title\": \"Keira Knightley says all the women she knows have been sexually harassed\", \"name\": \"t1_h14xlgs\", \"permalink\": \"/r/worldnews/comments/nvqy7o/keira_knightley_says_all_the_women_she_knows_have/h14xlgs/\", \"link_permalink\": \"https://www.reddit.com/r/worldnews/comments/nvqy7o/keira_knightley_says_all_the_women_she_knows_have/\", \"link_author\": \"cambeiu\", \"link_url\": \"https://edition.cnn.com/2021/06/08/uk/keira-knightley-sexual-harassment-assault-scli-intl/index.html\", \"is_submitter\": false, \"created\": 1623263388.0, \"ups\": 1}                                                                                                                                                                                                                                                                                                                                                                                                                                                                                                                                                                                                                                                                                                                                                                                                                                                                                                                                                                                                                                                                                                                                                                                                                                                                                                                                                                                                                                                                                                                                                                                                                                                                                                                                                                                                                                     |\n",
      "|{\"id\": \"h14xly6\", \"subreddit_id\": \"t5_2qh13\", \"body\": \"You'd get void pretty quickly doing 24/7 pest control, no xp waste.\", \"link_id\": \"t3_nvdf87\", \"link_title\": \"One in three Brits preferring isolation to seeing friends and family, You Gov survey finds\", \"name\": \"t1_h14xly6\", \"permalink\": \"/r/worldnews/comments/nvdf87/one_in_three_brits_preferring_isolation_to_seeing/h14xly6/\", \"link_permalink\": \"https://www.reddit.com/r/worldnews/comments/nvdf87/one_in_three_brits_preferring_isolation_to_seeing/\", \"link_author\": \"diacewrb\", \"link_url\": \"https://www.standard.co.uk/news/uk/1-in-3-brits-prefer-isolation-over-seeing-friends-family-you-gov-survey-b939203.html\", \"is_submitter\": false, \"created\": 1623263401.0, \"ups\": 1}                                                                                                                                                                                                                                                                                                                                                                                                                                                                                                                                                                                                                                                                                                                                                                                                                                                                                                                                                                                                                                                                                                                                                                                                                                                                                                                                                                                                                                                                                                                                                                                                                                                                                                                                                                         |\n",
      "|{\"id\": \"h14xm62\", \"subreddit_id\": \"t5_2qh13\", \"body\": \"I\\u2019m literally Japanese. We know that designating a mere \\u201cmonth\\u201d isn\\u2019t enough to pay for reparations. If you think that excuses things like slavery for instance \\u2014 well, I\\u2019ve got some news for you. It doesn\\u2019t.\", \"link_id\": \"t3_nmszbm\", \"link_title\": \"Germany says it committed genocide in Namibia during colonial rule - offers $1.34 billion reparations\", \"name\": \"t1_h14xm62\", \"permalink\": \"/r/worldnews/comments/nmszbm/germany_says_it_committed_genocide_in_namibia/h14xm62/\", \"link_permalink\": \"https://www.reddit.com/r/worldnews/comments/nmszbm/germany_says_it_committed_genocide_in_namibia/\", \"link_author\": \"yes_i_abide\", \"link_url\": \"https://ewn.co.za/2021/05/28/germany-says-committed-genocide-in-namibia-during-colonial-rule\", \"is_submitter\": false, \"created\": 1623263406.0, \"ups\": 1}                                                                                                                                                                                                                                                                                                                                                                                                                                                                                                                                                                                                                                                                                                                                                                                                                                                                                                                                                                                                                                                                                                                                                                                                                                                                                                                                                                                                                                                                                                                                                                                                               |\n",
      "|{\"id\": \"h14xm8o\", \"subreddit_id\": \"t5_2qh13\", \"body\": \"And the Biden administration immediately announced an investigation into the people that leaked the tax data.  I will vote Democrat over Republican 100% of the time, but this is a reminder that the only people they truly serve are the wealthy.  They are all motivated to uphold the unjust status quo.  Democrats only enact policies that help the average American because they rightly acknowledge that it is necessary to provide the masses a modicum of services for their tax dollars in order to stave off widespread civil unrest.  Republicans just keep their base stupid and angry to keep them from realizing that they should unite with the left to oppose the wealthy, their true oppressors.\", \"link_id\": \"t3_nvrsn2\", \"link_title\": \"US super-rich 'pay almost no income tax'\", \"name\": \"t1_h14xm8o\", \"permalink\": \"/r/worldnews/comments/nvrsn2/us_superrich_pay_almost_no_income_tax/h14xm8o/\", \"link_permalink\": \"https://www.reddit.com/r/worldnews/comments/nvrsn2/us_superrich_pay_almost_no_income_tax/\", \"link_author\": \"SweeneyisMad\", \"link_url\": \"https://www.bbc.com/news/business-57383869\", \"is_submitter\": false, \"created\": 1623263407.0, \"ups\": 1}                                                                                                                                                                                                                                                                                                                                                                                                                                                                                                                                                                                                                                                                                                                                                                                                                                                                                                                                                                                                                                                                                                                                                                                                                                                                            |\n",
      "|{\"id\": \"h14xmcb\", \"subreddit_id\": \"t5_2qh13\", \"body\": \"I think what G30therm meant is that there is no conspiracy between Twitter and India's government.\", \"link_id\": \"t3_nvkdlh\", \"link_title\": \"Twitter has blocked four accounts in India - including one belonging to Canadian-Punjabi singer Jazzy B, who has frequently tweeted in support of farmers protesting the government's agriculture laws\", \"name\": \"t1_h14xmcb\", \"permalink\": \"/r/worldnews/comments/nvkdlh/twitter_has_blocked_four_accounts_in_india/h14xmcb/\", \"link_permalink\": \"https://www.reddit.com/r/worldnews/comments/nvkdlh/twitter_has_blocked_four_accounts_in_india/\", \"link_author\": \"_wasitacatisaw_\", \"link_url\": \"https://www.ndtv.com/india-news/punjabi-singer-jazzy-bs-twitter-account-blocked-on-government-request-2458739\", \"is_submitter\": false, \"created\": 1623263409.0, \"ups\": 1}                                                                                                                                                                                                                                                                                                                                                                                                                                                                                                                                                                                                                                                                                                                                                                                                                                                                                                                                                                                                                                                                                                                                                                                                                                                                                                                                                                                                                                                                                                                                                                                                                                               |\n",
      "|{\"id\": \"h14xmta\", \"subreddit_id\": \"t5_2qh13\", \"body\": \"They try to silence people the new laws give government more power that is true\", \"link_id\": \"t3_nvkdlh\", \"link_title\": \"Twitter has blocked four accounts in India - including one belonging to Canadian-Punjabi singer Jazzy B, who has frequently tweeted in support of farmers protesting the government's agriculture laws\", \"name\": \"t1_h14xmta\", \"permalink\": \"/r/worldnews/comments/nvkdlh/twitter_has_blocked_four_accounts_in_india/h14xmta/\", \"link_permalink\": \"https://www.reddit.com/r/worldnews/comments/nvkdlh/twitter_has_blocked_four_accounts_in_india/\", \"link_author\": \"_wasitacatisaw_\", \"link_url\": \"https://www.ndtv.com/india-news/punjabi-singer-jazzy-bs-twitter-account-blocked-on-government-request-2458739\", \"is_submitter\": false, \"created\": 1623263418.0, \"ups\": 1}                                                                                                                                                                                                                                                                                                                                                                                                                                                                                                                                                                                                                                                                                                                                                                                                                                                                                                                                                                                                                                                                                                                                                                                                                                                                                                                                                                                                                                                                                                                                                                                                                                                                  |\n",
      "|{\"id\": \"h14xmvz\", \"subreddit_id\": \"t5_2qh13\", \"body\": \"Your submission has been automatically removed pending manual approval because your account does not meet the minimum karma or account age requirements of /r/worldnews for submitting from an uncommon domain. \\n\\nIf you are new to reddit, we suggest you read\\n\\n* [reddit 101](http://www.reddit.com/r/help/comments/2bx3cj/reddit_101/)\\n\\n* [How reddit works](http://www.redditblog.com/2014/07/how-reddit-works.html)\\n\\n* [The rules of /r/worldnews](http://www.reddit.com/r/worldnews/wiki/rules)\\n\\nYou may also want to review the [Reddit guidelines regarding spam](http://www.reddit.com/help/faq#Whatconstitutesspam) and the [wiki on self-promotion on reddit](http://www.reddit.com/wiki/selfpromotion). \\n\\n*I am a bot, and this action was performed automatically. Please [contact the moderators of this subreddit](/message/compose/?to=/r/worldnews) if you have any questions or concerns.*\", \"link_id\": \"t3_nvsk7q\", \"link_title\": \"The issue with NHS data sharing\", \"name\": \"t1_h14xmvz\", \"permalink\": \"/r/worldnews/comments/nvsk7q/the_issue_with_nhs_data_sharing/h14xmvz/\", \"link_permalink\": \"https://www.reddit.com/r/worldnews/comments/nvsk7q/the_issue_with_nhs_data_sharing/\", \"link_author\": \"dagodchild7\", \"link_url\": \"https://youtu.be/qXojkcB5Sf8\", \"is_submitter\": false, \"created\": 1623263419.0, \"ups\": 1}                                                                                                                                                                                                                                                                                                                                                                                                                                                                                                                                                                                                                                                                                                                                                                                                                                                                                                                                                                                                                                                                                                           |\n",
      "|{\"id\": \"h14xnao\", \"subreddit_id\": \"t5_2qh13\", \"body\": \"I was tested a few weeks back. I needed a blood test anyway so they did the antibody test at the same time.\\n\\nI don't have anything... Which doesn't surprise me, I've barely interacted with anyone in 18 months.\", \"link_id\": \"t3_nvs5g6\", \"link_title\": \"About 8 in 10 UK adults have Covid antibodies - ONS\", \"name\": \"t1_h14xnao\", \"permalink\": \"/r/worldnews/comments/nvs5g6/about_8_in_10_uk_adults_have_covid_antibodies_ons/h14xnao/\", \"link_permalink\": \"https://www.reddit.com/r/worldnews/comments/nvs5g6/about_8_in_10_uk_adults_have_covid_antibodies_ons/\", \"link_author\": \"Arsewipes\", \"link_url\": \"https://www.bbc.co.uk/news/live/uk-57409973?ns_mchannel=social&ns_source=twitter&ns_campaign=bbc_live&ns_linkname=60c07d98e7130202defa4b3d%26About%208%20in%2010%20UK%20adults%20have%20Covid%20antibodies%20-%20ONS%262021-06-09T08%3A39%3A23.895Z&ns_fee=0&pinned_post_locator=urn:asset:b5793276-f378-45de-98ba-649483ea2e8a&pinned_post_asset_id=60c07d98e7130202defa4b3d&pinned_post_type=share\", \"is_submitter\": false, \"created\": 1623263429.0, \"ups\": 1}                                                                                                                                                                                                                                                                                                                                                                                                                                                                                                                                                                                                                                                                                                                                                                                                                                                                                                                                                                                                                                                                                                                                                                                                                                                                                                                                                                                  |\n",
      "+------------------------------------------------------------------------------------------------------------------------------------------------------------------------------------------------------------------------------------------------------------------------------------------------------------------------------------------------------------------------------------------------------------------------------------------------------------------------------------------------------------------------------------------------------------------------------------------------------------------------------------------------------------------------------------------------------------------------------------------------------------------------------------------------------------------------------------------------------------------------------------------------------------------------------------------------------------------------------------------------------------------------------------------------------------------------------------------------------------------------------------------------------------------------------------------------------------------------------------------------------------------------------------------------------------------------------------------------------------------------------------------------------------------------------------------------------------------------------------------------------------------------------------------------------------------------------------------------------------------------------------------------------------------------------------------------------------------------------------------------------------------------------------------------------------------------------------------------------------------------------------------------------------------------------------------------------------------------------------------------------------------------------------------------------------------------------------------------------------------------------------------------------------------------------------------------------------------------------------------------------------------------------------------------------------------------------------------------------------------------------------------------------------------------------------------------------------------------------------------------------------------------------+\n",
      "only showing top 20 rows\n",
      "\n"
     ]
    },
    {
     "data": {
      "text/plain": [
       "None"
      ]
     },
     "metadata": {},
     "output_type": "display_data"
    }
   ],
   "source": [
    "clear_output(wait=True)\n",
    "display(spark.sql('SELECT value FROM string_comments_view WHERE key IS NOT NULL').show(20, False))\n",
    "time.sleep(1)"
   ]
  },
  {
   "cell_type": "code",
   "execution_count": 20,
   "id": "52bcbff2",
   "metadata": {},
   "outputs": [],
   "source": [
    "string_stream.stop()"
   ]
  },
  {
   "cell_type": "code",
   "execution_count": 21,
   "id": "842acca0",
   "metadata": {},
   "outputs": [],
   "source": [
    "from pyspark.sql import functions as F\n",
    "from pyspark.sql.types import StructType, StructField, BooleanType, IntegerType, DoubleType, StringType"
   ]
  },
  {
   "cell_type": "code",
   "execution_count": 22,
   "id": "70a7c988",
   "metadata": {},
   "outputs": [],
   "source": [
    "schema_inventory = StructType([\n",
    "    StructField(\"body\", StringType(),  True),\n",
    "    StructField(\"link_title\", StringType(),  True),\n",
    "    StructField(\"name\", StringType(), True),\n",
    "    StructField(\"link_author\", StringType(),  True),\n",
    "    StructField(\"ups\", IntegerType(), True),\n",
    "    StructField(\"created\", IntegerType(), True),\n",
    "    StructField(\"subreddit_id\", StringType(),  True),\n",
    "    StructField(\"permalink\", StringType(),  True),\n",
    "    StructField(\"link_url\", StringType(),  True)\n",
    "])"
   ]
  },
  {
   "cell_type": "code",
   "execution_count": 23,
   "id": "0da0da65",
   "metadata": {},
   "outputs": [],
   "source": [
    "json_stream_df = string_stream_df\\\n",
    "    .withColumn(\"value\", F.from_json(\"value\", schema_inventory))"
   ]
  },
  {
   "cell_type": "code",
   "execution_count": 24,
   "id": "b9ec20b6",
   "metadata": {},
   "outputs": [
    {
     "name": "stdout",
     "output_type": "stream",
     "text": [
      "root\n",
      " |-- key: string (nullable = true)\n",
      " |-- value: struct (nullable = true)\n",
      " |    |-- body: string (nullable = true)\n",
      " |    |-- link_title: string (nullable = true)\n",
      " |    |-- name: string (nullable = true)\n",
      " |    |-- link_author: string (nullable = true)\n",
      " |    |-- ups: integer (nullable = true)\n",
      " |    |-- created: integer (nullable = true)\n",
      " |    |-- subreddit_id: string (nullable = true)\n",
      " |    |-- permalink: string (nullable = true)\n",
      " |    |-- link_url: string (nullable = true)\n",
      " |-- topic: string (nullable = true)\n",
      " |-- partition: integer (nullable = true)\n",
      " |-- offset: long (nullable = true)\n",
      " |-- timestamp: timestamp (nullable = true)\n",
      " |-- timestampType: integer (nullable = true)\n",
      "\n"
     ]
    }
   ],
   "source": [
    "json_stream_df.printSchema()"
   ]
  },
  {
   "cell_type": "code",
   "execution_count": 25,
   "id": "f15711f5",
   "metadata": {},
   "outputs": [],
   "source": [
    "json_stream = json_stream_df \\\n",
    "    .writeStream \\\n",
    "    .format(\"memory\") \\\n",
    "    .queryName(\"extract_comments\") \\\n",
    "    .start()"
   ]
  },
  {
   "cell_type": "code",
   "execution_count": 26,
   "id": "5f6f6dc5",
   "metadata": {},
   "outputs": [
    {
     "name": "stdout",
     "output_type": "stream",
     "text": [
      "+-------+--------------------+--------+---------+------+--------------------+-------------+\n",
      "|    key|               value|   topic|partition|offset|           timestamp|timestampType|\n",
      "+-------+--------------------+--------+---------+------+--------------------+-------------+\n",
      "|h14xhwj|{Honestly, some p...|comments|        0|     0|2021-06-09 10:35:...|            0|\n",
      "|h14xidi|{This was the mom...|comments|        0|     1|2021-06-09 10:35:...|            0|\n",
      "|h14xj0b|{Mate, even if th...|comments|        0|     2|2021-06-09 10:35:...|            0|\n",
      "|h14xjc7|{Hasbara, An unpu...|comments|        0|     3|2021-06-09 10:35:...|            0|\n",
      "|h14xjpu|{I share your sen...|comments|        0|     4|2021-06-09 10:35:...|            0|\n",
      "|h14xjzh|{He's got like \"o...|comments|        0|     5|2021-06-09 10:35:...|            0|\n",
      "|h14xkey|{Same guy. Differ...|comments|        0|     6|2021-06-09 10:35:...|            0|\n",
      "|h14xkfb|{Because this art...|comments|        0|     7|2021-06-09 10:35:...|            0|\n",
      "|h14xkqn|{Its always the p...|comments|        0|     8|2021-06-09 10:35:...|            0|\n",
      "|h14xkwp|{Your submission ...|comments|        0|     9|2021-06-09 10:35:...|            0|\n",
      "|h14xlb5|{>do they not des...|comments|        0|    10|2021-06-09 10:35:...|            0|\n",
      "|h14xled|{So then fucking ...|comments|        0|    11|2021-06-09 10:35:...|            0|\n",
      "|h14xlgs|{Not the same. Ca...|comments|        0|    12|2021-06-09 10:35:...|            0|\n",
      "|h14xly6|{You'd get void p...|comments|        0|    13|2021-06-09 10:35:...|            0|\n",
      "|h14xm62|{I’m literally Ja...|comments|        0|    14|2021-06-09 10:35:...|            0|\n",
      "|h14xm8o|{And the Biden ad...|comments|        0|    15|2021-06-09 10:35:...|            0|\n",
      "|h14xmcb|{I think what G30...|comments|        0|    16|2021-06-09 10:35:...|            0|\n",
      "|h14xmta|{They try to sile...|comments|        0|    17|2021-06-09 10:35:...|            0|\n",
      "|h14xmvz|{Your submission ...|comments|        0|    18|2021-06-09 10:35:...|            0|\n",
      "|h14xnao|{I was tested a f...|comments|        0|    19|2021-06-09 10:35:...|            0|\n",
      "+-------+--------------------+--------+---------+------+--------------------+-------------+\n",
      "only showing top 20 rows\n",
      "\n"
     ]
    },
    {
     "data": {
      "text/plain": [
       "None"
      ]
     },
     "metadata": {},
     "output_type": "display_data"
    }
   ],
   "source": [
    "clear_output(wait=True)\n",
    "display(spark.sql('SELECT * FROM extract_comments').show(20))\n",
    "time.sleep(1)"
   ]
  },
  {
   "cell_type": "code",
   "execution_count": 27,
   "id": "f40ba8fb",
   "metadata": {},
   "outputs": [],
   "source": [
    "json_stream.stop()"
   ]
  },
  {
   "cell_type": "code",
   "execution_count": 28,
   "id": "d3bcbd11",
   "metadata": {},
   "outputs": [],
   "source": [
    "comments_stream_df = json_stream_df \\\n",
    "    .select( \\\n",
    "        F.col(\"key\").alias(\"event_key\"), \\\n",
    "        F.col(\"topic\").alias(\"event_topic\"), \\\n",
    "        F.col(\"timestamp\").alias(\"event_timestamp\"), \\\n",
    "            \"value.body\", \\\n",
    "            \"value.link_title\", \\\n",
    "            \"value.name\", \\\n",
    "            \"value.link_author\", \\\n",
    "            \"value.ups\", \\\n",
    "            \"value.created\", \\\n",
    "            \"value.subreddit_id\", \\\n",
    "            \"value.permalink\", \\\n",
    "            \"value.link_url\"\n",
    "           )"
   ]
  },
  {
   "cell_type": "code",
   "execution_count": 29,
   "id": "38ca1771",
   "metadata": {},
   "outputs": [
    {
     "name": "stdout",
     "output_type": "stream",
     "text": [
      "root\n",
      " |-- event_key: string (nullable = true)\n",
      " |-- event_topic: string (nullable = true)\n",
      " |-- event_timestamp: timestamp (nullable = true)\n",
      " |-- body: string (nullable = true)\n",
      " |-- link_title: string (nullable = true)\n",
      " |-- name: string (nullable = true)\n",
      " |-- link_author: string (nullable = true)\n",
      " |-- ups: integer (nullable = true)\n",
      " |-- created: integer (nullable = true)\n",
      " |-- subreddit_id: string (nullable = true)\n",
      " |-- permalink: string (nullable = true)\n",
      " |-- link_url: string (nullable = true)\n",
      "\n"
     ]
    }
   ],
   "source": [
    "comments_stream_df.printSchema()"
   ]
  },
  {
   "cell_type": "code",
   "execution_count": 75,
   "id": "2edf9f3b",
   "metadata": {},
   "outputs": [],
   "source": [
    "comments_stream = comments_stream_df \\\n",
    "    .writeStream \\\n",
    "    .format(\"memory\") \\\n",
    "    .queryName(\"all_comments_view\") \\\n",
    "    .start()"
   ]
  },
  {
   "cell_type": "code",
   "execution_count": 1,
   "id": "d1a116e6",
   "metadata": {},
   "outputs": [
    {
     "ename": "NameError",
     "evalue": "name 'clear_output' is not defined",
     "output_type": "error",
     "traceback": [
      "\u001b[0;31m---------------------------------------------------------------------------\u001b[0m",
      "\u001b[0;31mNameError\u001b[0m                                 Traceback (most recent call last)",
      "\u001b[0;32m<ipython-input-1-6e54291c6022>\u001b[0m in \u001b[0;36m<module>\u001b[0;34m\u001b[0m\n\u001b[0;32m----> 1\u001b[0;31m \u001b[0mclear_output\u001b[0m\u001b[0;34m(\u001b[0m\u001b[0mwait\u001b[0m\u001b[0;34m=\u001b[0m\u001b[0;32mTrue\u001b[0m\u001b[0;34m)\u001b[0m\u001b[0;34m\u001b[0m\u001b[0;34m\u001b[0m\u001b[0m\n\u001b[0m\u001b[1;32m      2\u001b[0m \u001b[0mdisplay\u001b[0m\u001b[0;34m(\u001b[0m\u001b[0mspark\u001b[0m\u001b[0;34m.\u001b[0m\u001b[0msql\u001b[0m\u001b[0;34m(\u001b[0m\u001b[0;34m'SELECT * FROM all_comments_view ORDER BY ups desc'\u001b[0m\u001b[0;34m)\u001b[0m\u001b[0;34m.\u001b[0m\u001b[0mshow\u001b[0m\u001b[0;34m(\u001b[0m\u001b[0;36m20\u001b[0m\u001b[0;34m)\u001b[0m\u001b[0;34m)\u001b[0m\u001b[0;34m\u001b[0m\u001b[0;34m\u001b[0m\u001b[0m\n\u001b[1;32m      3\u001b[0m \u001b[0mtime\u001b[0m\u001b[0;34m.\u001b[0m\u001b[0msleep\u001b[0m\u001b[0;34m(\u001b[0m\u001b[0;36m1\u001b[0m\u001b[0;34m)\u001b[0m\u001b[0;34m\u001b[0m\u001b[0;34m\u001b[0m\u001b[0m\n",
      "\u001b[0;31mNameError\u001b[0m: name 'clear_output' is not defined"
     ]
    }
   ],
   "source": [
    "clear_output(wait=True)\n",
    "display(spark.sql('SELECT * FROM all_comments_view ORDER BY ups desc').show(20))\n",
    "time.sleep(1)"
   ]
  },
  {
   "cell_type": "code",
   "execution_count": 74,
   "id": "fb03e51e",
   "metadata": {},
   "outputs": [],
   "source": [
    "comments_stream.stop()"
   ]
  },
  {
   "cell_type": "markdown",
   "id": "50783160",
   "metadata": {},
   "source": [
    "# Watermarked stream"
   ]
  },
  {
   "cell_type": "code",
   "execution_count": 48,
   "id": "ad4dd214",
   "metadata": {},
   "outputs": [],
   "source": [
    "window_duration = '60 seconds'\n",
    "slide_duration = '10 seconds'"
   ]
  },
  {
   "cell_type": "code",
   "execution_count": 77,
   "id": "f2bd6d1d",
   "metadata": {},
   "outputs": [],
   "source": [
    "windowed_count_df = comments_stream_df \\\n",
    "    .withWatermark(\"event_timestamp\", \"1 minutes\") \\\n",
    "    .groupBy(F.window(comments_stream_df.event_timestamp, window_duration, slide_duration), comments_stream_df.link_title) \\\n",
    "    .count()"
   ]
  },
  {
   "cell_type": "code",
   "execution_count": 78,
   "id": "b10bde15",
   "metadata": {},
   "outputs": [],
   "source": [
    "count_stream = windowed_count_df \\\n",
    "    .writeStream \\\n",
    "    .format(\"memory\") \\\n",
    "    .outputMode(\"Complete\") \\\n",
    "    .queryName(\"count_view\") \\\n",
    "    .start()"
   ]
  },
  {
   "cell_type": "code",
   "execution_count": 82,
   "id": "86d901ab",
   "metadata": {},
   "outputs": [
    {
     "name": "stdout",
     "output_type": "stream",
     "text": [
      "+--------------------+--------------------+-----+\n",
      "|              window|          link_title|count|\n",
      "+--------------------+--------------------+-----+\n",
      "|{2021-06-09 10:35...|Twitter has block...|   20|\n",
      "|{2021-06-09 10:35...|Twitter has block...|   20|\n",
      "|{2021-06-09 10:35...|Twitter has block...|   20|\n",
      "|{2021-06-09 10:35...|Twitter has block...|   19|\n",
      "|{2021-06-09 10:35...|Twitter has block...|   19|\n",
      "|{2021-06-09 10:35...|Twitter has block...|   19|\n",
      "|{2021-06-09 10:35...|Uncovered atrocit...|   13|\n",
      "|{2021-06-09 13:39...|Twitter has block...|   13|\n",
      "|{2021-06-09 13:40...|Twitter has block...|   12|\n",
      "|{2021-06-09 10:35...|Uncovered atrocit...|   11|\n",
      "|{2021-06-09 12:15...|Twitter has block...|   11|\n",
      "|{2021-06-09 10:35...|Uncovered atrocit...|   11|\n",
      "|{2021-06-09 13:47...|Twitter has block...|   11|\n",
      "|{2021-06-09 10:35...|Uncovered atrocit...|   11|\n",
      "|{2021-06-09 10:35...|Uncovered atrocit...|   11|\n",
      "|{2021-06-09 12:15...|Twitter has block...|   11|\n",
      "|{2021-06-09 13:39...|Twitter has block...|   11|\n",
      "|{2021-06-09 12:06...|Twitter has block...|   10|\n",
      "|{2021-06-09 12:15...|Twitter has block...|   10|\n",
      "|{2021-06-09 10:35...|Uncovered atrocit...|   10|\n",
      "+--------------------+--------------------+-----+\n",
      "only showing top 20 rows\n",
      "\n"
     ]
    },
    {
     "data": {
      "text/plain": [
       "None"
      ]
     },
     "metadata": {},
     "output_type": "display_data"
    }
   ],
   "source": [
    "clear_output(wait=True)\n",
    "display(spark.sql('SELECT * FROM count_view order by count desc').show(20))\n",
    "time.sleep(1)"
   ]
  },
  {
   "cell_type": "code",
   "execution_count": 72,
   "id": "cfb85cf9",
   "metadata": {},
   "outputs": [],
   "source": [
    "count_stream.stop()"
   ]
  },
  {
   "cell_type": "markdown",
   "id": "5d3e8be3",
   "metadata": {},
   "source": [
    "# Sink to Parquet "
   ]
  },
  {
   "cell_type": "code",
   "execution_count": 83,
   "id": "2c5361e3",
   "metadata": {},
   "outputs": [],
   "source": [
    "comments_parquet = comments_stream_df \\\n",
    "    .writeStream \\\n",
    "    .format(\"parquet\") \\\n",
    "    .option(\"checkpointLocation\", \"path/to/checkpoint/dir\") \\\n",
    "    .option(\"path\", \"path/to/destination/dir\") \\\n",
    "    .start()"
   ]
  },
  {
   "cell_type": "code",
   "execution_count": 84,
   "id": "261c24c0",
   "metadata": {},
   "outputs": [],
   "source": [
    "comments_parquet.stop()"
   ]
  },
  {
   "cell_type": "markdown",
   "id": "2c6d5f20",
   "metadata": {},
   "source": [
    "# Wordcloud"
   ]
  },
  {
   "cell_type": "code",
   "execution_count": 52,
   "id": "4a4fc140",
   "metadata": {},
   "outputs": [],
   "source": [
    "import numpy as np\n",
    "import matplotlib.pyplot as plt\n",
    "from PIL import Image\n",
    "from wordcloud import WordCloud, STOPWORDS, ImageColorGenerator"
   ]
  },
  {
   "cell_type": "code",
   "execution_count": 85,
   "id": "87378245",
   "metadata": {},
   "outputs": [
    {
     "ename": "AttributeError",
     "evalue": "'StreamingQuery' object has no attribute 'body'",
     "output_type": "error",
     "traceback": [
      "\u001b[0;31m---------------------------------------------------------------------------\u001b[0m",
      "\u001b[0;31mAttributeError\u001b[0m                            Traceback (most recent call last)",
      "\u001b[0;32m<ipython-input-85-e9dc38093f0d>\u001b[0m in \u001b[0;36m<module>\u001b[0;34m\u001b[0m\n\u001b[0;32m----> 1\u001b[0;31m \u001b[0mcomments_body\u001b[0m \u001b[0;34m=\u001b[0m \u001b[0mcomments_stream\u001b[0m\u001b[0;34m.\u001b[0m\u001b[0mbody\u001b[0m\u001b[0;34m\u001b[0m\u001b[0;34m\u001b[0m\u001b[0m\n\u001b[0m\u001b[1;32m      2\u001b[0m \u001b[0mplt\u001b[0m\u001b[0;34m.\u001b[0m\u001b[0mfigure\u001b[0m\u001b[0;34m(\u001b[0m\u001b[0mfigsize\u001b[0m\u001b[0;34m=\u001b[0m\u001b[0;34m(\u001b[0m\u001b[0;36m20\u001b[0m\u001b[0;34m,\u001b[0m\u001b[0;36m9\u001b[0m\u001b[0;34m)\u001b[0m\u001b[0;34m)\u001b[0m\u001b[0;34m\u001b[0m\u001b[0;34m\u001b[0m\u001b[0m\n\u001b[1;32m      3\u001b[0m wordcloud = WordCloud(max_font_size=50, max_words=1000,\n\u001b[1;32m      4\u001b[0m                       background_color=\"white\").generate(comments_stream)\n\u001b[1;32m      5\u001b[0m \u001b[0mplt\u001b[0m\u001b[0;34m.\u001b[0m\u001b[0mimshow\u001b[0m\u001b[0;34m(\u001b[0m\u001b[0mwordcloud\u001b[0m\u001b[0;34m,\u001b[0m \u001b[0minterpolation\u001b[0m\u001b[0;34m=\u001b[0m\u001b[0;34m\"bilinear\"\u001b[0m\u001b[0;34m)\u001b[0m\u001b[0;34m\u001b[0m\u001b[0;34m\u001b[0m\u001b[0m\n",
      "\u001b[0;31mAttributeError\u001b[0m: 'StreamingQuery' object has no attribute 'body'"
     ]
    }
   ],
   "source": [
    "plt.figure(figsize=(20,9))\n",
    "wordcloud = WordCloud(max_font_size=50, max_words=1000,\n",
    "                      background_color=\"white\").generate(comments_stream)\n",
    "plt.imshow(wordcloud, interpolation=\"bilinear\")\n",
    "plt.axis(\"off\")"
   ]
  },
  {
   "cell_type": "code",
   "execution_count": null,
   "id": "2edf1505",
   "metadata": {},
   "outputs": [],
   "source": []
  }
 ],
 "metadata": {
  "kernelspec": {
   "display_name": "Python 3",
   "language": "python",
   "name": "python3"
  },
  "language_info": {
   "codemirror_mode": {
    "name": "ipython",
    "version": 3
   },
   "file_extension": ".py",
   "mimetype": "text/x-python",
   "name": "python",
   "nbconvert_exporter": "python",
   "pygments_lexer": "ipython3",
   "version": "3.8.8"
  }
 },
 "nbformat": 4,
 "nbformat_minor": 5
}
