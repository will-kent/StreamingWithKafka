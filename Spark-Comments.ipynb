{
 "cells": [
  {
   "cell_type": "code",
   "execution_count": 1,
   "id": "ab5137ac",
   "metadata": {},
   "outputs": [],
   "source": [
    "from pyspark.sql import SparkSession"
   ]
  },
  {
   "cell_type": "code",
   "execution_count": 2,
   "id": "d041a48c",
   "metadata": {},
   "outputs": [],
   "source": [
    "spark = SparkSession.builder \\\n",
    "        .appName('kafka') \\\n",
    "        .getOrCreate()"
   ]
  },
  {
   "cell_type": "code",
   "execution_count": 3,
   "id": "aa2b8893",
   "metadata": {},
   "outputs": [
    {
     "data": {
      "text/plain": [
       "'3.1.1'"
      ]
     },
     "execution_count": 3,
     "metadata": {},
     "output_type": "execute_result"
    }
   ],
   "source": [
    "spark.version"
   ]
  },
  {
   "cell_type": "code",
   "execution_count": 4,
   "id": "ee56d828",
   "metadata": {},
   "outputs": [
    {
     "data": {
      "text/plain": [
       "'3.2.0'"
      ]
     },
     "execution_count": 4,
     "metadata": {},
     "output_type": "execute_result"
    }
   ],
   "source": [
    "spark._jvm.org.apache.hadoop.util.VersionInfo.getVersion()"
   ]
  },
  {
   "cell_type": "code",
   "execution_count": 5,
   "id": "a34b7772",
   "metadata": {},
   "outputs": [],
   "source": [
    "import configparser\n",
    "import praw\n",
    "from confluent_kafka import Producer\n",
    "import socket\n",
    "import json"
   ]
  },
  {
   "cell_type": "code",
   "execution_count": 6,
   "id": "5824a15d",
   "metadata": {},
   "outputs": [],
   "source": [
    "df = spark \\\n",
    "  .readStream \\\n",
    "  .format(\"kafka\") \\\n",
    "  .option(\"kafka.bootstrap.servers\", \"broker:29092\") \\\n",
    "  .option(\"startingOffsets\", \"earliest\") \\\n",
    "  .option(\"subscribe\", \"comments\") \\\n",
    "  .load()"
   ]
  },
  {
   "cell_type": "code",
   "execution_count": 7,
   "id": "b39033a7",
   "metadata": {},
   "outputs": [
    {
     "name": "stdout",
     "output_type": "stream",
     "text": [
      "root\n",
      " |-- key: binary (nullable = true)\n",
      " |-- value: binary (nullable = true)\n",
      " |-- topic: string (nullable = true)\n",
      " |-- partition: integer (nullable = true)\n",
      " |-- offset: long (nullable = true)\n",
      " |-- timestamp: timestamp (nullable = true)\n",
      " |-- timestampType: integer (nullable = true)\n",
      "\n"
     ]
    }
   ],
   "source": [
    "df.printSchema()"
   ]
  },
  {
   "cell_type": "code",
   "execution_count": 8,
   "id": "f24ee906",
   "metadata": {},
   "outputs": [],
   "source": [
    "from IPython.display import display, clear_output\n",
    "import time"
   ]
  },
  {
   "cell_type": "code",
   "execution_count": 9,
   "id": "64bcd090",
   "metadata": {},
   "outputs": [],
   "source": [
    "clear_output(wait=True)"
   ]
  },
  {
   "cell_type": "code",
   "execution_count": 10,
   "id": "f03eafd6",
   "metadata": {},
   "outputs": [],
   "source": [
    "raw_stream = df \\\n",
    "    .writeStream \\\n",
    "    .format(\"memory\") \\\n",
    "    .queryName(\"comment_view\") \\\n",
    "    .start()"
   ]
  },
  {
   "cell_type": "code",
   "execution_count": 11,
   "id": "efd2c4d7",
   "metadata": {},
   "outputs": [
    {
     "name": "stdout",
     "output_type": "stream",
     "text": [
      "+---+-----+-----+---------+------+---------+-------------+\n",
      "|key|value|topic|partition|offset|timestamp|timestampType|\n",
      "+---+-----+-----+---------+------+---------+-------------+\n",
      "+---+-----+-----+---------+------+---------+-------------+\n",
      "\n"
     ]
    },
    {
     "data": {
      "text/plain": [
       "None"
      ]
     },
     "metadata": {},
     "output_type": "display_data"
    }
   ],
   "source": [
    "display(spark.sql('SELECT * FROM comment_view').show(20))"
   ]
  },
  {
   "cell_type": "code",
   "execution_count": 12,
   "id": "48b41ba5",
   "metadata": {},
   "outputs": [],
   "source": [
    "time.sleep(1)"
   ]
  },
  {
   "cell_type": "code",
   "execution_count": 42,
   "id": "78a970c4",
   "metadata": {},
   "outputs": [
    {
     "name": "stdout",
     "output_type": "stream",
     "text": [
      "+--------------------+--------------------+--------+---------+------+--------------------+-------------+\n",
      "|                 key|               value|   topic|partition|offset|           timestamp|timestampType|\n",
      "+--------------------+--------------------+--------+---------+------+--------------------+-------------+\n",
      "|[68 31 64 69 34 3...|[7B 22 69 64 22 3...|comments|        0|     0|2021-06-11 06:28:...|            0|\n",
      "|[68 31 64 69 34 3...|[7B 22 69 64 22 3...|comments|        0|     1|2021-06-11 06:28:...|            0|\n",
      "|[68 31 64 69 34 6...|[7B 22 69 64 22 3...|comments|        0|     2|2021-06-11 06:28:...|            0|\n",
      "|[68 31 64 69 34 7...|[7B 22 69 64 22 3...|comments|        0|     3|2021-06-11 06:28:...|            0|\n",
      "|[68 31 64 69 34 7...|[7B 22 69 64 22 3...|comments|        0|     4|2021-06-11 06:28:...|            0|\n",
      "|[68 31 64 69 35 3...|[7B 22 69 64 22 3...|comments|        0|     5|2021-06-11 06:28:...|            0|\n",
      "|[68 31 64 69 35 3...|[7B 22 69 64 22 3...|comments|        0|     6|2021-06-11 06:28:...|            0|\n",
      "|[68 31 64 69 35 3...|[7B 22 69 64 22 3...|comments|        0|     7|2021-06-11 06:28:...|            0|\n",
      "|[68 31 64 69 35 3...|[7B 22 69 64 22 3...|comments|        0|     8|2021-06-11 06:28:...|            0|\n",
      "|[68 31 64 69 35 6...|[7B 22 69 64 22 3...|comments|        0|     9|2021-06-11 06:28:...|            0|\n",
      "|[68 31 64 69 35 6...|[7B 22 69 64 22 3...|comments|        0|    10|2021-06-11 06:28:...|            0|\n",
      "|[68 31 64 69 35 6...|[7B 22 69 64 22 3...|comments|        0|    11|2021-06-11 06:28:...|            0|\n",
      "|[68 31 64 69 35 6...|[7B 22 69 64 22 3...|comments|        0|    12|2021-06-11 06:28:...|            0|\n",
      "|[68 31 64 69 35 6...|[7B 22 69 64 22 3...|comments|        0|    13|2021-06-11 06:28:...|            0|\n",
      "|[68 31 64 69 35 6...|[7B 22 69 64 22 3...|comments|        0|    14|2021-06-11 06:28:...|            0|\n",
      "|[68 31 64 69 35 6...|[7B 22 69 64 22 3...|comments|        0|    15|2021-06-11 06:28:...|            0|\n",
      "|[68 31 64 69 35 6...|[7B 22 69 64 22 3...|comments|        0|    16|2021-06-11 06:28:...|            0|\n",
      "|[68 31 64 69 35 7...|[7B 22 69 64 22 3...|comments|        0|    17|2021-06-11 06:28:...|            0|\n",
      "|[68 31 64 69 36 3...|[7B 22 69 64 22 3...|comments|        0|    18|2021-06-11 06:28:...|            0|\n",
      "|[68 31 64 69 36 6...|[7B 22 69 64 22 3...|comments|        0|    19|2021-06-11 06:28:...|            0|\n",
      "+--------------------+--------------------+--------+---------+------+--------------------+-------------+\n",
      "only showing top 20 rows\n",
      "\n"
     ]
    },
    {
     "data": {
      "text/plain": [
       "None"
      ]
     },
     "metadata": {},
     "output_type": "display_data"
    }
   ],
   "source": [
    "clear_output(wait=True)\n",
    "display(spark.sql('SELECT * FROM comment_view').show(20))\n",
    "time.sleep(1)"
   ]
  },
  {
   "cell_type": "code",
   "execution_count": 14,
   "id": "286931b4",
   "metadata": {},
   "outputs": [],
   "source": [
    "raw_stream.stop()"
   ]
  },
  {
   "cell_type": "code",
   "execution_count": 15,
   "id": "49b6740f",
   "metadata": {},
   "outputs": [],
   "source": [
    "from pyspark.sql.types import StringType"
   ]
  },
  {
   "cell_type": "code",
   "execution_count": 45,
   "id": "4a49fcbf",
   "metadata": {},
   "outputs": [],
   "source": [
    "string_stream_df = df \\\n",
    "    .withColumn(\"key\", df[\"key\"].cast(StringType())) \\\n",
    "    .withColumn(\"value\", df[\"value\"].cast(StringType()))"
   ]
  },
  {
   "cell_type": "code",
   "execution_count": 46,
   "id": "c396648c",
   "metadata": {},
   "outputs": [
    {
     "name": "stdout",
     "output_type": "stream",
     "text": [
      "root\n",
      " |-- key: string (nullable = true)\n",
      " |-- value: string (nullable = true)\n",
      " |-- topic: string (nullable = true)\n",
      " |-- partition: integer (nullable = true)\n",
      " |-- offset: long (nullable = true)\n",
      " |-- timestamp: timestamp (nullable = true)\n",
      " |-- timestampType: integer (nullable = true)\n",
      "\n"
     ]
    }
   ],
   "source": [
    "string_stream_df.printSchema()"
   ]
  },
  {
   "cell_type": "code",
   "execution_count": 47,
   "id": "852bf55e",
   "metadata": {},
   "outputs": [
    {
     "ename": "IllegalArgumentException",
     "evalue": "Cannot start query with name string_comments_view as a query with that name is already active in this SparkSession",
     "output_type": "error",
     "traceback": [
      "\u001b[0;31m---------------------------------------------------------------------------\u001b[0m",
      "\u001b[0;31mIllegalArgumentException\u001b[0m                  Traceback (most recent call last)",
      "\u001b[0;32m<ipython-input-47-d64eed7eafff>\u001b[0m in \u001b[0;36m<module>\u001b[0;34m\u001b[0m\n\u001b[0;32m----> 1\u001b[0;31m \u001b[0mstring_stream\u001b[0m \u001b[0;34m=\u001b[0m \u001b[0mstring_stream_df\u001b[0m\u001b[0;31m \u001b[0m\u001b[0;31m\\\u001b[0m\u001b[0;34m\u001b[0m\u001b[0;34m\u001b[0m\u001b[0m\n\u001b[0m\u001b[1;32m      2\u001b[0m     \u001b[0;34m.\u001b[0m\u001b[0mwriteStream\u001b[0m\u001b[0;31m \u001b[0m\u001b[0;31m\\\u001b[0m\u001b[0;34m\u001b[0m\u001b[0;34m\u001b[0m\u001b[0m\n\u001b[1;32m      3\u001b[0m     \u001b[0;34m.\u001b[0m\u001b[0mformat\u001b[0m\u001b[0;34m(\u001b[0m\u001b[0;34m\"memory\"\u001b[0m\u001b[0;34m)\u001b[0m\u001b[0;31m \u001b[0m\u001b[0;31m\\\u001b[0m\u001b[0;34m\u001b[0m\u001b[0;34m\u001b[0m\u001b[0m\n\u001b[1;32m      4\u001b[0m     \u001b[0;34m.\u001b[0m\u001b[0mqueryName\u001b[0m\u001b[0;34m(\u001b[0m\u001b[0;34m\"string_comments_view\"\u001b[0m\u001b[0;34m)\u001b[0m\u001b[0;31m \u001b[0m\u001b[0;31m\\\u001b[0m\u001b[0;34m\u001b[0m\u001b[0;34m\u001b[0m\u001b[0m\n\u001b[1;32m      5\u001b[0m     \u001b[0;34m.\u001b[0m\u001b[0mstart\u001b[0m\u001b[0;34m(\u001b[0m\u001b[0;34m)\u001b[0m\u001b[0;34m\u001b[0m\u001b[0;34m\u001b[0m\u001b[0m\n",
      "\u001b[0;32m/usr/local/spark/python/pyspark/sql/streaming.py\u001b[0m in \u001b[0;36mstart\u001b[0;34m(self, path, format, outputMode, partitionBy, queryName, **options)\u001b[0m\n\u001b[1;32m   1489\u001b[0m             \u001b[0mself\u001b[0m\u001b[0;34m.\u001b[0m\u001b[0mqueryName\u001b[0m\u001b[0;34m(\u001b[0m\u001b[0mqueryName\u001b[0m\u001b[0;34m)\u001b[0m\u001b[0;34m\u001b[0m\u001b[0;34m\u001b[0m\u001b[0m\n\u001b[1;32m   1490\u001b[0m         \u001b[0;32mif\u001b[0m \u001b[0mpath\u001b[0m \u001b[0;32mis\u001b[0m \u001b[0;32mNone\u001b[0m\u001b[0;34m:\u001b[0m\u001b[0;34m\u001b[0m\u001b[0;34m\u001b[0m\u001b[0m\n\u001b[0;32m-> 1491\u001b[0;31m             \u001b[0;32mreturn\u001b[0m \u001b[0mself\u001b[0m\u001b[0;34m.\u001b[0m\u001b[0m_sq\u001b[0m\u001b[0;34m(\u001b[0m\u001b[0mself\u001b[0m\u001b[0;34m.\u001b[0m\u001b[0m_jwrite\u001b[0m\u001b[0;34m.\u001b[0m\u001b[0mstart\u001b[0m\u001b[0;34m(\u001b[0m\u001b[0;34m)\u001b[0m\u001b[0;34m)\u001b[0m\u001b[0;34m\u001b[0m\u001b[0;34m\u001b[0m\u001b[0m\n\u001b[0m\u001b[1;32m   1492\u001b[0m         \u001b[0;32melse\u001b[0m\u001b[0;34m:\u001b[0m\u001b[0;34m\u001b[0m\u001b[0;34m\u001b[0m\u001b[0m\n\u001b[1;32m   1493\u001b[0m             \u001b[0;32mreturn\u001b[0m \u001b[0mself\u001b[0m\u001b[0;34m.\u001b[0m\u001b[0m_sq\u001b[0m\u001b[0;34m(\u001b[0m\u001b[0mself\u001b[0m\u001b[0;34m.\u001b[0m\u001b[0m_jwrite\u001b[0m\u001b[0;34m.\u001b[0m\u001b[0mstart\u001b[0m\u001b[0;34m(\u001b[0m\u001b[0mpath\u001b[0m\u001b[0;34m)\u001b[0m\u001b[0;34m)\u001b[0m\u001b[0;34m\u001b[0m\u001b[0;34m\u001b[0m\u001b[0m\n",
      "\u001b[0;32m/usr/local/spark/python/lib/py4j-0.10.9-src.zip/py4j/java_gateway.py\u001b[0m in \u001b[0;36m__call__\u001b[0;34m(self, *args)\u001b[0m\n\u001b[1;32m   1302\u001b[0m \u001b[0;34m\u001b[0m\u001b[0m\n\u001b[1;32m   1303\u001b[0m         \u001b[0manswer\u001b[0m \u001b[0;34m=\u001b[0m \u001b[0mself\u001b[0m\u001b[0;34m.\u001b[0m\u001b[0mgateway_client\u001b[0m\u001b[0;34m.\u001b[0m\u001b[0msend_command\u001b[0m\u001b[0;34m(\u001b[0m\u001b[0mcommand\u001b[0m\u001b[0;34m)\u001b[0m\u001b[0;34m\u001b[0m\u001b[0;34m\u001b[0m\u001b[0m\n\u001b[0;32m-> 1304\u001b[0;31m         return_value = get_return_value(\n\u001b[0m\u001b[1;32m   1305\u001b[0m             answer, self.gateway_client, self.target_id, self.name)\n\u001b[1;32m   1306\u001b[0m \u001b[0;34m\u001b[0m\u001b[0m\n",
      "\u001b[0;32m/usr/local/spark/python/pyspark/sql/utils.py\u001b[0m in \u001b[0;36mdeco\u001b[0;34m(*a, **kw)\u001b[0m\n\u001b[1;32m    115\u001b[0m                 \u001b[0;31m# Hide where the exception came from that shows a non-Pythonic\u001b[0m\u001b[0;34m\u001b[0m\u001b[0;34m\u001b[0m\u001b[0;34m\u001b[0m\u001b[0m\n\u001b[1;32m    116\u001b[0m                 \u001b[0;31m# JVM exception message.\u001b[0m\u001b[0;34m\u001b[0m\u001b[0;34m\u001b[0m\u001b[0;34m\u001b[0m\u001b[0m\n\u001b[0;32m--> 117\u001b[0;31m                 \u001b[0;32mraise\u001b[0m \u001b[0mconverted\u001b[0m \u001b[0;32mfrom\u001b[0m \u001b[0;32mNone\u001b[0m\u001b[0;34m\u001b[0m\u001b[0;34m\u001b[0m\u001b[0m\n\u001b[0m\u001b[1;32m    118\u001b[0m             \u001b[0;32melse\u001b[0m\u001b[0;34m:\u001b[0m\u001b[0;34m\u001b[0m\u001b[0;34m\u001b[0m\u001b[0m\n\u001b[1;32m    119\u001b[0m                 \u001b[0;32mraise\u001b[0m\u001b[0;34m\u001b[0m\u001b[0;34m\u001b[0m\u001b[0m\n",
      "\u001b[0;31mIllegalArgumentException\u001b[0m: Cannot start query with name string_comments_view as a query with that name is already active in this SparkSession"
     ]
    }
   ],
   "source": [
    "string_stream = string_stream_df \\\n",
    "    .writeStream \\\n",
    "    .format(\"memory\") \\\n",
    "    .queryName(\"string_comments_view\") \\\n",
    "    .start()"
   ]
  },
  {
   "cell_type": "code",
   "execution_count": 48,
   "id": "450b945e",
   "metadata": {},
   "outputs": [
    {
     "name": "stdout",
     "output_type": "stream",
     "text": [
      "+--------------------------------------------------------------------------------------------------------------------------------------------------------------------------------------------------------------------------------------------------------------------------------------------------------------------------------------------------------------------------------------------------------------------------------------------------------------------------------------------------------------------------------------------------------------------------------------------------------------------------------------------------------------------------------------------------------------------------------------------------------------------------------------------------------------------------------------------------------------------------------------------------------------------------------------------------------------------------------------------------------------------------------------------------------------------------------------------------------------------------------------------------------------------------------------------------------------------------------------------------------------------------------------------------------------------------------------------------------------------------------------------------------------------------------------------------------------------------------------------------------------------------------------------------------------------------------------------------------------------------------------------------------------------------------------------------------------------------------------------------------------------------------------------------------------------------------------------------------------------------------------------------------------------------------------------------------------------------------------------------------------------------------------------------------------------------------------------------------------------------------------------------------------------------------------------------------------------------------------------------------------------------------------------------------------------------------------------------------------------------------------------------------------------------------------------------------------------------------------------------------------------------------------------------------------------------------------------------------------------------------------------------------------------------------------------------------------------------------------------------------------------------------------------------------------------------------------------------------------------------------------------------------------------------------------------------------------------------------------------------------------------------------------------------------------------------------------------------------------------------------------------------------------------------------------------------------------------------------------------------------------------------------------------------------------------------------------------------------------+\n",
      "|value                                                                                                                                                                                                                                                                                                                                                                                                                                                                                                                                                                                                                                                                                                                                                                                                                                                                                                                                                                                                                                                                                                                                                                                                                                                                                                                                                                                                                                                                                                                                                                                                                                                                                                                                                                                                                                                                                                                                                                                                                                                                                                                                                                                                                                                                                                                                                                                                                                                                                                                                                                                                                                                                                                                                                                                                                                                                                                                                                                                                                                                                                                                                                                                                                                                                                                                                                         |\n",
      "+--------------------------------------------------------------------------------------------------------------------------------------------------------------------------------------------------------------------------------------------------------------------------------------------------------------------------------------------------------------------------------------------------------------------------------------------------------------------------------------------------------------------------------------------------------------------------------------------------------------------------------------------------------------------------------------------------------------------------------------------------------------------------------------------------------------------------------------------------------------------------------------------------------------------------------------------------------------------------------------------------------------------------------------------------------------------------------------------------------------------------------------------------------------------------------------------------------------------------------------------------------------------------------------------------------------------------------------------------------------------------------------------------------------------------------------------------------------------------------------------------------------------------------------------------------------------------------------------------------------------------------------------------------------------------------------------------------------------------------------------------------------------------------------------------------------------------------------------------------------------------------------------------------------------------------------------------------------------------------------------------------------------------------------------------------------------------------------------------------------------------------------------------------------------------------------------------------------------------------------------------------------------------------------------------------------------------------------------------------------------------------------------------------------------------------------------------------------------------------------------------------------------------------------------------------------------------------------------------------------------------------------------------------------------------------------------------------------------------------------------------------------------------------------------------------------------------------------------------------------------------------------------------------------------------------------------------------------------------------------------------------------------------------------------------------------------------------------------------------------------------------------------------------------------------------------------------------------------------------------------------------------------------------------------------------------------------------------------------------------+\n",
      "|{\"id\": \"h1di451\", \"subreddit_id\": \"t5_2qh13\", \"body\": \"That's literally what I said in my first two sentences, what do you mean?\", \"link_id\": \"t3_nx3s1y\", \"link_title\": \"Australian swimmer Madeline Groves withdraws from Olympic trials, cites 'misogynistic perverts, boot lickers'\", \"name\": \"t1_h1di451\", \"permalink\": \"/r/worldnews/comments/nx3s1y/australian_swimmer_madeline_groves_withdraws_from/h1di451/\", \"link_permalink\": \"https://www.reddit.com/r/worldnews/comments/nx3s1y/australian_swimmer_madeline_groves_withdraws_from/\", \"link_author\": \"stoolsample2\", \"link_url\": \"https://www.yahoo.com/sports/aussie-swimmer-madeline-groves-withdraws-from-olympic-trials-cites-misogynistic-perverts-boot-lickers-200139025.html\", \"is_submitter\": false, \"created\": 1623421432.0, \"ups\": 1}                                                                                                                                                                                                                                                                                                                                                                                                                                                                                                                                                                                                                                                                                                                                                                                                                                                                                                                                                                                                                                                                                                                                                                                                                                                                                                                                                                                                                                                                                                                                                                                                                                                                                                                                                                                                                                                                                                                                                                                                                                                                                                                                                                                                                                                                                                                                                                                                                                                                                                                                                  |\n",
      "|{\"id\": \"h1di49r\", \"subreddit_id\": \"t5_2qh13\", \"body\": \"I mean no\\nOne , at least us alive, will fully know the nature of the mans demise... but one thing is for certain...\\nSomething happened,\\nSomething was hidden, for what??? Who knows..:\\nHe was\\nTalking about us treasury and gold not being real standard... how we borrowed from\\nOutside sources...\\nSole\\nDeep shit\", \"link_id\": \"t3_nwxwyl\", \"link_title\": \"Russia officially declares Alexey Navalny's movement, the biggest opposition force, an \\\"extremist\\\" group\", \"name\": \"t1_h1di49r\", \"permalink\": \"/r/worldnews/comments/nwxwyl/russia_officially_declares_alexey_navalnys/h1di49r/\", \"link_permalink\": \"https://www.reddit.com/r/worldnews/comments/nwxwyl/russia_officially_declares_alexey_navalnys/\", \"link_author\": \"Andishen\", \"link_url\": \"https://www.cbsnews.com/news/russia-alexei-navalny-opposition-foundation-extremist-vladimir-putin/\", \"is_submitter\": false, \"created\": 1623421435.0, \"ups\": 1}                                                                                                                                                                                                                                                                                                                                                                                                                                                                                                                                                                                                                                                                                                                                                                                                                                                                                                                                                                                                                                                                                                                                                                                                                                                                                                                                                                                                                                                                                                                                                                                                                                                                                                                                                                                                                                                                                                                                                                                                                                                                                                                                                                                                                                                                                                                                                                     |\n",
      "|{\"id\": \"h1di4ee\", \"subreddit_id\": \"t5_2qh13\", \"body\": \"Napoleon has that impact on people \\ud83e\\udd37\\u200d\\u2642\\ufe0f\", \"link_id\": \"t3_mekqt8\", \"link_title\": \"British expats 'in tears' as Spain to deport 500 for failing to register for residency under post-Brexit regulations. By March 31 they will be deemed as illegal immigrants.\", \"name\": \"t1_h1di4ee\", \"permalink\": \"/r/worldnews/comments/mekqt8/british_expats_in_tears_as_spain_to_deport_500/h1di4ee/\", \"link_permalink\": \"https://www.reddit.com/r/worldnews/comments/mekqt8/british_expats_in_tears_as_spain_to_deport_500/\", \"link_author\": \"green_flash\", \"link_url\": \"https://www.express.co.uk/news/politics/1415577/Brexit-news-latest-eu-vaccine-block-astrazeneca-uk-john-redwood-boris-johnson\", \"is_submitter\": false, \"created\": 1623421437.0, \"ups\": 1}                                                                                                                                                                                                                                                                                                                                                                                                                                                                                                                                                                                                                                                                                                                                                                                                                                                                                                                                                                                                                                                                                                                                                                                                                                                                                                                                                                                                                                                                                                                                                                                                                                                                                                                                                                                                                                                                                                                                                                                                                                                                                                                                                                                                                                                                                                                                                                                                                                                                                                                      |\n",
      "|{\"id\": \"h1di4pf\", \"subreddit_id\": \"t5_2qh13\", \"body\": \"I think \\\"self medicating\\\" is my new favorite euphemism.\", \"link_id\": \"t3_nx3s1y\", \"link_title\": \"Australian swimmer Madeline Groves withdraws from Olympic trials, cites 'misogynistic perverts, boot lickers'\", \"name\": \"t1_h1di4pf\", \"permalink\": \"/r/worldnews/comments/nx3s1y/australian_swimmer_madeline_groves_withdraws_from/h1di4pf/\", \"link_permalink\": \"https://www.reddit.com/r/worldnews/comments/nx3s1y/australian_swimmer_madeline_groves_withdraws_from/\", \"link_author\": \"stoolsample2\", \"link_url\": \"https://www.yahoo.com/sports/aussie-swimmer-madeline-groves-withdraws-from-olympic-trials-cites-misogynistic-perverts-boot-lickers-200139025.html\", \"is_submitter\": false, \"created\": 1623421445.0, \"ups\": 1}                                                                                                                                                                                                                                                                                                                                                                                                                                                                                                                                                                                                                                                                                                                                                                                                                                                                                                                                                                                                                                                                                                                                                                                                                                                                                                                                                                                                                                                                                                                                                                                                                                                                                                                                                                                                                                                                                                                                                                                                                                                                                                                                                                                                                                                                                                                                                                                                                                                                                                                                                                  |\n",
      "|{\"id\": \"h1di4qs\", \"subreddit_id\": \"t5_2qh13\", \"body\": \"That would certainly have me hysterical\", \"link_id\": \"t3_nx3s1y\", \"link_title\": \"Australian swimmer Madeline Groves withdraws from Olympic trials, cites 'misogynistic perverts, boot lickers'\", \"name\": \"t1_h1di4qs\", \"permalink\": \"/r/worldnews/comments/nx3s1y/australian_swimmer_madeline_groves_withdraws_from/h1di4qs/\", \"link_permalink\": \"https://www.reddit.com/r/worldnews/comments/nx3s1y/australian_swimmer_madeline_groves_withdraws_from/\", \"link_author\": \"stoolsample2\", \"link_url\": \"https://www.yahoo.com/sports/aussie-swimmer-madeline-groves-withdraws-from-olympic-trials-cites-misogynistic-perverts-boot-lickers-200139025.html\", \"is_submitter\": false, \"created\": 1623421446.0, \"ups\": 1}                                                                                                                                                                                                                                                                                                                                                                                                                                                                                                                                                                                                                                                                                                                                                                                                                                                                                                                                                                                                                                                                                                                                                                                                                                                                                                                                                                                                                                                                                                                                                                                                                                                                                                                                                                                                                                                                                                                                                                                                                                                                                                                                                                                                                                                                                                                                                                                                                                                                                                                                                                                    |\n",
      "|{\"id\": \"h1di53y\", \"subreddit_id\": \"t5_2qh13\", \"body\": \"lmao only on reddit will you find people nonironically trying to compare and equate women\\u2019s rights in the US to a fucking theocratic islamic monarchy where women weren\\u2019t even allowed to live alone without a male guardian until 2021 LMAO\\n\\nwomen in the US, along with all other western countries, are literally equal and live under the most free conditions women have ever lived in the history of civilization. but yet we have goofy people trying to make comparisons to backwards nations that are just now beginning to allow women to drive and *live* alone without a male master\\u2014 i mean guardian.\\n\\nis your post a joke lmao? you cannot be serious rofl\", \"link_id\": \"t3_nx52j4\", \"link_title\": \"Saudi Arabia introduces a landmark legal amendment to allow single, divorced, or widowed women to live alone without permission from a male guardian\", \"name\": \"t1_h1di53y\", \"permalink\": \"/r/worldnews/comments/nx52j4/saudi_arabia_introduces_a_landmark_legal/h1di53y/\", \"link_permalink\": \"https://www.reddit.com/r/worldnews/comments/nx52j4/saudi_arabia_introduces_a_landmark_legal/\", \"link_author\": \"ajwadsabano\", \"link_url\": \"https://gulfnews.com/world/gulf/saudi/saudi-women-allowed-to-live-alone-without-permission-from-male-guardian-1.79787003?fbclid=IwAR2p4LVMW2HR8eQx_fPp_8thbBF4VtPkOig-Yl52rH3caJAhrJ8LiTrW7kc\", \"is_submitter\": false, \"created\": 1623421453.0, \"ups\": 1}                                                                                                                                                                                                                                                                                                                                                                                                                                                                                                                                                                                                                                                                                                                                                                                                                                                                                                                                                                                                                                                                                                                                                                                                                                                                                                                                                                                                                                                                                                                                                                                                                                                                                                                                                                                                                                                                |\n",
      "|{\"id\": \"h1di542\", \"subreddit_id\": \"t5_2qh13\", \"body\": \"Weren't we talking about the present?\", \"link_id\": \"t3_nwouit\", \"link_title\": \"Allies believe the U.S. is \\\"No longer a good model of democracy,\\\" poll shows\", \"name\": \"t1_h1di542\", \"permalink\": \"/r/worldnews/comments/nwouit/allies_believe_the_us_is_no_longer_a_good_model/h1di542/\", \"link_permalink\": \"https://www.reddit.com/r/worldnews/comments/nwouit/allies_believe_the_us_is_no_longer_a_good_model/\", \"link_author\": \"ShaolinTom\", \"link_url\": \"https://www.newsweek.com/allies-believe-us-no-longer-good-model-democracy-poll-shows-1599048\", \"is_submitter\": false, \"created\": 1623421453.0, \"ups\": 1}                                                                                                                                                                                                                                                                                                                                                                                                                                                                                                                                                                                                                                                                                                                                                                                                                                                                                                                                                                                                                                                                                                                                                                                                                                                                                                                                                                                                                                                                                                                                                                                                                                                                                                                                                                                                                                                                                                                                                                                                                                                                                                                                                                                                                                                                                                                                                                                                                                                                                                                                                                                                                                                                                |\n",
      "|{\"id\": \"h1di54f\", \"subreddit_id\": \"t5_2qh13\", \"body\": \"Tldr?\", \"link_id\": \"t3_nx3s1y\", \"link_title\": \"Australian swimmer Madeline Groves withdraws from Olympic trials, cites 'misogynistic perverts, boot lickers'\", \"name\": \"t1_h1di54f\", \"permalink\": \"/r/worldnews/comments/nx3s1y/australian_swimmer_madeline_groves_withdraws_from/h1di54f/\", \"link_permalink\": \"https://www.reddit.com/r/worldnews/comments/nx3s1y/australian_swimmer_madeline_groves_withdraws_from/\", \"link_author\": \"stoolsample2\", \"link_url\": \"https://www.yahoo.com/sports/aussie-swimmer-madeline-groves-withdraws-from-olympic-trials-cites-misogynistic-perverts-boot-lickers-200139025.html\", \"is_submitter\": false, \"created\": 1623421454.0, \"ups\": 1}                                                                                                                                                                                                                                                                                                                                                                                                                                                                                                                                                                                                                                                                                                                                                                                                                                                                                                                                                                                                                                                                                                                                                                                                                                                                                                                                                                                                                                                                                                                                                                                                                                                                                                                                                                                                                                                                                                                                                                                                                                                                                                                                                                                                                                                                                                                                                                                                                                                                                                                                                                                                                      |\n",
      "|{\"id\": \"h1di54y\", \"subreddit_id\": \"t5_2qh13\", \"body\": \"If it's a legitimate injury, the body has a way of taking care of it\", \"link_id\": \"t3_nx3s1y\", \"link_title\": \"Australian swimmer Madeline Groves withdraws from Olympic trials, cites 'misogynistic perverts, boot lickers'\", \"name\": \"t1_h1di54y\", \"permalink\": \"/r/worldnews/comments/nx3s1y/australian_swimmer_madeline_groves_withdraws_from/h1di54y/\", \"link_permalink\": \"https://www.reddit.com/r/worldnews/comments/nx3s1y/australian_swimmer_madeline_groves_withdraws_from/\", \"link_author\": \"stoolsample2\", \"link_url\": \"https://www.yahoo.com/sports/aussie-swimmer-madeline-groves-withdraws-from-olympic-trials-cites-misogynistic-perverts-boot-lickers-200139025.html\", \"is_submitter\": false, \"created\": 1623421454.0, \"ups\": 1}                                                                                                                                                                                                                                                                                                                                                                                                                                                                                                                                                                                                                                                                                                                                                                                                                                                                                                                                                                                                                                                                                                                                                                                                                                                                                                                                                                                                                                                                                                                                                                                                                                                                                                                                                                                                                                                                                                                                                                                                                                                                                                                                                                                                                                                                                                                                                                                                                                                                                                                                                       |\n",
      "|{\"id\": \"h1di5b9\", \"subreddit_id\": \"t5_2qh13\", \"body\": \"The only thing you have to ask yourself as to whether or not it is totalitarian, is if it fits the definitive description. Does it? Then it is totalitarian. Where exactly does it say \\u201cthe conclusion drawn from the weighing of all variables, as to whether or not the act being committed is overboard\\u201d, or anything remotely like that, within the definition of totalitarianism? It doesn\\u2019t. You\\u2019re talking about gauging whether or not they\\u2019re justified, which is irrelevant. You have a problem with the wording and the only thing that can help you there is the dictionary.\", \"link_id\": \"t3_nwvuoe\", \"link_title\": \"Pakistan's largest province, Punjab, will now block the cell phone of anyone who rejects COVID-19 vaccination\", \"name\": \"t1_h1di5b9\", \"permalink\": \"/r/worldnews/comments/nwvuoe/pakistans_largest_province_punjab_will_now_block/h1di5b9/\", \"link_permalink\": \"https://www.reddit.com/r/worldnews/comments/nwvuoe/pakistans_largest_province_punjab_will_now_block/\", \"link_author\": \"DegnarOskold\", \"link_url\": \"https://www.dawn.com/news/1628625/punjab-govt-decides-to-block-sim-cards-of-people-refusing-vaccines\", \"is_submitter\": false, \"created\": 1623421458.0, \"ups\": 1}                                                                                                                                                                                                                                                                                                                                                                                                                                                                                                                                                                                                                                                                                                                                                                                                                                                                                                                                                                                                                                                                                                                                                                                                                                                                                                                                                                                                                                                                                                                                                                                                                                                                                                                                                                                                                                                                                                                                                                                                                                                         |\n",
      "|{\"id\": \"h1di5bk\", \"subreddit_id\": \"t5_2qh13\", \"body\": \"Which way do you think it isn't even questionable? Are you an arrogant American or egotistic European? A neutral observer who think one is far in front of the other? A self hater?\", \"link_id\": \"t3_nwouit\", \"link_title\": \"Allies believe the U.S. is \\\"No longer a good model of democracy,\\\" poll shows\", \"name\": \"t1_h1di5bk\", \"permalink\": \"/r/worldnews/comments/nwouit/allies_believe_the_us_is_no_longer_a_good_model/h1di5bk/\", \"link_permalink\": \"https://www.reddit.com/r/worldnews/comments/nwouit/allies_believe_the_us_is_no_longer_a_good_model/\", \"link_author\": \"ShaolinTom\", \"link_url\": \"https://www.newsweek.com/allies-believe-us-no-longer-good-model-democracy-poll-shows-1599048\", \"is_submitter\": false, \"created\": 1623421458.0, \"ups\": 1}                                                                                                                                                                                                                                                                                                                                                                                                                                                                                                                                                                                                                                                                                                                                                                                                                                                                                                                                                                                                                                                                                                                                                                                                                                                                                                                                                                                                                                                                                                                                                                                                                                                                                                                                                                                                                                                                                                                                                                                                                                                                                                                                                                                                                                                                                                                                                                                                                                                                                                                                  |\n",
      "|{\"id\": \"h1di5en\", \"subreddit_id\": \"t5_2qh13\", \"body\": \"I responded already to the documents and the mosques.  China denies both of those things.\\n\\nAnd in a criminal case, you'd need a warrant to do that.  Only in this case, since we aren't talking about a person living in the jurisdiction of a court, but instead two countries, it becomes more complicated.  \\n\\nThe US has ad mitted to nearly nuking China in the 50s.  The US has been aggressive towards China since it was founded in 1949.  We have sanctioned them constantly.  We have embargoed them.  For 40 years, we made it impossible for them to trade like any other country.\\n\\nIn exchange for loosening that grip, they opened up their country to foreign investment.  We allowed out corporations to take full advantage of their lax environmental regulations, cheap labor and developed infrastructure.  This benefitted their economy greatly for nearly 40 years and destroyed our own.  \\n\\nWith their new wealth, their centralized govt set about building for the future, building hundreds of universities, 155% as many miles of highways as exist in the US, building shipyards and dry docks, building 70k hospitals, hundreds of thousands of schools, 39,000% as many miles of high speed rail as the US, pushing the boundaries of telecommunications and supercomputing, and on and on.  Meanwhile, the US givt became less and less useful.  Slower and slower at addressing the needs of its people, while showering its military with limitless funding.  \\n\\nAnd now that they are clearly so far ahead of us economically and EVERY indicator shows that they will become the new top economy within a decade, the only recourse the US has is to use the military it venerates so much.  The global order is changing for the first time in centuries and the only way to prevent that is through warfare.\\n\\nThe US needs China to fail and they just keep getting better and better.  In 2020, they invested as much in clean energy as all 7 G7 nations combined.  Meanwhile, the US saw its institutions nearly completely fail and the halls of congresss stormed by an angry mob.  \\n\\nThat is what this is about.  The US is the aggressor for obvious reasons.  China doesn't need to be aggressive.  They can just keep doing what they are doing and win.  They just need to lean on us at this point.  The game is in the bag.  \\n\\nGiven that, at best, the US is ambivalent towards China, and at worst, openly hostile, you know that if they had pictures of bodies or other HARD evidence of genocide we would have seen it by now.  The absence of that evidence speaks way louder than the evidence we do have.\", \"link_id\": \"t3_nwqxpz\", \"link_title\": \"New details of torture, cover-ups in China's internment camps revealed in Amnesty International report\", \"name\": \"t1_h1di5en\", \"permalink\": \"/r/worldnews/comments/nwqxpz/new_details_of_torture_coverups_in_chinas/h1di5en/\", \"link_permalink\": \"https://www.reddit.com/r/worldnews/comments/nwqxpz/new_details_of_torture_coverups_in_chinas/\", \"link_author\": \"i_love_anachronisms\", \"link_url\": \"https://www.nbcnews.com/news/world/new-details-torture-cover-ups-china-s-internment-camps-revealed-n1270014\", \"is_submitter\": false, \"created\": 1623421460.0, \"ups\": 1}|\n",
      "|{\"id\": \"h1di5hc\", \"subreddit_id\": \"t5_2qh13\", \"body\": \"How exactly? Ah yes, racism and oil sure do solve all the problems.\", \"link_id\": \"t3_nwk6rg\", \"link_title\": \"Germany: Frankfurt police unit to be disbanded over far-right chats\", \"name\": \"t1_h1di5hc\", \"permalink\": \"/r/worldnews/comments/nwk6rg/germany_frankfurt_police_unit_to_be_disbanded/h1di5hc/\", \"link_permalink\": \"https://www.reddit.com/r/worldnews/comments/nwk6rg/germany_frankfurt_police_unit_to_be_disbanded/\", \"link_author\": \"misana123\", \"link_url\": \"https://www.dw.com/en/germany-frankfurt-police-unit-to-be-disbanded-over-far-right-chats/a-57840014\", \"is_submitter\": false, \"created\": 1623421461.0, \"ups\": 1}                                                                                                                                                                                                                                                                                                                                                                                                                                                                                                                                                                                                                                                                                                                                                                                                                                                                                                                                                                                                                                                                                                                                                                                                                                                                                                                                                                                                                                                                                                                                                                                                                                                                                                                                                                                                                                                                                                                                                                                                                                                                                                                                                                                                                                                                                                                                                                                                                                                                                                                                                                                                                                                           |\n",
      "|{\"id\": \"h1di5j7\", \"subreddit_id\": \"t5_2qh13\", \"body\": \"So you read a basic probability assessment as pulling an answer out of nothing? \\n\\nI guess the question is whether that is an error in reading comprehension or understanding of statistics, although they are not mutually exclusive. \\n\\nJust as tellingly, instead of showing I was wrong, you attempted a deflection.\\n\\nYou've kind of vindicated my inference you're a typical US voter.\", \"link_id\": \"t3_nwouit\", \"link_title\": \"Allies believe the U.S. is \\\"No longer a good model of democracy,\\\" poll shows\", \"name\": \"t1_h1di5j7\", \"permalink\": \"/r/worldnews/comments/nwouit/allies_believe_the_us_is_no_longer_a_good_model/h1di5j7/\", \"link_permalink\": \"https://www.reddit.com/r/worldnews/comments/nwouit/allies_believe_the_us_is_no_longer_a_good_model/\", \"link_author\": \"ShaolinTom\", \"link_url\": \"https://www.newsweek.com/allies-believe-us-no-longer-good-model-democracy-poll-shows-1599048\", \"is_submitter\": false, \"created\": 1623421463.0, \"ups\": 1}                                                                                                                                                                                                                                                                                                                                                                                                                                                                                                                                                                                                                                                                                                                                                                                                                                                                                                                                                                                                                                                                                                                                                                                                                                                                                                                                                                                                                                                                                                                                                                                                                                                                                                                                                                                                                                                                                                                                                                                                                                                                                                                                                                                                                                                                                                                      |\n",
      "|{\"id\": \"h1di5n0\", \"subreddit_id\": \"t5_2qh13\", \"body\": \"A friend of mine was saying as a middle school kid in XJ, instead of sports day or military training camp that happens in normal middle school classes every 2 weeks or so, all the middle school kids would go pick cotton all day (without pay obviously). Not even joking. And its not hidden, go on Weibo and you can see people actually defending the practice saying that the labor is part of growing up and connecting to XJ culture/economy. I'm not sure if this is still a thing today, but it was the case a few years ago. Thought it was pretty interesting.\", \"link_id\": \"t3_nwqxpz\", \"link_title\": \"New details of torture, cover-ups in China's internment camps revealed in Amnesty International report\", \"name\": \"t1_h1di5n0\", \"permalink\": \"/r/worldnews/comments/nwqxpz/new_details_of_torture_coverups_in_chinas/h1di5n0/\", \"link_permalink\": \"https://www.reddit.com/r/worldnews/comments/nwqxpz/new_details_of_torture_coverups_in_chinas/\", \"link_author\": \"i_love_anachronisms\", \"link_url\": \"https://www.nbcnews.com/news/world/new-details-torture-cover-ups-china-s-internment-camps-revealed-n1270014\", \"is_submitter\": false, \"created\": 1623421465.0, \"ups\": 1}                                                                                                                                                                                                                                                                                                                                                                                                                                                                                                                                                                                                                                                                                                                                                                                                                                                                                                                                                                                                                                                                                                                                                                                                                                                                                                                                                                                                                                                                                                                                                                                                                                                                                                                                                                                                                                                                                                                                                                                                                                                                                                      |\n",
      "|{\"id\": \"h1di5n2\", \"subreddit_id\": \"t5_2qh13\", \"body\": \"What\\u2019s the deal with Navalny? I heard he was a bit far right himself (not saying locking up politics opposition is good-Russians ideally should be allowed to vote for whoever they want). But are Navalny\\u2019s policies popular or is it more just like the only alternative to Putin?\", \"link_id\": \"t3_nwxwyl\", \"link_title\": \"Russia officially declares Alexey Navalny's movement, the biggest opposition force, an \\\"extremist\\\" group\", \"name\": \"t1_h1di5n2\", \"permalink\": \"/r/worldnews/comments/nwxwyl/russia_officially_declares_alexey_navalnys/h1di5n2/\", \"link_permalink\": \"https://www.reddit.com/r/worldnews/comments/nwxwyl/russia_officially_declares_alexey_navalnys/\", \"link_author\": \"Andishen\", \"link_url\": \"https://www.cbsnews.com/news/russia-alexei-navalny-opposition-foundation-extremist-vladimir-putin/\", \"is_submitter\": false, \"created\": 1623421465.0, \"ups\": 1}                                                                                                                                                                                                                                                                                                                                                                                                                                                                                                                                                                                                                                                                                                                                                                                                                                                                                                                                                                                                                                                                                                                                                                                                                                                                                                                                                                                                                                                                                                                                                                                                                                                                                                                                                                                                                                                                                                                                                                                                                                                                                                                                                                                                                                                                                                                                                                                                 |\n",
      "|{\"id\": \"h1di5nc\", \"subreddit_id\": \"t5_2qh13\", \"body\": \"There's watching a race, and then there's \\\"being there to be looked at\\\".  \\n\\nHere's one  one from my own personal experience after finishing a race \\\"gee in your race suit, if you turn side on you're practically invisible, you have no boobs or bum\\\"\", \"link_id\": \"t3_nx3s1y\", \"link_title\": \"Australian swimmer Madeline Groves withdraws from Olympic trials, cites 'misogynistic perverts, boot lickers'\", \"name\": \"t1_h1di5nc\", \"permalink\": \"/r/worldnews/comments/nx3s1y/australian_swimmer_madeline_groves_withdraws_from/h1di5nc/\", \"link_permalink\": \"https://www.reddit.com/r/worldnews/comments/nx3s1y/australian_swimmer_madeline_groves_withdraws_from/\", \"link_author\": \"stoolsample2\", \"link_url\": \"https://www.yahoo.com/sports/aussie-swimmer-madeline-groves-withdraws-from-olympic-trials-cites-misogynistic-perverts-boot-lickers-200139025.html\", \"is_submitter\": false, \"created\": 1623421465.0, \"ups\": 1}                                                                                                                                                                                                                                                                                                                                                                                                                                                                                                                                                                                                                                                                                                                                                                                                                                                                                                                                                                                                                                                                                                                                                                                                                                                                                                                                                                                                                                                                                                                                                                                                                                                                                                                                                                                                                                                                                                                                                                                                                                                                                                                                                                                                                                                                                                                                                               |\n",
      "|{\"id\": \"h1di5u4\", \"subreddit_id\": \"t5_2qh13\", \"body\": \"She's talking about the medical waiver the IOC is asking athletes to sign in regards to Covid19.\", \"link_id\": \"t3_nx3s1y\", \"link_title\": \"Australian swimmer Madeline Groves withdraws from Olympic trials, cites 'misogynistic perverts, boot lickers'\", \"name\": \"t1_h1di5u4\", \"permalink\": \"/r/worldnews/comments/nx3s1y/australian_swimmer_madeline_groves_withdraws_from/h1di5u4/\", \"link_permalink\": \"https://www.reddit.com/r/worldnews/comments/nx3s1y/australian_swimmer_madeline_groves_withdraws_from/\", \"link_author\": \"stoolsample2\", \"link_url\": \"https://www.yahoo.com/sports/aussie-swimmer-madeline-groves-withdraws-from-olympic-trials-cites-misogynistic-perverts-boot-lickers-200139025.html\", \"is_submitter\": false, \"created\": 1623421469.0, \"ups\": 1}                                                                                                                                                                                                                                                                                                                                                                                                                                                                                                                                                                                                                                                                                                                                                                                                                                                                                                                                                                                                                                                                                                                                                                                                                                                                                                                                                                                                                                                                                                                                                                                                                                                                                                                                                                                                                                                                                                                                                                                                                                                                                                                                                                                                                                                                                                                                                                                                                                                                                                                           |\n",
      "|{\"id\": \"h1di64w\", \"subreddit_id\": \"t5_2qh13\", \"body\": \"The US had legal discrimination against Black Americans in my parent\\u2019s lifetime\", \"link_id\": \"t3_nx52j4\", \"link_title\": \"Saudi Arabia introduces a landmark legal amendment to allow single, divorced, or widowed women to live alone without permission from a male guardian\", \"name\": \"t1_h1di64w\", \"permalink\": \"/r/worldnews/comments/nx52j4/saudi_arabia_introduces_a_landmark_legal/h1di64w/\", \"link_permalink\": \"https://www.reddit.com/r/worldnews/comments/nx52j4/saudi_arabia_introduces_a_landmark_legal/\", \"link_author\": \"ajwadsabano\", \"link_url\": \"https://gulfnews.com/world/gulf/saudi/saudi-women-allowed-to-live-alone-without-permission-from-male-guardian-1.79787003?fbclid=IwAR2p4LVMW2HR8eQx_fPp_8thbBF4VtPkOig-Yl52rH3caJAhrJ8LiTrW7kc\", \"is_submitter\": false, \"created\": 1623421476.0, \"ups\": 1}                                                                                                                                                                                                                                                                                                                                                                                                                                                                                                                                                                                                                                                                                                                                                                                                                                                                                                                                                                                                                                                                                                                                                                                                                                                                                                                                                                                                                                                                                                                                                                                                                                                                                                                                                                                                                                                                                                                                                                                                                                                                                                                                                                                                                                                                                                                                                                                                                                                                       |\n",
      "|{\"id\": \"h1di6es\", \"subreddit_id\": \"t5_2qh13\", \"body\": \"BankID is just a digital ID, tho. Makes sense to me not being able to do banking/medical errands online without identification. \\n\\nAnd as BankID is (One of two/three) your ID card in digital form, it's not that weird that you need to have a Swedish \\\"social security number\\\". \\n\\nThe cafeteria taking only Swish is crappy, but it is their choice by law. They can choose in which form they want to get paid by the customer. But swishing for fika? Come on, just let me throw some change on the counter.\\n\\nYou can get a bankaccount without \\\"personnummer\\\" but you can't get a BankID for that account as, once again, BankID is your digital \\\"social security number\\\". \\n\\nAnd yeah, we can all agree Skatteverket sucks big floppy donkey dong.\", \"link_id\": \"t3_nwvuoe\", \"link_title\": \"Pakistan's largest province, Punjab, will now block the cell phone of anyone who rejects COVID-19 vaccination\", \"name\": \"t1_h1di6es\", \"permalink\": \"/r/worldnews/comments/nwvuoe/pakistans_largest_province_punjab_will_now_block/h1di6es/\", \"link_permalink\": \"https://www.reddit.com/r/worldnews/comments/nwvuoe/pakistans_largest_province_punjab_will_now_block/\", \"link_author\": \"DegnarOskold\", \"link_url\": \"https://www.dawn.com/news/1628625/punjab-govt-decides-to-block-sim-cards-of-people-refusing-vaccines\", \"is_submitter\": false, \"created\": 1623421482.0, \"ups\": 1}                                                                                                                                                                                                                                                                                                                                                                                                                                                                                                                                                                                                                                                                                                                                                                                                                                                                                                                                                                                                                                                                                                                                                                                                                                                                                                                                                                                                                                                                                                                                                                                                                                                                                                                                                                                                                                                                                                     |\n",
      "+--------------------------------------------------------------------------------------------------------------------------------------------------------------------------------------------------------------------------------------------------------------------------------------------------------------------------------------------------------------------------------------------------------------------------------------------------------------------------------------------------------------------------------------------------------------------------------------------------------------------------------------------------------------------------------------------------------------------------------------------------------------------------------------------------------------------------------------------------------------------------------------------------------------------------------------------------------------------------------------------------------------------------------------------------------------------------------------------------------------------------------------------------------------------------------------------------------------------------------------------------------------------------------------------------------------------------------------------------------------------------------------------------------------------------------------------------------------------------------------------------------------------------------------------------------------------------------------------------------------------------------------------------------------------------------------------------------------------------------------------------------------------------------------------------------------------------------------------------------------------------------------------------------------------------------------------------------------------------------------------------------------------------------------------------------------------------------------------------------------------------------------------------------------------------------------------------------------------------------------------------------------------------------------------------------------------------------------------------------------------------------------------------------------------------------------------------------------------------------------------------------------------------------------------------------------------------------------------------------------------------------------------------------------------------------------------------------------------------------------------------------------------------------------------------------------------------------------------------------------------------------------------------------------------------------------------------------------------------------------------------------------------------------------------------------------------------------------------------------------------------------------------------------------------------------------------------------------------------------------------------------------------------------------------------------------------------------------------------------------+\n",
      "only showing top 20 rows\n",
      "\n"
     ]
    },
    {
     "data": {
      "text/plain": [
       "None"
      ]
     },
     "metadata": {},
     "output_type": "display_data"
    }
   ],
   "source": [
    "clear_output(wait=True)\n",
    "display(spark.sql('SELECT value FROM string_comments_view WHERE key IS NOT NULL').show(20, False))\n",
    "time.sleep(1)"
   ]
  },
  {
   "cell_type": "code",
   "execution_count": 20,
   "id": "9faad133",
   "metadata": {},
   "outputs": [],
   "source": [
    "string_stream.stop()"
   ]
  },
  {
   "cell_type": "code",
   "execution_count": 21,
   "id": "ecac26d7",
   "metadata": {},
   "outputs": [],
   "source": [
    "from pyspark.sql import functions as F\n",
    "from pyspark.sql.types import StructType, StructField, BooleanType, IntegerType, DoubleType, StringType"
   ]
  },
  {
   "cell_type": "code",
   "execution_count": 49,
   "id": "054b71bc",
   "metadata": {},
   "outputs": [],
   "source": [
    "schema_inventory = StructType([\n",
    "    StructField(\"body\", StringType(),  True),\n",
    "    StructField(\"link_title\", StringType(),  True),\n",
    "    StructField(\"name\", StringType(), True),\n",
    "    StructField(\"link_author\", StringType(),  True),\n",
    "    StructField(\"ups\", IntegerType(), True),\n",
    "    StructField(\"created\", IntegerType(), True),\n",
    "    StructField(\"subreddit_id\", StringType(),  True),\n",
    "    StructField(\"permalink\", StringType(),  True),\n",
    "    StructField(\"link_url\", StringType(),  True)\n",
    "])"
   ]
  },
  {
   "cell_type": "code",
   "execution_count": 50,
   "id": "30bd3f0f",
   "metadata": {},
   "outputs": [],
   "source": [
    "json_stream_df = string_stream_df\\\n",
    "    .withColumn(\"value\", F.from_json(\"value\", schema_inventory))"
   ]
  },
  {
   "cell_type": "code",
   "execution_count": 51,
   "id": "6afadb7c",
   "metadata": {},
   "outputs": [
    {
     "name": "stdout",
     "output_type": "stream",
     "text": [
      "root\n",
      " |-- key: string (nullable = true)\n",
      " |-- value: struct (nullable = true)\n",
      " |    |-- body: string (nullable = true)\n",
      " |    |-- link_title: string (nullable = true)\n",
      " |    |-- name: string (nullable = true)\n",
      " |    |-- link_author: string (nullable = true)\n",
      " |    |-- ups: integer (nullable = true)\n",
      " |    |-- created: integer (nullable = true)\n",
      " |    |-- subreddit_id: string (nullable = true)\n",
      " |    |-- permalink: string (nullable = true)\n",
      " |    |-- link_url: string (nullable = true)\n",
      " |-- topic: string (nullable = true)\n",
      " |-- partition: integer (nullable = true)\n",
      " |-- offset: long (nullable = true)\n",
      " |-- timestamp: timestamp (nullable = true)\n",
      " |-- timestampType: integer (nullable = true)\n",
      "\n"
     ]
    }
   ],
   "source": [
    "json_stream_df.printSchema()"
   ]
  },
  {
   "cell_type": "code",
   "execution_count": 53,
   "id": "3be74594",
   "metadata": {},
   "outputs": [],
   "source": [
    "json_stream = json_stream_df \\\n",
    "    .writeStream \\\n",
    "    .format(\"memory\") \\\n",
    "    .queryName(\"extract_comments\") \\\n",
    "    .start()"
   ]
  },
  {
   "cell_type": "code",
   "execution_count": 54,
   "id": "3d9ac80d",
   "metadata": {},
   "outputs": [
    {
     "name": "stdout",
     "output_type": "stream",
     "text": [
      "+-------+--------------------+--------+---------+------+--------------------+-------------+\n",
      "|    key|               value|   topic|partition|offset|           timestamp|timestampType|\n",
      "+-------+--------------------+--------+---------+------+--------------------+-------------+\n",
      "|h1di451|{That's literally...|comments|        0|     0|2021-06-11 06:28:...|            0|\n",
      "|h1di49r|{I mean no\n",
      "One , ...|comments|        0|     1|2021-06-11 06:28:...|            0|\n",
      "|h1di4ee|{Napoleon has tha...|comments|        0|     2|2021-06-11 06:28:...|            0|\n",
      "|h1di4pf|{I think \"self me...|comments|        0|     3|2021-06-11 06:28:...|            0|\n",
      "|h1di4qs|{That would certa...|comments|        0|     4|2021-06-11 06:28:...|            0|\n",
      "|h1di53y|{lmao only on red...|comments|        0|     5|2021-06-11 06:28:...|            0|\n",
      "|h1di542|{Weren't we talki...|comments|        0|     6|2021-06-11 06:28:...|            0|\n",
      "|h1di54f|{Tldr?, Australia...|comments|        0|     7|2021-06-11 06:28:...|            0|\n",
      "|h1di54y|{If it's a legiti...|comments|        0|     8|2021-06-11 06:28:...|            0|\n",
      "|h1di5b9|{The only thing y...|comments|        0|     9|2021-06-11 06:28:...|            0|\n",
      "|h1di5bk|{Which way do you...|comments|        0|    10|2021-06-11 06:28:...|            0|\n",
      "|h1di5en|{I responded alre...|comments|        0|    11|2021-06-11 06:28:...|            0|\n",
      "|h1di5hc|{How exactly? Ah ...|comments|        0|    12|2021-06-11 06:28:...|            0|\n",
      "|h1di5j7|{So you read a ba...|comments|        0|    13|2021-06-11 06:28:...|            0|\n",
      "|h1di5n0|{A friend of mine...|comments|        0|    14|2021-06-11 06:28:...|            0|\n",
      "|h1di5n2|{What’s the deal ...|comments|        0|    15|2021-06-11 06:28:...|            0|\n",
      "|h1di5nc|{There's watching...|comments|        0|    16|2021-06-11 06:28:...|            0|\n",
      "|h1di5u4|{She's talking ab...|comments|        0|    17|2021-06-11 06:28:...|            0|\n",
      "|h1di64w|{The US had legal...|comments|        0|    18|2021-06-11 06:28:...|            0|\n",
      "|h1di6es|{BankID is just a...|comments|        0|    19|2021-06-11 06:28:...|            0|\n",
      "+-------+--------------------+--------+---------+------+--------------------+-------------+\n",
      "only showing top 20 rows\n",
      "\n"
     ]
    },
    {
     "data": {
      "text/plain": [
       "None"
      ]
     },
     "metadata": {},
     "output_type": "display_data"
    }
   ],
   "source": [
    "clear_output(wait=True)\n",
    "display(spark.sql('SELECT * FROM extract_comments').show(20))\n",
    "time.sleep(1)"
   ]
  },
  {
   "cell_type": "code",
   "execution_count": 27,
   "id": "e2c8e940",
   "metadata": {},
   "outputs": [],
   "source": [
    "json_stream.stop()"
   ]
  },
  {
   "cell_type": "code",
   "execution_count": 28,
   "id": "5823cd4d",
   "metadata": {},
   "outputs": [],
   "source": [
    "comments_stream_df = json_stream_df \\\n",
    "    .select( \\\n",
    "        F.col(\"key\").alias(\"event_key\"), \\\n",
    "        F.col(\"topic\").alias(\"event_topic\"), \\\n",
    "        F.col(\"timestamp\").alias(\"event_timestamp\"), \\\n",
    "            \"value.body\", \\\n",
    "            \"value.link_title\", \\\n",
    "            \"value.name\", \\\n",
    "            \"value.link_author\", \\\n",
    "            \"value.ups\", \\\n",
    "            \"value.created\", \\\n",
    "            \"value.subreddit_id\", \\\n",
    "            \"value.permalink\", \\\n",
    "            \"value.link_url\"\n",
    "           )"
   ]
  },
  {
   "cell_type": "code",
   "execution_count": 29,
   "id": "7d3f6254",
   "metadata": {},
   "outputs": [
    {
     "name": "stdout",
     "output_type": "stream",
     "text": [
      "root\n",
      " |-- event_key: string (nullable = true)\n",
      " |-- event_topic: string (nullable = true)\n",
      " |-- event_timestamp: timestamp (nullable = true)\n",
      " |-- body: string (nullable = true)\n",
      " |-- link_title: string (nullable = true)\n",
      " |-- name: string (nullable = true)\n",
      " |-- link_author: string (nullable = true)\n",
      " |-- ups: integer (nullable = true)\n",
      " |-- created: integer (nullable = true)\n",
      " |-- subreddit_id: string (nullable = true)\n",
      " |-- permalink: string (nullable = true)\n",
      " |-- link_url: string (nullable = true)\n",
      "\n"
     ]
    }
   ],
   "source": [
    "comments_stream_df.printSchema()"
   ]
  },
  {
   "cell_type": "code",
   "execution_count": 55,
   "id": "489741c4",
   "metadata": {},
   "outputs": [],
   "source": [
    "comments_stream = comments_stream_df \\\n",
    "    .writeStream \\\n",
    "    .format(\"memory\") \\\n",
    "    .queryName(\"all_comments_view\") \\\n",
    "    .start()"
   ]
  },
  {
   "cell_type": "code",
   "execution_count": 57,
   "id": "5f96d358",
   "metadata": {},
   "outputs": [
    {
     "name": "stdout",
     "output_type": "stream",
     "text": [
      "+---------+-----------+--------------------+--------------------+--------------------+----------+-------------------+---+-------+------------+--------------------+--------------------+\n",
      "|event_key|event_topic|     event_timestamp|                body|          link_title|      name|        link_author|ups|created|subreddit_id|           permalink|            link_url|\n",
      "+---------+-----------+--------------------+--------------------+--------------------+----------+-------------------+---+-------+------------+--------------------+--------------------+\n",
      "|  h1di451|   comments|2021-06-11 06:28:...|That's literally ...|Australian swimme...|t1_h1di451|       stoolsample2|  1|   null|    t5_2qh13|/r/worldnews/comm...|https://www.yahoo...|\n",
      "|  h1di49r|   comments|2021-06-11 06:28:...|I mean no\n",
      "One , a...|Russia officially...|t1_h1di49r|           Andishen|  1|   null|    t5_2qh13|/r/worldnews/comm...|https://www.cbsne...|\n",
      "|  h1di4ee|   comments|2021-06-11 06:28:...|Napoleon has that...|British expats 'i...|t1_h1di4ee|        green_flash|  1|   null|    t5_2qh13|/r/worldnews/comm...|https://www.expre...|\n",
      "|  h1di4pf|   comments|2021-06-11 06:28:...|I think \"self med...|Australian swimme...|t1_h1di4pf|       stoolsample2|  1|   null|    t5_2qh13|/r/worldnews/comm...|https://www.yahoo...|\n",
      "|  h1di4qs|   comments|2021-06-11 06:28:...|That would certai...|Australian swimme...|t1_h1di4qs|       stoolsample2|  1|   null|    t5_2qh13|/r/worldnews/comm...|https://www.yahoo...|\n",
      "|  h1di53y|   comments|2021-06-11 06:28:...|lmao only on redd...|Saudi Arabia intr...|t1_h1di53y|        ajwadsabano|  1|   null|    t5_2qh13|/r/worldnews/comm...|https://gulfnews....|\n",
      "|  h1di542|   comments|2021-06-11 06:28:...|Weren't we talkin...|Allies believe th...|t1_h1di542|         ShaolinTom|  1|   null|    t5_2qh13|/r/worldnews/comm...|https://www.newsw...|\n",
      "|  h1di54f|   comments|2021-06-11 06:28:...|               Tldr?|Australian swimme...|t1_h1di54f|       stoolsample2|  1|   null|    t5_2qh13|/r/worldnews/comm...|https://www.yahoo...|\n",
      "|  h1di54y|   comments|2021-06-11 06:28:...|If it's a legitim...|Australian swimme...|t1_h1di54y|       stoolsample2|  1|   null|    t5_2qh13|/r/worldnews/comm...|https://www.yahoo...|\n",
      "|  h1di5b9|   comments|2021-06-11 06:28:...|The only thing yo...|Pakistan's larges...|t1_h1di5b9|       DegnarOskold|  1|   null|    t5_2qh13|/r/worldnews/comm...|https://www.dawn....|\n",
      "|  h1di5bk|   comments|2021-06-11 06:28:...|Which way do you ...|Allies believe th...|t1_h1di5bk|         ShaolinTom|  1|   null|    t5_2qh13|/r/worldnews/comm...|https://www.newsw...|\n",
      "|  h1di5en|   comments|2021-06-11 06:28:...|I responded alrea...|New details of to...|t1_h1di5en|i_love_anachronisms|  1|   null|    t5_2qh13|/r/worldnews/comm...|https://www.nbcne...|\n",
      "|  h1di5hc|   comments|2021-06-11 06:28:...|How exactly? Ah y...|Germany: Frankfur...|t1_h1di5hc|          misana123|  1|   null|    t5_2qh13|/r/worldnews/comm...|https://www.dw.co...|\n",
      "|  h1di5j7|   comments|2021-06-11 06:28:...|So you read a bas...|Allies believe th...|t1_h1di5j7|         ShaolinTom|  1|   null|    t5_2qh13|/r/worldnews/comm...|https://www.newsw...|\n",
      "|  h1di5n0|   comments|2021-06-11 06:28:...|A friend of mine ...|New details of to...|t1_h1di5n0|i_love_anachronisms|  1|   null|    t5_2qh13|/r/worldnews/comm...|https://www.nbcne...|\n",
      "|  h1di5n2|   comments|2021-06-11 06:28:...|What’s the deal w...|Russia officially...|t1_h1di5n2|           Andishen|  1|   null|    t5_2qh13|/r/worldnews/comm...|https://www.cbsne...|\n",
      "|  h1di5nc|   comments|2021-06-11 06:28:...|There's watching ...|Australian swimme...|t1_h1di5nc|       stoolsample2|  1|   null|    t5_2qh13|/r/worldnews/comm...|https://www.yahoo...|\n",
      "|  h1di5u4|   comments|2021-06-11 06:28:...|She's talking abo...|Australian swimme...|t1_h1di5u4|       stoolsample2|  1|   null|    t5_2qh13|/r/worldnews/comm...|https://www.yahoo...|\n",
      "|  h1di64w|   comments|2021-06-11 06:28:...|The US had legal ...|Saudi Arabia intr...|t1_h1di64w|        ajwadsabano|  1|   null|    t5_2qh13|/r/worldnews/comm...|https://gulfnews....|\n",
      "|  h1di6es|   comments|2021-06-11 06:28:...|BankID is just a ...|Pakistan's larges...|t1_h1di6es|       DegnarOskold|  1|   null|    t5_2qh13|/r/worldnews/comm...|https://www.dawn....|\n",
      "+---------+-----------+--------------------+--------------------+--------------------+----------+-------------------+---+-------+------------+--------------------+--------------------+\n",
      "only showing top 20 rows\n",
      "\n"
     ]
    },
    {
     "data": {
      "text/plain": [
       "None"
      ]
     },
     "metadata": {},
     "output_type": "display_data"
    }
   ],
   "source": [
    "clear_output(wait=True)\n",
    "display(spark.sql('SELECT * FROM all_comments_view ORDER BY ups desc').show(20))\n",
    "time.sleep(1)"
   ]
  },
  {
   "cell_type": "code",
   "execution_count": 32,
   "id": "8aaf9dbb",
   "metadata": {},
   "outputs": [],
   "source": [
    "comments_stream.stop()"
   ]
  },
  {
   "cell_type": "markdown",
   "id": "245803a4",
   "metadata": {},
   "source": [
    "# Watermarked stream"
   ]
  },
  {
   "cell_type": "code",
   "execution_count": 33,
   "id": "30a06088",
   "metadata": {},
   "outputs": [],
   "source": [
    "window_duration = '60 seconds'\n",
    "slide_duration = '10 seconds'"
   ]
  },
  {
   "cell_type": "code",
   "execution_count": 86,
   "id": "d6b1e239",
   "metadata": {},
   "outputs": [],
   "source": [
    "windowed_count_df = comments_stream_df \\\n",
    "    .withWatermark(\"event_timestamp\", \"1 minutes\") \\\n",
    "    .groupBy(comments_stream_df.link_title, F.window(comments_stream_df.event_timestamp, window_duration, slide_duration)) \\\n",
    "    .count()"
   ]
  },
  {
   "cell_type": "code",
   "execution_count": 91,
   "id": "f2e654aa",
   "metadata": {},
   "outputs": [],
   "source": [
    "windowed_count_df = comments_stream_df \\\n",
    "    .withWatermark(\"event_timestamp\", \"1 minutes\") \\\n",
    "    .groupBy(F.window(comments_stream_df.event_timestamp, window_duration, slide_duration), comments_stream_df.link_title) \\\n",
    "    .count()"
   ]
  },
  {
   "cell_type": "code",
   "execution_count": 93,
   "id": "962bd7f1",
   "metadata": {},
   "outputs": [],
   "source": [
    "count_stream = windowed_count_df \\\n",
    "    .writeStream \\\n",
    "    .format(\"memory\") \\\n",
    "    .outputMode(\"Complete\") \\\n",
    "    .queryName(\"count_view\") \\\n",
    "    .start()"
   ]
  },
  {
   "cell_type": "code",
   "execution_count": 102,
   "id": "55cb8916",
   "metadata": {},
   "outputs": [
    {
     "name": "stdout",
     "output_type": "stream",
     "text": [
      "+--------------------+--------------------+-----+\n",
      "|              window|          link_title|count|\n",
      "+--------------------+--------------------+-----+\n",
      "|{2021-06-11 06:28...|Australian swimme...|   42|\n",
      "|{2021-06-11 06:28...|Australian swimme...|   40|\n",
      "|{2021-06-11 06:28...|Australian swimme...|   40|\n",
      "|{2021-06-11 06:28...|Australian swimme...|   39|\n",
      "|{2021-06-11 06:28...|Australian swimme...|   38|\n",
      "|{2021-06-11 06:28...|Australian swimme...|   37|\n",
      "|{2021-06-11 06:28...|Pakistan's larges...|   20|\n",
      "|{2021-06-11 06:28...|Pakistan's larges...|   20|\n",
      "|{2021-06-11 06:28...|Pakistan's larges...|   19|\n",
      "|{2021-06-11 06:28...|Pakistan's larges...|   19|\n",
      "|{2021-06-11 06:28...|Pakistan's larges...|   19|\n",
      "|{2021-06-11 06:28...|Pakistan's larges...|   17|\n",
      "|{2021-06-11 06:35...|Australian swimme...|   14|\n",
      "|{2021-06-11 07:37...|Australian swimme...|   14|\n",
      "|{2021-06-11 06:44...|Australian swimme...|   13|\n",
      "|{2021-06-11 06:45...|Australian swimme...|   13|\n",
      "|{2021-06-11 09:25...|Saudi Arabia intr...|   13|\n",
      "|{2021-06-11 06:39...|Australian swimme...|   12|\n",
      "|{2021-06-11 06:39...|Australian swimme...|   12|\n",
      "|{2021-06-11 07:34...|Australian swimme...|   12|\n",
      "+--------------------+--------------------+-----+\n",
      "only showing top 20 rows\n",
      "\n"
     ]
    },
    {
     "data": {
      "text/plain": [
       "None"
      ]
     },
     "metadata": {},
     "output_type": "display_data"
    }
   ],
   "source": [
    "clear_output(wait=True)\n",
    "display(spark.sql('SELECT * FROM count_view order by count desc').show(20))\n",
    "time.sleep(1)"
   ]
  },
  {
   "cell_type": "code",
   "execution_count": 103,
   "id": "3c94576a",
   "metadata": {},
   "outputs": [],
   "source": [
    "count_stream.stop()"
   ]
  },
  {
   "cell_type": "markdown",
   "id": "8d6daa74",
   "metadata": {},
   "source": [
    "# Sink to Parquet "
   ]
  },
  {
   "cell_type": "code",
   "execution_count": 38,
   "id": "36074de0",
   "metadata": {},
   "outputs": [],
   "source": [
    "comments_parquet = comments_stream_df \\\n",
    "    .writeStream \\\n",
    "    .format(\"parquet\") \\\n",
    "    .option(\"checkpointLocation\", \"path/to/checkpoint/dir\") \\\n",
    "    .option(\"path\", \"path/to/destination/dir\") \\\n",
    "    .start()"
   ]
  },
  {
   "cell_type": "code",
   "execution_count": 39,
   "id": "d60d8307",
   "metadata": {},
   "outputs": [],
   "source": [
    "comments_parquet.stop()"
   ]
  },
  {
   "cell_type": "markdown",
   "id": "c6d5d149",
   "metadata": {},
   "source": [
    "# Wordcloud"
   ]
  },
  {
   "cell_type": "code",
   "execution_count": 67,
   "id": "95f993ef",
   "metadata": {},
   "outputs": [],
   "source": [
    "import numpy as np\n",
    "import matplotlib.pyplot as plt\n",
    "from PIL import Image\n",
    "from wordcloud import WordCloud, STOPWORDS, ImageColorGenerator"
   ]
  },
  {
   "cell_type": "code",
   "execution_count": 101,
   "id": "bcefb3d4",
   "metadata": {},
   "outputs": [
    {
     "ename": "TypeError",
     "evalue": "'Column' object is not callable",
     "output_type": "error",
     "traceback": [
      "\u001b[0;31m---------------------------------------------------------------------------\u001b[0m",
      "\u001b[0;31mTypeError\u001b[0m                                 Traceback (most recent call last)",
      "\u001b[0;32m<ipython-input-101-f36b64d452c5>\u001b[0m in \u001b[0;36m<module>\u001b[0;34m\u001b[0m\n\u001b[1;32m      1\u001b[0m \u001b[0mbody\u001b[0m \u001b[0;34m=\u001b[0m \u001b[0mcomments_stream_df\u001b[0m\u001b[0;34m.\u001b[0m\u001b[0mbody\u001b[0m\u001b[0;34m[\u001b[0m\u001b[0;36m0\u001b[0m\u001b[0;34m]\u001b[0m\u001b[0;34m\u001b[0m\u001b[0;34m\u001b[0m\u001b[0m\n\u001b[1;32m      2\u001b[0m \u001b[0;34m\u001b[0m\u001b[0m\n\u001b[0;32m----> 3\u001b[0;31m \u001b[0mwordcloud\u001b[0m \u001b[0;34m=\u001b[0m \u001b[0mWordCloud\u001b[0m\u001b[0;34m(\u001b[0m\u001b[0;34m)\u001b[0m\u001b[0;34m.\u001b[0m\u001b[0mgenerate_from_frequencies\u001b[0m\u001b[0;34m(\u001b[0m\u001b[0mcomments_stream_df\u001b[0m\u001b[0;34m.\u001b[0m\u001b[0mbody\u001b[0m\u001b[0;34m)\u001b[0m\u001b[0;34m\u001b[0m\u001b[0;34m\u001b[0m\u001b[0m\n\u001b[0m\u001b[1;32m      4\u001b[0m \u001b[0mplt\u001b[0m\u001b[0;34m.\u001b[0m\u001b[0mimshow\u001b[0m\u001b[0;34m(\u001b[0m\u001b[0mwordcloud\u001b[0m\u001b[0;34m,\u001b[0m \u001b[0minterpolation\u001b[0m\u001b[0;34m=\u001b[0m\u001b[0;34m\"bilinear\"\u001b[0m\u001b[0;34m)\u001b[0m\u001b[0;34m\u001b[0m\u001b[0;34m\u001b[0m\u001b[0m\n\u001b[1;32m      5\u001b[0m \u001b[0mplt\u001b[0m\u001b[0;34m.\u001b[0m\u001b[0maxis\u001b[0m\u001b[0;34m(\u001b[0m\u001b[0;34m\"off\"\u001b[0m\u001b[0;34m)\u001b[0m\u001b[0;34m\u001b[0m\u001b[0;34m\u001b[0m\u001b[0m\n",
      "\u001b[0;32m/opt/conda/lib/python3.8/site-packages/wordcloud/wordcloud.py\u001b[0m in \u001b[0;36mgenerate_from_frequencies\u001b[0;34m(self, frequencies, max_font_size)\u001b[0m\n\u001b[1;32m    399\u001b[0m         \"\"\"\n\u001b[1;32m    400\u001b[0m         \u001b[0;31m# make sure frequencies are sorted and normalized\u001b[0m\u001b[0;34m\u001b[0m\u001b[0;34m\u001b[0m\u001b[0;34m\u001b[0m\u001b[0m\n\u001b[0;32m--> 401\u001b[0;31m         \u001b[0mfrequencies\u001b[0m \u001b[0;34m=\u001b[0m \u001b[0msorted\u001b[0m\u001b[0;34m(\u001b[0m\u001b[0mfrequencies\u001b[0m\u001b[0;34m.\u001b[0m\u001b[0mitems\u001b[0m\u001b[0;34m(\u001b[0m\u001b[0;34m)\u001b[0m\u001b[0;34m,\u001b[0m \u001b[0mkey\u001b[0m\u001b[0;34m=\u001b[0m\u001b[0mitemgetter\u001b[0m\u001b[0;34m(\u001b[0m\u001b[0;36m1\u001b[0m\u001b[0;34m)\u001b[0m\u001b[0;34m,\u001b[0m \u001b[0mreverse\u001b[0m\u001b[0;34m=\u001b[0m\u001b[0;32mTrue\u001b[0m\u001b[0;34m)\u001b[0m\u001b[0;34m\u001b[0m\u001b[0;34m\u001b[0m\u001b[0m\n\u001b[0m\u001b[1;32m    402\u001b[0m         \u001b[0;32mif\u001b[0m \u001b[0mlen\u001b[0m\u001b[0;34m(\u001b[0m\u001b[0mfrequencies\u001b[0m\u001b[0;34m)\u001b[0m \u001b[0;34m<=\u001b[0m \u001b[0;36m0\u001b[0m\u001b[0;34m:\u001b[0m\u001b[0;34m\u001b[0m\u001b[0;34m\u001b[0m\u001b[0m\n\u001b[1;32m    403\u001b[0m             raise ValueError(\"We need at least 1 word to plot a word cloud, \"\n",
      "\u001b[0;31mTypeError\u001b[0m: 'Column' object is not callable"
     ]
    }
   ],
   "source": [
    "body = comments_stream_df.body[0]\n",
    "\n",
    "wordcloud = WordCloud().generate_from_frequencies(comments_stream_df.body)\n",
    "plt.imshow(wordcloud, interpolation=\"bilinear\")\n",
    "plt.axis(\"off\")"
   ]
  },
  {
   "cell_type": "code",
   "execution_count": null,
   "id": "95b9eb3f",
   "metadata": {},
   "outputs": [],
   "source": []
  }
 ],
 "metadata": {
  "kernelspec": {
   "display_name": "Python 3",
   "language": "python",
   "name": "python3"
  },
  "language_info": {
   "codemirror_mode": {
    "name": "ipython",
    "version": 3
   },
   "file_extension": ".py",
   "mimetype": "text/x-python",
   "name": "python",
   "nbconvert_exporter": "python",
   "pygments_lexer": "ipython3",
   "version": "3.8.8"
  }
 },
 "nbformat": 4,
 "nbformat_minor": 5
}
