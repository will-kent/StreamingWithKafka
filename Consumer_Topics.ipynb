{
 "cells": [
  {
   "cell_type": "code",
   "execution_count": 15,
   "id": "bd12cb9b",
   "metadata": {},
   "outputs": [],
   "source": [
    "from confluent_kafka import Consumer\n",
    "import sys\n",
    "import json"
   ]
  },
  {
   "cell_type": "code",
   "execution_count": 98,
   "id": "1d68ce5a",
   "metadata": {},
   "outputs": [],
   "source": [
    "conf = {'bootstrap.servers': \"broker:29092\",\n",
    "        'group.id': \"reddit_raw_data\",\n",
    "        'auto.offset.reset': 'latest'}\n",
    "\n",
    "consumer = Consumer(conf)"
   ]
  },
  {
   "cell_type": "code",
   "execution_count": 99,
   "id": "fdd75195",
   "metadata": {},
   "outputs": [
    {
     "name": "stdout",
     "output_type": "stream",
     "text": [
      "b'{\"id\": \"gzysb2r\", \"subreddit_id\": \"t5_2qh13\", \"body\": \"Once people vote on something they\\\\u2019re invested.  Good luck getting them to admit they\\\\u2019re wrong.\", \"link_title\": \"Boris Johnson\\'s approval rating has slumped after Dominic Cummings\\' accusations, opinion poll suggests\", \"name\": \"t1_gzysb2r\", \"permalink\": \"/r/worldnews/comments/no4v0w/boris_johnsons_approval_rating_has_slumped_after/gzysb2r/\", \"link_permalink\": \"https://www.reddit.com/r/worldnews/comments/no4v0w/boris_johnsons_approval_rating_has_slumped_after/\", \"link_author\": \"expeditedcube\", \"link_url\": \"https://news.sky.com/story/boris-johnsons-approval-rating-has-slumped-after-dominic-cummings-accusations-opinion-poll-suggests-12320467\", \"created\": 1622403381.0, \"ups\": 1}'\n",
      "Once people vote on something they’re invested.  Good luck getting them to admit they’re wrong.\n",
      "b'{\"id\": \"gzysb2r\", \"subreddit_id\": \"t5_2qh13\", \"body\": \"Once people vote on something they\\\\u2019re invested.  Good luck getting them to admit they\\\\u2019re wrong.\", \"link_title\": \"Boris Johnson\\'s approval rating has slumped after Dominic Cummings\\' accusations, opinion poll suggests\", \"name\": \"t1_gzysb2r\", \"permalink\": \"/r/worldnews/comments/no4v0w/boris_johnsons_approval_rating_has_slumped_after/gzysb2r/\", \"link_permalink\": \"https://www.reddit.com/r/worldnews/comments/no4v0w/boris_johnsons_approval_rating_has_slumped_after/\", \"link_author\": \"expeditedcube\", \"link_url\": \"https://news.sky.com/story/boris-johnsons-approval-rating-has-slumped-after-dominic-cummings-accusations-opinion-poll-suggests-12320467\", \"created\": 1622403381.0, \"ups\": 1}'\n",
      "b'{\"id\": \"gzysb3b\", \"subreddit_id\": \"t5_2qh13\", \"body\": \"I\\'m looking at these statistics, which only went as high as 55% disapproval: https://en.wikipedia.org/wiki/Opinion_polling_on_the_Jair_Bolsonaro_presidency\\\\n\\\\nAnd I consider people who are neutral about Bolsonaro to not be against him. Maybe they can be swayed to vote for someone else or to support an impeachment, but at this moment they are *fine* with him.\", \"link_title\": \"Tens of thousands of Brazilians march to demand Bolsonaro\\\\u2019s impeachment | Brazil\", \"name\": \"t1_gzysb3b\", \"permalink\": \"/r/worldnews/comments/nntef7/tens_of_thousands_of_brazilians_march_to_demand/gzysb3b/\", \"link_permalink\": \"https://www.reddit.com/r/worldnews/comments/nntef7/tens_of_thousands_of_brazilians_march_to_demand/\", \"link_author\": \"checkmak01\", \"link_url\": \"https://www.theguardian.com/world/2021/may/29/tens-of-thousands-of-brazilians-march-to-demand-bolsonaros-impeachment?utm_term=Autofeed&CMP=twt_b-gdnnews&utm_medium=Social&utm_source=Twitter#Echobox=1622311407\", \"created\": 1622403381.0, \"ups\": 1}'\n",
      "I'm looking at these statistics, which only went as high as 55% disapproval: https://en.wikipedia.org/wiki/Opinion_polling_on_the_Jair_Bolsonaro_presidency\n",
      "\n",
      "And I consider people who are neutral about Bolsonaro to not be against him. Maybe they can be swayed to vote for someone else or to support an impeachment, but at this moment they are *fine* with him.\n",
      "b'{\"id\": \"gzysb3b\", \"subreddit_id\": \"t5_2qh13\", \"body\": \"I\\'m looking at these statistics, which only went as high as 55% disapproval: https://en.wikipedia.org/wiki/Opinion_polling_on_the_Jair_Bolsonaro_presidency\\\\n\\\\nAnd I consider people who are neutral about Bolsonaro to not be against him. Maybe they can be swayed to vote for someone else or to support an impeachment, but at this moment they are *fine* with him.\", \"link_title\": \"Tens of thousands of Brazilians march to demand Bolsonaro\\\\u2019s impeachment | Brazil\", \"name\": \"t1_gzysb3b\", \"permalink\": \"/r/worldnews/comments/nntef7/tens_of_thousands_of_brazilians_march_to_demand/gzysb3b/\", \"link_permalink\": \"https://www.reddit.com/r/worldnews/comments/nntef7/tens_of_thousands_of_brazilians_march_to_demand/\", \"link_author\": \"checkmak01\", \"link_url\": \"https://www.theguardian.com/world/2021/may/29/tens-of-thousands-of-brazilians-march-to-demand-bolsonaros-impeachment?utm_term=Autofeed&CMP=twt_b-gdnnews&utm_medium=Social&utm_source=Twitter#Echobox=1622311407\", \"created\": 1622403381.0, \"ups\": 1}'\n",
      "b'{\"id\": \"gzysb57\", \"subreddit_id\": \"t5_2qh13\", \"body\": \"Ah yes, because that process takes only a couple years right? It takes millions of years for that to happen and in the meantime, that plastic will slowly make its way into the bodies of every living thing in the planet. I mean, you probably already have plastic inside of you and those things are not that great for you. Before putting dumb stuff like this out there, do some research\", \"link_title\": \"Filipino scientist takes first ever journey to third deepest ocean trench on Earth, finds plastic\", \"name\": \"t1_gzysb57\", \"permalink\": \"/r/worldnews/comments/no072f/filipino_scientist_takes_first_ever_journey_to/gzysb57/\", \"link_permalink\": \"https://www.reddit.com/r/worldnews/comments/no072f/filipino_scientist_takes_first_ever_journey_to/\", \"link_author\": \"ExcitingTreacle678\", \"link_url\": \"https://www.channelnewsasia.com/news/climatechange/philippine-trench-scientist-deep-sea-plastic-pollution-14875976\", \"created\": 1622403383.0, \"ups\": 1}'\n",
      "Ah yes, because that process takes only a couple years right? It takes millions of years for that to happen and in the meantime, that plastic will slowly make its way into the bodies of every living thing in the planet. I mean, you probably already have plastic inside of you and those things are not that great for you. Before putting dumb stuff like this out there, do some research\n",
      "b'{\"id\": \"gzysb57\", \"subreddit_id\": \"t5_2qh13\", \"body\": \"Ah yes, because that process takes only a couple years right? It takes millions of years for that to happen and in the meantime, that plastic will slowly make its way into the bodies of every living thing in the planet. I mean, you probably already have plastic inside of you and those things are not that great for you. Before putting dumb stuff like this out there, do some research\", \"link_title\": \"Filipino scientist takes first ever journey to third deepest ocean trench on Earth, finds plastic\", \"name\": \"t1_gzysb57\", \"permalink\": \"/r/worldnews/comments/no072f/filipino_scientist_takes_first_ever_journey_to/gzysb57/\", \"link_permalink\": \"https://www.reddit.com/r/worldnews/comments/no072f/filipino_scientist_takes_first_ever_journey_to/\", \"link_author\": \"ExcitingTreacle678\", \"link_url\": \"https://www.channelnewsasia.com/news/climatechange/philippine-trench-scientist-deep-sea-plastic-pollution-14875976\", \"created\": 1622403383.0, \"ups\": 1}'\n",
      "b'{\"id\": \"gzysb5g\", \"subreddit_id\": \"t5_2qh13\", \"body\": \"Elect a Religious Fanatic Madman that tells you during the campaign that he is a religious fanatic madman. Act surprised when he turns out to be what he said he was.\", \"link_title\": \"Modi government harmful for country: Congress on its 7th anniversary | India News - Times of India\", \"name\": \"t1_gzysb5g\", \"permalink\": \"/r/worldnews/comments/no836n/modi_government_harmful_for_country_congress_on/gzysb5g/\", \"link_permalink\": \"https://www.reddit.com/r/worldnews/comments/no836n/modi_government_harmful_for_country_congress_on/\", \"link_author\": \"WebContent1\", \"link_url\": \"https://timesofindia.indiatimes.com/india/modi-government-harmful-for-country-congress-on-its-7th-anniversary/articleshow/83084644.cms\", \"created\": 1622403383.0, \"ups\": 1}'\n",
      "Elect a Religious Fanatic Madman that tells you during the campaign that he is a religious fanatic madman. Act surprised when he turns out to be what he said he was.\n",
      "b'{\"id\": \"gzysb5g\", \"subreddit_id\": \"t5_2qh13\", \"body\": \"Elect a Religious Fanatic Madman that tells you during the campaign that he is a religious fanatic madman. Act surprised when he turns out to be what he said he was.\", \"link_title\": \"Modi government harmful for country: Congress on its 7th anniversary | India News - Times of India\", \"name\": \"t1_gzysb5g\", \"permalink\": \"/r/worldnews/comments/no836n/modi_government_harmful_for_country_congress_on/gzysb5g/\", \"link_permalink\": \"https://www.reddit.com/r/worldnews/comments/no836n/modi_government_harmful_for_country_congress_on/\", \"link_author\": \"WebContent1\", \"link_url\": \"https://timesofindia.indiatimes.com/india/modi-government-harmful-for-country-congress-on-its-7th-anniversary/articleshow/83084644.cms\", \"created\": 1622403383.0, \"ups\": 1}'\n",
      "b'{\"id\": \"gzysb9q\", \"subreddit_id\": \"t5_2qh13\", \"body\": \"Ableism is the dumbest thing to call out. EVER. Typical privileged white westerner that has no real problems, so instead they call out \\\\\"muh ableism!!1!\\\\\"\", \"link_title\": \"Up to 5 years prison for attending Tiananmen Massacre vigil, Hong Kong gov\\'t warns - 1 year jail for publicising it\", \"name\": \"t1_gzysb9q\", \"permalink\": \"/r/worldnews/comments/nnjw1i/up_to_5_years_prison_for_attending_tiananmen/gzysb9q/\", \"link_permalink\": \"https://www.reddit.com/r/worldnews/comments/nnjw1i/up_to_5_years_prison_for_attending_tiananmen/\", \"link_author\": \"chessc\", \"link_url\": \"https://hongkongfp.com/2021/05/29/up-to-5-years-prison-for-attending-tiananmen-massacre-vigil-hong-kong-govt-warns-1-year-jail-for-publicising-it/\", \"created\": 1622403386.0, \"ups\": 1}'\n",
      "Ableism is the dumbest thing to call out. EVER. Typical privileged white westerner that has no real problems, so instead they call out \"muh ableism!!1!\"\n",
      "b'{\"id\": \"gzysb9q\", \"subreddit_id\": \"t5_2qh13\", \"body\": \"Ableism is the dumbest thing to call out. EVER. Typical privileged white westerner that has no real problems, so instead they call out \\\\\"muh ableism!!1!\\\\\"\", \"link_title\": \"Up to 5 years prison for attending Tiananmen Massacre vigil, Hong Kong gov\\'t warns - 1 year jail for publicising it\", \"name\": \"t1_gzysb9q\", \"permalink\": \"/r/worldnews/comments/nnjw1i/up_to_5_years_prison_for_attending_tiananmen/gzysb9q/\", \"link_permalink\": \"https://www.reddit.com/r/worldnews/comments/nnjw1i/up_to_5_years_prison_for_attending_tiananmen/\", \"link_author\": \"chessc\", \"link_url\": \"https://hongkongfp.com/2021/05/29/up-to-5-years-prison-for-attending-tiananmen-massacre-vigil-hong-kong-govt-warns-1-year-jail-for-publicising-it/\", \"created\": 1622403386.0, \"ups\": 1}'\n"
     ]
    },
    {
     "name": "stderr",
     "output_type": "stream",
     "text": [
      "% comments [0] at offset 3240 with key b'gzysb2r':\n",
      "% comments [0] at offset 3241 with key b'gzysb3b':\n",
      "% comments [0] at offset 3242 with key b'gzysb57':\n",
      "% comments [0] at offset 3243 with key b'gzysb5g':\n",
      "% comments [0] at offset 3244 with key b'gzysb9q':\n"
     ]
    },
    {
     "name": "stdout",
     "output_type": "stream",
     "text": [
      "Traceback (most recent call last):\n",
      "  File \"<ipython-input-99-152098a84442>\", line 6, in <module>\n",
      "    print(msg.value())\n",
      "AttributeError: 'NoneType' object has no attribute 'value'\n",
      "\n"
     ]
    }
   ],
   "source": [
    "consumer.subscribe([\"comments\"])\n",
    "\n",
    "try:\n",
    "    while True:\n",
    "        msg = consumer.poll(timeout=1.0)\n",
    "        if msg is None:\n",
    "            continue\n",
    "        if msg.error():\n",
    "            raise Exception(msg.error())\n",
    "        else:\n",
    "            sys.stderr.write('%% %s [%d] at offset %d with key %s:\\n' %\n",
    "                                (msg.topic(), msg.partition(), msg.offset(),\n",
    "                                str(msg.key())))\n",
    "            msg_dict = json.loads(msg.value())\n",
    "            msg_body = msg_dict['body']\n",
    "except Exception as e:\n",
    "    import traceback\n",
    "    print(traceback.format_exc())\n",
    "finally:\n",
    "    consumer.close()"
   ]
  },
  {
   "cell_type": "code",
   "execution_count": null,
   "id": "edd7b7e9",
   "metadata": {},
   "outputs": [],
   "source": []
  }
 ],
 "metadata": {
  "kernelspec": {
   "display_name": "Python 3",
   "language": "python",
   "name": "python3"
  },
  "language_info": {
   "codemirror_mode": {
    "name": "ipython",
    "version": 3
   },
   "file_extension": ".py",
   "mimetype": "text/x-python",
   "name": "python",
   "nbconvert_exporter": "python",
   "pygments_lexer": "ipython3",
   "version": "3.8.8"
  }
 },
 "nbformat": 4,
 "nbformat_minor": 5
}
