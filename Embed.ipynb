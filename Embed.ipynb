{
 "cells": [
  {
   "cell_type": "code",
   "execution_count": 1,
   "id": "5d9486c7",
   "metadata": {},
   "outputs": [
    {
     "name": "stdout",
     "output_type": "stream",
     "text": [
      "Requirement already satisfied: praw in /opt/conda/lib/python3.8/site-packages (7.2.0)\n",
      "Requirement already satisfied: update-checker>=0.18 in /opt/conda/lib/python3.8/site-packages (from praw) (0.18.0)\n",
      "Requirement already satisfied: websocket-client>=0.54.0 in /opt/conda/lib/python3.8/site-packages (from praw) (1.1.0)\n",
      "Requirement already satisfied: prawcore<3,>=2 in /opt/conda/lib/python3.8/site-packages (from praw) (2.2.0)\n",
      "Requirement already satisfied: requests<3.0,>=2.6.0 in /opt/conda/lib/python3.8/site-packages (from prawcore<3,>=2->praw) (2.25.1)\n",
      "Requirement already satisfied: idna<3,>=2.5 in /opt/conda/lib/python3.8/site-packages (from requests<3.0,>=2.6.0->prawcore<3,>=2->praw) (2.10)\n",
      "Requirement already satisfied: urllib3<1.27,>=1.21.1 in /opt/conda/lib/python3.8/site-packages (from requests<3.0,>=2.6.0->prawcore<3,>=2->praw) (1.26.4)\n",
      "Requirement already satisfied: chardet<5,>=3.0.2 in /opt/conda/lib/python3.8/site-packages (from requests<3.0,>=2.6.0->prawcore<3,>=2->praw) (4.0.0)\n",
      "Requirement already satisfied: certifi>=2017.4.17 in /opt/conda/lib/python3.8/site-packages (from requests<3.0,>=2.6.0->prawcore<3,>=2->praw) (2020.12.5)\n",
      "Requirement already satisfied: gensim in /opt/conda/lib/python3.8/site-packages (4.0.1)\n",
      "Requirement already satisfied: scipy>=0.18.1 in /opt/conda/lib/python3.8/site-packages (from gensim) (1.6.2)\n",
      "Requirement already satisfied: smart-open>=1.8.1 in /opt/conda/lib/python3.8/site-packages (from gensim) (5.1.0)\n",
      "Requirement already satisfied: numpy>=1.11.3 in /opt/conda/lib/python3.8/site-packages (from gensim) (1.20.2)\n"
     ]
    }
   ],
   "source": [
    "! pip install praw\n",
    "! pip install gensim"
   ]
  },
  {
   "cell_type": "code",
   "execution_count": 2,
   "id": "ab18d095",
   "metadata": {},
   "outputs": [
    {
     "name": "stderr",
     "output_type": "stream",
     "text": [
      "/opt/conda/lib/python3.8/site-packages/gensim/similarities/__init__.py:15: UserWarning: The gensim.similarities.levenshtein submodule is disabled, because the optional Levenshtein package <https://pypi.org/project/python-Levenshtein/> is unavailable. Install Levenhstein (e.g. `pip install python-Levenshtein`) to suppress this warning.\n",
      "  warnings.warn(msg)\n"
     ]
    }
   ],
   "source": [
    "import configparser\n",
    "from confluent_kafka import Producer\n",
    "import json\n",
    "import logging\n",
    "from multiprocessing import Process\n",
    "import os\n",
    "import praw\n",
    "import socket\n",
    "from pyspark.sql import SparkSession\n",
    "import pandas as pd\n",
    "import numpy as np\n",
    "import re\n",
    "import sys\n",
    "import scipy\n",
    "import gensim\n",
    "from gensim.utils import simple_preprocess\n",
    "import gensim.corpora as corpora"
   ]
  },
  {
   "cell_type": "code",
   "execution_count": 32,
   "id": "24c417bf",
   "metadata": {},
   "outputs": [],
   "source": [
    "import pyspark\n",
    "import pyspark.sql.functions as F\n",
    "from pyspark import broadcast, SparkContext\n",
    "from pyspark.sql import SQLContext\n",
    "from pyspark.mllib.util import MLUtils\n",
    "from pyspark.sql.types import *\n",
    "from pyspark.ml.feature import CountVectorizer, CountVectorizerModel, Tokenizer, RegexTokenizer, StopWordsRemover, OneHotEncoder, StringIndexer, VectorAssembler, VectorIndexer, Bucketizer\n",
    "from pyspark.ml.linalg import Vectors, SparseVector\n",
    "from pyspark.ml.clustering import LDA, LocalLDAModel\n",
    "from pyspark.ml.functions import vector_to_array\n",
    "from pyspark.ml.pipeline import PipelineModel"
   ]
  },
  {
   "cell_type": "code",
   "execution_count": 4,
   "id": "05459cb2",
   "metadata": {},
   "outputs": [
    {
     "data": {
      "text/plain": [
       "['configuration/config.cfg']"
      ]
     },
     "execution_count": 4,
     "metadata": {},
     "output_type": "execute_result"
    }
   ],
   "source": [
    "# Read passwords and secrets from config file\n",
    "config_parser = configparser.ConfigParser()\n",
    "config_parser.read(\"configuration/config.cfg\")"
   ]
  },
  {
   "cell_type": "code",
   "execution_count": 5,
   "id": "431fd4ab",
   "metadata": {},
   "outputs": [],
   "source": [
    "from pyspark.sql.functions import month, year, mean, count, dayofweek, hour, col, min, max, avg, sum, when, lit, desc, unix_timestamp, from_unixtime, udf, regexp_replace"
   ]
  },
  {
   "cell_type": "code",
   "execution_count": 6,
   "id": "df99d626",
   "metadata": {},
   "outputs": [],
   "source": [
    "# Build the spark session\n",
    "spark = SparkSession.builder \\\n",
    "        .appName('kafka') \\\n",
    "        .getOrCreate()"
   ]
  },
  {
   "cell_type": "markdown",
   "id": "47f0fac4",
   "metadata": {},
   "source": [
    "## Load the raw stream and convert to dataframe objects for processing"
   ]
  },
  {
   "cell_type": "code",
   "execution_count": 7,
   "id": "fa9213ab",
   "metadata": {},
   "outputs": [],
   "source": [
    "# Load raw stream data for submissions and convert to df useable in processing to prediction\n",
    "## NOTE - no need to do this for comments stream as the model is pre-trained and only applied to submission data\n",
    "\n",
    "df_s = spark \\\n",
    "  .readStream \\\n",
    "  .format(\"kafka\") \\\n",
    "  .option(\"kafka.bootstrap.servers\", \"broker:29092\") \\\n",
    "  .option(\"startingOffsets\", \"earliest\") \\\n",
    "  .option(\"subscribe\", \"submissions\") \\\n",
    "  .load()"
   ]
  },
  {
   "cell_type": "code",
   "execution_count": 8,
   "id": "7f40ab53",
   "metadata": {},
   "outputs": [
    {
     "name": "stdout",
     "output_type": "stream",
     "text": [
      "root\n",
      " |-- key: binary (nullable = true)\n",
      " |-- value: binary (nullable = true)\n",
      " |-- topic: string (nullable = true)\n",
      " |-- partition: integer (nullable = true)\n",
      " |-- offset: long (nullable = true)\n",
      " |-- timestamp: timestamp (nullable = true)\n",
      " |-- timestampType: integer (nullable = true)\n",
      "\n"
     ]
    }
   ],
   "source": [
    "df_s.printSchema()"
   ]
  },
  {
   "cell_type": "code",
   "execution_count": 9,
   "id": "b50a87ef",
   "metadata": {},
   "outputs": [],
   "source": [
    "string_stream_df_s = df_s \\\n",
    "    .withColumn(\"key\", df_s[\"key\"].cast(StringType())) \\\n",
    "    .withColumn(\"value\", df_s[\"value\"].cast(StringType()))"
   ]
  },
  {
   "cell_type": "code",
   "execution_count": 10,
   "id": "2b3c049e",
   "metadata": {},
   "outputs": [],
   "source": [
    "# Specify the structure of the value component\n",
    "schema_inventory_s = StructType([\n",
    "    StructField(\"id\", StringType(),  True),\n",
    "    StructField(\"author_fullname\", StringType(),  True),\n",
    "    StructField(\"title\", StringType(),  True),\n",
    "    StructField(\"subreddit_name_prefixed\", StringType(),  True),\n",
    "    StructField(\"name\", StringType(), True),\n",
    "    StructField(\"upvote_ratio\", DoubleType(),  True),\n",
    "    StructField(\"ups\", IntegerType(), True),\n",
    "    StructField(\"created\", IntegerType(), True),\n",
    "    StructField(\"domain\", StringType(), True),\n",
    "    StructField(\"url_overridden_by_dest\", StringType(), True),\n",
    "    StructField(\"over_18\", StringType(), True),\n",
    "    StructField(\"subreddit_id\", StringType(),  True),\n",
    "    StructField(\"permalink\", StringType(),  True),\n",
    "    StructField(\"parent_whitelist_status\", StringType(),  True),\n",
    "    StructField(\"url\", StringType(),  True),\n",
    "    StructField(\"created_utc\", IntegerType(), True)\n",
    "])"
   ]
  },
  {
   "cell_type": "code",
   "execution_count": 11,
   "id": "11afe731",
   "metadata": {},
   "outputs": [
    {
     "name": "stdout",
     "output_type": "stream",
     "text": [
      "root\n",
      " |-- key: string (nullable = true)\n",
      " |-- value: struct (nullable = true)\n",
      " |    |-- id: string (nullable = true)\n",
      " |    |-- author_fullname: string (nullable = true)\n",
      " |    |-- title: string (nullable = true)\n",
      " |    |-- subreddit_name_prefixed: string (nullable = true)\n",
      " |    |-- name: string (nullable = true)\n",
      " |    |-- upvote_ratio: double (nullable = true)\n",
      " |    |-- ups: integer (nullable = true)\n",
      " |    |-- created: integer (nullable = true)\n",
      " |    |-- domain: string (nullable = true)\n",
      " |    |-- url_overridden_by_dest: string (nullable = true)\n",
      " |    |-- over_18: string (nullable = true)\n",
      " |    |-- subreddit_id: string (nullable = true)\n",
      " |    |-- permalink: string (nullable = true)\n",
      " |    |-- parent_whitelist_status: string (nullable = true)\n",
      " |    |-- url: string (nullable = true)\n",
      " |    |-- created_utc: integer (nullable = true)\n",
      " |-- topic: string (nullable = true)\n",
      " |-- partition: integer (nullable = true)\n",
      " |-- offset: long (nullable = true)\n",
      " |-- timestamp: timestamp (nullable = true)\n",
      " |-- timestampType: integer (nullable = true)\n",
      "\n"
     ]
    }
   ],
   "source": [
    "# To json to split our the values in message\n",
    "json_stream_df_s = string_stream_df_s.withColumn(\"value\", F.from_json(\"value\", schema_inventory_s))\n",
    "json_stream_df_s.printSchema()"
   ]
  },
  {
   "cell_type": "code",
   "execution_count": 12,
   "id": "ce6b98a6",
   "metadata": {},
   "outputs": [
    {
     "name": "stdout",
     "output_type": "stream",
     "text": [
      "root\n",
      " |-- event_key: string (nullable = true)\n",
      " |-- event_topic: string (nullable = true)\n",
      " |-- event_timestamp: timestamp (nullable = true)\n",
      " |-- id: string (nullable = true)\n",
      " |-- author_fullname: string (nullable = true)\n",
      " |-- title: string (nullable = true)\n",
      " |-- subreddit_name_prefixed: string (nullable = true)\n",
      " |-- name: string (nullable = true)\n",
      " |-- upvote_ratio: double (nullable = true)\n",
      " |-- ups: integer (nullable = true)\n",
      " |-- created: integer (nullable = true)\n",
      " |-- domain: string (nullable = true)\n",
      " |-- url_overridden_by_dest: string (nullable = true)\n",
      " |-- over_18: string (nullable = true)\n",
      " |-- subreddit_id: string (nullable = true)\n",
      " |-- permalink: string (nullable = true)\n",
      " |-- parent_whitelist_status: string (nullable = true)\n",
      " |-- url: string (nullable = true)\n",
      " |-- created_utc: integer (nullable = true)\n",
      "\n"
     ]
    }
   ],
   "source": [
    "# Create the final usable df for submissions\n",
    "submissions_stream_df = json_stream_df_s \\\n",
    "    .select( \\\n",
    "        F.col(\"key\").alias(\"event_key\"), \\\n",
    "        F.col(\"topic\").alias(\"event_topic\"), \\\n",
    "        F.col(\"timestamp\").alias(\"event_timestamp\"), \\\n",
    "            \"value.id\", \\\n",
    "            \"value.author_fullname\", \\\n",
    "            \"value.title\", \\\n",
    "            \"value.subreddit_name_prefixed\", \\\n",
    "            \"value.name\", \\\n",
    "            \"value.upvote_ratio\", \\\n",
    "            \"value.ups\", \\\n",
    "            \"value.created\", \\\n",
    "            \"value.domain\", \\\n",
    "            \"value.url_overridden_by_dest\", \\\n",
    "            \"value.over_18\", \\\n",
    "            \"value.subreddit_id\", \\\n",
    "            \"value.permalink\", \\\n",
    "            \"value.parent_whitelist_status\", \\\n",
    "            \"value.url\",\n",
    "            \"value.created_utc\"\n",
    "           )\n",
    "\n",
    "submissions_stream_df.printSchema()"
   ]
  },
  {
   "cell_type": "code",
   "execution_count": 13,
   "id": "8ad265ff",
   "metadata": {},
   "outputs": [],
   "source": [
    "submissions_stream = submissions_stream_df \\\n",
    "    .writeStream \\\n",
    "    .format(\"memory\") \\\n",
    "    .queryName(\"all_submissions_view\") \\\n",
    "    .start()"
   ]
  },
  {
   "cell_type": "code",
   "execution_count": 14,
   "id": "52c5e4e0",
   "metadata": {},
   "outputs": [
    {
     "name": "stdout",
     "output_type": "stream",
     "text": [
      "root\n",
      " |-- event_key: string (nullable = true)\n",
      " |-- event_topic: string (nullable = true)\n",
      " |-- event_timestamp: timestamp (nullable = true)\n",
      " |-- id: string (nullable = true)\n",
      " |-- author_fullname: string (nullable = true)\n",
      " |-- title: string (nullable = true)\n",
      " |-- subreddit_name_prefixed: string (nullable = true)\n",
      " |-- name: string (nullable = true)\n",
      " |-- upvote_ratio: double (nullable = true)\n",
      " |-- ups: integer (nullable = true)\n",
      " |-- created: integer (nullable = true)\n",
      " |-- domain: string (nullable = true)\n",
      " |-- url_overridden_by_dest: string (nullable = true)\n",
      " |-- over_18: string (nullable = true)\n",
      " |-- subreddit_id: string (nullable = true)\n",
      " |-- permalink: string (nullable = true)\n",
      " |-- parent_whitelist_status: string (nullable = true)\n",
      " |-- url: string (nullable = true)\n",
      " |-- created_utc: integer (nullable = true)\n",
      "\n",
      "None\n",
      "101\n",
      "+---------+-----------+----------------------+------+---------------+----------------------------------------+-----------------------+---------+------------+---+-------+---------------+----------------------------------------+-------+------------+----------------------------------------+-----------------------+----------------------------------------+-----------+\n",
      "|event_key|event_topic|       event_timestamp|    id|author_fullname|                                   title|subreddit_name_prefixed|     name|upvote_ratio|ups|created|         domain|                  url_overridden_by_dest|over_18|subreddit_id|                               permalink|parent_whitelist_status|                                     url|created_utc|\n",
      "+---------+-----------+----------------------+------+---------------+----------------------------------------+-----------------------+---------+------------+---+-------+---------------+----------------------------------------+-------+------------+----------------------------------------+-----------------------+----------------------------------------+-----------+\n",
      "|   nxzxfy|submissions|2021-06-12 13:52:30.88|nxzxfy|    t2_67y23c6q|Amsterdam plans to keep tourists ‘in ...|            r/worldnews|t3_nxzxfy|        0.92|370|   null|theguardian.com|https://www.theguardian.com/weather/2...|  false|    t5_2qh13|/r/worldnews/comments/nxzxfy/amsterda...|                all_ads|https://www.theguardian.com/weather/2...|       null|\n",
      "|   ny012w|submissions|2021-06-12 13:52:30.88|ny012w|    t2_46f0a3k5|\"'End one-party rule' advocates are H...|            r/worldnews|t3_ny012w|         0.7| 35|   null|   news.rthk.hk|https://news.rthk.hk/rthk/en/componen...|  false|    t5_2qh13|/r/worldnews/comments/ny012w/end_onep...|                all_ads|https://news.rthk.hk/rthk/en/componen...|       null|\n",
      "|   ny037p|submissions|2021-06-12 13:52:30.88|ny037p|    t2_99xzd06m|After AstraZeneca, why questions are ...|            r/worldnews|t3_ny037p|        0.45|  0|   null| newsexpress.in|https://newsexpress.in/after-astrazen...|  false|    t5_2qh13|/r/worldnews/comments/ny037p/after_as...|                all_ads|https://newsexpress.in/after-astrazen...|       null|\n",
      "|   ny03hh|submissions|2021-06-12 13:52:30.88|ny03hh|       t2_mqvoy|Harry Dunn death: Path clear for virt...|            r/worldnews|t3_ny03hh|        0.73| 25|   null|      bbc.co.uk|https://www.bbc.co.uk/news/uk-england...|  false|    t5_2qh13|/r/worldnews/comments/ny03hh/harry_du...|                all_ads|https://www.bbc.co.uk/news/uk-england...|       null|\n",
      "|   ny0842|submissions|2021-06-12 13:52:30.88|ny0842|    t2_c7mkluyb|Beijing official says 'real enemies' ...|            r/worldnews|t3_ny0842|        0.59|  7|   null|    reuters.com|https://www.reuters.com/world/asia-pa...|  false|    t5_2qh13|/r/worldnews/comments/ny0842/beijing_...|                all_ads|https://www.reuters.com/world/asia-pa...|       null|\n",
      "+---------+-----------+----------------------+------+---------------+----------------------------------------+-----------------------+---------+------------+---+-------+---------------+----------------------------------------+-------+------------+----------------------------------------+-----------------------+----------------------------------------+-----------+\n",
      "only showing top 5 rows\n",
      "\n"
     ]
    }
   ],
   "source": [
    "subs_data = spark.sql('SELECT * FROM all_submissions_view ORDER BY created desc')\n",
    "print(subs_data.printSchema())\n",
    "print(subs_data.count())\n",
    "subs_data.show(5, truncate = 40)"
   ]
  },
  {
   "cell_type": "markdown",
   "id": "d21ae7d3",
   "metadata": {
    "tags": []
   },
   "source": [
    "## Process new titles data ready for modelling and prediction"
   ]
  },
  {
   "cell_type": "code",
   "execution_count": 15,
   "id": "cb58c192",
   "metadata": {},
   "outputs": [
    {
     "data": {
      "text/plain": [
       "101"
      ]
     },
     "execution_count": 15,
     "metadata": {},
     "output_type": "execute_result"
    }
   ],
   "source": [
    "# Only keep the needed columns and remove duplicate rows - submissions\n",
    "subs_data = subs_data.select('id','title','domain','subreddit_id','event_timestamp')\n",
    "subs_data = subs_data.distinct()\n",
    "subs_data.count()"
   ]
  },
  {
   "cell_type": "code",
   "execution_count": 16,
   "id": "e6c57081",
   "metadata": {},
   "outputs": [],
   "source": [
    "#Remove punctuation and numbers from titles\n",
    "subs_data = subs_data.withColumn(\"title\", regexp_replace(col(\"title\"), '[^\\sa-zA-Z]', ''))\n",
    "#prepare a tokenizer\n",
    "tokenizer = Tokenizer(inputCol=\"title\", outputCol=\"words\")\n",
    "wordsDataFrame = tokenizer.transform(subs_data)\n",
    "#define stopwords\n",
    "stop_words =StopWordsRemover.loadDefaultStopWords(\"english\")\n",
    "stop_words = stop_words + ['a','i']\n",
    "#apply the stop words remover\n",
    "remover = StopWordsRemover(inputCol=\"words\", outputCol=\"filtered\", stopWords = stop_words)\n",
    "wordsDataFrame = remover.transform(wordsDataFrame)"
   ]
  },
  {
   "cell_type": "code",
   "execution_count": 17,
   "id": "e4d09d4d",
   "metadata": {},
   "outputs": [
    {
     "name": "stdout",
     "output_type": "stream",
     "text": [
      "+--------------------+------+\n",
      "|             vectors|    id|\n",
      "+--------------------+------+\n",
      "|(68283,[829,869,2...|nxsltb|\n",
      "|(68283,[126,239,4...|ny1upx|\n",
      "|(68283,[0,49,335,...|ny5gqw|\n",
      "|(68283,[0,37,122,...|ny1q1d|\n",
      "|(68283,[2,58,103,...|nxrys7|\n",
      "|(68283,[73,121,13...|nxwm2p|\n",
      "|(68283,[6,35,47,1...|ny4fgk|\n",
      "|(68283,[239,452,5...|ny72f0|\n",
      "|(68283,[0,73,353,...|ny51k5|\n",
      "|(68283,[524,547,6...|ny5f33|\n",
      "|(68283,[0,3,6,7,2...|nxvavt|\n",
      "|(68283,[4,17,366,...|nxv3dn|\n",
      "|(68283,[0,1,21,14...|ny1bag|\n",
      "|(68283,[101,153,2...|ny799w|\n",
      "|(68283,[1187,2324...|nxv3yl|\n",
      "|(68283,[68,89,774...|ny1gsq|\n",
      "|(68283,[47,63,126...|ny5njo|\n",
      "|(68283,[598,1430,...|nxyzq5|\n",
      "|(68283,[66,189,24...|ny60on|\n",
      "|(68283,[163,200,3...|nxxicm|\n",
      "+--------------------+------+\n",
      "only showing top 20 rows\n",
      "\n"
     ]
    }
   ],
   "source": [
    "# Load the vectorizer trained on the original training data and used for the LDA model training anf hence the rf model relying on it.\n",
    "cvmodel = CountVectorizerModel.load('count_vectorizer_model')\n",
    "# Then apply it to new titles data\n",
    "df_vect = cvmodel.transform(wordsDataFrame)\n",
    "basics = df_vect.select('vectors', 'id')\n",
    "basics.show()"
   ]
  },
  {
   "cell_type": "code",
   "execution_count": 25,
   "id": "92314aa0",
   "metadata": {},
   "outputs": [],
   "source": [
    "# Load the LDA model trained on the original training data \n",
    "lda_model = LocalLDAModel.load('lda_distributed_model')\n",
    "# Then apply it to new titles vectors\n",
    "indiv = lda_model.transform(basics)"
   ]
  },
  {
   "cell_type": "markdown",
   "id": "0446554c",
   "metadata": {},
   "source": [
    "## Build other features into dataset"
   ]
  },
  {
   "cell_type": "code",
   "execution_count": 27,
   "id": "37b24602",
   "metadata": {
    "tags": []
   },
   "outputs": [],
   "source": [
    "subs_data = subs_data.withColumn(\"hour\", hour(col(\"event_timestamp\"))).withColumn(\"day\", dayofweek(col(\"event_timestamp\")))\n",
    "subs_data = subs_data.withColumn(\"hour\", F.col(\"hour\").astype(StringType())).withColumn(\"day\", F.col(\"day\").astype(StringType()))"
   ]
  },
  {
   "cell_type": "code",
   "execution_count": 28,
   "id": "b3fb2b5d",
   "metadata": {},
   "outputs": [
    {
     "name": "stdout",
     "output_type": "stream",
     "text": [
      "+------+---------------------+---------------------+---------------------+---------------------+---------------------+---------------------+---------------------+---------------------+---------------------+---------------------+--------------------+---------------------+---------------------+---------------------+---------------------+---------------------+---------------------+---------------------+---------------------+---------------------+\n",
      "|    id|                  T_1|                  T_2|                  T_3|                  T_4|                  T_5|                  T_6|                  T_7|                  T_8|                  T_9|                 T_10|                T_11|                 T_12|                 T_13|                 T_14|                 T_15|                 T_16|                 T_17|                 T_18|                 T_19|                 T_20|\n",
      "+------+---------------------+---------------------+---------------------+---------------------+---------------------+---------------------+---------------------+---------------------+---------------------+---------------------+--------------------+---------------------+---------------------+---------------------+---------------------+---------------------+---------------------+---------------------+---------------------+---------------------+\n",
      "|nxsltb| 0.005809863543702074| 0.005811770908678853| 0.005849981227724884| 0.005818134319820223| 0.005840757063777078| 0.005812570664684599| 0.005818899399080162|0.0058158162024796525| 0.007583068735223249| 0.005832934312138212|  0.8874684924451508| 0.005902432641921374| 0.005806256447624374| 0.005849339941368606| 0.005807497963076416| 0.005820094048652884|0.0059056637420361454|0.0058175600179789354|0.0058215100260455566| 0.005807356348835923|\n",
      "|ny1upx| 0.004643514876816821| 0.004645039332604736| 0.004675578809227949| 0.004650125265078195|  0.00466820642500378|  0.00464567853548382|0.0046507367531112105| 0.004648272521561351|   0.9094500491634347| 0.004661954116126292|0.006670246372652834| 0.004717500437146296|0.0046406319175365755| 0.004675066259336369|0.0046416241955210226| 0.004651691576011401| 0.004720082878617784| 0.004649666260311019| 0.004652823294580921|  0.00464151100983679|\n",
      "|ny5gqw| 0.004643514885098757| 0.004645039338743311| 0.004675578817560397| 0.004650125272430947| 0.004668206434870342|  0.00464567854417497| 0.004650736759220856|0.0046482725316276795|   0.5871716502158908| 0.004661954122875726| 0.32894864518192163| 0.004717500441401313| 0.004640631925405839| 0.004675066265174562| 0.004641624202217353| 0.004651691584785366|  0.00472008288959237| 0.004649666270597516| 0.004652823299726207|  0.00464151101668397|\n",
      "|ny1q1d| 0.005161620809344639| 0.005163315358584484| 0.005197262314431922| 0.005168968760128242|0.0051890673483773195| 0.005164025881132606| 0.005169648477097276| 0.005166909294243453|   0.8993468750289272| 0.005182117431273566|0.007414438423829245| 0.005243861399922272| 0.005158416180551737| 0.005196692577470554|0.0051595191725797625|  0.00517070983411818| 0.005246731985935073|0.0051684585409159205| 0.005171967822693582| 0.005159393358442974|\n",
      "|nxrys7| 0.005161620810069577| 0.005163315359460104|0.0051972623220440444| 0.005168968760952027| 0.005189067348261534|0.0051640258815031925| 0.005169648477250795|0.0051669092954469776|   0.6738111478321744|  0.00518211743105784| 0.23295016560658954| 0.005243861398733504| 0.005158416181357718| 0.005196692577151755| 0.005159519174129678| 0.005170709835568143| 0.005246731981703508| 0.005168458541365703|0.0051719678253533165|  0.00515939335982685|\n",
      "|nxwm2p|0.0035688329553358908| 0.003570004595172867|0.0035934761016412774|0.0035739134535111715| 0.003587809962015443|0.0035704958628243015|0.0035743834215398312| 0.003572489503975932|   0.2670337942880235|0.0035830046693057075|  0.6684993822902809|0.0036256955085642987|0.0035666172198049757|0.0035930821774571666|0.0035673798475253427|0.0035751172723573923|0.0036276802762877885| 0.003573560679449959|0.0035759870574495066| 0.003567292857476762|\n",
      "|ny4fgk| 0.006644316528334152| 0.006646497843787876| 0.006690196198695373|0.0066537752083089055|  0.00667964719395342| 0.006647412466826929| 0.006654650173681606| 0.006651124153536397| 0.008672200588591632| 0.006670700883560104|  0.8713059363133979| 0.006750181047839864|0.0066401913586936236| 0.006689462797019571| 0.006641611189809267| 0.006656016412264209| 0.006753876219293084| 0.006653118426383213| 0.006657635761632772| 0.006641449234390034|\n",
      "|ny72f0|0.0038671684586308284|0.0038684380409671855| 0.003893871640757129| 0.003872673659380971|0.0038877318413239503|0.0038689703758323845|0.0038731829131775967| 0.003871130675256283|   0.9245890612629866|0.0038825248564690593|0.005555030872612055| 0.003928784419646958|0.0038647674988477126| 0.003893444783681711|0.0038655938783207157|0.0038739780998872683| 0.003930935103321343| 0.003872291395259332| 0.003874920607260936|0.0038654996163799524|\n",
      "|ny51k5| 0.005809863541004187| 0.005811770906751358| 0.005849981226776511| 0.005818134312844241| 0.005840757063419115| 0.005812570663155605|0.0058188993945932355| 0.005815816201344397| 0.007583065880676009| 0.005832934310423039|  0.8874684953388441| 0.005902432641161011| 0.005806256445675368| 0.005849339936363527| 0.005807497962197966|0.0058200940475226235| 0.005905663738217397|0.0058175600167616305|  0.00582151002499628| 0.005807356347272415|\n",
      "|ny5f33|0.0030917953812207195| 0.003092810411087704| 0.003113144536336552| 0.003096196782132851|0.0031082357753903977|  0.00309323601170015|0.0030966039289601153|0.0030949631679956075| 0.004035429302964264| 0.003104072795868356|   0.637522692316101|   0.3057332420830172| 0.003089875817878517|0.0031128032645899263|0.0030905365070081794| 0.003097239680050471|0.0031427767197076063|  0.00309589116213241|0.0030979932111793473|0.0030904611446785526|\n",
      "|nxvavt| 0.003568832953627408|0.0035700045936557594| 0.003593476100156379|0.0035739134523403737|0.0035878099605852164|0.0035704958611274245|0.0035743834195161267|0.0035724895026224457| 0.004658062905093271| 0.003583004667524356|  0.9308751137093262|0.0036256955078441894|0.0035666172182051738|0.0035930821744229887| 0.003567379846272093|0.0035751172609762316|0.0036276802766597787|0.0035735606783282663|0.0035759870555693452|0.0035672928561468528|\n",
      "|nxv3dn| 0.004643514877060158| 0.004645039333255997| 0.004675578808819911|0.0046501252648826425| 0.004668206425509365|0.0046456785355734305| 0.004650736754512032|0.0046482725224532215|0.0060607469575274615| 0.004661954118314145|  0.9100595485656247| 0.004717500438710968| 0.004640631917821947| 0.004675066263903057|  0.00464162419575318| 0.004651691576700586| 0.004720082879935767| 0.004649666260553064| 0.004652823292739109| 0.004641511010349276|\n",
      "|ny1bag| 0.005809863539772155| 0.005811770905062966| 0.005849981224932391|0.0058181343119731365| 0.005840757063550537|  0.00581257066143843|0.0058188993927828355| 0.005815816199802164|   0.8867059032609649| 0.005832934309394046| 0.00834565798187153| 0.005902432640470373| 0.005806256444302304| 0.005849339933954227| 0.005807497960405018| 0.005820094046013319| 0.005905663739404798| 0.005817560014754273| 0.005821510023395577| 0.005807356345755033|\n",
      "|ny799w| 0.003568832957826966| 0.003570004597424309|0.0035934761041606063| 0.003573913457023955| 0.003587809964049844| 0.003570495864984051|0.0035743834228611554|  0.00357248950615624|    0.544575059308045| 0.003583004677739548| 0.39095811723662577|0.0036256955076404726|0.0035666172228602105| 0.003593082178363487|0.0035673798493806056|0.0035751172652861017|   0.0036276802780245|0.0035735606819762835| 0.003575987060048752|0.0035672928595222035|\n",
      "|nxv3yl| 0.005809863564929969| 0.005811770926647598| 0.005849981249625951| 0.005818134335018888|0.0058407570903454605|0.0058125706834432885| 0.005818899414452063| 0.005815816225089286| 0.007583073079948327| 0.005832934330727324|  0.8874684877252242| 0.005902432671367732| 0.005806256468484037|  0.00584933995361396| 0.005807497999429674| 0.005820094063728673| 0.005905663758545807| 0.005817560040374552| 0.005821510048884773|0.0058073563701185275|\n",
      "|ny1gsq|0.0046435148857412725| 0.004645039342456428| 0.004675578820551866| 0.004650125276070157| 0.004668206434940356| 0.004645678543945681| 0.004650736764833407| 0.004648272531909082|  0.23355711426033493| 0.004661954124817999|  0.6825631809562388|0.0047175004501177585| 0.004640631930046494| 0.004675066271584241| 0.004641624206186233|0.0046516916552483195| 0.004720082947421415|  0.00464966627053935| 0.004652823304327679| 0.004641511022688352|\n",
      "|ny5njo| 0.004643514877424362| 0.004645039332969057| 0.004675578809423695| 0.004650125265774514| 0.004668206426580624| 0.004645678536020551| 0.004650736753850565| 0.004648272521684802|   0.5038650629175486| 0.004661954116063544|  0.4122552326102493| 0.004717500436974639| 0.004640631918015383|0.0046750662608378195| 0.004641624195961349| 0.004651691577085275| 0.004720082878981274| 0.004649666261552901| 0.004652823292277491|0.0046415110107243885|\n",
      "|nxyzq5| 0.006644316528592776| 0.006646497842199105|0.0066901961941969205| 0.006653775210669548| 0.006679647191838348| 0.006647412464976151| 0.006654650173649932|  0.00665112415115633| 0.008672199962293736| 0.006670700881512631|  0.8713059369704025| 0.006750181041433972| 0.006640191355910022| 0.006689462797252503| 0.006641611187269787| 0.006656016410188379|  0.00675387621654416| 0.006653118425635877| 0.006657635761284858| 0.006641449232992476|\n",
      "|ny60on| 0.006644316525018689|  0.00664649783951914| 0.006690196191561943| 0.006653775203231591| 0.006679647188840935|  0.00664741246296889| 0.006654650170468698| 0.006651124148126949| 0.008672197872149096| 0.006670700880137407|   0.871305939110709|  0.00675018104151365| 0.006640191354196812| 0.006689462796310852| 0.006641611185398519| 0.006656016407832422|0.0067538762119354655|0.0066531184218277285|0.0066576357579047375| 0.006641449230347493|\n",
      "|nxxicm| 0.005161620827995362|0.0051633153727157505| 0.005197262331320805| 0.005168968777663925| 0.005189067363444009|0.0051640258977543665| 0.005169648489739668| 0.005166909310713869|0.0067369754450649355| 0.005182117446628098|  0.9000243377301438|0.0052438614143997106| 0.005158416194450851|0.0051966925878884586| 0.005159519193282051| 0.005170709848249678|  0.00524673200372766| 0.005168458557421192| 0.005171967837278535| 0.005159393370117355|\n",
      "+------+---------------------+---------------------+---------------------+---------------------+---------------------+---------------------+---------------------+---------------------+---------------------+---------------------+--------------------+---------------------+---------------------+---------------------+---------------------+---------------------+---------------------+---------------------+---------------------+---------------------+\n",
      "only showing top 20 rows\n",
      "\n"
     ]
    }
   ],
   "source": [
    "# The training model used this number of topics, so need to know that for vector importance here\n",
    "num_topics = 20\n",
    "# Create partial features df by collecting topic distributions for each title\n",
    "temp = indiv.select('topicDistribution')\n",
    "# Create a list of sequential column titles to be used for populating this\n",
    "X_titles = [f'T_{i}' for i in range(1, num_topics +1)]\n",
    "X_titles = ['id'] + X_titles # adding the id at start\n",
    "# Populate topic features\n",
    "temp = indiv.withColumn(\"T_\", vector_to_array(\"topicDistribution\")).select([\"id\"] + [col(\"T_\")[i] for i in range(20)]).drop('vectors', 'topicDistribution')\n",
    "temp = temp.toDF(*X_titles)\n",
    "temp.show(truncate =40)"
   ]
  },
  {
   "cell_type": "code",
   "execution_count": 29,
   "id": "20d7c4a9",
   "metadata": {},
   "outputs": [],
   "source": [
    "# Pull together the topic features and other ones\n",
    "rf_full = temp.join(subs_data, on = 'id', how= 'left').drop('id','subreddit_id','title','event_timestamp','created_utc','link_id')"
   ]
  },
  {
   "cell_type": "code",
   "execution_count": 33,
   "id": "096ca996",
   "metadata": {},
   "outputs": [],
   "source": [
    "# Load the pre-trained random forest model\n",
    "pipeline_model = PipelineModel.load('pipeline_model')\n",
    "\n",
    "# Required variables for the pipeline\n",
    "cat_cols = ['domain','hour','day'] # categorical columns\n",
    "# Change title of one hot encoded categoricals created in the pipeline\n",
    "cat_cols_ohe = [f\"{cat_col}_ohe\" for cat_col in cat_cols]\n",
    "# Define the numerical columns\n",
    "features_cols = rf_full.columns\n",
    "num_cols = [x for x in features_cols if x not in cat_cols]\n",
    "\n",
    "# Apply it to the new feature dataframe fro new submissions\n",
    "predicted_comments = pipeline_model.transform(rf_full)"
   ]
  },
  {
   "cell_type": "code",
   "execution_count": 34,
   "id": "ea465ba1",
   "metadata": {},
   "outputs": [],
   "source": [
    "preds= predicted_comments.select(['prediction'])"
   ]
  },
  {
   "cell_type": "code",
   "execution_count": 35,
   "id": "adda3aca",
   "metadata": {},
   "outputs": [
    {
     "name": "stdout",
     "output_type": "stream",
     "text": [
      "+----------+\n",
      "|prediction|\n",
      "+----------+\n",
      "|       0.0|\n",
      "|       0.0|\n",
      "|       0.0|\n",
      "|       0.0|\n",
      "|       0.0|\n",
      "|       0.0|\n",
      "|       0.0|\n",
      "|       0.0|\n",
      "|       0.0|\n",
      "|       0.0|\n",
      "+----------+\n",
      "only showing top 10 rows\n",
      "\n"
     ]
    }
   ],
   "source": [
    "preds.show(10)"
   ]
  },
  {
   "cell_type": "code",
   "execution_count": null,
   "id": "177535da",
   "metadata": {},
   "outputs": [],
   "source": []
  },
  {
   "cell_type": "code",
   "execution_count": 36,
   "id": "8efdbedd",
   "metadata": {},
   "outputs": [],
   "source": [
    "spark.stop()"
   ]
  },
  {
   "cell_type": "code",
   "execution_count": null,
   "id": "dc2caaf0",
   "metadata": {},
   "outputs": [],
   "source": []
  }
 ],
 "metadata": {
  "kernelspec": {
   "display_name": "Python 3",
   "language": "python",
   "name": "python3"
  },
  "language_info": {
   "codemirror_mode": {
    "name": "ipython",
    "version": 3
   },
   "file_extension": ".py",
   "mimetype": "text/x-python",
   "name": "python",
   "nbconvert_exporter": "python",
   "pygments_lexer": "ipython3",
   "version": "3.8.8"
  }
 },
 "nbformat": 4,
 "nbformat_minor": 5
}
