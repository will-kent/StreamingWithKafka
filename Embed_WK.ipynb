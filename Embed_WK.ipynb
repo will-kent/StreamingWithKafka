{
 "cells": [
  {
   "cell_type": "code",
   "execution_count": 60,
   "id": "9772c9c3",
   "metadata": {},
   "outputs": [],
   "source": [
    "# Import required packages\n",
    "import configparser\n",
    "from confluent_kafka import Producer\n",
    "import gensim\n",
    "from gensim.utils import simple_preprocess\n",
    "import gensim.corpora as corpora\n",
    "import json\n",
    "import logging\n",
    "from multiprocessing import Process\n",
    "import numpy as np\n",
    "import os\n",
    "import pandas as pd\n",
    "import praw\n",
    "import pyspark\n",
    "from pyspark import broadcast, SparkContext\n",
    "from pyspark.mllib.util import MLUtils\n",
    "from pyspark.ml.feature import CountVectorizer, CountVectorizerModel, Tokenizer, RegexTokenizer, StopWordsRemover, OneHotEncoder, StringIndexer, VectorAssembler, VectorIndexer, Bucketizer\n",
    "from pyspark.ml.linalg import Vectors, SparseVector\n",
    "from pyspark.ml.clustering import LDA, LocalLDAModel\n",
    "from pyspark.ml.functions import vector_to_array\n",
    "from pyspark.ml.pipeline import PipelineModel\n",
    "from pyspark.sql import SparkSession, SQLContext\n",
    "from pyspark.sql.types import *\n",
    "import pyspark.sql.functions as F\n",
    "# from pyspark.sql import SQLContext\n",
    "import socket\n",
    "import re\n",
    "import sys\n",
    "import scipy"
   ]
  },
  {
   "cell_type": "code",
   "execution_count": 144,
   "id": "1e2217c9",
   "metadata": {},
   "outputs": [],
   "source": [
    "# Set parameters\n",
    "broker = \"broker:29092\"\n",
    "num_topics = 20\n",
    "model_cols = [\"event_key\",\"event_topic\",\"event_timestamp\",\"title\",\"author_fullname\",\"subreddit_name_prefixed\",\"name\",\"upvote_ratio\",\"ups\",\"created\",\n",
    "              \"domain\",\"url_overridden_by_dest\",\"over_18\",\"permalink\",\"parent_whitelist_status\",\"url\"]\n",
    "final_cols = model_cols + [\"hour\",\"day\"]\n",
    "cat_cols = ['domain','hour','day']"
   ]
  },
  {
   "cell_type": "code",
   "execution_count": null,
   "id": "7938117f",
   "metadata": {},
   "outputs": [],
   "source": [
    "# Read passwords and secrets from config file\n",
    "# May not be required\n",
    "#config_parser = configparser.ConfigParser()\n",
    "#config_parser.read(\"src/configuration/config.cfg\")"
   ]
  },
  {
   "cell_type": "code",
   "execution_count": 5,
   "id": "a5289245",
   "metadata": {},
   "outputs": [],
   "source": [
    "#from pyspark.sql.functions import month, year, mean, count, dayofweek, hour, col, min, max, avg, sum, when, lit, desc, unix_timestamp, from_unixtime, udf, regexp_replace"
   ]
  },
  {
   "cell_type": "code",
   "execution_count": 396,
   "id": "f00e97c8",
   "metadata": {},
   "outputs": [],
   "source": [
    "# Build the spark session\n",
    "spark = SparkSession.builder \\\n",
    "        .appName('kafka') \\\n",
    "        .getOrCreate()"
   ]
  },
  {
   "cell_type": "markdown",
   "id": "0a703e36",
   "metadata": {},
   "source": [
    "## Load the raw stream and convert to dataframe objects for processing"
   ]
  },
  {
   "cell_type": "code",
   "execution_count": 397,
   "id": "0a093e00",
   "metadata": {},
   "outputs": [],
   "source": [
    "# Load raw stream data for submissions and convert to df useable in processing to prediction\n",
    "## NOTE - no need to do this for comments stream as the model is pre-trained and only applied to submission data\n",
    "\n",
    "df_s = spark \\\n",
    "  .readStream \\\n",
    "  .format(\"kafka\") \\\n",
    "  .option(\"kafka.bootstrap.servers\", \"broker:29092\") \\\n",
    "  .option(\"startingOffsets\", \"earliest\") \\\n",
    "  .option(\"subscribe\", \"submissions\") \\\n",
    "  .load()"
   ]
  },
  {
   "cell_type": "code",
   "execution_count": 379,
   "id": "e6a6baf8",
   "metadata": {},
   "outputs": [
    {
     "name": "stdout",
     "output_type": "stream",
     "text": [
      "root\n",
      " |-- key: binary (nullable = true)\n",
      " |-- value: binary (nullable = true)\n",
      " |-- topic: string (nullable = true)\n",
      " |-- partition: integer (nullable = true)\n",
      " |-- offset: long (nullable = true)\n",
      " |-- timestamp: timestamp (nullable = true)\n",
      " |-- timestampType: integer (nullable = true)\n",
      "\n"
     ]
    }
   ],
   "source": [
    "df_s.printSchema()"
   ]
  },
  {
   "cell_type": "code",
   "execution_count": 398,
   "id": "076a1b75",
   "metadata": {},
   "outputs": [],
   "source": [
    "string_stream_df_s = df_s \\\n",
    "    .withColumn(\"key\", df_s[\"key\"].cast(StringType())) \\\n",
    "    .withColumn(\"value\", df_s[\"value\"].cast(StringType()))"
   ]
  },
  {
   "cell_type": "code",
   "execution_count": 399,
   "id": "860b4dd5",
   "metadata": {},
   "outputs": [],
   "source": [
    "# Specify the structure of the value component\n",
    "schema_submissions = StructType([\n",
    "    StructField(\"id\", StringType(),  True),\n",
    "    StructField(\"author_fullname\", StringType(),  True),\n",
    "    StructField(\"title\", StringType(),  True),\n",
    "    StructField(\"subreddit_name_prefixed\", StringType(),  True),\n",
    "    StructField(\"name\", StringType(), True),\n",
    "    StructField(\"upvote_ratio\", DoubleType(),  True),\n",
    "    StructField(\"ups\", IntegerType(), True),\n",
    "    StructField(\"created\", IntegerType(), True),\n",
    "    StructField(\"domain\", StringType(), True),\n",
    "    StructField(\"url_overridden_by_dest\", StringType(), True),\n",
    "    StructField(\"over_18\", StringType(), True),\n",
    "    StructField(\"subreddit_id\", StringType(),  True),\n",
    "    StructField(\"permalink\", StringType(),  True),\n",
    "    StructField(\"parent_whitelist_status\", StringType(),  True),\n",
    "    StructField(\"url\", StringType(),  True),\n",
    "    StructField(\"created_utc\", IntegerType(), True)\n",
    "])"
   ]
  },
  {
   "cell_type": "code",
   "execution_count": 400,
   "id": "82c81285",
   "metadata": {},
   "outputs": [],
   "source": [
    "# To json to split our the values in message\n",
    "json_stream_df = string_stream_df_s.withColumn(\"value\", F.from_json(\"value\", schema_submissions))"
   ]
  },
  {
   "cell_type": "code",
   "execution_count": 401,
   "id": "d3ca30e9",
   "metadata": {},
   "outputs": [],
   "source": [
    "tokenizer = Tokenizer(inputCol=\"title\", outputCol=\"words\")\n",
    "\n",
    "stop_words =StopWordsRemover.loadDefaultStopWords(\"english\")\n",
    "stop_words = stop_words + ['a','i']\n",
    "\n",
    "remover = StopWordsRemover(inputCol=\"words\", outputCol=\"filtered\", stopWords=stop_words)\n",
    "\n",
    "# Load the vectorizer trained on the original training data and used for the LDA model training and hence the rf model relying on it.\n",
    "cvmodel = CountVectorizerModel.load('count_vectorizer_model')\n",
    "\n",
    "# Load the LDA model trained on the original training data \n",
    "lda_model = LocalLDAModel.load('lda_distributed_model')\n",
    "\n",
    "X_titles = [f'T_{i}' for i in range(1, num_topics + 1)]\n",
    "\n",
    "# Load the pre-trained random forest model\n",
    "pipeline_model = PipelineModel.load('pipeline_model')\n",
    "\n",
    "# Required variables for the pipeline\n",
    " # categorical columns\n",
    "\n",
    "# Change title of one hot encoded categoricals created in the pipeline\n",
    "cat_cols_ohe = [f\"{cat_col}_ohe\" for cat_col in cat_cols]"
   ]
  },
  {
   "cell_type": "code",
   "execution_count": 402,
   "id": "3d46b7f8",
   "metadata": {},
   "outputs": [],
   "source": [
    "# Create the final usable df for submissions\n",
    "submissions_stream_df = json_stream_df \\\n",
    "    .select( \\\n",
    "        F.col(\"key\").alias(\"event_key\"), \\\n",
    "        F.col(\"topic\").alias(\"event_topic\"), \\\n",
    "        F.col(\"timestamp\").alias(\"event_timestamp\"), \\\n",
    "            \"value.id\", \\\n",
    "            \"value.author_fullname\", \\\n",
    "            \"value.title\", \\\n",
    "            \"value.subreddit_name_prefixed\", \\\n",
    "            \"value.name\", \\\n",
    "            \"value.upvote_ratio\", \\\n",
    "            \"value.ups\", \\\n",
    "            \"value.created\", \\\n",
    "            \"value.domain\", \\\n",
    "            \"value.url_overridden_by_dest\", \\\n",
    "            \"value.over_18\", \\\n",
    "            \"value.subreddit_id\", \\\n",
    "            \"value.permalink\", \\\n",
    "            \"value.parent_whitelist_status\", \\\n",
    "            \"value.url\",\n",
    "            \"value.created_utc\"\n",
    "           )\n",
    "\n",
    "submissions_stream_df = submissions_stream_df.select('id','title','domain','subreddit_id','event_timestamp') \\\n",
    "    .withColumn(\"title\", F.regexp_replace(F.col(\"title\"), '[^\\sa-zA-Z]', '')) \\\n",
    "    .withColumn(\"hour\", F.hour(F.col(\"event_timestamp\"))).withColumn(\"day\", F.dayofweek(F.col(\"event_timestamp\"))) \\\n",
    "    .withColumn(\"hour\", F.col(\"hour\").astype(StringType())).withColumn(\"day\", F.col(\"day\").astype(StringType()))\n",
    "\n",
    "submissions_stream_df = tokenizer.transform(submissions_stream_df)\n",
    "submissions_stream_df = remover.transform(submissions_stream_df)\n",
    "submissions_stream_df = cvmodel.transform(submissions_stream_df)\n",
    "#submissions_stream_df = submissions_stream_df.select('vectors', 'id')\n",
    "submissions_stream_df = lda_model.transform(submissions_stream_df)\n",
    "\n",
    "submissions_stream_df = submissions_stream_df.withColumn(\"T_\", vector_to_array(\"topicDistribution\")) \\\n",
    "    .drop('vectors', 'topicDistribution') \\\n",
    "    .select([\"domain\",\"hour\",\"day\"] + [F.col(f\"T_\")[i] for i in range(1,21)]) \\\n",
    "    .withColumnRenamed(\"T_[1]\", \"T_1\") \\\n",
    "    .withColumnRenamed(\"T_[2]\", \"T_2\") \\\n",
    "    .withColumnRenamed(\"T_[3]\", \"T_3\") \\\n",
    "    .withColumnRenamed(\"T_[4]\", \"T_4\") \\\n",
    "    .withColumnRenamed(\"T_[5]\", \"T_5\") \\\n",
    "    .withColumnRenamed(\"T_[6]\", \"T_6\") \\\n",
    "    .withColumnRenamed(\"T_[7]\", \"T_7\") \\\n",
    "    .withColumnRenamed(\"T_[8]\", \"T_8\") \\\n",
    "    .withColumnRenamed(\"T_[9]\", \"T_9\") \\\n",
    "    .withColumnRenamed(\"T_[10]\", \"T_10\") \\\n",
    "    .withColumnRenamed(\"T_[11]\", \"T_11\") \\\n",
    "    .withColumnRenamed(\"T_[12]\", \"T_12\") \\\n",
    "    .withColumnRenamed(\"T_[13]\", \"T_13\") \\\n",
    "    .withColumnRenamed(\"T_[14]\", \"T_14\") \\\n",
    "    .withColumnRenamed(\"T_[15]\", \"T_15\") \\\n",
    "    .withColumnRenamed(\"T_[16]\", \"T_16\") \\\n",
    "    .withColumnRenamed(\"T_[17]\", \"T_17\") \\\n",
    "    .withColumnRenamed(\"T_[18]\", \"T_18\") \\\n",
    "    .withColumnRenamed(\"T_[19]\", \"T_19\") \\\n",
    "    .withColumnRenamed(\"T_[20]\", \"T_20\")\n",
    "\n",
    "# Apply it to the new feature dataframe for new submissions\n",
    "submissions_stream_df = pipeline_model.transform(submissions_stream_df)"
   ]
  },
  {
   "cell_type": "code",
   "execution_count": 403,
   "id": "e199d41b",
   "metadata": {},
   "outputs": [],
   "source": [
    "# Create prediction stream\n",
    "submissions_stream = submissions_stream_df \\\n",
    "    .writeStream \\\n",
    "    .format(\"memory\") \\\n",
    "    .queryName(\"submissions_view\") \\\n",
    "    .start()"
   ]
  },
  {
   "cell_type": "code",
   "execution_count": 412,
   "id": "72a31ec0",
   "metadata": {},
   "outputs": [
    {
     "name": "stdout",
     "output_type": "stream",
     "text": [
      "+------+----+---+---+---+---+---+---+---+---+---+---+----+----+----+----+----+----+----+----+----+----+----+----------+----------+--------+--------+-------+-------+--------+-------------+-----------+----------+\n",
      "|domain|hour|day|T_1|T_2|T_3|T_4|T_5|T_6|T_7|T_8|T_9|T_10|T_11|T_12|T_13|T_14|T_15|T_16|T_17|T_18|T_19|T_20|domain_ind|domain_ohe|hour_ind|hour_ohe|day_ind|day_ohe|features|rawPrediction|probability|prediction|\n",
      "+------+----+---+---+---+---+---+---+---+---+---+---+----+----+----+----+----+----+----+----+----+----+----+----------+----------+--------+--------+-------+-------+--------+-------------+-----------+----------+\n",
      "+------+----+---+---+---+---+---+---+---+---+---+---+----+----+----+----+----+----+----+----+----+----+----+----------+----------+--------+--------+-------+-------+--------+-------------+-----------+----------+\n",
      "\n",
      "0\n"
     ]
    }
   ],
   "source": [
    "subsmissions_data = spark.sql('SELECT * FROM submissions_view')\n",
    "subsmissions_data.show(5)\n",
    "print(subsmissions_data.count())\n",
    "# subs_data.show(5, truncate = 40)"
   ]
  },
  {
   "cell_type": "markdown",
   "id": "8ce126c1",
   "metadata": {
    "tags": []
   },
   "source": [
    "## Process new titles data ready for modelling and prediction"
   ]
  },
  {
   "cell_type": "code",
   "execution_count": 407,
   "id": "9845397e",
   "metadata": {},
   "outputs": [],
   "source": [
    "# Create the final usable df for submissions\n",
    "test_submissions_stream_df = json_stream_df \\\n",
    "    .select( \\\n",
    "        F.col(\"key\").alias(\"event_key\"), \\\n",
    "        F.col(\"topic\").alias(\"event_topic\"), \\\n",
    "        F.col(\"timestamp\").alias(\"event_timestamp\"), \\\n",
    "            \"value.id\", \\\n",
    "            \"value.author_fullname\", \\\n",
    "            \"value.title\", \\\n",
    "            \"value.subreddit_name_prefixed\", \\\n",
    "            \"value.name\", \\\n",
    "            \"value.upvote_ratio\", \\\n",
    "            \"value.ups\", \\\n",
    "            \"value.created\", \\\n",
    "            \"value.domain\", \\\n",
    "            \"value.url_overridden_by_dest\", \\\n",
    "            \"value.over_18\", \\\n",
    "            \"value.subreddit_id\", \\\n",
    "            \"value.permalink\", \\\n",
    "            \"value.parent_whitelist_status\", \\\n",
    "            \"value.url\",\n",
    "            \"value.created_utc\"\n",
    "           )"
   ]
  },
  {
   "cell_type": "code",
   "execution_count": 408,
   "id": "871ab5f1",
   "metadata": {},
   "outputs": [],
   "source": [
    "# Create prediction stream\n",
    "test_submissions_stream = test_submissions_stream_df \\\n",
    "    .writeStream \\\n",
    "    .format(\"memory\") \\\n",
    "    .queryName(\"test_submissions_view\") \\\n",
    "    .start()"
   ]
  },
  {
   "cell_type": "code",
   "execution_count": 410,
   "id": "6bc304eb",
   "metadata": {},
   "outputs": [
    {
     "name": "stdout",
     "output_type": "stream",
     "text": [
      "+---------+-----------+--------------------+------+---------------+--------------------+-----------------------+---------+------------+----+-------+-------------+----------------------+-------+------------+--------------------+-----------------------+--------------------+-----------+\n",
      "|event_key|event_topic|     event_timestamp|    id|author_fullname|               title|subreddit_name_prefixed|     name|upvote_ratio| ups|created|       domain|url_overridden_by_dest|over_18|subreddit_id|           permalink|parent_whitelist_status|                 url|created_utc|\n",
      "+---------+-----------+--------------------+------+---------------+--------------------+-----------------------+---------+------------+----+-------+-------------+----------------------+-------+------------+--------------------+-----------------------+--------------------+-----------+\n",
      "|   ny36rp|submissions|2021-06-13 00:49:...|ny36rp|    t2_1mwvv4vy|Bangladesh signs ...|            r/worldnews|t3_ny36rp|        0.62|   9|   null|  tbsnews.net|  https://www.tbsne...|  false|    t5_2qh13|/r/worldnews/comm...|                all_ads|https://www.tbsne...|       null|\n",
      "|   ny3hq4|submissions|2021-06-13 00:49:...|ny3hq4|    t2_cjkcv8wd|Russia Raises 202...|            r/worldnews|t3_ny3hq4|        0.96|1666|   null|bloomberg.com|  https://www.bloom...|  false|    t5_2qh13|/r/worldnews/comm...|                all_ads|https://www.bloom...|       null|\n",
      "|   ny3j81|submissions|2021-06-13 00:49:...|ny3j81|    t2_cjkcv8wd|Indian village pr...|            r/worldnews|t3_ny3j81|         0.7|  39|   null|  reuters.com|  https://www.reute...|  false|    t5_2qh13|/r/worldnews/comm...|                all_ads|https://www.reute...|       null|\n",
      "|   ny3o6f|submissions|2021-06-13 00:49:...|ny3o6f|       t2_iqqlh|The UN Committee ...|            r/worldnews|t3_ny3o6f|        0.75|  24|   null|    ohchr.org|  https://www.ohchr...|  false|    t5_2qh13|/r/worldnews/comm...|                all_ads|https://www.ohchr...|       null|\n",
      "|   ny3usy|submissions|2021-06-13 00:49:...|ny3usy|    t2_b5wxxygz|Balfour, the prim...|            r/worldnews|t3_ny3usy|        0.46|   0|   null|  m.jpost.com|  https://m.jpost.c...|  false|    t5_2qh13|/r/worldnews/comm...|                all_ads|https://m.jpost.c...|       null|\n",
      "+---------+-----------+--------------------+------+---------------+--------------------+-----------------------+---------+------------+----+-------+-------------+----------------------+-------+------------+--------------------+-----------------------+--------------------+-----------+\n",
      "only showing top 5 rows\n",
      "\n",
      "119\n"
     ]
    }
   ],
   "source": [
    "subs_data = spark.sql('SELECT * FROM test_submissions_view')\n",
    "subs_data.show(5)\n",
    "print(subs_data.count())\n",
    "# subs_data.show(5, truncate = 40)"
   ]
  },
  {
   "cell_type": "code",
   "execution_count": 367,
   "id": "8ddba154",
   "metadata": {},
   "outputs": [
    {
     "data": {
      "text/plain": [
       "119"
      ]
     },
     "execution_count": 367,
     "metadata": {},
     "output_type": "execute_result"
    }
   ],
   "source": [
    "# Only keep the needed columns and remove duplicate rows - submissions\n",
    "subs_data = subs_data.select('id','title','domain','subreddit_id','event_timestamp')\n",
    "subs_data = subs_data.distinct()\n",
    "subs_data.count()"
   ]
  },
  {
   "cell_type": "code",
   "execution_count": 368,
   "id": "98d4efda",
   "metadata": {},
   "outputs": [],
   "source": [
    "# Remove punctuation and numbers from titles\n",
    "subs_data = subs_data.withColumn(\"title\", F.regexp_replace(F.col(\"title\"), '[^\\sa-zA-Z]', ''))\n",
    "\n",
    "# Prepare a tokenizer\n",
    "tokenizer = Tokenizer(inputCol=\"title\", outputCol=\"words\")\n",
    "wordsDataFrame = tokenizer.transform(subs_data)\n",
    "\n",
    "# Define stopwords\n",
    "stop_words = StopWordsRemover.loadDefaultStopWords(\"english\")\n",
    "stop_words = stop_words + ['a','i']\n",
    "\n",
    "# Apply the stop words remover\n",
    "remover = StopWordsRemover(inputCol=\"words\", outputCol=\"filtered\", stopWords=stop_words)\n",
    "wordsDataFrame = remover.transform(wordsDataFrame)"
   ]
  },
  {
   "cell_type": "code",
   "execution_count": 369,
   "id": "29d2369d",
   "metadata": {},
   "outputs": [
    {
     "name": "stdout",
     "output_type": "stream",
     "text": [
      "+--------------------+------+\n",
      "|             vectors|    id|\n",
      "+--------------------+------+\n",
      "|(68283,[1,3,6,144...|nyc0xu|\n",
      "|(68283,[1,6,47,11...|nyfeyp|\n",
      "|(68283,[0,4,7,22,...|nyagde|\n",
      "|(68283,[0,1751,18...|nyccrc|\n",
      "|(68283,[1,335,501...|ny6ed0|\n",
      "|(68283,[74,272,30...|nyc1vt|\n",
      "|(68283,[2,17,47,7...|nyew7i|\n",
      "|(68283,[55,67,202...|nyg537|\n",
      "|(68283,[33,153,17...|ny6st7|\n",
      "|(68283,[0,69,113,...|ny6ug6|\n",
      "|(68283,[7,17,33,5...|nydqvu|\n",
      "|(68283,[6,17,47,3...|nygp6t|\n",
      "|(68283,[61,519,11...|nyifam|\n",
      "|(68283,[211,719,1...|nybrib|\n",
      "|(68283,[366,695,1...|nygt8j|\n",
      "|(68283,[4,67,126,...|nyj2p8|\n",
      "|(68283,[639,644,2...|nyk526|\n",
      "|(68283,[0,1,7,9,4...|nyktrp|\n",
      "|(68283,[3,56,335,...|ny7zzo|\n",
      "|(68283,[0,1,2,61,...|nylk0u|\n",
      "+--------------------+------+\n",
      "only showing top 20 rows\n",
      "\n"
     ]
    }
   ],
   "source": [
    "# Load the vectorizer trained on the original training data and used for the LDA model training and hence the rf model relying on it.\n",
    "cvmodel = CountVectorizerModel.load('count_vectorizer_model')\n",
    "\n",
    "# Then apply it to new titles data\n",
    "df_vect = cvmodel.transform(wordsDataFrame)\n",
    "basics = df_vect.select('vectors', 'id')\n",
    "basics.show()"
   ]
  },
  {
   "cell_type": "code",
   "execution_count": 370,
   "id": "f5bfdaad",
   "metadata": {},
   "outputs": [],
   "source": [
    "# Load the LDA model trained on the original training data \n",
    "lda_model = LocalLDAModel.load('lda_distributed_model')\n",
    "\n",
    "# Then apply it to new titles vectors\n",
    "indiv = lda_model.transform(basics)"
   ]
  },
  {
   "cell_type": "markdown",
   "id": "8b94f702",
   "metadata": {},
   "source": [
    "## Build other features into dataset"
   ]
  },
  {
   "cell_type": "code",
   "execution_count": 371,
   "id": "dee46ef3",
   "metadata": {
    "tags": []
   },
   "outputs": [],
   "source": [
    "subs_data = subs_data.withColumn(\"hour\", F.hour(F.col(\"event_timestamp\"))).withColumn(\"day\", F.dayofweek(F.col(\"event_timestamp\")))\n",
    "subs_data = subs_data.withColumn(\"hour\", F.col(\"hour\").astype(StringType())).withColumn(\"day\", F.col(\"day\").astype(StringType()))"
   ]
  },
  {
   "cell_type": "code",
   "execution_count": 372,
   "id": "819e48dd",
   "metadata": {},
   "outputs": [
    {
     "name": "stdout",
     "output_type": "stream",
     "text": [
      "+------+---------------------+---------------------+---------------------+---------------------+---------------------+---------------------+---------------------+---------------------+-------------------+---------------------+---------------------+---------------------+---------------------+---------------------+---------------------+---------------------+---------------------+---------------------+---------------------+---------------------+\n",
      "|    id|                  T_1|                  T_2|                  T_3|                  T_4|                  T_5|                  T_6|                  T_7|                  T_8|                T_9|                 T_10|                 T_11|                 T_12|                 T_13|                 T_14|                 T_15|                 T_16|                 T_17|                 T_18|                 T_19|                 T_20|\n",
      "+------+---------------------+---------------------+---------------------+---------------------+---------------------+---------------------+---------------------+---------------------+-------------------+---------------------+---------------------+---------------------+---------------------+---------------------+---------------------+---------------------+---------------------+---------------------+---------------------+---------------------+\n",
      "|nyc0xu| 0.004219450214581633| 0.004218547841895463|0.0042450903238827374| 0.004221124047998719| 0.004235255468246801| 0.004221012998140215| 0.004230441964830229|0.0042211826939130255| 0.9187395725740105| 0.004223440758057018| 0.005095849889164285| 0.004292840689402406| 0.004216960250369181| 0.004244362075309923| 0.004231859367109952| 0.004223373887916265|0.0042362214000178115| 0.004219021416624462|  0.00422799334578957| 0.004236398792739921|\n",
      "|nyfeyp| 0.006643685118438929| 0.006642264298719679|0.0066840564478915935| 0.006646320633024587|  0.00666857109318285| 0.006646145781145356| 0.006660992047694643| 0.006646412973056113| 0.6929080188633885| 0.006649968381015389|  0.18716795202548217|0.0067592412212417845| 0.006639764574725859|0.0066829097916559594| 0.006663223802476664|0.0066498630921972305| 0.006670091989397103| 0.006643009959807375|0.0066571366044081625|  0.00667037130105037|\n",
      "|nyagde| 0.003568406709707781| 0.003567643569953005| 0.003590090658005845|0.0035698222778829105| 0.003581773279325451|0.0035697283625699618|0.0035777024788138235|0.0035698718746930824| 0.9312777161487187|0.0035717815292981947|  0.00430958178395713|0.0036304733450279853|0.0035663009367095854|0.0035894747745704794|0.0035789011823018015|0.0035717249770809787| 0.003582590172558597| 0.003568044073235012|0.0035756316717742956| 0.003582740193815531|\n",
      "|nyccrc| 0.005161069579645571| 0.005159965834195871| 0.005192431579601961| 0.005163116950612178| 0.005180401960385167| 0.005162981116619872|0.0051745142696969625|  0.00516318868008724| 0.9006053626897835| 0.005165950662588686| 0.006233048883852519| 0.005250837993631807| 0.005158023952725977| 0.005191540812602607| 0.005176247979833963| 0.005165868868141368| 0.005181583452149899|0.0051605450910650105| 0.005171519210644217| 0.005181800432135512|\n",
      "|ny6ed0|0.0058092729650576986| 0.005808030594074478| 0.005844573866971004| 0.005811577474981714|0.0058310333904584505| 0.005811424583521016| 0.005824406235345877| 0.005811658217768381| 0.8881219167826387| 0.005814767086413498| 0.007015885821195611| 0.005910315825398722|0.0058058448233835455|  0.00584357122519789| 0.005826357694810112| 0.005814675020486374| 0.005832363270566945| 0.005808682602824484| 0.005821035015307526| 0.005832607503597831|\n",
      "|nyc1vt| 0.004642999880705308| 0.004642006929061039| 0.004671213752949111| 0.004644841733617764|  0.00466039166972496| 0.004644719537807809| 0.004655094985296179| 0.004644906266509786| 0.9105826267940633| 0.004647390996181971|  0.00560737273927716| 0.004723757312142127| 0.004640259974564033| 0.004670412404804044| 0.004656654668602238| 0.004647317413285057| 0.004661454562597565| 0.004642528039253631| 0.004652400574942085| 0.004661649764614448|\n",
      "|nyew7i| 0.004219450214955487| 0.004218547842858048| 0.004245090331140233| 0.004221124049242838| 0.004235255469655043| 0.004221012998725631| 0.004230441965529209| 0.004221182694380175|0.45669668661607227| 0.004223440758529199|   0.4671387358245876| 0.004292840692952773| 0.004216960250604765|   0.0042443620750048| 0.004231859367905127| 0.004223373889084918| 0.004236221402036787| 0.004219021416697213| 0.004227993346698781|0.0042363987933390435|\n",
      "|nyg537| 0.004219450224139291|   0.0042185478544952| 0.004245090334463106| 0.004221124060034403| 0.004235255479911167| 0.004221013008556517| 0.004230441976837197| 0.004221182704150382| 0.8107676842764253| 0.004223440770940821|  0.11306773799265134|0.0042928406974433436| 0.004216960260269761| 0.004244362082962188| 0.004231859377900355| 0.004223373897963278| 0.004236221409319921| 0.004219021429575252| 0.004227993357457451| 0.004236398804503846|\n",
      "|ny6st7| 0.005161069571461314| 0.005159965824269979| 0.005192431569522034| 0.005163116940643457| 0.005180401954268011| 0.005162981108464565| 0.005174514257960751| 0.005163188673248119| 0.9006053631126559|0.0051659506514037485|  0.00623304862529706| 0.005250837984369184|0.0051580239423262755|  0.00519154080599366|0.0051762479703931245| 0.005165868857919901| 0.005181583444575828| 0.005160545081492572| 0.005171519202145327| 0.005181800421589193|\n",
      "|ny6ug6| 0.004642999878782526|0.0046420069263915535| 0.004671213750772946| 0.004644841732736521| 0.004660391669504213|   0.0046447195359944|0.0046550949841496995|0.0046449062660078875| 0.9105826130190094| 0.004647390996358665| 0.005607386525014168|0.0047237573277827205| 0.004640259972199053|0.0046704124016800535| 0.004656654666106744| 0.004647317412253548| 0.004661454562494814|0.0046425280380202735| 0.004652400572613009| 0.004661649762127401|\n",
      "|nydqvu|0.0027269062661949314|0.0027263230897279877| 0.002743476713276689| 0.002727988015742078|0.0027371207359018056|0.0027279162474943643|0.0027340099119650993|0.0027280259168987677| 0.9474837748860184|0.0027294852369672265|0.0032933042967501543| 0.002774336371867116| 0.002725297075880642|0.0027430060687222736| 0.002734925935719947| 0.002729442021172278|0.0027377449894879806|0.0027266291468517486|0.0027324274406014806|0.0027378596327591862|\n",
      "|nygp6t| 0.005809272958251911| 0.005808030586138926|   0.0058445738596394| 0.005811577466335212| 0.005831033383764799|0.0058114245746908036| 0.005824406228429403| 0.005811658208894458| 0.6601992922446304| 0.005814767075839901|  0.23493851050441328|  0.00591031581582214|  0.00580584481457372| 0.005843571218218782| 0.005826357685737501| 0.005814675010163026| 0.005832363265259987| 0.005808682595721836| 0.005821035008304022| 0.005832607495170665|\n",
      "|nyifam|0.0066436851641153835| 0.006642264336964329| 0.006684056510832383| 0.006646320700684955| 0.006668571299798379| 0.006646145837035167|0.0066609920837365135| 0.006646413050283078| 0.8720523595304732|0.0066499684350846576| 0.008023610256958733| 0.006759241267443002| 0.006639764629310291| 0.006682909834710842|  0.00666322385038303| 0.006649863154631669| 0.006670092040479294| 0.006643010006000363| 0.006657136651427601| 0.006670371359647382|\n",
      "|nybrib| 0.006643685120920475|0.0066422643019755255| 0.006684056451537358| 0.006646320636412834| 0.006668571095503417| 0.006646145783369309| 0.006660992049869491|0.0066464129761538634| 0.8720523611874554| 0.006649968384708875| 0.008023609649256329| 0.006759241221646606| 0.006639764578078266|0.0066829097933456235| 0.006663223805845641| 0.006649863096025921| 0.006670091992879652| 0.006643009962229545| 0.006657136608222776| 0.006670371304563019|\n",
      "|nygt8j| 0.005809272963279381| 0.005808030591784166| 0.005844573865276227| 0.005811577472768989| 0.005831033391035172|0.0058114245799483506| 0.005824406230663073| 0.005811658212472431| 0.8881219161147597| 0.005814767082063065| 0.007015886541299201|0.0059103158226144654| 0.005805844818015969|0.0058435712241914645|  0.00582635768853227| 0.005814675016310525| 0.005832363268410758| 0.005808682600350109| 0.005821035012951401| 0.005832607503273372|\n",
      "|nyj2p8| 0.005809272964444136| 0.005808030591928311| 0.005844573868742331| 0.005811577471757744| 0.005831033394753189|  0.00581142458435762|  0.00582440623636451|0.0058116582191737685| 0.8881219161629059| 0.005814767088899543| 0.007015886432642497|0.0059103158246021055| 0.005805844823922878| 0.005843571226763565| 0.005826357696050362| 0.005814675020753537| 0.005832363271308325| 0.005808682602140612| 0.005821035016036817| 0.005832607502452216|\n",
      "|nyk526| 0.007758002059046494|  0.00775634293093529| 0.007805144698834286| 0.007761079617100412| 0.007787062050558597| 0.007760875437673403| 0.007778211808190141| 0.007761187445389655| 0.8505922471335857|0.0077653391875275425|  0.00936937834535689|  0.00789293989816298| 0.007753423939876173| 0.007803805719884256|  0.00778081788294196| 0.007765216238747582| 0.007788838042824555|  0.00775721365809706| 0.007773709705133231|  0.00778916420013382|\n",
      "|nyktrp| 0.003866715738884361| 0.003865888800253188|0.0038902124044430464|0.0038682496433528877| 0.003881199715326973| 0.003868147876950081|0.0038767886077336737|0.0038683033864715917| 0.9255327217110041|0.0038703726829016198| 0.004669850740763792| 0.003933970974579144|0.0038644339273021903| 0.003889545035015517| 0.003878087518899085|0.0038703114030039596|0.0038820848975741973|0.0038663227859097294| 0.003874544686788633| 0.003882247462842287|\n",
      "|ny7zzo|  0.00421945021470562| 0.004218547841991077| 0.004245090323927762| 0.004221124047883132|0.0042352554750516615| 0.004221012997966115| 0.004230441964266091|  0.00422118269349989| 0.9187395725674035| 0.004223440758382003|  0.00509584989045879| 0.004292840689638788| 0.004216960250013374| 0.004244362074524826| 0.004231859367151512|0.0042233738887005184|  0.00423622140034125| 0.004219021415739192| 0.004227993345762206| 0.004236398792592853|\n",
      "|nylk0u| 0.002726906267293299|0.0027263230910041856| 0.002743476716451758|0.0027279880164322546| 0.002737120737486607| 0.002727916249484792| 0.002734009912517974| 0.002728025917650087|  0.947483781322118| 0.002729485237720462| 0.003293297838876322| 0.002774336372162956| 0.002725297076727064|0.0027430060688385565|  0.00273492593758688| 0.002729442022337703| 0.002737744990948542| 0.002726629147239602| 0.002732427441679348|0.0027378596354439354|\n",
      "+------+---------------------+---------------------+---------------------+---------------------+---------------------+---------------------+---------------------+---------------------+-------------------+---------------------+---------------------+---------------------+---------------------+---------------------+---------------------+---------------------+---------------------+---------------------+---------------------+---------------------+\n",
      "only showing top 20 rows\n",
      "\n"
     ]
    }
   ],
   "source": [
    "# The training model used this number of topics, so need to know that for vector importance here\n",
    "num_topics = 20\n",
    "\n",
    "# Create partial features df by collecting topic distributions for each title\n",
    "temp = indiv.select('topicDistribution')\n",
    "\n",
    "# Create a list of sequential column titles to be used for populating this\n",
    "X_titles = [f'T_{i}' for i in range(1, num_topics + 1)]\n",
    "X_titles = ['id'] + X_titles # adding the id at start\n",
    "\n",
    "# Populate topic features\n",
    "temp = indiv.withColumn(\"T_\", vector_to_array(\"topicDistribution\")).select([\"id\"] + [F.col(\"T_\")[i] for i in range(20)]).drop('vectors', 'topicDistribution')\n",
    "temp = temp.toDF(*X_titles)\n",
    "temp.show(truncate =40)"
   ]
  },
  {
   "cell_type": "code",
   "execution_count": 373,
   "id": "a04de784",
   "metadata": {},
   "outputs": [],
   "source": [
    "# Pull together the topic features and other ones\n",
    "rf_full = temp.join(subs_data, on='id', how='left').drop('id','subreddit_id','title','event_timestamp','created_utc','link_id')\n"
   ]
  },
  {
   "cell_type": "code",
   "execution_count": 375,
   "id": "249a34a3",
   "metadata": {},
   "outputs": [
    {
     "name": "stdout",
     "output_type": "stream",
     "text": [
      "root\n",
      " |-- T_1: double (nullable = true)\n",
      " |-- T_2: double (nullable = true)\n",
      " |-- T_3: double (nullable = true)\n",
      " |-- T_4: double (nullable = true)\n",
      " |-- T_5: double (nullable = true)\n",
      " |-- T_6: double (nullable = true)\n",
      " |-- T_7: double (nullable = true)\n",
      " |-- T_8: double (nullable = true)\n",
      " |-- T_9: double (nullable = true)\n",
      " |-- T_10: double (nullable = true)\n",
      " |-- T_11: double (nullable = true)\n",
      " |-- T_12: double (nullable = true)\n",
      " |-- T_13: double (nullable = true)\n",
      " |-- T_14: double (nullable = true)\n",
      " |-- T_15: double (nullable = true)\n",
      " |-- T_16: double (nullable = true)\n",
      " |-- T_17: double (nullable = true)\n",
      " |-- T_18: double (nullable = true)\n",
      " |-- T_19: double (nullable = true)\n",
      " |-- T_20: double (nullable = true)\n",
      " |-- domain: string (nullable = true)\n",
      " |-- hour: string (nullable = true)\n",
      " |-- day: string (nullable = true)\n",
      "\n",
      "root\n",
      " |-- id: string (nullable = true)\n",
      " |-- title: string (nullable = true)\n",
      " |-- domain: string (nullable = true)\n",
      " |-- subreddit_id: string (nullable = true)\n",
      " |-- event_timestamp: timestamp (nullable = true)\n",
      " |-- hour: string (nullable = true)\n",
      " |-- day: string (nullable = true)\n",
      "\n"
     ]
    }
   ],
   "source": [
    "rf_full.printSchema()\n",
    "subs_data.printSchema()"
   ]
  },
  {
   "cell_type": "code",
   "execution_count": 347,
   "id": "be1822f6",
   "metadata": {},
   "outputs": [],
   "source": [
    "# Load the pre-trained random forest model\n",
    "pipeline_model = PipelineModel.load('pipeline_model')\n",
    "\n",
    "# Required variables for the pipeline\n",
    "cat_cols = ['domain','hour','day'] # categorical columns\n",
    "\n",
    "# Change title of one hot encoded categoricals created in the pipeline\n",
    "cat_cols_ohe = [f\"{cat_col}_ohe\" for cat_col in cat_cols]\n",
    "\n",
    "# Define the numerical columns\n",
    "features_cols = rf_full.columns\n",
    "num_cols = [x for x in features_cols if x not in cat_cols]\n",
    "\n",
    "# Apply it to the new feature dataframe for new submissions\n",
    "predicted_comments = pipeline_model.transform(rf_full)"
   ]
  },
  {
   "cell_type": "code",
   "execution_count": 349,
   "id": "1d19f533",
   "metadata": {},
   "outputs": [
    {
     "name": "stdout",
     "output_type": "stream",
     "text": [
      "+--------------------+--------------------+--------------------+--------------------+--------------------+--------------------+--------------------+--------------------+-------------------+--------------------+--------------------+--------------------+--------------------+--------------------+--------------------+--------------------+--------------------+--------------------+--------------------+--------------------+--------------------+----+---+----------+------------------+--------+---------------+-------+---------+--------------------+--------------------+--------------------+----------+\n",
      "|                 T_1|                 T_2|                 T_3|                 T_4|                 T_5|                 T_6|                 T_7|                 T_8|                T_9|                T_10|                T_11|                T_12|                T_13|                T_14|                T_15|                T_16|                T_17|                T_18|                T_19|                T_20|              domain|hour|day|domain_ind|        domain_ohe|hour_ind|       hour_ohe|day_ind|  day_ohe|            features|       rawPrediction|         probability|prediction|\n",
      "+--------------------+--------------------+--------------------+--------------------+--------------------+--------------------+--------------------+--------------------+-------------------+--------------------+--------------------+--------------------+--------------------+--------------------+--------------------+--------------------+--------------------+--------------------+--------------------+--------------------+--------------------+----+---+----------+------------------+--------+---------------+-------+---------+--------------------+--------------------+--------------------+----------+\n",
      "|0.004219450214581633|0.004218547841895463|0.004245090323882...|0.004221124047998719|0.004235255468246801|0.004221012998140215|0.004230441964830229|0.004221182693913...| 0.9187395725740105|0.004223440758057018|0.005095849889164285|0.004292840689402406|0.004216960250369181|0.004244362075309923|0.004231859367109952|0.004223373887916265|0.004236221400017...|0.004219021416624462| 0.00422799334578957|0.004236398792739921|         thehill.com|   0|  1|      53.0| (5605,[53],[1.0])|    18.0|(23,[18],[1.0])|    6.0|(6,[],[])|(5654,[53,5623,56...|[16.3419777023567...|[0.81709888511783...|       0.0|\n",
      "|0.006643685118438929|0.006642264298719679|0.006684056447891...|0.006646320633024587| 0.00666857109318285|0.006646145781145356|0.006660992047694643|0.006646412973056113| 0.6929080188633885|0.006649968381015389| 0.18716795202548217|0.006759241221241...|0.006639764574725859|0.006682909791655...|0.006663223802476664|0.006649863092197...|0.006670091989397103|0.006643009959807375|0.006657136604408...| 0.00667037130105037|dailytelegraph.co...|   0|  1|     912.0|(5605,[912],[1.0])|    18.0|(23,[18],[1.0])|    6.0|(6,[],[])|(5654,[912,5623,5...|[16.3419777023567...|[0.81709888511783...|       0.0|\n",
      "|0.003568406709707781|0.003567643569953005|0.003590090658005845|0.003569822277882...|0.003581773279325451|0.003569728362569...|0.003577702478813...|0.003569871874693...| 0.9312777161487187|0.003571781529298...| 0.00430958178395713|0.003630473345027...|0.003566300936709...|0.003589474774570...|0.003578901182301...|0.003571724977080...|0.003582590172558597|0.003568044073235012|0.003575631671774...|0.003582740193815531|         haaretz.com|   0|  1|      78.0| (5605,[78],[1.0])|    18.0|(23,[18],[1.0])|    6.0|(6,[],[])|(5654,[78,5623,56...|[16.3419777023567...|[0.81709888511783...|       0.0|\n",
      "|0.005161069579645571|0.005159965834195871|0.005192431579601961|0.005163116950612178|0.005180401960385167|0.005162981116619872|0.005174514269696...| 0.00516318868008724| 0.9006053626897835|0.005165950662588686|0.006233048883852519|0.005250837993631807|0.005158023952725977|0.005191540812602607|0.005176247979833963|0.005165868868141368|0.005181583452149899|0.005160545091065...|0.005171519210644217|0.005181800432135512|         reuters.com|   0|  1|       1.0|  (5605,[1],[1.0])|    18.0|(23,[18],[1.0])|    6.0|(6,[],[])|(5654,[1,5623,563...|[16.3419777023567...|[0.81709888511783...|       0.0|\n",
      "|0.005809272965057...|0.005808030594074478|0.005844573866971004|0.005811577474981714|0.005831033390458...|0.005811424583521016|0.005824406235345877|0.005811658217768381| 0.8881219167826387|0.005814767086413498|0.007015885821195611|0.005910315825398722|0.005805844823383...| 0.00584357122519789|0.005826357694810112|0.005814675020486374|0.005832363270566945|0.005808682602824484|0.005821035015307526|0.005832607503597831|     theguardian.com|   0|  1|       4.0|  (5605,[4],[1.0])|    18.0|(23,[18],[1.0])|    6.0|(6,[],[])|(5654,[4,5623,563...|[16.0028845479733...|[0.80014422739866...|       0.0|\n",
      "|0.004642999880705308|0.004642006929061039|0.004671213752949111|0.004644841733617764| 0.00466039166972496|0.004644719537807809|0.004655094985296179|0.004644906266509786| 0.9105826267940633|0.004647390996181971| 0.00560737273927716|0.004723757312142127|0.004640259974564033|0.004670412404804044|0.004656654668602238|0.004647317413285057|0.004661454562597565|0.004642528039253631|0.004652400574942085|0.004661649764614448|          usnews.com|   0|  1|      92.0| (5605,[92],[1.0])|    18.0|(23,[18],[1.0])|    6.0|(6,[],[])|(5654,[92,5623,56...|[16.3419777023567...|[0.81709888511783...|       0.0|\n",
      "|0.004219450214955487|0.004218547842858048|0.004245090331140233|0.004221124049242838|0.004235255469655043|0.004221012998725631|0.004230441965529209|0.004221182694380175|0.45669668661607227|0.004223440758529199|  0.4671387358245876|0.004292840692952773|0.004216960250604765|  0.0042443620750048|0.004231859367905127|0.004223373889084918|0.004236221402036787|0.004219021416697213|0.004227993346698781|0.004236398793339...|             cnn.com|   0|  1|      17.0| (5605,[17],[1.0])|    18.0|(23,[18],[1.0])|    6.0|(6,[],[])|(5654,[17,5623,56...|[16.3419777023567...|[0.81709888511783...|       0.0|\n",
      "|0.004219450224139291|  0.0042185478544952|0.004245090334463106|0.004221124060034403|0.004235255479911167|0.004221013008556517|0.004230441976837197|0.004221182704150382| 0.8107676842764253|0.004223440770940821| 0.11306773799265134|0.004292840697443...|0.004216960260269761|0.004244362082962188|0.004231859377900355|0.004223373897963278|0.004236221409319921|0.004219021429575252|0.004227993357457451|0.004236398804503846|        ynetnews.com|   0|  1|     142.0|(5605,[142],[1.0])|    18.0|(23,[18],[1.0])|    6.0|(6,[],[])|(5654,[142,5623,5...|[16.3419777023567...|[0.81709888511783...|       0.0|\n",
      "|0.005161069571461314|0.005159965824269979|0.005192431569522034|0.005163116940643457|0.005180401954268011|0.005162981108464565|0.005174514257960751|0.005163188673248119| 0.9006053631126559|0.005165950651403...| 0.00623304862529706|0.005250837984369184|0.005158023942326...| 0.00519154080599366|0.005176247970393...|0.005165868857919901|0.005181583444575828|0.005160545081492572|0.005171519202145327|0.005181800421589193|             bbc.com|   0|  1|       5.0|  (5605,[5],[1.0])|    18.0|(23,[18],[1.0])|    6.0|(6,[],[])|(5654,[5,5623,563...|[16.1393304942563...|[0.80696652471281...|       0.0|\n",
      "|0.004642999878782526|0.004642006926391...|0.004671213750772946|0.004644841732736521|0.004660391669504213|  0.0046447195359944|0.004655094984149...|0.004644906266007...| 0.9105826130190094|0.004647390996358665|0.005607386525014168|0.004723757327782...|0.004640259972199053|0.004670412401680...|0.004656654666106744|0.004647317412253548|0.004661454562494814|0.004642528038020...|0.004652400572613009|0.004661649762127401|     theguardian.com|   0|  1|       4.0|  (5605,[4],[1.0])|    18.0|(23,[18],[1.0])|    6.0|(6,[],[])|(5654,[4,5623,563...|[16.0028845479733...|[0.80014422739866...|       0.0|\n",
      "+--------------------+--------------------+--------------------+--------------------+--------------------+--------------------+--------------------+--------------------+-------------------+--------------------+--------------------+--------------------+--------------------+--------------------+--------------------+--------------------+--------------------+--------------------+--------------------+--------------------+--------------------+----+---+----------+------------------+--------+---------------+-------+---------+--------------------+--------------------+--------------------+----------+\n",
      "only showing top 10 rows\n",
      "\n"
     ]
    }
   ],
   "source": [
    "predicted_comments.show(10)"
   ]
  },
  {
   "cell_type": "code",
   "execution_count": null,
   "id": "f69d6e86",
   "metadata": {},
   "outputs": [],
   "source": [
    "prediction_stream = predicted_comments \\\n",
    "    .writeStream \\\n",
    "    .format(\"memory\") \\\n",
    "    .outputMode(\"Complete\") \\\n",
    "    .queryName(\"comment_predictions\") \\\n",
    "    .start()"
   ]
  },
  {
   "cell_type": "code",
   "execution_count": 350,
   "id": "8e65a7cb",
   "metadata": {},
   "outputs": [],
   "source": [
    "preds = predicted_comments.select(['prediction'])"
   ]
  },
  {
   "cell_type": "code",
   "execution_count": null,
   "id": "c4d4fa71",
   "metadata": {},
   "outputs": [],
   "source": [
    "predicted_comments.show(10)"
   ]
  },
  {
   "cell_type": "code",
   "execution_count": 351,
   "id": "75a67c89",
   "metadata": {},
   "outputs": [
    {
     "name": "stdout",
     "output_type": "stream",
     "text": [
      "+----------+\n",
      "|prediction|\n",
      "+----------+\n",
      "|       0.0|\n",
      "|       0.0|\n",
      "|       0.0|\n",
      "|       0.0|\n",
      "|       0.0|\n",
      "|       0.0|\n",
      "|       0.0|\n",
      "|       0.0|\n",
      "|       0.0|\n",
      "|       0.0|\n",
      "+----------+\n",
      "only showing top 10 rows\n",
      "\n"
     ]
    }
   ],
   "source": [
    "preds.show(10)"
   ]
  },
  {
   "cell_type": "code",
   "execution_count": 29,
   "id": "b2f6f7a4",
   "metadata": {},
   "outputs": [],
   "source": [
    "def acknowledged(err, msg):\n",
    "    if err is not None:\n",
    "        print(\"Failed to deliver message: %s: %s\" % (str(msg), str(err)))\n",
    "    else:\n",
    "        print(\"Message produced: %s\" % (str(msg)))"
   ]
  },
  {
   "cell_type": "code",
   "execution_count": 28,
   "id": "c1e3587b",
   "metadata": {},
   "outputs": [],
   "source": [
    "def create_prodcuer(bootstrap_broker):\n",
    "    # Create producer\n",
    "    conf = {'bootstrap.servers': bootstrap_broker,\n",
    "            'client.id': socket.gethostname()}\n",
    "    producer = Producer(conf)\n",
    "    return producer"
   ]
  },
  {
   "cell_type": "code",
   "execution_count": null,
   "id": "def53db6",
   "metadata": {},
   "outputs": [],
   "source": [
    "data = {}\n",
    "\n",
    "data['id'] = predicted_comments\n",
    "data['prediction'] = predicted_comments\n",
    "producer = create_producer(bootstrap_broker=broker)\n",
    "\n",
    "try:\n",
    "    producer.produce(\"comment_predictions\", key=submission.id, value=dump_submission, callback=acknowledged)\n",
    "except Exception as e:\n",
    "    logging.error(e)"
   ]
  },
  {
   "cell_type": "code",
   "execution_count": 395,
   "id": "ed736358",
   "metadata": {},
   "outputs": [],
   "source": [
    "spark.stop()"
   ]
  },
  {
   "cell_type": "code",
   "execution_count": null,
   "id": "87f38b58",
   "metadata": {},
   "outputs": [],
   "source": []
  }
 ],
 "metadata": {
  "kernelspec": {
   "display_name": "Python 3",
   "language": "python",
   "name": "python3"
  },
  "language_info": {
   "codemirror_mode": {
    "name": "ipython",
    "version": 3
   },
   "file_extension": ".py",
   "mimetype": "text/x-python",
   "name": "python",
   "nbconvert_exporter": "python",
   "pygments_lexer": "ipython3",
   "version": "3.8.8"
  }
 },
 "nbformat": 4,
 "nbformat_minor": 5
}
