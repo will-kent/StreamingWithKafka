{
 "cells": [
  {
   "cell_type": "code",
   "execution_count": 17,
   "id": "5c7d7a8c",
   "metadata": {},
   "outputs": [],
   "source": [
    "from pyspark.sql import SparkSession\n",
    "from pyspark import SparkContext"
   ]
  },
  {
   "cell_type": "code",
   "execution_count": 16,
   "id": "fa444ea7",
   "metadata": {},
   "outputs": [
    {
     "data": {
      "text/plain": [
       "<property at 0x7f8ec546a040>"
      ]
     },
     "execution_count": 16,
     "metadata": {},
     "output_type": "execute_result"
    }
   ],
   "source": [
    "SparkContext.version"
   ]
  },
  {
   "cell_type": "code",
   "execution_count": 18,
   "id": "c98a6797",
   "metadata": {},
   "outputs": [],
   "source": [
    "spark = SparkSession.builder \\\n",
    "        .appName('kafka') \\\n",
    "        .getOrCreate()"
   ]
  },
  {
   "cell_type": "code",
   "execution_count": 19,
   "id": "84656e40",
   "metadata": {},
   "outputs": [],
   "source": [
    "stream_df = spark \\\n",
    "  .readStream \\\n",
    "  .format(\"kafka\") \\\n",
    "  .option(\"kafka.bootstrap.servers\", \"broker:29092\") \\\n",
    "  .option(\"startingOffsets\", \"earliest\") \\\n",
    "  .option(\"subscribe\", \"submissions\") \\\n",
    "  .load()"
   ]
  },
  {
   "cell_type": "code",
   "execution_count": 20,
   "id": "b0baa993",
   "metadata": {},
   "outputs": [
    {
     "name": "stdout",
     "output_type": "stream",
     "text": [
      "root\n",
      " |-- key: binary (nullable = true)\n",
      " |-- value: binary (nullable = true)\n",
      " |-- topic: string (nullable = true)\n",
      " |-- partition: integer (nullable = true)\n",
      " |-- offset: long (nullable = true)\n",
      " |-- timestamp: timestamp (nullable = true)\n",
      " |-- timestampType: integer (nullable = true)\n",
      "\n"
     ]
    }
   ],
   "source": [
    "stream_df.printSchema()"
   ]
  },
  {
   "cell_type": "code",
   "execution_count": 21,
   "id": "9ee98c47",
   "metadata": {},
   "outputs": [],
   "source": [
    "raw_stream = stream_df \\\n",
    "    .writeStream \\\n",
    "    .format(\"memory\") \\\n",
    "    .queryName(\"raw_submission_view\") \\\n",
    "    .start()"
   ]
  },
  {
   "cell_type": "code",
   "execution_count": 22,
   "id": "26fd43f9",
   "metadata": {},
   "outputs": [],
   "source": [
    "from IPython.display import display, clear_output\n",
    "import time"
   ]
  },
  {
   "cell_type": "code",
   "execution_count": 23,
   "id": "b9e95cd1",
   "metadata": {},
   "outputs": [],
   "source": [
    "clear_output(wait=True)"
   ]
  },
  {
   "cell_type": "code",
   "execution_count": 25,
   "id": "f096e1ed",
   "metadata": {},
   "outputs": [
    {
     "name": "stdout",
     "output_type": "stream",
     "text": [
      "+-------------------+--------------------+-----------+---------+------+--------------------+-------------+\n",
      "|                key|               value|      topic|partition|offset|           timestamp|timestampType|\n",
      "+-------------------+--------------------+-----------+---------+------+--------------------+-------------+\n",
      "|[6E 73 6D 66 74 35]|[7B 22 69 64 22 3...|submissions|        0|     0|2021-06-06 03:07:...|            0|\n",
      "|[6E 73 6D 6A 6C 7A]|[7B 22 69 64 22 3...|submissions|        0|     1|2021-06-06 03:07:...|            0|\n",
      "|[6E 73 6D 72 79 6A]|[7B 22 69 64 22 3...|submissions|        0|     2|2021-06-06 03:07:...|            0|\n",
      "|[6E 73 6E 39 33 6B]|[7B 22 69 64 22 3...|submissions|        0|     3|2021-06-06 03:07:...|            0|\n",
      "|[6E 73 6E 67 63 65]|[7B 22 69 64 22 3...|submissions|        0|     4|2021-06-06 03:07:...|            0|\n",
      "|[6E 73 6E 78 72 6F]|[7B 22 69 64 22 3...|submissions|        0|     5|2021-06-06 03:07:...|            0|\n",
      "|[6E 73 6E 79 32 67]|[7B 22 69 64 22 3...|submissions|        0|     6|2021-06-06 03:07:...|            0|\n",
      "|[6E 73 70 35 34 6A]|[7B 22 69 64 22 3...|submissions|        0|     7|2021-06-06 03:07:...|            0|\n",
      "|[6E 73 70 6F 72 38]|[7B 22 69 64 22 3...|submissions|        0|     8|2021-06-06 03:07:...|            0|\n",
      "|[6E 73 70 79 6A 6C]|[7B 22 69 64 22 3...|submissions|        0|     9|2021-06-06 03:07:...|            0|\n",
      "|[6E 73 70 79 79 35]|[7B 22 69 64 22 3...|submissions|        0|    10|2021-06-06 03:07:...|            0|\n",
      "|[6E 73 71 30 77 68]|[7B 22 69 64 22 3...|submissions|        0|    11|2021-06-06 03:07:...|            0|\n",
      "|[6E 73 71 73 70 6A]|[7B 22 69 64 22 3...|submissions|        0|    12|2021-06-06 03:07:...|            0|\n",
      "|[6E 73 71 78 32 72]|[7B 22 69 64 22 3...|submissions|        0|    13|2021-06-06 03:07:...|            0|\n",
      "|[6E 73 71 79 73 32]|[7B 22 69 64 22 3...|submissions|        0|    14|2021-06-06 03:07:...|            0|\n",
      "|[6E 73 72 31 39 32]|[7B 22 69 64 22 3...|submissions|        0|    15|2021-06-06 03:07:...|            0|\n",
      "|[6E 73 72 32 35 7A]|[7B 22 69 64 22 3...|submissions|        0|    16|2021-06-06 03:07:...|            0|\n",
      "|[6E 73 72 32 61 35]|[7B 22 69 64 22 3...|submissions|        0|    17|2021-06-06 03:07:...|            0|\n",
      "|[6E 73 72 37 64 37]|[7B 22 69 64 22 3...|submissions|        0|    18|2021-06-06 03:07:...|            0|\n",
      "|[6E 73 72 39 38 62]|[7B 22 69 64 22 3...|submissions|        0|    19|2021-06-06 03:07:...|            0|\n",
      "+-------------------+--------------------+-----------+---------+------+--------------------+-------------+\n",
      "only showing top 20 rows\n",
      "\n"
     ]
    },
    {
     "data": {
      "text/plain": [
       "None"
      ]
     },
     "metadata": {},
     "output_type": "display_data"
    }
   ],
   "source": [
    "clear_output(wait=True)\n",
    "display(spark.sql('SELECT * FROM raw_submission_view').show(20))\n",
    "time.sleep(1)"
   ]
  },
  {
   "cell_type": "code",
   "execution_count": 26,
   "id": "e59879da",
   "metadata": {},
   "outputs": [],
   "source": [
    "raw_stream.stop()"
   ]
  },
  {
   "cell_type": "code",
   "execution_count": 27,
   "id": "c87b76a3",
   "metadata": {},
   "outputs": [],
   "source": [
    "from pyspark.sql.types import StringType"
   ]
  },
  {
   "cell_type": "code",
   "execution_count": 28,
   "id": "39ca9c09",
   "metadata": {},
   "outputs": [],
   "source": [
    "string_stream_df = stream_df \\\n",
    "    .withColumn(\"key\", stream_df[\"key\"].cast(StringType())) \\\n",
    "    .withColumn(\"value\", stream_df[\"value\"].cast(StringType()))"
   ]
  },
  {
   "cell_type": "code",
   "execution_count": 29,
   "id": "2874a6e2",
   "metadata": {},
   "outputs": [
    {
     "name": "stdout",
     "output_type": "stream",
     "text": [
      "root\n",
      " |-- key: string (nullable = true)\n",
      " |-- value: string (nullable = true)\n",
      " |-- topic: string (nullable = true)\n",
      " |-- partition: integer (nullable = true)\n",
      " |-- offset: long (nullable = true)\n",
      " |-- timestamp: timestamp (nullable = true)\n",
      " |-- timestampType: integer (nullable = true)\n",
      "\n"
     ]
    }
   ],
   "source": [
    "string_stream_df.printSchema()"
   ]
  },
  {
   "cell_type": "code",
   "execution_count": 30,
   "id": "2faaf1b8",
   "metadata": {},
   "outputs": [],
   "source": [
    "string_stream = string_stream_df \\\n",
    "    .writeStream \\\n",
    "    .format(\"memory\") \\\n",
    "    .queryName(\"string_submission_view\") \\\n",
    "    .start()"
   ]
  },
  {
   "cell_type": "code",
   "execution_count": 31,
   "id": "cf1f49e8",
   "metadata": {},
   "outputs": [
    {
     "name": "stdout",
     "output_type": "stream",
     "text": [
      "+------------------------------------------------------------------------------------------------------------------------------------------------------------------------------------------------------------------------------------------------------------------------------------------------------------------------------------------------------------------------------------------------------------------------------------------------------------------------------------------------------------------------------------------------------------------------------------------------------------------------------------------------------------------------------------------------------------------------------------------------------------------------------------------------------------------------------------------------------------------------------------------------------------------------------------------------------------------------------------------------------------------------------------------------------------------------------------+\n",
      "|value                                                                                                                                                                                                                                                                                                                                                                                                                                                                                                                                                                                                                                                                                                                                                                                                                                                                                                                                                                                                                                                                               |\n",
      "+------------------------------------------------------------------------------------------------------------------------------------------------------------------------------------------------------------------------------------------------------------------------------------------------------------------------------------------------------------------------------------------------------------------------------------------------------------------------------------------------------------------------------------------------------------------------------------------------------------------------------------------------------------------------------------------------------------------------------------------------------------------------------------------------------------------------------------------------------------------------------------------------------------------------------------------------------------------------------------------------------------------------------------------------------------------------------------+\n",
      "|{\"id\": \"nsmft5\", \"author_fullname\": \"t2_68s86ieu\", \"title\": \"Denmark parliament approves giant artificial island off Copenhagen\", \"subreddit_name_prefixed\": \"r/worldnews\", \"name\": \"t3_nsmft5\", \"upvote_ratio\": 0.83, \"ups\": 51, \"score\": 51, \"author_premium\": true, \"created\": 1622891863.0, \"domain\": \"bbc.com\", \"url_overridden_by_dest\": \"https://www.bbc.com/news/world-europe-57348415\", \"over_18\": false, \"subreddit_id\": \"t5_2qh13\", \"permalink\": \"/r/worldnews/comments/nsmft5/denmark_parliament_approves_giant_artificial/\", \"parent_whitelist_status\": \"all_ads\", \"url\": \"https://www.bbc.com/news/world-europe-57348415\", \"created_utc\": 1622863063.0}                                                                                                                                                                                                                                                                                                                                                                                                               |\n",
      "|{\"id\": \"nsmjlz\", \"author_fullname\": \"t2_1p03z15q\", \"title\": \"G7: Rich nations confident on reaching tech tax deal\", \"subreddit_name_prefixed\": \"r/worldnews\", \"name\": \"t3_nsmjlz\", \"upvote_ratio\": 0.79, \"ups\": 35, \"score\": 35, \"author_premium\": false, \"created\": 1622892256.0, \"domain\": \"bbc.co.uk\", \"url_overridden_by_dest\": \"https://www.bbc.co.uk/news/business-57367057\", \"over_18\": false, \"subreddit_id\": \"t5_2qh13\", \"permalink\": \"/r/worldnews/comments/nsmjlz/g7_rich_nations_confident_on_reaching_tech_tax/\", \"parent_whitelist_status\": \"all_ads\", \"url\": \"https://www.bbc.co.uk/news/business-57367057\", \"created_utc\": 1622863456.0}                                                                                                                                                                                                                                                                                                                                                                                                                            |\n",
      "|{\"id\": \"nsmryj\", \"author_fullname\": \"t2_b8m8x8pu\", \"title\": \"Boat with 81 Rohingya Lands in Indonesia after Months at Sea\", \"subreddit_name_prefixed\": \"r/worldnews\", \"name\": \"t3_nsmryj\", \"upvote_ratio\": 0.74, \"ups\": 30, \"score\": 30, \"author_premium\": false, \"created\": 1622893090.0, \"domain\": \"benarnews.org\", \"url_overridden_by_dest\": \"https://www.benarnews.org/english/news/indonesian/id-rohingya-boat-06042021130812.html\", \"over_18\": false, \"subreddit_id\": \"t5_2qh13\", \"permalink\": \"/r/worldnews/comments/nsmryj/boat_with_81_rohingya_lands_in_indonesia_after/\", \"parent_whitelist_status\": \"all_ads\", \"url\": \"https://www.benarnews.org/english/news/indonesian/id-rohingya-boat-06042021130812.html\", \"created_utc\": 1622864290.0}                                                                                                                                                                                                                                                                                                                            |\n",
      "|{\"id\": \"nsn93k\", \"author_fullname\": \"t2_pw53y\", \"title\": \"Elections watchdog admits errors in reporting Tory donations\", \"subreddit_name_prefixed\": \"r/worldnews\", \"name\": \"t3_nsn93k\", \"upvote_ratio\": 0.88, \"ups\": 226, \"score\": 226, \"author_premium\": false, \"created\": 1622894787.0, \"domain\": \"bbc.co.uk\", \"url_overridden_by_dest\": \"https://www.bbc.co.uk/news/uk-politics-57365728\", \"over_18\": false, \"subreddit_id\": \"t5_2qh13\", \"permalink\": \"/r/worldnews/comments/nsn93k/elections_watchdog_admits_errors_in_reporting/\", \"parent_whitelist_status\": \"all_ads\", \"url\": \"https://www.bbc.co.uk/news/uk-politics-57365728\", \"created_utc\": 1622865987.0}                                                                                                                                                                                                                                                                                                                                                                                                                |\n",
      "|{\"id\": \"nsngce\", \"author_fullname\": \"t2_4z821hqs\", \"title\": \"China blasts the US and EU consulates in Hong Kong for displaying candles to commemorate the June 4 Tiananmen crackdown\", \"subreddit_name_prefixed\": \"r/worldnews\", \"name\": \"t3_nsngce\", \"upvote_ratio\": 0.93, \"ups\": 35896, \"score\": 35896, \"author_premium\": true, \"created\": 1622895522.0, \"domain\": \"news.rthk.hk\", \"url_overridden_by_dest\": \"https://news.rthk.hk/rthk/en/component/k2/1594419-20210605.htm\", \"over_18\": false, \"subreddit_id\": \"t5_2qh13\", \"permalink\": \"/r/worldnews/comments/nsngce/china_blasts_the_us_and_eu_consulates_in_hong/\", \"parent_whitelist_status\": \"all_ads\", \"url\": \"https://news.rthk.hk/rthk/en/component/k2/1594419-20210605.htm\", \"created_utc\": 1622866722.0}                                                                                                                                                                                                                                                                                                              |\n",
      "|{\"id\": \"nsnxro\", \"author_fullname\": \"t2_4de6hm5l\", \"title\": \"Rare annular solar eclipse will be viewable in parts of North America next Thursday\", \"subreddit_name_prefixed\": \"r/worldnews\", \"name\": \"t3_nsnxro\", \"upvote_ratio\": 0.79, \"ups\": 29, \"score\": 29, \"author_premium\": false, \"created\": 1622897376.0, \"domain\": \"atlantic.ctvnews.ca\", \"url_overridden_by_dest\": \"https://atlantic.ctvnews.ca/rare-annular-solar-eclipse-will-be-viewable-in-parts-of-north-america-next-thursday-1.5456647\", \"over_18\": false, \"subreddit_id\": \"t5_2qh13\", \"permalink\": \"/r/worldnews/comments/nsnxro/rare_annular_solar_eclipse_will_be_viewable_in/\", \"parent_whitelist_status\": \"all_ads\", \"url\": \"https://atlantic.ctvnews.ca/rare-annular-solar-eclipse-will-be-viewable-in-parts-of-north-america-next-thursday-1.5456647\", \"created_utc\": 1622868576.0}                                                                                                                                                                                                                         |\n",
      "|{\"id\": \"nsny2g\", \"author_fullname\": \"t2_h3tqs\", \"title\": \"Another incident of attempted illegal sale of 6 kg of Uranium in India\", \"subreddit_name_prefixed\": \"r/worldnews\", \"name\": \"t3_nsny2g\", \"upvote_ratio\": 0.79, \"ups\": 77, \"score\": 77, \"author_premium\": false, \"created\": 1622897409.0, \"domain\": \"tribunewired.com\", \"url_overridden_by_dest\": \"https://www.tribunewired.com/2021/06/04/pakistan-is-deeply-concerned-at-yet-another-incident-of-attempted-illegal-sale-of-6-kg-of-uranium-in-india/\", \"over_18\": false, \"subreddit_id\": \"t5_2qh13\", \"permalink\": \"/r/worldnews/comments/nsny2g/another_incident_of_attempted_illegal_sale_of_6/\", \"parent_whitelist_status\": \"all_ads\", \"url\": \"https://www.tribunewired.com/2021/06/04/pakistan-is-deeply-concerned-at-yet-another-incident-of-attempted-illegal-sale-of-6-kg-of-uranium-in-india/\", \"created_utc\": 1622868609.0}                                                                                                                                                                                       |\n",
      "|{\"id\": \"nsp54j\", \"author_fullname\": \"t2_6bfrbxoa\", \"title\": \"Canadian PM Trudeau wants Vatican City to apologize for church-run school abuses\", \"subreddit_name_prefixed\": \"r/worldnews\", \"name\": \"t3_nsp54j\", \"upvote_ratio\": 0.93, \"ups\": 3419, \"score\": 3419, \"author_premium\": false, \"created\": 1622902064.0, \"domain\": \"apnews.com\", \"url_overridden_by_dest\": \"https://apnews.com/article/canada-religion-df4fab9203d13456fcc57ad20dc33ef3\", \"over_18\": false, \"subreddit_id\": \"t5_2qh13\", \"permalink\": \"/r/worldnews/comments/nsp54j/canadian_pm_trudeau_wants_vatican_city_to/\", \"parent_whitelist_status\": \"all_ads\", \"url\": \"https://apnews.com/article/canada-religion-df4fab9203d13456fcc57ad20dc33ef3\", \"created_utc\": 1622873264.0}                                                                                                                                                                                                                                                                                                                                  |\n",
      "|{\"id\": \"nspor8\", \"author_fullname\": \"t2_3ou2sd08\", \"title\": \"G7: Rich nations confident on reaching tech tax deal\", \"subreddit_name_prefixed\": \"r/worldnews\", \"name\": \"t3_nspor8\", \"upvote_ratio\": 0.77, \"ups\": 26, \"score\": 26, \"author_premium\": false, \"created\": 1622904349.0, \"domain\": \"bbc.com\", \"url_overridden_by_dest\": \"https://www.bbc.com/news/business-57367057\", \"over_18\": false, \"subreddit_id\": \"t5_2qh13\", \"permalink\": \"/r/worldnews/comments/nspor8/g7_rich_nations_confident_on_reaching_tech_tax/\", \"parent_whitelist_status\": \"all_ads\", \"url\": \"https://www.bbc.com/news/business-57367057\", \"created_utc\": 1622875549.0}                                                                                                                                                                                                                                                                                                                                                                                                                                  |\n",
      "|{\"id\": \"nspyjl\", \"author_fullname\": \"t2_2b7oqttf\", \"title\": \"South Korean military member arrested over suspected sexual abuse\", \"subreddit_name_prefixed\": \"r/worldnews\", \"name\": \"t3_nspyjl\", \"upvote_ratio\": 0.72, \"ups\": 14, \"score\": 14, \"author_premium\": false, \"created\": 1622905516.0, \"domain\": \"reuters.com\", \"url_overridden_by_dest\": \"https://www.reuters.com/world/south-korean-military-member-arrested-over-suspected-sexual-abuse-2021-06-03/\", \"over_18\": false, \"subreddit_id\": \"t5_2qh13\", \"permalink\": \"/r/worldnews/comments/nspyjl/south_korean_military_member_arrested_over/\", \"parent_whitelist_status\": \"all_ads\", \"url\": \"https://www.reuters.com/world/south-korean-military-member-arrested-over-suspected-sexual-abuse-2021-06-03/\", \"created_utc\": 1622876716.0}                                                                                                                                                                                                                                                                                   |\n",
      "|{\"id\": \"nspyy5\", \"author_fullname\": \"t2_1tmxi6gt\", \"title\": \"India brings forward by two years 20% ethanol blend to gasoline\", \"subreddit_name_prefixed\": \"r/worldnews\", \"name\": \"t3_nspyy5\", \"upvote_ratio\": 0.66, \"ups\": 14, \"score\": 14, \"author_premium\": false, \"created\": 1622905571.0, \"domain\": \"livemint.com\", \"url_overridden_by_dest\": \"https://www.livemint.com/industry/energy/india-brings-forward-by-two-years-20-ethanol-blend-to-gasoline-11622665338223.html\", \"over_18\": false, \"subreddit_id\": \"t5_2qh13\", \"permalink\": \"/r/worldnews/comments/nspyy5/india_brings_forward_by_two_years_20_ethanol/\", \"parent_whitelist_status\": \"all_ads\", \"url\": \"https://www.livemint.com/industry/energy/india-brings-forward-by-two-years-20-ethanol-blend-to-gasoline-11622665338223.html\", \"created_utc\": 1622876771.0}                                                                                                                                                                                                                                                  |\n",
      "|{\"id\": \"nsq0wh\", \"author_fullname\": \"t2_1yn57h6r\", \"title\": \"Nigeria Suspends Twitter After It Deleted A Tweet By The President\", \"subreddit_name_prefixed\": \"r/worldnews\", \"name\": \"t3_nsq0wh\", \"upvote_ratio\": 0.97, \"ups\": 3918, \"score\": 3918, \"author_premium\": false, \"created\": 1622905817.0, \"domain\": \"npr.org\", \"url_overridden_by_dest\": \"https://www.npr.org/2021/06/04/1003506918/nigeria-suspends-twitter-after-it-deleted-a-tweet-by-the-president\", \"over_18\": false, \"subreddit_id\": \"t5_2qh13\", \"permalink\": \"/r/worldnews/comments/nsq0wh/nigeria_suspends_twitter_after_it_deleted_a_tweet/\", \"parent_whitelist_status\": \"all_ads\", \"url\": \"https://www.npr.org/2021/06/04/1003506918/nigeria-suspends-twitter-after-it-deleted-a-tweet-by-the-president\", \"created_utc\": 1622877017.0}                                                                                                                                                                                                                                                                         |\n",
      "|{\"id\": \"nsqspj\", \"author_fullname\": \"t2_fq2s9\", \"title\": \"Tom Girardi sued by Indonesia's Lion air crash families over claims US lawyer embezzled millions of their settlement funds\", \"subreddit_name_prefixed\": \"r/worldnews\", \"name\": \"t3_nsqspj\", \"upvote_ratio\": 0.85, \"ups\": 61, \"score\": 61, \"author_premium\": false, \"created\": 1622909181.0, \"domain\": \"msn.com\", \"url_overridden_by_dest\": \"https://www.msn.com/en-au/money/markets/tom-girardi-sued-by-indonesias-lion-air-crash-families-over-claims-us-lawyer-embezzled-millions-of-their-settlement-funds/ar-AAKIsiQ\", \"over_18\": false, \"subreddit_id\": \"t5_2qh13\", \"permalink\": \"/r/worldnews/comments/nsqspj/tom_girardi_sued_by_indonesias_lion_air_crash/\", \"parent_whitelist_status\": \"all_ads\", \"url\": \"https://www.msn.com/en-au/money/markets/tom-girardi-sued-by-indonesias-lion-air-crash-families-over-claims-us-lawyer-embezzled-millions-of-their-settlement-funds/ar-AAKIsiQ\", \"created_utc\": 1622880381.0}                                                                                            |\n",
      "|{\"id\": \"nsqx2r\", \"author_fullname\": \"t2_73q2l\", \"title\": \"Malaysia to raise Chinese jet issue at special Asean-China meeting, says Wisma Putra\", \"subreddit_name_prefixed\": \"r/worldnews\", \"name\": \"t3_nsqx2r\", \"upvote_ratio\": 0.7, \"ups\": 25, \"score\": 25, \"author_premium\": true, \"created\": 1622909714.0, \"domain\": \"thestar.com.my\", \"url_overridden_by_dest\": \"https://www.thestar.com.my/news/nation/2021/06/05/malaysia-to-raise-chinese-jet-issue-at-special-asean-china-meeting-says-wisma-putra\", \"over_18\": false, \"subreddit_id\": \"t5_2qh13\", \"permalink\": \"/r/worldnews/comments/nsqx2r/malaysia_to_raise_chinese_jet_issue_at_special/\", \"parent_whitelist_status\": \"all_ads\", \"url\": \"https://www.thestar.com.my/news/nation/2021/06/05/malaysia-to-raise-chinese-jet-issue-at-special-asean-china-meeting-says-wisma-putra\", \"created_utc\": 1622880914.0}                                                                                                                                                                                                          |\n",
      "|{\"id\": \"nsqys2\", \"author_fullname\": \"t2_aqnruajy\", \"title\": \"China\\u2019s 2022 Olympics a chance to press Beijing on human rights -Canada\", \"subreddit_name_prefixed\": \"r/worldnews\", \"name\": \"t3_nsqys2\", \"upvote_ratio\": 0.52, \"ups\": 2, \"score\": 2, \"author_premium\": false, \"created\": 1622909923.0, \"domain\": \"reuters.com\", \"url_overridden_by_dest\": \"https://www.reuters.com/world/china/chinas-2022-olympics-chance-press-beijing-human-rights-canada-2021-06-04/\", \"over_18\": false, \"subreddit_id\": \"t5_2qh13\", \"permalink\": \"/r/worldnews/comments/nsqys2/chinas_2022_olympics_a_chance_to_press_beijing_on/\", \"parent_whitelist_status\": \"all_ads\", \"url\": \"https://www.reuters.com/world/china/chinas-2022-olympics-chance-press-beijing-human-rights-canada-2021-06-04/\", \"created_utc\": 1622881123.0}                                                                                                                                                                                                                                                               |\n",
      "|{\"id\": \"nsr192\", \"author_fullname\": \"t2_6bfrbxoa\", \"title\": \"European regulators launch fresh probes of Facebook, Google\", \"subreddit_name_prefixed\": \"r/worldnews\", \"name\": \"t3_nsr192\", \"upvote_ratio\": 0.93, \"ups\": 369, \"score\": 369, \"author_premium\": false, \"created\": 1622910227.0, \"domain\": \"apnews.com\", \"url_overridden_by_dest\": \"https://apnews.com/article/europe-technology-business-a44f2f093471ffa7ea8ff8e23f8282da\", \"over_18\": false, \"subreddit_id\": \"t5_2qh13\", \"permalink\": \"/r/worldnews/comments/nsr192/european_regulators_launch_fresh_probes_of/\", \"parent_whitelist_status\": \"all_ads\", \"url\": \"https://apnews.com/article/europe-technology-business-a44f2f093471ffa7ea8ff8e23f8282da\", \"created_utc\": 1622881427.0}                                                                                                                                                                                                                                                                                                                                  |\n",
      "|{\"id\": \"nsr25z\", \"author_fullname\": \"t2_60vi7nav\", \"title\": \"U.S. says it stopped spying on allies in 2014, says Norway PM\", \"subreddit_name_prefixed\": \"r/worldnews\", \"name\": \"t3_nsr25z\", \"upvote_ratio\": 0.88, \"ups\": 259, \"score\": 259, \"author_premium\": false, \"created\": 1622910339.0, \"domain\": \"reuters.com\", \"url_overridden_by_dest\": \"https://www.reuters.com/world/europe/us-says-it-stopped-spying-allies-2014-says-norway-pm-2021-06-03/?taid=60b919d3efd84f0001b656b3/\", \"over_18\": false, \"subreddit_id\": \"t5_2qh13\", \"permalink\": \"/r/worldnews/comments/nsr25z/us_says_it_stopped_spying_on_allies_in_2014_says/\", \"parent_whitelist_status\": \"all_ads\", \"url\": \"https://www.reuters.com/world/europe/us-says-it-stopped-spying-allies-2014-says-norway-pm-2021-06-03/?taid=60b919d3efd84f0001b656b3/\", \"created_utc\": 1622881539.0}                                                                                                                                                                                                                             |\n",
      "|{\"id\": \"nsr2a5\", \"author_fullname\": \"t2_6otk0z2z\", \"title\": \"China raps Taiwan for accepting vaccines from Japan\", \"subreddit_name_prefixed\": \"r/worldnews\", \"name\": \"t3_nsr2a5\", \"upvote_ratio\": 0.73, \"ups\": 126, \"score\": 126, \"author_premium\": false, \"created\": 1622910356.0, \"domain\": \"english.kyodonews.net\", \"url_overridden_by_dest\": \"https://english.kyodonews.net/news/2021/06/d4ca0d43c3d8-breaking-news-china-raps-taiwan-for-accepting-vaccines-from-japan.html\", \"over_18\": false, \"subreddit_id\": \"t5_2qh13\", \"permalink\": \"/r/worldnews/comments/nsr2a5/china_raps_taiwan_for_accepting_vaccines_from/\", \"parent_whitelist_status\": \"all_ads\", \"url\": \"https://english.kyodonews.net/news/2021/06/d4ca0d43c3d8-breaking-news-china-raps-taiwan-for-accepting-vaccines-from-japan.html\", \"created_utc\": 1622881556.0}                                                                                                                                                                                                                                            |\n",
      "|{\"id\": \"nsr7d7\", \"author_fullname\": \"t2_6rre4\", \"title\": \"Turkey experiments with cannabis crops to boost hemp production\", \"subreddit_name_prefixed\": \"r/worldnews\", \"name\": \"t3_nsr7d7\", \"upvote_ratio\": 0.89, \"ups\": 204, \"score\": 204, \"author_premium\": false, \"created\": 1622910946.0, \"domain\": \"theguardian.com\", \"url_overridden_by_dest\": \"https://www.theguardian.com/world/2021/jun/05/turkey-experiments-with-cannabis-crops-to-boost-hemp-production\", \"over_18\": false, \"subreddit_id\": \"t5_2qh13\", \"permalink\": \"/r/worldnews/comments/nsr7d7/turkey_experiments_with_cannabis_crops_to_boost/\", \"parent_whitelist_status\": \"all_ads\", \"url\": \"https://www.theguardian.com/world/2021/jun/05/turkey-experiments-with-cannabis-crops-to-boost-hemp-production\", \"created_utc\": 1622882146.0}                                                                                                                                                                                                                                                                         |\n",
      "|{\"id\": \"nsr98b\", \"author_fullname\": \"t2_c7mkluyb\", \"title\": \"Ryanair to appeal against state funds injected into new Alitalia\", \"subreddit_name_prefixed\": \"r/worldnews\", \"name\": \"t3_nsr98b\", \"upvote_ratio\": 0.73, \"ups\": 22, \"score\": 22, \"author_premium\": false, \"created\": 1622911170.0, \"domain\": \"reuters.com\", \"url_overridden_by_dest\": \"https://www.reuters.com/business/aerospace-defense/ryanair-appeal-against-state-funds-injected-into-new-alitalia-paper-2021-06-05/?taid=60bb373a311ea30001bfb943&utm_campaign=trueAnthem:+Trending+Content&utm_medium=trueAnthem&utm_source=twitter\", \"over_18\": false, \"subreddit_id\": \"t5_2qh13\", \"permalink\": \"/r/worldnews/comments/nsr98b/ryanair_to_appeal_against_state_funds_injected/\", \"parent_whitelist_status\": \"all_ads\", \"url\": \"https://www.reuters.com/business/aerospace-defense/ryanair-appeal-against-state-funds-injected-into-new-alitalia-paper-2021-06-05/?taid=60bb373a311ea30001bfb943&utm_campaign=trueAnthem:+Trending+Content&utm_medium=trueAnthem&utm_source=twitter\", \"created_utc\": 1622882370.0}|\n",
      "+------------------------------------------------------------------------------------------------------------------------------------------------------------------------------------------------------------------------------------------------------------------------------------------------------------------------------------------------------------------------------------------------------------------------------------------------------------------------------------------------------------------------------------------------------------------------------------------------------------------------------------------------------------------------------------------------------------------------------------------------------------------------------------------------------------------------------------------------------------------------------------------------------------------------------------------------------------------------------------------------------------------------------------------------------------------------------------+\n",
      "only showing top 20 rows\n",
      "\n"
     ]
    },
    {
     "data": {
      "text/plain": [
       "None"
      ]
     },
     "metadata": {},
     "output_type": "display_data"
    }
   ],
   "source": [
    "clear_output(wait=True)\n",
    "display(spark.sql('SELECT value FROM string_submission_view WHERE key IS NOT NULL').show(20, False))\n",
    "time.sleep(1)"
   ]
  },
  {
   "cell_type": "code",
   "execution_count": 32,
   "id": "0591ae87",
   "metadata": {},
   "outputs": [],
   "source": [
    "string_stream.stop()"
   ]
  },
  {
   "cell_type": "code",
   "execution_count": 33,
   "id": "4c145203",
   "metadata": {},
   "outputs": [],
   "source": [
    "from pyspark.sql import functions as F\n",
    "from pyspark.sql.types import StructType, StructField, BooleanType, IntegerType, DoubleType, StringType"
   ]
  },
  {
   "cell_type": "code",
   "execution_count": 34,
   "id": "e3ce5d76",
   "metadata": {},
   "outputs": [],
   "source": [
    "schema_inventory = StructType([\n",
    "    StructField(\"author_fullname\", StringType(),  True),\n",
    "    StructField(\"title\", StringType(),  True),\n",
    "    StructField(\"subreddit_name_prefixed\", StringType(), True),\n",
    "    StructField(\"name\", StringType(),  True),\n",
    "    StructField(\"upvote_ratio\", DoubleType(), True),\n",
    "    StructField(\"ups\", IntegerType(), True),\n",
    "    StructField(\"score\", IntegerType(), True),\n",
    "    StructField(\"author_premium\", BooleanType(), True),\n",
    "    StructField(\"created\", IntegerType(), True),\n",
    "    StructField(\"domain\", StringType(),  True),\n",
    "    StructField(\"url_overridden_by_dest\", StringType(),  True),\n",
    "    StructField(\"over_18\", BooleanType(), True),\n",
    "    StructField(\"subreddit_id\", StringType(),  True),\n",
    "    StructField(\"permalink\", StringType(),  True),\n",
    "    StructField(\"parent_whitelist_status\", StringType(),  True),\n",
    "    StructField(\"url\", StringType(),  True),\n",
    "    StructField(\"created_utc\", IntegerType(), True)\n",
    "])\n"
   ]
  },
  {
   "cell_type": "code",
   "execution_count": 35,
   "id": "4e1885ec",
   "metadata": {},
   "outputs": [],
   "source": [
    "json_stream_df = string_stream_df\\\n",
    "    .withColumn(\"value\", F.from_json(\"value\", schema_inventory))"
   ]
  },
  {
   "cell_type": "code",
   "execution_count": 36,
   "id": "edfb1375",
   "metadata": {},
   "outputs": [
    {
     "name": "stdout",
     "output_type": "stream",
     "text": [
      "root\n",
      " |-- key: string (nullable = true)\n",
      " |-- value: struct (nullable = true)\n",
      " |    |-- author_fullname: string (nullable = true)\n",
      " |    |-- title: string (nullable = true)\n",
      " |    |-- subreddit_name_prefixed: string (nullable = true)\n",
      " |    |-- name: string (nullable = true)\n",
      " |    |-- upvote_ratio: double (nullable = true)\n",
      " |    |-- ups: integer (nullable = true)\n",
      " |    |-- score: integer (nullable = true)\n",
      " |    |-- author_premium: boolean (nullable = true)\n",
      " |    |-- created: integer (nullable = true)\n",
      " |    |-- domain: string (nullable = true)\n",
      " |    |-- url_overridden_by_dest: string (nullable = true)\n",
      " |    |-- over_18: boolean (nullable = true)\n",
      " |    |-- subreddit_id: string (nullable = true)\n",
      " |    |-- permalink: string (nullable = true)\n",
      " |    |-- parent_whitelist_status: string (nullable = true)\n",
      " |    |-- url: string (nullable = true)\n",
      " |    |-- created_utc: integer (nullable = true)\n",
      " |-- topic: string (nullable = true)\n",
      " |-- partition: integer (nullable = true)\n",
      " |-- offset: long (nullable = true)\n",
      " |-- timestamp: timestamp (nullable = true)\n",
      " |-- timestampType: integer (nullable = true)\n",
      "\n"
     ]
    }
   ],
   "source": [
    "json_stream_df.printSchema()"
   ]
  },
  {
   "cell_type": "code",
   "execution_count": 39,
   "id": "33634560",
   "metadata": {},
   "outputs": [
    {
     "ename": "IllegalArgumentException",
     "evalue": "Cannot start query with name extract_submissions as a query with that name is already active in this SparkSession",
     "output_type": "error",
     "traceback": [
      "\u001b[0;31m---------------------------------------------------------------------------\u001b[0m",
      "\u001b[0;31mIllegalArgumentException\u001b[0m                  Traceback (most recent call last)",
      "\u001b[0;32m<ipython-input-39-cd4663b8c753>\u001b[0m in \u001b[0;36m<module>\u001b[0;34m\u001b[0m\n\u001b[0;32m----> 1\u001b[0;31m \u001b[0mjson_stream\u001b[0m \u001b[0;34m=\u001b[0m \u001b[0mjson_stream_df\u001b[0m\u001b[0;31m \u001b[0m\u001b[0;31m\\\u001b[0m\u001b[0;34m\u001b[0m\u001b[0;34m\u001b[0m\u001b[0m\n\u001b[0m\u001b[1;32m      2\u001b[0m     \u001b[0;34m.\u001b[0m\u001b[0mwriteStream\u001b[0m\u001b[0;31m \u001b[0m\u001b[0;31m\\\u001b[0m\u001b[0;34m\u001b[0m\u001b[0;34m\u001b[0m\u001b[0m\n\u001b[1;32m      3\u001b[0m     \u001b[0;34m.\u001b[0m\u001b[0mformat\u001b[0m\u001b[0;34m(\u001b[0m\u001b[0;34m\"memory\"\u001b[0m\u001b[0;34m)\u001b[0m\u001b[0;31m \u001b[0m\u001b[0;31m\\\u001b[0m\u001b[0;34m\u001b[0m\u001b[0;34m\u001b[0m\u001b[0m\n\u001b[1;32m      4\u001b[0m     \u001b[0;34m.\u001b[0m\u001b[0mqueryName\u001b[0m\u001b[0;34m(\u001b[0m\u001b[0;34m\"extract_submissions\"\u001b[0m\u001b[0;34m)\u001b[0m\u001b[0;31m \u001b[0m\u001b[0;31m\\\u001b[0m\u001b[0;34m\u001b[0m\u001b[0;34m\u001b[0m\u001b[0m\n\u001b[1;32m      5\u001b[0m     \u001b[0;34m.\u001b[0m\u001b[0mstart\u001b[0m\u001b[0;34m(\u001b[0m\u001b[0;34m)\u001b[0m\u001b[0;34m\u001b[0m\u001b[0;34m\u001b[0m\u001b[0m\n",
      "\u001b[0;32m/usr/local/spark/python/pyspark/sql/streaming.py\u001b[0m in \u001b[0;36mstart\u001b[0;34m(self, path, format, outputMode, partitionBy, queryName, **options)\u001b[0m\n\u001b[1;32m   1489\u001b[0m             \u001b[0mself\u001b[0m\u001b[0;34m.\u001b[0m\u001b[0mqueryName\u001b[0m\u001b[0;34m(\u001b[0m\u001b[0mqueryName\u001b[0m\u001b[0;34m)\u001b[0m\u001b[0;34m\u001b[0m\u001b[0;34m\u001b[0m\u001b[0m\n\u001b[1;32m   1490\u001b[0m         \u001b[0;32mif\u001b[0m \u001b[0mpath\u001b[0m \u001b[0;32mis\u001b[0m \u001b[0;32mNone\u001b[0m\u001b[0;34m:\u001b[0m\u001b[0;34m\u001b[0m\u001b[0;34m\u001b[0m\u001b[0m\n\u001b[0;32m-> 1491\u001b[0;31m             \u001b[0;32mreturn\u001b[0m \u001b[0mself\u001b[0m\u001b[0;34m.\u001b[0m\u001b[0m_sq\u001b[0m\u001b[0;34m(\u001b[0m\u001b[0mself\u001b[0m\u001b[0;34m.\u001b[0m\u001b[0m_jwrite\u001b[0m\u001b[0;34m.\u001b[0m\u001b[0mstart\u001b[0m\u001b[0;34m(\u001b[0m\u001b[0;34m)\u001b[0m\u001b[0;34m)\u001b[0m\u001b[0;34m\u001b[0m\u001b[0;34m\u001b[0m\u001b[0m\n\u001b[0m\u001b[1;32m   1492\u001b[0m         \u001b[0;32melse\u001b[0m\u001b[0;34m:\u001b[0m\u001b[0;34m\u001b[0m\u001b[0;34m\u001b[0m\u001b[0m\n\u001b[1;32m   1493\u001b[0m             \u001b[0;32mreturn\u001b[0m \u001b[0mself\u001b[0m\u001b[0;34m.\u001b[0m\u001b[0m_sq\u001b[0m\u001b[0;34m(\u001b[0m\u001b[0mself\u001b[0m\u001b[0;34m.\u001b[0m\u001b[0m_jwrite\u001b[0m\u001b[0;34m.\u001b[0m\u001b[0mstart\u001b[0m\u001b[0;34m(\u001b[0m\u001b[0mpath\u001b[0m\u001b[0;34m)\u001b[0m\u001b[0;34m)\u001b[0m\u001b[0;34m\u001b[0m\u001b[0;34m\u001b[0m\u001b[0m\n",
      "\u001b[0;32m/usr/local/spark/python/lib/py4j-0.10.9-src.zip/py4j/java_gateway.py\u001b[0m in \u001b[0;36m__call__\u001b[0;34m(self, *args)\u001b[0m\n\u001b[1;32m   1302\u001b[0m \u001b[0;34m\u001b[0m\u001b[0m\n\u001b[1;32m   1303\u001b[0m         \u001b[0manswer\u001b[0m \u001b[0;34m=\u001b[0m \u001b[0mself\u001b[0m\u001b[0;34m.\u001b[0m\u001b[0mgateway_client\u001b[0m\u001b[0;34m.\u001b[0m\u001b[0msend_command\u001b[0m\u001b[0;34m(\u001b[0m\u001b[0mcommand\u001b[0m\u001b[0;34m)\u001b[0m\u001b[0;34m\u001b[0m\u001b[0;34m\u001b[0m\u001b[0m\n\u001b[0;32m-> 1304\u001b[0;31m         return_value = get_return_value(\n\u001b[0m\u001b[1;32m   1305\u001b[0m             answer, self.gateway_client, self.target_id, self.name)\n\u001b[1;32m   1306\u001b[0m \u001b[0;34m\u001b[0m\u001b[0m\n",
      "\u001b[0;32m/usr/local/spark/python/pyspark/sql/utils.py\u001b[0m in \u001b[0;36mdeco\u001b[0;34m(*a, **kw)\u001b[0m\n\u001b[1;32m    115\u001b[0m                 \u001b[0;31m# Hide where the exception came from that shows a non-Pythonic\u001b[0m\u001b[0;34m\u001b[0m\u001b[0;34m\u001b[0m\u001b[0;34m\u001b[0m\u001b[0m\n\u001b[1;32m    116\u001b[0m                 \u001b[0;31m# JVM exception message.\u001b[0m\u001b[0;34m\u001b[0m\u001b[0;34m\u001b[0m\u001b[0;34m\u001b[0m\u001b[0m\n\u001b[0;32m--> 117\u001b[0;31m                 \u001b[0;32mraise\u001b[0m \u001b[0mconverted\u001b[0m \u001b[0;32mfrom\u001b[0m \u001b[0;32mNone\u001b[0m\u001b[0;34m\u001b[0m\u001b[0;34m\u001b[0m\u001b[0m\n\u001b[0m\u001b[1;32m    118\u001b[0m             \u001b[0;32melse\u001b[0m\u001b[0;34m:\u001b[0m\u001b[0;34m\u001b[0m\u001b[0;34m\u001b[0m\u001b[0m\n\u001b[1;32m    119\u001b[0m                 \u001b[0;32mraise\u001b[0m\u001b[0;34m\u001b[0m\u001b[0;34m\u001b[0m\u001b[0m\n",
      "\u001b[0;31mIllegalArgumentException\u001b[0m: Cannot start query with name extract_submissions as a query with that name is already active in this SparkSession"
     ]
    }
   ],
   "source": [
    "json_stream = json_stream_df \\\n",
    "    .writeStream \\\n",
    "    .format(\"memory\") \\\n",
    "    .queryName(\"extract_submissions\") \\\n",
    "    .start()"
   ]
  },
  {
   "cell_type": "code",
   "execution_count": 40,
   "id": "55061fca",
   "metadata": {},
   "outputs": [
    {
     "name": "stdout",
     "output_type": "stream",
     "text": [
      "+------+--------------------+-----------+---------+------+--------------------+-------------+\n",
      "|   key|               value|      topic|partition|offset|           timestamp|timestampType|\n",
      "+------+--------------------+-----------+---------+------+--------------------+-------------+\n",
      "|nsmft5|{t2_68s86ieu, Den...|submissions|        0|     0|2021-06-06 03:07:...|            0|\n",
      "|nsmjlz|{t2_1p03z15q, G7:...|submissions|        0|     1|2021-06-06 03:07:...|            0|\n",
      "|nsmryj|{t2_b8m8x8pu, Boa...|submissions|        0|     2|2021-06-06 03:07:...|            0|\n",
      "|nsn93k|{t2_pw53y, Electi...|submissions|        0|     3|2021-06-06 03:07:...|            0|\n",
      "|nsngce|{t2_4z821hqs, Chi...|submissions|        0|     4|2021-06-06 03:07:...|            0|\n",
      "|nsnxro|{t2_4de6hm5l, Rar...|submissions|        0|     5|2021-06-06 03:07:...|            0|\n",
      "|nsny2g|{t2_h3tqs, Anothe...|submissions|        0|     6|2021-06-06 03:07:...|            0|\n",
      "|nsp54j|{t2_6bfrbxoa, Can...|submissions|        0|     7|2021-06-06 03:07:...|            0|\n",
      "|nspor8|{t2_3ou2sd08, G7:...|submissions|        0|     8|2021-06-06 03:07:...|            0|\n",
      "|nspyjl|{t2_2b7oqttf, Sou...|submissions|        0|     9|2021-06-06 03:07:...|            0|\n",
      "|nspyy5|{t2_1tmxi6gt, Ind...|submissions|        0|    10|2021-06-06 03:07:...|            0|\n",
      "|nsq0wh|{t2_1yn57h6r, Nig...|submissions|        0|    11|2021-06-06 03:07:...|            0|\n",
      "|nsqspj|{t2_fq2s9, Tom Gi...|submissions|        0|    12|2021-06-06 03:07:...|            0|\n",
      "|nsqx2r|{t2_73q2l, Malays...|submissions|        0|    13|2021-06-06 03:07:...|            0|\n",
      "|nsqys2|{t2_aqnruajy, Chi...|submissions|        0|    14|2021-06-06 03:07:...|            0|\n",
      "|nsr192|{t2_6bfrbxoa, Eur...|submissions|        0|    15|2021-06-06 03:07:...|            0|\n",
      "|nsr25z|{t2_60vi7nav, U.S...|submissions|        0|    16|2021-06-06 03:07:...|            0|\n",
      "|nsr2a5|{t2_6otk0z2z, Chi...|submissions|        0|    17|2021-06-06 03:07:...|            0|\n",
      "|nsr7d7|{t2_6rre4, Turkey...|submissions|        0|    18|2021-06-06 03:07:...|            0|\n",
      "|nsr98b|{t2_c7mkluyb, Rya...|submissions|        0|    19|2021-06-06 03:07:...|            0|\n",
      "+------+--------------------+-----------+---------+------+--------------------+-------------+\n",
      "only showing top 20 rows\n",
      "\n"
     ]
    },
    {
     "data": {
      "text/plain": [
       "None"
      ]
     },
     "metadata": {},
     "output_type": "display_data"
    }
   ],
   "source": [
    "clear_output(wait=True)\n",
    "display(spark.sql('SELECT * FROM extract_submissions').show(20))\n",
    "time.sleep(1)"
   ]
  },
  {
   "cell_type": "code",
   "execution_count": 41,
   "id": "23d49c16",
   "metadata": {},
   "outputs": [],
   "source": [
    "json_stream.stop()"
   ]
  },
  {
   "cell_type": "code",
   "execution_count": 42,
   "id": "01bb5168",
   "metadata": {},
   "outputs": [],
   "source": [
    "submission_stream_df = json_stream_df \\\n",
    "    .select( \\\n",
    "        F.col(\"key\").alias(\"event_key\"), \\\n",
    "        F.col(\"topic\").alias(\"event_topic\"), \\\n",
    "        F.col(\"timestamp\").alias(\"event_timestamp\"), \\\n",
    "            \"value.author_fullname\", \\\n",
    "            \"value.title\", \\\n",
    "            \"value.subreddit_name_prefixed\", \\\n",
    "            \"value.name\", \\\n",
    "            \"value.upvote_ratio\", \\\n",
    "            \"value.ups\", \\\n",
    "            \"value.score\", \\\n",
    "            \"value.author_premium\", \\\n",
    "            \"value.created\", \\\n",
    "            \"value.domain\", \\\n",
    "            \"value.url_overridden_by_dest\", \\\n",
    "            \"value.over_18\", \\\n",
    "            \"value.subreddit_id\", \\\n",
    "            \"value.permalink\", \\\n",
    "            \"value.parent_whitelist_status\", \\\n",
    "            \"value.url\", \\\n",
    "            \"value.created_utc\"\n",
    "           )"
   ]
  },
  {
   "cell_type": "code",
   "execution_count": 43,
   "id": "91c1d8cf",
   "metadata": {},
   "outputs": [
    {
     "name": "stdout",
     "output_type": "stream",
     "text": [
      "root\n",
      " |-- event_key: string (nullable = true)\n",
      " |-- event_topic: string (nullable = true)\n",
      " |-- event_timestamp: timestamp (nullable = true)\n",
      " |-- author_fullname: string (nullable = true)\n",
      " |-- title: string (nullable = true)\n",
      " |-- subreddit_name_prefixed: string (nullable = true)\n",
      " |-- name: string (nullable = true)\n",
      " |-- upvote_ratio: double (nullable = true)\n",
      " |-- ups: integer (nullable = true)\n",
      " |-- score: integer (nullable = true)\n",
      " |-- author_premium: boolean (nullable = true)\n",
      " |-- created: integer (nullable = true)\n",
      " |-- domain: string (nullable = true)\n",
      " |-- url_overridden_by_dest: string (nullable = true)\n",
      " |-- over_18: boolean (nullable = true)\n",
      " |-- subreddit_id: string (nullable = true)\n",
      " |-- permalink: string (nullable = true)\n",
      " |-- parent_whitelist_status: string (nullable = true)\n",
      " |-- url: string (nullable = true)\n",
      " |-- created_utc: integer (nullable = true)\n",
      "\n"
     ]
    }
   ],
   "source": [
    "submission_stream_df.printSchema()"
   ]
  },
  {
   "cell_type": "code",
   "execution_count": 44,
   "id": "11efded8",
   "metadata": {},
   "outputs": [],
   "source": [
    "submission_stream = submission_stream_df \\\n",
    "    .writeStream \\\n",
    "    .format(\"memory\") \\\n",
    "    .queryName(\"submission_view\") \\\n",
    "    .start()"
   ]
  },
  {
   "cell_type": "code",
   "execution_count": 45,
   "id": "9ed1a599",
   "metadata": {},
   "outputs": [
    {
     "name": "stdout",
     "output_type": "stream",
     "text": [
      "+---------+-----------+--------------------+---------------+--------------------+-----------------------+---------+------------+-----+-----+--------------+-------+--------------------+----------------------+-------+------------+--------------------+-----------------------+--------------------+-----------+\n",
      "|event_key|event_topic|     event_timestamp|author_fullname|               title|subreddit_name_prefixed|     name|upvote_ratio|  ups|score|author_premium|created|              domain|url_overridden_by_dest|over_18|subreddit_id|           permalink|parent_whitelist_status|                 url|created_utc|\n",
      "+---------+-----------+--------------------+---------------+--------------------+-----------------------+---------+------------+-----+-----+--------------+-------+--------------------+----------------------+-------+------------+--------------------+-----------------------+--------------------+-----------+\n",
      "|   nsmft5|submissions|2021-06-06 03:07:...|    t2_68s86ieu|Denmark parliamen...|            r/worldnews|t3_nsmft5|        0.83|   51|   51|          true|   null|             bbc.com|  https://www.bbc.c...|  false|    t5_2qh13|/r/worldnews/comm...|                all_ads|https://www.bbc.c...|       null|\n",
      "|   nsmjlz|submissions|2021-06-06 03:07:...|    t2_1p03z15q|G7: Rich nations ...|            r/worldnews|t3_nsmjlz|        0.79|   35|   35|         false|   null|           bbc.co.uk|  https://www.bbc.c...|  false|    t5_2qh13|/r/worldnews/comm...|                all_ads|https://www.bbc.c...|       null|\n",
      "|   nsmryj|submissions|2021-06-06 03:07:...|    t2_b8m8x8pu|Boat with 81 Rohi...|            r/worldnews|t3_nsmryj|        0.74|   30|   30|         false|   null|       benarnews.org|  https://www.benar...|  false|    t5_2qh13|/r/worldnews/comm...|                all_ads|https://www.benar...|       null|\n",
      "|   nsn93k|submissions|2021-06-06 03:07:...|       t2_pw53y|Elections watchdo...|            r/worldnews|t3_nsn93k|        0.88|  226|  226|         false|   null|           bbc.co.uk|  https://www.bbc.c...|  false|    t5_2qh13|/r/worldnews/comm...|                all_ads|https://www.bbc.c...|       null|\n",
      "|   nsngce|submissions|2021-06-06 03:07:...|    t2_4z821hqs|China blasts the ...|            r/worldnews|t3_nsngce|        0.93|35896|35896|          true|   null|        news.rthk.hk|  https://news.rthk...|  false|    t5_2qh13|/r/worldnews/comm...|                all_ads|https://news.rthk...|       null|\n",
      "|   nsnxro|submissions|2021-06-06 03:07:...|    t2_4de6hm5l|Rare annular sola...|            r/worldnews|t3_nsnxro|        0.79|   29|   29|         false|   null| atlantic.ctvnews.ca|  https://atlantic....|  false|    t5_2qh13|/r/worldnews/comm...|                all_ads|https://atlantic....|       null|\n",
      "|   nsny2g|submissions|2021-06-06 03:07:...|       t2_h3tqs|Another incident ...|            r/worldnews|t3_nsny2g|        0.79|   77|   77|         false|   null|    tribunewired.com|  https://www.tribu...|  false|    t5_2qh13|/r/worldnews/comm...|                all_ads|https://www.tribu...|       null|\n",
      "|   nsp54j|submissions|2021-06-06 03:07:...|    t2_6bfrbxoa|Canadian PM Trude...|            r/worldnews|t3_nsp54j|        0.93| 3419| 3419|         false|   null|          apnews.com|  https://apnews.co...|  false|    t5_2qh13|/r/worldnews/comm...|                all_ads|https://apnews.co...|       null|\n",
      "|   nspor8|submissions|2021-06-06 03:07:...|    t2_3ou2sd08|G7: Rich nations ...|            r/worldnews|t3_nspor8|        0.77|   26|   26|         false|   null|             bbc.com|  https://www.bbc.c...|  false|    t5_2qh13|/r/worldnews/comm...|                all_ads|https://www.bbc.c...|       null|\n",
      "|   nspyjl|submissions|2021-06-06 03:07:...|    t2_2b7oqttf|South Korean mili...|            r/worldnews|t3_nspyjl|        0.72|   14|   14|         false|   null|         reuters.com|  https://www.reute...|  false|    t5_2qh13|/r/worldnews/comm...|                all_ads|https://www.reute...|       null|\n",
      "|   nspyy5|submissions|2021-06-06 03:07:...|    t2_1tmxi6gt|India brings forw...|            r/worldnews|t3_nspyy5|        0.66|   14|   14|         false|   null|        livemint.com|  https://www.livem...|  false|    t5_2qh13|/r/worldnews/comm...|                all_ads|https://www.livem...|       null|\n",
      "|   nsq0wh|submissions|2021-06-06 03:07:...|    t2_1yn57h6r|Nigeria Suspends ...|            r/worldnews|t3_nsq0wh|        0.97| 3918| 3918|         false|   null|             npr.org|  https://www.npr.o...|  false|    t5_2qh13|/r/worldnews/comm...|                all_ads|https://www.npr.o...|       null|\n",
      "|   nsqspj|submissions|2021-06-06 03:07:...|       t2_fq2s9|Tom Girardi sued ...|            r/worldnews|t3_nsqspj|        0.85|   61|   61|         false|   null|             msn.com|  https://www.msn.c...|  false|    t5_2qh13|/r/worldnews/comm...|                all_ads|https://www.msn.c...|       null|\n",
      "|   nsqx2r|submissions|2021-06-06 03:07:...|       t2_73q2l|Malaysia to raise...|            r/worldnews|t3_nsqx2r|         0.7|   25|   25|          true|   null|      thestar.com.my|  https://www.thest...|  false|    t5_2qh13|/r/worldnews/comm...|                all_ads|https://www.thest...|       null|\n",
      "|   nsqys2|submissions|2021-06-06 03:07:...|    t2_aqnruajy|China’s 2022 Olym...|            r/worldnews|t3_nsqys2|        0.52|    2|    2|         false|   null|         reuters.com|  https://www.reute...|  false|    t5_2qh13|/r/worldnews/comm...|                all_ads|https://www.reute...|       null|\n",
      "|   nsr192|submissions|2021-06-06 03:07:...|    t2_6bfrbxoa|European regulato...|            r/worldnews|t3_nsr192|        0.93|  369|  369|         false|   null|          apnews.com|  https://apnews.co...|  false|    t5_2qh13|/r/worldnews/comm...|                all_ads|https://apnews.co...|       null|\n",
      "|   nsr25z|submissions|2021-06-06 03:07:...|    t2_60vi7nav|U.S. says it stop...|            r/worldnews|t3_nsr25z|        0.88|  259|  259|         false|   null|         reuters.com|  https://www.reute...|  false|    t5_2qh13|/r/worldnews/comm...|                all_ads|https://www.reute...|       null|\n",
      "|   nsr2a5|submissions|2021-06-06 03:07:...|    t2_6otk0z2z|China raps Taiwan...|            r/worldnews|t3_nsr2a5|        0.73|  126|  126|         false|   null|english.kyodonews...|  https://english.k...|  false|    t5_2qh13|/r/worldnews/comm...|                all_ads|https://english.k...|       null|\n",
      "|   nsr7d7|submissions|2021-06-06 03:07:...|       t2_6rre4|Turkey experiment...|            r/worldnews|t3_nsr7d7|        0.89|  204|  204|         false|   null|     theguardian.com|  https://www.thegu...|  false|    t5_2qh13|/r/worldnews/comm...|                all_ads|https://www.thegu...|       null|\n",
      "|   nsr98b|submissions|2021-06-06 03:07:...|    t2_c7mkluyb|Ryanair to appeal...|            r/worldnews|t3_nsr98b|        0.73|   22|   22|         false|   null|         reuters.com|  https://www.reute...|  false|    t5_2qh13|/r/worldnews/comm...|                all_ads|https://www.reute...|       null|\n",
      "+---------+-----------+--------------------+---------------+--------------------+-----------------------+---------+------------+-----+-----+--------------+-------+--------------------+----------------------+-------+------------+--------------------+-----------------------+--------------------+-----------+\n",
      "only showing top 20 rows\n",
      "\n"
     ]
    },
    {
     "data": {
      "text/plain": [
       "None"
      ]
     },
     "metadata": {},
     "output_type": "display_data"
    }
   ],
   "source": [
    "clear_output(wait=True)\n",
    "display(spark.sql('SELECT * FROM submission_view').show(20))\n",
    "time.sleep(1)"
   ]
  },
  {
   "cell_type": "code",
   "execution_count": 46,
   "id": "70c241b7",
   "metadata": {},
   "outputs": [
    {
     "name": "stdout",
     "output_type": "stream",
     "text": [
      "+---------------+-----+\n",
      "|         domain|count|\n",
      "+---------------+-----+\n",
      "|    reuters.com|   16|\n",
      "|theguardian.com|    6|\n",
      "|        bbc.com|    6|\n",
      "|           null|    5|\n",
      "|      bbc.co.uk|    5|\n",
      "+---------------+-----+\n",
      "only showing top 5 rows\n",
      "\n"
     ]
    },
    {
     "data": {
      "text/plain": [
       "None"
      ]
     },
     "metadata": {},
     "output_type": "display_data"
    }
   ],
   "source": [
    "clear_output(wait=True)\n",
    "display(spark.sql('SELECT domain, COUNT(1) AS count FROM submission_view GROUP BY domain ORDER BY count DESC').show(5))\n",
    "time.sleep(1)"
   ]
  },
  {
   "cell_type": "code",
   "execution_count": 47,
   "id": "7b474606",
   "metadata": {},
   "outputs": [],
   "source": [
    "submission_stream.stop()"
   ]
  },
  {
   "cell_type": "code",
   "execution_count": 48,
   "id": "c4f560bf",
   "metadata": {},
   "outputs": [],
   "source": [
    "spark.stop()"
   ]
  },
  {
   "cell_type": "code",
   "execution_count": null,
   "id": "f547a594",
   "metadata": {},
   "outputs": [],
   "source": []
  }
 ],
 "metadata": {
  "kernelspec": {
   "display_name": "Python 3",
   "language": "python",
   "name": "python3"
  },
  "language_info": {
   "codemirror_mode": {
    "name": "ipython",
    "version": 3
   },
   "file_extension": ".py",
   "mimetype": "text/x-python",
   "name": "python",
   "nbconvert_exporter": "python",
   "pygments_lexer": "ipython3",
   "version": "3.8.8"
  }
 },
 "nbformat": 4,
 "nbformat_minor": 5
}
