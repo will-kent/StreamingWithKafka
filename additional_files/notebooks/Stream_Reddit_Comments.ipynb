{
 "cells": [
  {
   "cell_type": "code",
   "execution_count": 1,
   "id": "585ae586",
   "metadata": {},
   "outputs": [],
   "source": [
    "import configparser\n",
    "import praw\n",
    "from confluent_kafka import Producer\n",
    "import socket\n",
    "import json"
   ]
  },
  {
   "cell_type": "code",
   "execution_count": 2,
   "id": "e6a24883",
   "metadata": {},
   "outputs": [
    {
     "data": {
      "text/plain": [
       "['src/configuration/config.cfg']"
      ]
     },
     "execution_count": 2,
     "metadata": {},
     "output_type": "execute_result"
    }
   ],
   "source": [
    "# Read passwords and secrets from config file\n",
    "config_parser = configparser.ConfigParser()\n",
    "config_parser.read(\"src/configuration/config.cfg\")"
   ]
  },
  {
   "cell_type": "code",
   "execution_count": 3,
   "id": "069cd5bf",
   "metadata": {},
   "outputs": [],
   "source": [
    "# Set parameters\n",
    "reddit_client_id = config_parser[\"praw\"][\"client_id\"]\n",
    "reddit_client_secret = config_parser[\"praw\"][\"client_secret\"]\n",
    "reddit_password = config_parser[\"praw\"][\"password\"]\n",
    "reddit_username = config_parser[\"praw\"][\"username\"]\n",
    "reddit_agent = config_parser[\"praw\"][\"user_agent\"] + reddit_username\n",
    "sub_reddit = config_parser[\"praw\"][\"subreddit\"]"
   ]
  },
  {
   "cell_type": "code",
   "execution_count": 4,
   "id": "40c94038",
   "metadata": {},
   "outputs": [],
   "source": [
    "# Establish connection to reddit\n",
    "reddit = praw.Reddit(\n",
    "    client_id=reddit_client_id,\n",
    "    client_secret=reddit_client_secret,\n",
    "    password=reddit_password,\n",
    "    user_agent=reddit_agent,\n",
    "    username=reddit_username,\n",
    ")"
   ]
  },
  {
   "cell_type": "code",
   "execution_count": 5,
   "id": "9b31e046",
   "metadata": {},
   "outputs": [],
   "source": [
    "conf = {'bootstrap.servers': \"broker:29092\",\n",
    "        'client.id': socket.gethostname()}\n",
    "\n",
    "producer = Producer(conf)"
   ]
  },
  {
   "cell_type": "code",
   "execution_count": null,
   "id": "8795dcc2",
   "metadata": {},
   "outputs": [],
   "source": [
    "# Connect to the desired subreddit and start the comments producer\n",
    "subreddit = reddit.subreddit(sub_reddit)\n",
    "\n",
    "for comment in subreddit.stream.comments():\n",
    "    str_comment = str(vars(comment))\n",
    "    json_comment = json.dumps(str_comment)\n",
    "    data = json.loads(json_comment)\n",
    "    producer.produce(\"comments\", key=comment.id, value=data)"
   ]
  },
  {
   "cell_type": "code",
   "execution_count": null,
   "id": "8f73df5a",
   "metadata": {},
   "outputs": [],
   "source": []
  },
  {
   "cell_type": "code",
   "execution_count": null,
   "id": "d48a1cd4",
   "metadata": {},
   "outputs": [],
   "source": []
  }
 ],
 "metadata": {
  "kernelspec": {
   "display_name": "Python 3",
   "language": "python",
   "name": "python3"
  },
  "language_info": {
   "codemirror_mode": {
    "name": "ipython",
    "version": 3
   },
   "file_extension": ".py",
   "mimetype": "text/x-python",
   "name": "python",
   "nbconvert_exporter": "python",
   "pygments_lexer": "ipython3",
   "version": "3.8.8"
  }
 },
 "nbformat": 4,
 "nbformat_minor": 5
}
