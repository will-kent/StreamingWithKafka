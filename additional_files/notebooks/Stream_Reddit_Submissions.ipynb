{
 "cells": [
  {
   "cell_type": "code",
   "execution_count": 1,
   "id": "c4387db5",
   "metadata": {},
   "outputs": [],
   "source": [
    "import configparser\n",
    "import praw\n",
    "from confluent_kafka import Producer\n",
    "import socket\n",
    "import json"
   ]
  },
  {
   "cell_type": "code",
   "execution_count": 2,
   "id": "3d243a83",
   "metadata": {},
   "outputs": [
    {
     "data": {
      "text/plain": [
       "['src/configuration/config.cfg']"
      ]
     },
     "execution_count": 2,
     "metadata": {},
     "output_type": "execute_result"
    }
   ],
   "source": [
    "# Read passwords and secrets from config file\n",
    "config_parser = configparser.ConfigParser()\n",
    "config_parser.read(\"src/configuration/config.cfg\")"
   ]
  },
  {
   "cell_type": "code",
   "execution_count": 3,
   "id": "0efc0029",
   "metadata": {},
   "outputs": [],
   "source": [
    "# Set parameters\n",
    "reddit_client_id = config_parser[\"praw\"][\"client_id\"]\n",
    "reddit_client_secret = config_parser[\"praw\"][\"client_secret\"]\n",
    "reddit_password = config_parser[\"praw\"][\"password\"]\n",
    "reddit_username = config_parser[\"praw\"][\"username\"]\n",
    "reddit_agent = config_parser[\"praw\"][\"user_agent\"] + reddit_username\n",
    "sub_reddit = config_parser[\"praw\"][\"subreddit\"]"
   ]
  },
  {
   "cell_type": "code",
   "execution_count": 6,
   "id": "f762aaf3",
   "metadata": {},
   "outputs": [
    {
     "name": "stdout",
     "output_type": "stream",
     "text": [
      "BDE Assignment 3 by u/Big_River_AT3\n"
     ]
    }
   ],
   "source": [
    "print(reddit_agent)"
   ]
  },
  {
   "cell_type": "code",
   "execution_count": 4,
   "id": "eb349077",
   "metadata": {},
   "outputs": [],
   "source": [
    "# Establish connection to reddit\n",
    "reddit = praw.Reddit(\n",
    "    client_id=reddit_client_id,\n",
    "    client_secret=reddit_client_secret,\n",
    "    password=reddit_password,\n",
    "    user_agent=reddit_agent,\n",
    "    username=reddit_username,\n",
    ")"
   ]
  },
  {
   "cell_type": "code",
   "execution_count": 50,
   "id": "98f33401",
   "metadata": {},
   "outputs": [
    {
     "name": "stdout",
     "output_type": "stream",
     "text": [
      "Big_River_AT3\n"
     ]
    }
   ],
   "source": [
    "print(reddit.user.me())"
   ]
  },
  {
   "cell_type": "code",
   "execution_count": 5,
   "id": "402e971a",
   "metadata": {},
   "outputs": [],
   "source": [
    "conf = {'bootstrap.servers': \"broker:29092\",\n",
    "        'client.id': socket.gethostname()}\n",
    "\n",
    "producer = Producer(conf)"
   ]
  },
  {
   "cell_type": "code",
   "execution_count": 14,
   "id": "67a7858e",
   "metadata": {},
   "outputs": [
    {
     "name": "stdout",
     "output_type": "stream",
     "text": [
      "t2_3shcs9qe\n",
      "t2_y9v7r\n",
      "t2_nab0ohv\n",
      "t2_1mwvv4vy\n",
      "t2_cjkcv8wd\n",
      "t2_cjkcv8wd\n",
      "t2_iqqlh\n",
      "t2_b5wxxygz\n",
      "t2_1kf83mw7\n",
      "t2_bpurbs2s\n",
      "t2_3leqqy8u\n",
      "t2_6bkxrhuv\n",
      "t2_c7g6d\n",
      "t2_d0rgw\n",
      "t2_n9fx6\n",
      "t2_3d3hm\n",
      "t2_8hk0fdu0\n",
      "t2_cjkcv8wd\n",
      "t2_nyc3b\n",
      "t2_bmjppups\n",
      "t2_b5nu1zzt\n",
      "t2_205f\n",
      "t2_15qrrx01\n",
      "t2_bvytsu0v\n",
      "t2_43qnf\n",
      "t2_btgv08ef\n",
      "t2_80ykb\n",
      "t2_b2rh0d83\n",
      "t2_60rz23zj\n",
      "t2_6lkptihl\n",
      "t2_d0rgw\n",
      "t2_1mi3szum\n",
      "t2_7y9z7\n",
      "t2_99xzd06m\n",
      "t2_8hk0fdu0\n",
      "t2_8yk3uzd\n",
      "t2_ccurfq0q\n",
      "t2_99xzd06m\n",
      "t2_o2lxf\n",
      "t2_gr4vu\n",
      "t2_hyfa9\n",
      "t2_c6pxih6m\n",
      "t2_5o5au6p2\n",
      "t2_12rddy\n",
      "t2_44zwy9qn\n",
      "t2_3zi4nxr\n",
      "t2_24t4nd3s\n",
      "t2_5m40lm3b\n",
      "t2_99xzd06m\n",
      "t2_d0rgw\n",
      "t2_5qolu604\n",
      "t2_59scq9w4\n",
      "t2_msuc7\n",
      "t2_205f\n",
      "t2_4sf78hp6\n",
      "t2_qikm3gz\n",
      "t2_51tk4\n",
      "t2_8bs63\n",
      "t2_8t67bzfu\n",
      "t2_17qrv\n",
      "t2_7buk59o2\n",
      "t2_6ai2b\n",
      "t2_nejpr\n",
      "t2_43z74oz9\n",
      "t2_1lcoilgu\n",
      "t2_84oo4ons\n",
      "t2_612zd\n",
      "t2_12rddy\n",
      "t2_8bhnjgli\n",
      "t2_80xuv\n",
      "t2_b7pl02x\n",
      "t2_1mi3szum\n",
      "t2_1ryjw\n",
      "t2_6447u4s4\n",
      "t2_12rddy\n",
      "t2_2kq6xiwg\n",
      "t2_32rbe\n",
      "t2_9o28nodr\n",
      "t2_j6ia7\n",
      "t2_15qrrx01\n",
      "t2_612zd\n",
      "t2_bu89x\n",
      "t2_eeqh0\n",
      "t2_3xd1mmoo\n",
      "t2_2xwavoa\n",
      "t2_mdtc3\n",
      "t2_1ignlq7y\n",
      "t2_w8l39\n",
      "t2_14ecpb\n",
      "t2_6p7ups4g\n",
      "t2_pjolq\n",
      "t2_xwo3r\n",
      "t2_9r9h2uj4\n",
      "t2_ads8xcd9\n",
      "t2_9r9h2uj4\n",
      "t2_eya5w\n",
      "t2_9r9h2uj4\n",
      "t2_hwroh\n"
     ]
    },
    {
     "ename": "KeyboardInterrupt",
     "evalue": "",
     "output_type": "error",
     "traceback": [
      "\u001b[0;31m---------------------------------------------------------------------------\u001b[0m",
      "\u001b[0;31mKeyboardInterrupt\u001b[0m                         Traceback (most recent call last)",
      "\u001b[0;32m<ipython-input-14-d814c27db4ee>\u001b[0m in \u001b[0;36m<module>\u001b[0;34m\u001b[0m\n\u001b[1;32m      1\u001b[0m \u001b[0msubreddit\u001b[0m \u001b[0;34m=\u001b[0m \u001b[0mreddit\u001b[0m\u001b[0;34m.\u001b[0m\u001b[0msubreddit\u001b[0m\u001b[0;34m(\u001b[0m\u001b[0msub_reddit\u001b[0m\u001b[0;34m)\u001b[0m\u001b[0;34m\u001b[0m\u001b[0;34m\u001b[0m\u001b[0m\n\u001b[1;32m      2\u001b[0m \u001b[0;34m\u001b[0m\u001b[0m\n\u001b[0;32m----> 3\u001b[0;31m \u001b[0;32mfor\u001b[0m \u001b[0msubmission\u001b[0m \u001b[0;32min\u001b[0m \u001b[0msubreddit\u001b[0m\u001b[0;34m.\u001b[0m\u001b[0mstream\u001b[0m\u001b[0;34m.\u001b[0m\u001b[0msubmissions\u001b[0m\u001b[0;34m(\u001b[0m\u001b[0;34m)\u001b[0m\u001b[0;34m:\u001b[0m\u001b[0;34m\u001b[0m\u001b[0;34m\u001b[0m\u001b[0m\n\u001b[0m\u001b[1;32m      4\u001b[0m \u001b[0;31m#    try:\u001b[0m\u001b[0;34m\u001b[0m\u001b[0;34m\u001b[0m\u001b[0;34m\u001b[0m\u001b[0m\n\u001b[1;32m      5\u001b[0m \u001b[0;31m#        print(submission.author_fullname)\u001b[0m\u001b[0;34m\u001b[0m\u001b[0;34m\u001b[0m\u001b[0;34m\u001b[0m\u001b[0m\n",
      "\u001b[0;32m/opt/conda/lib/python3.8/site-packages/praw/models/util.py\u001b[0m in \u001b[0;36mstream_generator\u001b[0;34m(function, pause_after, skip_existing, attribute_name, exclude_before, **function_kwargs)\u001b[0m\n\u001b[1;32m    208\u001b[0m                 \u001b[0;32myield\u001b[0m \u001b[0;32mNone\u001b[0m\u001b[0;34m\u001b[0m\u001b[0;34m\u001b[0m\u001b[0m\n\u001b[1;32m    209\u001b[0m             \u001b[0;32melse\u001b[0m\u001b[0;34m:\u001b[0m\u001b[0;34m\u001b[0m\u001b[0;34m\u001b[0m\u001b[0m\n\u001b[0;32m--> 210\u001b[0;31m                 \u001b[0mtime\u001b[0m\u001b[0;34m.\u001b[0m\u001b[0msleep\u001b[0m\u001b[0;34m(\u001b[0m\u001b[0mexponential_counter\u001b[0m\u001b[0;34m.\u001b[0m\u001b[0mcounter\u001b[0m\u001b[0;34m(\u001b[0m\u001b[0;34m)\u001b[0m\u001b[0;34m)\u001b[0m\u001b[0;34m\u001b[0m\u001b[0;34m\u001b[0m\u001b[0m\n\u001b[0m",
      "\u001b[0;31mKeyboardInterrupt\u001b[0m: "
     ]
    }
   ],
   "source": [
    "subreddit = reddit.subreddit(sub_reddit)\n",
    "\n",
    "for submission in subreddit.stream.submissions():\n",
    "    str_submission = str(vars(submission))\n",
    "    json_submission = json.dumps(str_submission)\n",
    "    data = json.loads(json_submission)\n",
    "    producer.produce(\"submissions\", key=submission.id, value=data)\n"
   ]
  },
  {
   "cell_type": "code",
   "execution_count": null,
   "id": "13755a3f",
   "metadata": {},
   "outputs": [],
   "source": []
  }
 ],
 "metadata": {
  "kernelspec": {
   "display_name": "Python 3",
   "language": "python",
   "name": "python3"
  },
  "language_info": {
   "codemirror_mode": {
    "name": "ipython",
    "version": 3
   },
   "file_extension": ".py",
   "mimetype": "text/x-python",
   "name": "python",
   "nbconvert_exporter": "python",
   "pygments_lexer": "ipython3",
   "version": "3.8.8"
  }
 },
 "nbformat": 4,
 "nbformat_minor": 5
}
