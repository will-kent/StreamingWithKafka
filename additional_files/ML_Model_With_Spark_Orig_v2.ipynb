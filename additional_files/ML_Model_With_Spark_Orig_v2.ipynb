{
 "cells": [
  {
   "cell_type": "code",
   "execution_count": 1,
   "id": "1a3547b2",
   "metadata": {},
   "outputs": [
    {
     "name": "stdout",
     "output_type": "stream",
     "text": [
      "Requirement already satisfied: praw in /opt/conda/lib/python3.8/site-packages (7.2.0)\n",
      "Requirement already satisfied: update-checker>=0.18 in /opt/conda/lib/python3.8/site-packages (from praw) (0.18.0)\n",
      "Requirement already satisfied: websocket-client>=0.54.0 in /opt/conda/lib/python3.8/site-packages (from praw) (1.1.0)\n",
      "Requirement already satisfied: prawcore<3,>=2 in /opt/conda/lib/python3.8/site-packages (from praw) (2.2.0)\n",
      "Requirement already satisfied: requests<3.0,>=2.6.0 in /opt/conda/lib/python3.8/site-packages (from prawcore<3,>=2->praw) (2.25.1)\n",
      "Requirement already satisfied: idna<3,>=2.5 in /opt/conda/lib/python3.8/site-packages (from requests<3.0,>=2.6.0->prawcore<3,>=2->praw) (2.10)\n",
      "Requirement already satisfied: urllib3<1.27,>=1.21.1 in /opt/conda/lib/python3.8/site-packages (from requests<3.0,>=2.6.0->prawcore<3,>=2->praw) (1.26.4)\n",
      "Requirement already satisfied: chardet<5,>=3.0.2 in /opt/conda/lib/python3.8/site-packages (from requests<3.0,>=2.6.0->prawcore<3,>=2->praw) (4.0.0)\n",
      "Requirement already satisfied: certifi>=2017.4.17 in /opt/conda/lib/python3.8/site-packages (from requests<3.0,>=2.6.0->prawcore<3,>=2->praw) (2020.12.5)\n",
      "Requirement already satisfied: gensim in /opt/conda/lib/python3.8/site-packages (4.0.1)\n",
      "Requirement already satisfied: scipy>=0.18.1 in /opt/conda/lib/python3.8/site-packages (from gensim) (1.6.2)\n",
      "Requirement already satisfied: smart-open>=1.8.1 in /opt/conda/lib/python3.8/site-packages (from gensim) (5.1.0)\n",
      "Requirement already satisfied: numpy>=1.11.3 in /opt/conda/lib/python3.8/site-packages (from gensim) (1.20.2)\n"
     ]
    }
   ],
   "source": [
    "! pip install praw\n",
    "! pip install gensim"
   ]
  },
  {
   "cell_type": "code",
   "execution_count": 414,
   "id": "4755ba8f",
   "metadata": {},
   "outputs": [],
   "source": [
    "import configparser\n",
    "from confluent_kafka import Producer\n",
    "import json\n",
    "import logging\n",
    "from multiprocessing import Process\n",
    "import os\n",
    "import praw\n",
    "import socket\n",
    "from pyspark.sql import SparkSession\n",
    "import pandas as pd\n",
    "import numpy as np\n",
    "import re\n",
    "import sys\n",
    "import scipy\n",
    "import gensim\n",
    "from gensim.utils import simple_preprocess\n",
    "import gensim.corpora as corpora"
   ]
  },
  {
   "cell_type": "code",
   "execution_count": 415,
   "id": "9e0afba7",
   "metadata": {},
   "outputs": [],
   "source": [
    "import pyspark\n",
    "import pyspark.sql.functions as F\n",
    "from pyspark import broadcast, SparkContext\n",
    "from pyspark.sql import SQLContext\n",
    "from pyspark.mllib.util import MLUtils\n",
    "from pyspark.sql.types import *\n",
    "from pyspark.ml.feature import CountVectorizer, CountVectorizerModel, Tokenizer, RegexTokenizer, StopWordsRemover, OneHotEncoder, StringIndexer, VectorAssembler, VectorIndexer, Bucketizer\n",
    "from pyspark.ml.linalg import Vectors, SparseVector\n",
    "from pyspark.ml.clustering import LDA, LocalLDAModel\n",
    "from pyspark.ml.functions import vector_to_array\n",
    "from pyspark.ml.pipeline import PipelineModel"
   ]
  },
  {
   "cell_type": "code",
   "execution_count": 416,
   "id": "8cd82a06",
   "metadata": {},
   "outputs": [
    {
     "data": {
      "text/plain": [
       "[]"
      ]
     },
     "execution_count": 416,
     "metadata": {},
     "output_type": "execute_result"
    }
   ],
   "source": [
    "# Read passwords and secrets from config file\n",
    "config_parser = configparser.ConfigParser()\n",
    "config_parser.read(\"configuration/config.cfg\")"
   ]
  },
  {
   "cell_type": "code",
   "execution_count": 417,
   "id": "117d1733",
   "metadata": {},
   "outputs": [],
   "source": [
    "from pyspark.sql.functions import month, year, mean, count, dayofweek, hour, col, min, max, avg, sum, when, lit, desc, unix_timestamp, from_unixtime, udf, regexp_replace"
   ]
  },
  {
   "cell_type": "code",
   "execution_count": 418,
   "id": "eb4f3e2d",
   "metadata": {},
   "outputs": [],
   "source": [
    "# Build the spark session\n",
    "spark = SparkSession.builder \\\n",
    "        .appName('kafka') \\\n",
    "        .getOrCreate()"
   ]
  },
  {
   "cell_type": "markdown",
   "id": "f1612f3d",
   "metadata": {},
   "source": [
    "## Load the raw stream and convert to dataframe objects for processing"
   ]
  },
  {
   "cell_type": "code",
   "execution_count": 419,
   "id": "ee1b4e2f",
   "metadata": {},
   "outputs": [],
   "source": [
    "# Load raw stream data for submissions and convert to df useable in processing to prediction\n",
    "## NOTE - no need to do this for comments stream as the model is pre-trained and only applied to submission data\n",
    "\n",
    "df_s = spark \\\n",
    "  .readStream \\\n",
    "  .format(\"kafka\") \\\n",
    "  .option(\"kafka.bootstrap.servers\", \"broker:29092\") \\\n",
    "  .option(\"startingOffsets\", \"earliest\") \\\n",
    "  .option(\"subscribe\", \"submissions\") \\\n",
    "  .load()"
   ]
  },
  {
   "cell_type": "code",
   "execution_count": 420,
   "id": "411059c8",
   "metadata": {},
   "outputs": [
    {
     "name": "stdout",
     "output_type": "stream",
     "text": [
      "root\n",
      " |-- key: binary (nullable = true)\n",
      " |-- value: binary (nullable = true)\n",
      " |-- topic: string (nullable = true)\n",
      " |-- partition: integer (nullable = true)\n",
      " |-- offset: long (nullable = true)\n",
      " |-- timestamp: timestamp (nullable = true)\n",
      " |-- timestampType: integer (nullable = true)\n",
      "\n"
     ]
    }
   ],
   "source": [
    "df_s.printSchema()"
   ]
  },
  {
   "cell_type": "code",
   "execution_count": 421,
   "id": "a4e8f2fa",
   "metadata": {},
   "outputs": [],
   "source": [
    "string_stream_df_s = df_s \\\n",
    "    .withColumn(\"key\", df_s[\"key\"].cast(StringType())) \\\n",
    "    .withColumn(\"value\", df_s[\"value\"].cast(StringType()))"
   ]
  },
  {
   "cell_type": "code",
   "execution_count": 422,
   "id": "fd5db27b",
   "metadata": {},
   "outputs": [],
   "source": [
    "# Specify the structure of the value component\n",
    "schema_inventory_s = StructType([\n",
    "    StructField(\"id\", StringType(),  True),\n",
    "    StructField(\"author_fullname\", StringType(),  True),\n",
    "    StructField(\"title\", StringType(),  True),\n",
    "    StructField(\"subreddit_name_prefixed\", StringType(),  True),\n",
    "    StructField(\"name\", StringType(), True),\n",
    "    StructField(\"upvote_ratio\", DoubleType(),  True),\n",
    "    StructField(\"ups\", IntegerType(), True),\n",
    "    StructField(\"created\", IntegerType(), True),\n",
    "    StructField(\"domain\", StringType(), True),\n",
    "    StructField(\"url_overridden_by_dest\", StringType(), True),\n",
    "    StructField(\"over_18\", StringType(), True),\n",
    "    StructField(\"subreddit_id\", StringType(),  True),\n",
    "    StructField(\"permalink\", StringType(),  True),\n",
    "    StructField(\"parent_whitelist_status\", StringType(),  True),\n",
    "    StructField(\"url\", StringType(),  True),\n",
    "    StructField(\"created_utc\", IntegerType(), True)\n",
    "])"
   ]
  },
  {
   "cell_type": "code",
   "execution_count": 423,
   "id": "99e814e7",
   "metadata": {},
   "outputs": [
    {
     "name": "stdout",
     "output_type": "stream",
     "text": [
      "root\n",
      " |-- key: string (nullable = true)\n",
      " |-- value: struct (nullable = true)\n",
      " |    |-- id: string (nullable = true)\n",
      " |    |-- author_fullname: string (nullable = true)\n",
      " |    |-- title: string (nullable = true)\n",
      " |    |-- subreddit_name_prefixed: string (nullable = true)\n",
      " |    |-- name: string (nullable = true)\n",
      " |    |-- upvote_ratio: double (nullable = true)\n",
      " |    |-- ups: integer (nullable = true)\n",
      " |    |-- created: integer (nullable = true)\n",
      " |    |-- domain: string (nullable = true)\n",
      " |    |-- url_overridden_by_dest: string (nullable = true)\n",
      " |    |-- over_18: string (nullable = true)\n",
      " |    |-- subreddit_id: string (nullable = true)\n",
      " |    |-- permalink: string (nullable = true)\n",
      " |    |-- parent_whitelist_status: string (nullable = true)\n",
      " |    |-- url: string (nullable = true)\n",
      " |    |-- created_utc: integer (nullable = true)\n",
      " |-- topic: string (nullable = true)\n",
      " |-- partition: integer (nullable = true)\n",
      " |-- offset: long (nullable = true)\n",
      " |-- timestamp: timestamp (nullable = true)\n",
      " |-- timestampType: integer (nullable = true)\n",
      "\n"
     ]
    }
   ],
   "source": [
    "# To json to split our the values in message\n",
    "json_stream_df_s = string_stream_df_s.withColumn(\"value\", F.from_json(\"value\", schema_inventory_s))\n",
    "json_stream_df_s.printSchema()"
   ]
  },
  {
   "cell_type": "code",
   "execution_count": 424,
   "id": "ede96abf",
   "metadata": {},
   "outputs": [
    {
     "name": "stdout",
     "output_type": "stream",
     "text": [
      "root\n",
      " |-- event_key: string (nullable = true)\n",
      " |-- event_topic: string (nullable = true)\n",
      " |-- event_timestamp: timestamp (nullable = true)\n",
      " |-- id: string (nullable = true)\n",
      " |-- author_fullname: string (nullable = true)\n",
      " |-- title: string (nullable = true)\n",
      " |-- subreddit_name_prefixed: string (nullable = true)\n",
      " |-- name: string (nullable = true)\n",
      " |-- upvote_ratio: double (nullable = true)\n",
      " |-- ups: integer (nullable = true)\n",
      " |-- created: integer (nullable = true)\n",
      " |-- domain: string (nullable = true)\n",
      " |-- url_overridden_by_dest: string (nullable = true)\n",
      " |-- over_18: string (nullable = true)\n",
      " |-- subreddit_id: string (nullable = true)\n",
      " |-- permalink: string (nullable = true)\n",
      " |-- parent_whitelist_status: string (nullable = true)\n",
      " |-- url: string (nullable = true)\n",
      " |-- created_utc: integer (nullable = true)\n",
      "\n"
     ]
    }
   ],
   "source": [
    "# Create the final usable df for submissions\n",
    "submissions_stream_df = json_stream_df_s \\\n",
    "    .select( \\\n",
    "        F.col(\"key\").alias(\"event_key\"), \\\n",
    "        F.col(\"topic\").alias(\"event_topic\"), \\\n",
    "        F.col(\"timestamp\").alias(\"event_timestamp\"), \\\n",
    "            \"value.id\", \\\n",
    "            \"value.author_fullname\", \\\n",
    "            \"value.title\", \\\n",
    "            \"value.subreddit_name_prefixed\", \\\n",
    "            \"value.name\", \\\n",
    "            \"value.upvote_ratio\", \\\n",
    "            \"value.ups\", \\\n",
    "            \"value.created\", \\\n",
    "            \"value.domain\", \\\n",
    "            \"value.url_overridden_by_dest\", \\\n",
    "            \"value.over_18\", \\\n",
    "            \"value.subreddit_id\", \\\n",
    "            \"value.permalink\", \\\n",
    "            \"value.parent_whitelist_status\", \\\n",
    "            \"value.url\",\n",
    "            \"value.created_utc\"\n",
    "           )\n",
    "\n",
    "submissions_stream_df.printSchema()"
   ]
  },
  {
   "cell_type": "code",
   "execution_count": 425,
   "id": "c8fe123d",
   "metadata": {},
   "outputs": [],
   "source": [
    "submissions_stream = submissions_stream_df \\\n",
    "    .writeStream \\\n",
    "    .format(\"memory\") \\\n",
    "    .queryName(\"all_submissions_view\") \\\n",
    "    .start()"
   ]
  },
  {
   "cell_type": "code",
   "execution_count": 426,
   "id": "8c265c2f",
   "metadata": {},
   "outputs": [
    {
     "name": "stdout",
     "output_type": "stream",
     "text": [
      "root\n",
      " |-- event_key: string (nullable = true)\n",
      " |-- event_topic: string (nullable = true)\n",
      " |-- event_timestamp: timestamp (nullable = true)\n",
      " |-- id: string (nullable = true)\n",
      " |-- author_fullname: string (nullable = true)\n",
      " |-- title: string (nullable = true)\n",
      " |-- subreddit_name_prefixed: string (nullable = true)\n",
      " |-- name: string (nullable = true)\n",
      " |-- upvote_ratio: double (nullable = true)\n",
      " |-- ups: integer (nullable = true)\n",
      " |-- created: integer (nullable = true)\n",
      " |-- domain: string (nullable = true)\n",
      " |-- url_overridden_by_dest: string (nullable = true)\n",
      " |-- over_18: string (nullable = true)\n",
      " |-- subreddit_id: string (nullable = true)\n",
      " |-- permalink: string (nullable = true)\n",
      " |-- parent_whitelist_status: string (nullable = true)\n",
      " |-- url: string (nullable = true)\n",
      " |-- created_utc: integer (nullable = true)\n",
      "\n",
      "None\n",
      "120\n",
      "+---------+-----------+-----------------------+------+---------------+----------------------------------------+-----------------------+---------+------------+---+-------+-------------------+----------------------------------------+-------+------------+----------------------------------------+-----------------------+----------------------------------------+-----------+\n",
      "|event_key|event_topic|        event_timestamp|    id|author_fullname|                                   title|subreddit_name_prefixed|     name|upvote_ratio|ups|created|             domain|                  url_overridden_by_dest|over_18|subreddit_id|                               permalink|parent_whitelist_status|                                     url|created_utc|\n",
      "+---------+-----------+-----------------------+------+---------------+----------------------------------------+-----------------------+---------+------------+---+-------+-------------------+----------------------------------------+-------+------------+----------------------------------------+-----------------------+----------------------------------------+-----------+\n",
      "|   nycna2|submissions|2021-06-13 00:49:23.459|nycna2|       t2_6ai2b|Somalia: Somaliland's Election Booste...|            r/worldnews|t3_nycna2|        0.75| 14|   null|      allafrica.com|https://allafrica.com/stories/2021061...|  false|    t5_2qh13|/r/worldnews/comments/nycna2/somalia_...|                all_ads|https://allafrica.com/stories/2021061...|       null|\n",
      "|   nydfcz|submissions|2021-06-13 00:49:23.459|nydfcz|       t2_nejpr|Israel forces kill Palestinian teen a...|            r/worldnews|t3_nydfcz|        0.62| 38|   null|      aljazeera.com|https://www.aljazeera.com/news/2021/6...|  false|    t5_2qh13|/r/worldnews/comments/nydfcz/israel_f...|                all_ads|https://www.aljazeera.com/news/2021/6...|       null|\n",
      "|   nydk1u|submissions|2021-06-13 00:49:23.459|nydk1u|    t2_43z74oz9|Communion leaders call on Canadian co...|            r/worldnews|t3_nydk1u|         0.7| 12|   null|anglicanjournal.com|https://www.anglicanjournal.com/commu...|  false|    t5_2qh13|/r/worldnews/comments/nydk1u/communio...|                all_ads|https://www.anglicanjournal.com/commu...|       null|\n",
      "|   nydlo1|submissions|2021-06-13 00:49:23.459|nydlo1|    t2_1lcoilgu|G7 reaches consensus on China dumping...|            r/worldnews|t3_nydlo1|        0.78| 87|   null|        reuters.com|https://www.reuters.com/world/china/g...|  false|    t5_2qh13|/r/worldnews/comments/nydlo1/g7_reach...|                all_ads|https://www.reuters.com/world/china/g...|       null|\n",
      "|   nydqvu|submissions|2021-06-13 00:49:23.459|nydqvu|    t2_84oo4ons|President Biden will hold a solo news...|            r/worldnews|t3_nydqvu|        0.87|794|   null|        reuters.com|https://www.reuters.com/world/biden-h...|  false|    t5_2qh13|/r/worldnews/comments/nydqvu/presiden...|                all_ads|https://www.reuters.com/world/biden-h...|       null|\n",
      "+---------+-----------+-----------------------+------+---------------+----------------------------------------+-----------------------+---------+------------+---+-------+-------------------+----------------------------------------+-------+------------+----------------------------------------+-----------------------+----------------------------------------+-----------+\n",
      "only showing top 5 rows\n",
      "\n"
     ]
    }
   ],
   "source": [
    "subs_data = spark.sql('SELECT * FROM all_submissions_view ORDER BY created desc')\n",
    "print(subs_data.printSchema())\n",
    "print(subs_data.count())\n",
    "subs_data.show(5, truncate = 40)"
   ]
  },
  {
   "cell_type": "markdown",
   "id": "b5d7fdc3",
   "metadata": {
    "tags": []
   },
   "source": [
    "## Process new titles data ready for modelling and prediction"
   ]
  },
  {
   "cell_type": "code",
   "execution_count": 427,
   "id": "af319467",
   "metadata": {},
   "outputs": [
    {
     "data": {
      "text/plain": [
       "120"
      ]
     },
     "execution_count": 427,
     "metadata": {},
     "output_type": "execute_result"
    }
   ],
   "source": [
    "# Only keep the needed columns and remove duplicate rows - submissions\n",
    "subs_data = subs_data.select('id','title','domain','subreddit_id','event_timestamp')\n",
    "subs_data = subs_data.distinct()\n",
    "subs_data.count()"
   ]
  },
  {
   "cell_type": "code",
   "execution_count": 428,
   "id": "56debc03",
   "metadata": {},
   "outputs": [],
   "source": [
    "#Remove punctuation and numbers from titles\n",
    "subs_data = subs_data.withColumn(\"title\", regexp_replace(col(\"title\"), '[^\\sa-zA-Z]', ''))\n",
    "#prepare a tokenizer\n",
    "tokenizer = Tokenizer(inputCol=\"title\", outputCol=\"words\")\n",
    "wordsDataFrame = tokenizer.transform(subs_data)\n",
    "#define stopwords\n",
    "stop_words =StopWordsRemover.loadDefaultStopWords(\"english\")\n",
    "stop_words = stop_words + ['a','i']\n",
    "#apply the stop words remover\n",
    "remover = StopWordsRemover(inputCol=\"words\", outputCol=\"filtered\", stopWords = stop_words)\n",
    "wordsDataFrame = remover.transform(wordsDataFrame)"
   ]
  },
  {
   "cell_type": "code",
   "execution_count": 429,
   "id": "94d94a6b",
   "metadata": {},
   "outputs": [
    {
     "name": "stdout",
     "output_type": "stream",
     "text": [
      "+--------------------+------+\n",
      "|             vectors|    id|\n",
      "+--------------------+------+\n",
      "|(68283,[1,3,6,144...|nyc0xu|\n",
      "|(68283,[1,6,47,11...|nyfeyp|\n",
      "|(68283,[0,4,7,22,...|nyagde|\n",
      "|(68283,[0,1751,18...|nyccrc|\n",
      "|(68283,[1,335,501...|ny6ed0|\n",
      "|(68283,[6,16,60,7...|nyocfi|\n",
      "|(68283,[74,272,30...|nyc1vt|\n",
      "|(68283,[2,17,47,7...|nyew7i|\n",
      "|(68283,[55,67,202...|nyg537|\n",
      "|(68283,[33,153,17...|ny6st7|\n",
      "|(68283,[0,69,113,...|ny6ug6|\n",
      "|(68283,[7,17,33,5...|nydqvu|\n",
      "|(68283,[6,17,47,3...|nygp6t|\n",
      "|(68283,[61,519,11...|nyifam|\n",
      "|(68283,[211,719,1...|nybrib|\n",
      "|(68283,[366,695,1...|nygt8j|\n",
      "|(68283,[4,67,126,...|nyj2p8|\n",
      "|(68283,[639,644,2...|nyk526|\n",
      "|(68283,[0,1,7,9,4...|nyktrp|\n",
      "|(68283,[3,56,335,...|ny7zzo|\n",
      "+--------------------+------+\n",
      "only showing top 20 rows\n",
      "\n"
     ]
    }
   ],
   "source": [
    "# Load the vectorizer trained on the original training data and used for the LDA model training anf hence the rf model relying on it.\n",
    "cvmodel = CountVectorizerModel.load('count_vectorizer_model')\n",
    "# Then apply it to new titles data\n",
    "df_vect = cvmodel.transform(wordsDataFrame)\n",
    "basics = df_vect.select('vectors', 'id')\n",
    "basics.show()"
   ]
  },
  {
   "cell_type": "code",
   "execution_count": 430,
   "id": "ee92b65d",
   "metadata": {},
   "outputs": [],
   "source": [
    "# Load the LDA model trained on the original training data \n",
    "lda_model = LocalLDAModel.load('lda_distributed_model')\n",
    "# Then apply it to new titles vectors\n",
    "indiv = lda_model.transform(basics)"
   ]
  },
  {
   "cell_type": "markdown",
   "id": "de5f4794",
   "metadata": {},
   "source": [
    "## Build other features into dataset"
   ]
  },
  {
   "cell_type": "code",
   "execution_count": 431,
   "id": "800aacd1",
   "metadata": {
    "tags": []
   },
   "outputs": [],
   "source": [
    "subs_data = subs_data.withColumn(\"hour\", hour(col(\"event_timestamp\"))).withColumn(\"day\", dayofweek(col(\"event_timestamp\")))\n",
    "subs_data = subs_data.withColumn(\"hour\", F.col(\"hour\").astype(StringType())).withColumn(\"day\", F.col(\"day\").astype(StringType()))"
   ]
  },
  {
   "cell_type": "code",
   "execution_count": 432,
   "id": "e0c53805",
   "metadata": {},
   "outputs": [
    {
     "name": "stdout",
     "output_type": "stream",
     "text": [
      "+------+---------------------+---------------------+---------------------+---------------------+---------------------+---------------------+---------------------+---------------------+-------------------+---------------------+---------------------+---------------------+---------------------+---------------------+---------------------+---------------------+---------------------+---------------------+---------------------+---------------------+\n",
      "|    id|                  T_1|                  T_2|                  T_3|                  T_4|                  T_5|                  T_6|                  T_7|                  T_8|                T_9|                 T_10|                 T_11|                 T_12|                 T_13|                 T_14|                 T_15|                 T_16|                 T_17|                 T_18|                 T_19|                 T_20|\n",
      "+------+---------------------+---------------------+---------------------+---------------------+---------------------+---------------------+---------------------+---------------------+-------------------+---------------------+---------------------+---------------------+---------------------+---------------------+---------------------+---------------------+---------------------+---------------------+---------------------+---------------------+\n",
      "|nyc0xu| 0.004219450214581633| 0.004218547841895463|0.0042450903238827374| 0.004221124047998719| 0.004235255468246801| 0.004221012998140215| 0.004230441964830229|0.0042211826939130255| 0.9187395725740105| 0.004223440758057018| 0.005095849889164285| 0.004292840689402406| 0.004216960250369181| 0.004244362075309923| 0.004231859367109952| 0.004223373887916265|0.0042362214000178115| 0.004219021416624462|  0.00422799334578957| 0.004236398792739921|\n",
      "|nyfeyp| 0.006643685118438929| 0.006642264298719679|0.0066840564478915935| 0.006646320633024587|  0.00666857109318285| 0.006646145781145356| 0.006660992047694643| 0.006646412973056113| 0.6929080188633885| 0.006649968381015389|  0.18716795202548217|0.0067592412212417845| 0.006639764574725859|0.0066829097916559594| 0.006663223802476664|0.0066498630921972305| 0.006670091989397103| 0.006643009959807375|0.0066571366044081625|  0.00667037130105037|\n",
      "|nyagde| 0.003568406709707781| 0.003567643569953005| 0.003590090658005845|0.0035698222778829105| 0.003581773279325451|0.0035697283625699618|0.0035777024788138235|0.0035698718746930824| 0.9312777161487187|0.0035717815292981947|  0.00430958178395713|0.0036304733450279853|0.0035663009367095854|0.0035894747745704794|0.0035789011823018015|0.0035717249770809787| 0.003582590172558597| 0.003568044073235012|0.0035756316717742956| 0.003582740193815531|\n",
      "|nyccrc| 0.005161069579645571| 0.005159965834195871| 0.005192431579601961| 0.005163116950612178| 0.005180401960385167| 0.005162981116619872|0.0051745142696969625|  0.00516318868008724| 0.9006053626897835| 0.005165950662588686| 0.006233048883852519| 0.005250837993631807| 0.005158023952725977| 0.005191540812602607| 0.005176247979833963| 0.005165868868141368| 0.005181583452149899|0.0051605450910650105| 0.005171519210644217| 0.005181800432135512|\n",
      "|ny6ed0|0.0058092729650576986| 0.005808030594074478| 0.005844573866971004| 0.005811577474981714|0.0058310333904584505| 0.005811424583521016| 0.005824406235345877| 0.005811658217768381| 0.8881219167826387| 0.005814767086413498| 0.007015885821195611| 0.005910315825398722|0.0058058448233835455|  0.00584357122519789| 0.005826357694810112| 0.005814675020486374| 0.005832363270566945| 0.005808682602824484| 0.005821035015307526| 0.005832607503597831|\n",
      "|nyocfi|0.0025750919412359384| 0.002574541231488195| 0.002590739865887586|0.0025761134666721615|0.0025847377432920288| 0.002576045693756245| 0.002581800105626047| 0.002576149257427411| 0.9504075028906779|0.0025775273333356417|0.0031099508408407362| 0.002619881478786199|0.0025735723386874155| 0.002590295422331929|0.0025826651338101397|0.0025774865232384933| 0.002585327243469372|0.0025748302494874443|0.0025803057363301502|0.0025854355036189344|\n",
      "|nyc1vt| 0.004642999880705308| 0.004642006929061039| 0.004671213752949111| 0.004644841733617764|  0.00466039166972496| 0.004644719537807809| 0.004655094985296179| 0.004644906266509786| 0.9105826267940633| 0.004647390996181971|  0.00560737273927716| 0.004723757312142127| 0.004640259974564033| 0.004670412404804044| 0.004656654668602238| 0.004647317413285057| 0.004661454562597565| 0.004642528039253631| 0.004652400574942085| 0.004661649764614448|\n",
      "|nyew7i| 0.004219450214955487| 0.004218547842858048| 0.004245090331140233| 0.004221124049242838| 0.004235255469655043| 0.004221012998725631| 0.004230441965529209| 0.004221182694380175|0.45669668661607227| 0.004223440758529199|   0.4671387358245876| 0.004292840692952773| 0.004216960250604765|   0.0042443620750048| 0.004231859367905127| 0.004223373889084918| 0.004236221402036787| 0.004219021416697213| 0.004227993346698781|0.0042363987933390435|\n",
      "|nyg537| 0.004219450224139291|   0.0042185478544952| 0.004245090334463106| 0.004221124060034403| 0.004235255479911167| 0.004221013008556517| 0.004230441976837197| 0.004221182704150382| 0.8107676842764253| 0.004223440770940821|  0.11306773799265134|0.0042928406974433436| 0.004216960260269761| 0.004244362082962188| 0.004231859377900355| 0.004223373897963278| 0.004236221409319921| 0.004219021429575252| 0.004227993357457451| 0.004236398804503846|\n",
      "|ny6st7| 0.005161069571461314| 0.005159965824269979| 0.005192431569522034| 0.005163116940643457| 0.005180401954268011| 0.005162981108464565| 0.005174514257960751| 0.005163188673248119| 0.9006053631126559|0.0051659506514037485|  0.00623304862529706| 0.005250837984369184|0.0051580239423262755|  0.00519154080599366|0.0051762479703931245| 0.005165868857919901| 0.005181583444575828| 0.005160545081492572| 0.005171519202145327| 0.005181800421589193|\n",
      "|ny6ug6| 0.004642999878782526|0.0046420069263915535| 0.004671213750772946| 0.004644841732736521| 0.004660391669504213|   0.0046447195359944|0.0046550949841496995|0.0046449062660078875| 0.9105826130190094| 0.004647390996358665| 0.005607386525014168|0.0047237573277827205| 0.004640259972199053|0.0046704124016800535| 0.004656654666106744| 0.004647317412253548| 0.004661454562494814|0.0046425280380202735| 0.004652400572613009| 0.004661649762127401|\n",
      "|nydqvu|0.0027269062661949314|0.0027263230897279877| 0.002743476713276689| 0.002727988015742078|0.0027371207359018056|0.0027279162474943643|0.0027340099119650993|0.0027280259168987677| 0.9474837748860184|0.0027294852369672265|0.0032933042967501543| 0.002774336371867116| 0.002725297075880642|0.0027430060687222736| 0.002734925935719947| 0.002729442021172278|0.0027377449894879806|0.0027266291468517486|0.0027324274406014806|0.0027378596327591862|\n",
      "|nygp6t| 0.005809272958251911| 0.005808030586138926|   0.0058445738596394| 0.005811577466335212| 0.005831033383764799|0.0058114245746908036| 0.005824406228429403| 0.005811658208894458| 0.6601992922446304| 0.005814767075839901|  0.23493851050441328|  0.00591031581582214|  0.00580584481457372| 0.005843571218218782| 0.005826357685737501| 0.005814675010163026| 0.005832363265259987| 0.005808682595721836| 0.005821035008304022| 0.005832607495170665|\n",
      "|nyifam|0.0066436851641153835| 0.006642264336964329| 0.006684056510832383| 0.006646320700684955| 0.006668571299798379| 0.006646145837035167|0.0066609920837365135| 0.006646413050283078| 0.8720523595304732|0.0066499684350846576| 0.008023610256958733| 0.006759241267443002| 0.006639764629310291| 0.006682909834710842|  0.00666322385038303| 0.006649863154631669| 0.006670092040479294| 0.006643010006000363| 0.006657136651427601| 0.006670371359647382|\n",
      "|nybrib| 0.006643685120920475|0.0066422643019755255| 0.006684056451537358| 0.006646320636412834| 0.006668571095503417| 0.006646145783369309| 0.006660992049869491|0.0066464129761538634| 0.8720523611874554| 0.006649968384708875| 0.008023609649256329| 0.006759241221646606| 0.006639764578078266|0.0066829097933456235| 0.006663223805845641| 0.006649863096025921| 0.006670091992879652| 0.006643009962229545| 0.006657136608222776| 0.006670371304563019|\n",
      "|nygt8j| 0.005809272963279381| 0.005808030591784166| 0.005844573865276227| 0.005811577472768989| 0.005831033391035172|0.0058114245799483506| 0.005824406230663073| 0.005811658212472431| 0.8881219161147597| 0.005814767082063065| 0.007015886541299201|0.0059103158226144654| 0.005805844818015969|0.0058435712241914645|  0.00582635768853227| 0.005814675016310525| 0.005832363268410758| 0.005808682600350109| 0.005821035012951401| 0.005832607503273372|\n",
      "|nyj2p8| 0.005809272964444136| 0.005808030591928311| 0.005844573868742331| 0.005811577471757744| 0.005831033394753189|  0.00581142458435762|  0.00582440623636451|0.0058116582191737685| 0.8881219161629059| 0.005814767088899543| 0.007015886432642497|0.0059103158246021055| 0.005805844823922878| 0.005843571226763565| 0.005826357696050362| 0.005814675020753537| 0.005832363271308325| 0.005808682602140612| 0.005821035016036817| 0.005832607502452216|\n",
      "|nyk526| 0.007758002059046494|  0.00775634293093529| 0.007805144698834286| 0.007761079617100412| 0.007787062050558597| 0.007760875437673403| 0.007778211808190141| 0.007761187445389655| 0.8505922471335857|0.0077653391875275425|  0.00936937834535689|  0.00789293989816298| 0.007753423939876173| 0.007803805719884256|  0.00778081788294196| 0.007765216238747582| 0.007788838042824555|  0.00775721365809706| 0.007773709705133231|  0.00778916420013382|\n",
      "|nyktrp| 0.003866715738884361| 0.003865888800253188|0.0038902124044430464|0.0038682496433528877| 0.003881199715326973| 0.003868147876950081|0.0038767886077336737|0.0038683033864715917| 0.9255327217110041|0.0038703726829016198| 0.004669850740763792| 0.003933970974579144|0.0038644339273021903| 0.003889545035015517| 0.003878087518899085|0.0038703114030039596|0.0038820848975741973|0.0038663227859097294| 0.003874544686788633| 0.003882247462842287|\n",
      "|ny7zzo|  0.00421945021470562| 0.004218547841991077| 0.004245090323927762| 0.004221124047883132|0.0042352554750516615| 0.004221012997966115| 0.004230441964266091|  0.00422118269349989| 0.9187395725674035| 0.004223440758382003|  0.00509584989045879| 0.004292840689638788| 0.004216960250013374| 0.004244362074524826| 0.004231859367151512|0.0042233738887005184|  0.00423622140034125| 0.004219021415739192| 0.004227993345762206| 0.004236398792592853|\n",
      "+------+---------------------+---------------------+---------------------+---------------------+---------------------+---------------------+---------------------+---------------------+-------------------+---------------------+---------------------+---------------------+---------------------+---------------------+---------------------+---------------------+---------------------+---------------------+---------------------+---------------------+\n",
      "only showing top 20 rows\n",
      "\n"
     ]
    }
   ],
   "source": [
    "# The training model used this number of topics, so need to know that for vector importance here\n",
    "num_topics = 20\n",
    "# Create partial features df by collecting topic distributions for each title\n",
    "temp = indiv.select('topicDistribution')\n",
    "# Create a list of sequential column titles to be used for populating this\n",
    "X_titles = [f'T_{i}' for i in range(1, num_topics +1)]\n",
    "X_titles = ['id'] + X_titles # adding the id at start\n",
    "# Populate topic features\n",
    "temp = indiv.withColumn(\"T_\", vector_to_array(\"topicDistribution\")).select([\"id\"] + [col(\"T_\")[i] for i in range(20)]).drop('vectors', 'topicDistribution')\n",
    "temp = temp.toDF(*X_titles)\n",
    "temp.show(truncate =40)"
   ]
  },
  {
   "cell_type": "code",
   "execution_count": 433,
   "id": "5346a939",
   "metadata": {},
   "outputs": [],
   "source": [
    "# Pull together the topic features and other ones\n",
    "rf_full = temp.join(subs_data, on = 'id', how= 'left').drop('id','subreddit_id','title','event_timestamp','created_utc','link_id')"
   ]
  },
  {
   "cell_type": "code",
   "execution_count": 434,
   "id": "d88228b1",
   "metadata": {},
   "outputs": [],
   "source": [
    "# Load the pre-trained random forest model\n",
    "pipeline_model = PipelineModel.load('pipeline_model')\n",
    "\n",
    "# Required variables for the pipeline\n",
    "cat_cols = ['domain','hour','day'] # categorical columns\n",
    "# Change title of one hot encoded categoricals created in the pipeline\n",
    "cat_cols_ohe = [f\"{cat_col}_ohe\" for cat_col in cat_cols]\n",
    "# Define the numerical columns\n",
    "features_cols = rf_full.columns\n",
    "num_cols = [x for x in features_cols if x not in cat_cols]\n",
    "\n",
    "# Apply it to the new feature dataframe fro new submissions\n",
    "predicted_comments = pipeline_model.transform(rf_full)"
   ]
  },
  {
   "cell_type": "code",
   "execution_count": 34,
   "id": "fd700649",
   "metadata": {},
   "outputs": [],
   "source": [
    "preds= predicted_comments.select(['prediction'])"
   ]
  },
  {
   "cell_type": "code",
   "execution_count": 35,
   "id": "170ab899",
   "metadata": {},
   "outputs": [
    {
     "name": "stdout",
     "output_type": "stream",
     "text": [
      "+----------+\n",
      "|prediction|\n",
      "+----------+\n",
      "|       0.0|\n",
      "|       0.0|\n",
      "|       0.0|\n",
      "|       0.0|\n",
      "|       0.0|\n",
      "|       0.0|\n",
      "|       0.0|\n",
      "|       0.0|\n",
      "|       0.0|\n",
      "|       0.0|\n",
      "+----------+\n",
      "only showing top 10 rows\n",
      "\n"
     ]
    }
   ],
   "source": [
    "preds.show(10)"
   ]
  },
  {
   "cell_type": "code",
   "execution_count": 435,
   "id": "98c39164",
   "metadata": {},
   "outputs": [
    {
     "name": "stdout",
     "output_type": "stream",
     "text": [
      "+--------------------+--------------------+--------------------+--------------------+--------------------+--------------------+--------------------+--------------------+-------------------+--------------------+--------------------+--------------------+--------------------+--------------------+--------------------+--------------------+--------------------+--------------------+--------------------+--------------------+--------------------+----+---+\n",
      "|                 T_1|                 T_2|                 T_3|                 T_4|                 T_5|                 T_6|                 T_7|                 T_8|                T_9|                T_10|                T_11|                T_12|                T_13|                T_14|                T_15|                T_16|                T_17|                T_18|                T_19|                T_20|              domain|hour|day|\n",
      "+--------------------+--------------------+--------------------+--------------------+--------------------+--------------------+--------------------+--------------------+-------------------+--------------------+--------------------+--------------------+--------------------+--------------------+--------------------+--------------------+--------------------+--------------------+--------------------+--------------------+--------------------+----+---+\n",
      "|0.004219450214581633|0.004218547841895463|0.004245090323882...|0.004221124047998719|0.004235255468246801|0.004221012998140215|0.004230441964830229|0.004221182693913...| 0.9187395725740105|0.004223440758057018|0.005095849889164285|0.004292840689402406|0.004216960250369181|0.004244362075309923|0.004231859367109952|0.004223373887916265|0.004236221400017...|0.004219021416624462| 0.00422799334578957|0.004236398792739921|         thehill.com|   0|  1|\n",
      "|0.006643685118438929|0.006642264298719679|0.006684056447891...|0.006646320633024587| 0.00666857109318285|0.006646145781145356|0.006660992047694643|0.006646412973056113| 0.6929080188633885|0.006649968381015389| 0.18716795202548217|0.006759241221241...|0.006639764574725859|0.006682909791655...|0.006663223802476664|0.006649863092197...|0.006670091989397103|0.006643009959807375|0.006657136604408...| 0.00667037130105037|dailytelegraph.co...|   0|  1|\n",
      "|0.003568406709707781|0.003567643569953005|0.003590090658005845|0.003569822277882...|0.003581773279325451|0.003569728362569...|0.003577702478813...|0.003569871874693...| 0.9312777161487187|0.003571781529298...| 0.00430958178395713|0.003630473345027...|0.003566300936709...|0.003589474774570...|0.003578901182301...|0.003571724977080...|0.003582590172558597|0.003568044073235012|0.003575631671774...|0.003582740193815531|         haaretz.com|   0|  1|\n",
      "|0.005161069579645571|0.005159965834195871|0.005192431579601961|0.005163116950612178|0.005180401960385167|0.005162981116619872|0.005174514269696...| 0.00516318868008724| 0.9006053626897835|0.005165950662588686|0.006233048883852519|0.005250837993631807|0.005158023952725977|0.005191540812602607|0.005176247979833963|0.005165868868141368|0.005181583452149899|0.005160545091065...|0.005171519210644217|0.005181800432135512|         reuters.com|   0|  1|\n",
      "|0.005809272965057...|0.005808030594074478|0.005844573866971004|0.005811577474981714|0.005831033390458...|0.005811424583521016|0.005824406235345877|0.005811658217768381| 0.8881219167826387|0.005814767086413498|0.007015885821195611|0.005910315825398722|0.005805844823383...| 0.00584357122519789|0.005826357694810112|0.005814675020486374|0.005832363270566945|0.005808682602824484|0.005821035015307526|0.005832607503597831|     theguardian.com|   0|  1|\n",
      "|0.002575091941235...|0.002574541231488195|0.002590739865887586|0.002576113466672...|0.002584737743292...|0.002576045693756245|0.002581800105626047|0.002576149257427411| 0.9504075028906779|0.002577527333335...|0.003109950840840...|0.002619881478786199|0.002573572338687...|0.002590295422331929|0.002582665133810...|0.002577486523238...|0.002585327243469372|0.002574830249487...|0.002580305736330...|0.002585435503618...|             cnn.com|   4|  1|\n",
      "|0.004642999880705308|0.004642006929061039|0.004671213752949111|0.004644841733617764| 0.00466039166972496|0.004644719537807809|0.004655094985296179|0.004644906266509786| 0.9105826267940633|0.004647390996181971| 0.00560737273927716|0.004723757312142127|0.004640259974564033|0.004670412404804044|0.004656654668602238|0.004647317413285057|0.004661454562597565|0.004642528039253631|0.004652400574942085|0.004661649764614448|          usnews.com|   0|  1|\n",
      "|0.004219450214955487|0.004218547842858048|0.004245090331140233|0.004221124049242838|0.004235255469655043|0.004221012998725631|0.004230441965529209|0.004221182694380175|0.45669668661607227|0.004223440758529199|  0.4671387358245876|0.004292840692952773|0.004216960250604765|  0.0042443620750048|0.004231859367905127|0.004223373889084918|0.004236221402036787|0.004219021416697213|0.004227993346698781|0.004236398793339...|             cnn.com|   0|  1|\n",
      "|0.004219450224139291|  0.0042185478544952|0.004245090334463106|0.004221124060034403|0.004235255479911167|0.004221013008556517|0.004230441976837197|0.004221182704150382| 0.8107676842764253|0.004223440770940821| 0.11306773799265134|0.004292840697443...|0.004216960260269761|0.004244362082962188|0.004231859377900355|0.004223373897963278|0.004236221409319921|0.004219021429575252|0.004227993357457451|0.004236398804503846|        ynetnews.com|   0|  1|\n",
      "|0.005161069571461314|0.005159965824269979|0.005192431569522034|0.005163116940643457|0.005180401954268011|0.005162981108464565|0.005174514257960751|0.005163188673248119| 0.9006053631126559|0.005165950651403...| 0.00623304862529706|0.005250837984369184|0.005158023942326...| 0.00519154080599366|0.005176247970393...|0.005165868857919901|0.005181583444575828|0.005160545081492572|0.005171519202145327|0.005181800421589193|             bbc.com|   0|  1|\n",
      "|0.004642999878782526|0.004642006926391...|0.004671213750772946|0.004644841732736521|0.004660391669504213|  0.0046447195359944|0.004655094984149...|0.004644906266007...| 0.9105826130190094|0.004647390996358665|0.005607386525014168|0.004723757327782...|0.004640259972199053|0.004670412401680...|0.004656654666106744|0.004647317412253548|0.004661454562494814|0.004642528038020...|0.004652400572613009|0.004661649762127401|     theguardian.com|   0|  1|\n",
      "|0.002726906266194...|0.002726323089727...|0.002743476713276689|0.002727988015742078|0.002737120735901...|0.002727916247494...|0.002734009911965...|0.002728025916898...| 0.9474837748860184|0.002729485236967...|0.003293304296750...|0.002774336371867116|0.002725297075880642|0.002743006068722...|0.002734925935719947|0.002729442021172278|0.002737744989487...|0.002726629146851...|0.002732427440601...|0.002737859632759...|         reuters.com|   0|  1|\n",
      "|0.005809272958251911|0.005808030586138926|  0.0058445738596394|0.005811577466335212|0.005831033383764799|0.005811424574690...|0.005824406228429403|0.005811658208894458| 0.6601992922446304|0.005814767075839901| 0.23493851050441328| 0.00591031581582214| 0.00580584481457372|0.005843571218218782|0.005826357685737501|0.005814675010163026|0.005832363265259987|0.005808682595721836|0.005821035008304022|0.005832607495170665|   thedailybeast.com|   0|  1|\n",
      "|0.006643685164115...|0.006642264336964329|0.006684056510832383|0.006646320700684955|0.006668571299798379|0.006646145837035167|0.006660992083736...|0.006646413050283078| 0.8720523595304732|0.006649968435084...|0.008023610256958733|0.006759241267443002|0.006639764629310291|0.006682909834710842| 0.00666322385038303|0.006649863154631669|0.006670092040479294|0.006643010006000363|0.006657136651427601|0.006670371359647382|             bbc.com|   0|  1|\n",
      "|0.006643685120920475|0.006642264301975...|0.006684056451537358|0.006646320636412834|0.006668571095503417|0.006646145783369309|0.006660992049869491|0.006646412976153...| 0.8720523611874554|0.006649968384708875|0.008023609649256329|0.006759241221646606|0.006639764578078266|0.006682909793345...|0.006663223805845641|0.006649863096025921|0.006670091992879652|0.006643009962229545|0.006657136608222776|0.006670371304563019|         reuters.com|   0|  1|\n",
      "|0.005809272963279381|0.005808030591784166|0.005844573865276227|0.005811577472768989|0.005831033391035172|0.005811424579948...|0.005824406230663073|0.005811658212472431| 0.8881219161147597|0.005814767082063065|0.007015886541299201|0.005910315822614...|0.005805844818015969|0.005843571224191...| 0.00582635768853227|0.005814675016310525|0.005832363268410758|0.005808682600350109|0.005821035012951401|0.005832607503273372|         thehill.com|   0|  1|\n",
      "|0.005809272964444136|0.005808030591928311|0.005844573868742331|0.005811577471757744|0.005831033394753189| 0.00581142458435762| 0.00582440623636451|0.005811658219173...| 0.8881219161629059|0.005814767088899543|0.007015886432642497|0.005910315824602...|0.005805844823922878|0.005843571226763565|0.005826357696050362|0.005814675020753537|0.005832363271308325|0.005808682602140612|0.005821035016036817|0.005832607502452216|   timesofisrael.com|   0|  1|\n",
      "|0.007758002059046494| 0.00775634293093529|0.007805144698834286|0.007761079617100412|0.007787062050558597|0.007760875437673403|0.007778211808190141|0.007761187445389655| 0.8505922471335857|0.007765339187527...| 0.00936937834535689| 0.00789293989816298|0.007753423939876173|0.007803805719884256| 0.00778081788294196|0.007765216238747582|0.007788838042824555| 0.00775721365809706|0.007773709705133231| 0.00778916420013382|   independent.co.uk|   0|  1|\n",
      "|0.003866715738884361|0.003865888800253188|0.003890212404443...|0.003868249643352...|0.003881199715326973|0.003868147876950081|0.003876788607733...|0.003868303386471...| 0.9255327217110041|0.003870372682901...|0.004669850740763792|0.003933970974579144|0.003864433927302...|0.003889545035015517|0.003878087518899085|0.003870311403003...|0.003882084897574...|0.003866322785909...|0.003874544686788633|0.003882247462842287|       aljazeera.com|   0|  1|\n",
      "| 0.00421945021470562|0.004218547841991077|0.004245090323927762|0.004221124047883132|0.004235255475051...|0.004221012997966115|0.004230441964266091| 0.00422118269349989| 0.9187395725674035|0.004223440758382003| 0.00509584989045879|0.004292840689638788|0.004216960250013374|0.004244362074524826|0.004231859367151512|0.004223373888700...| 0.00423622140034125|0.004219021415739192|0.004227993345762206|0.004236398792592853|   timesofisrael.com|   0|  1|\n",
      "+--------------------+--------------------+--------------------+--------------------+--------------------+--------------------+--------------------+--------------------+-------------------+--------------------+--------------------+--------------------+--------------------+--------------------+--------------------+--------------------+--------------------+--------------------+--------------------+--------------------+--------------------+----+---+\n",
      "only showing top 20 rows\n",
      "\n"
     ]
    }
   ],
   "source": [
    "rf_full.show(20)"
   ]
  },
  {
   "cell_type": "code",
   "execution_count": 36,
   "id": "62ec5683",
   "metadata": {},
   "outputs": [],
   "source": [
    "spark.stop()"
   ]
  },
  {
   "cell_type": "code",
   "execution_count": null,
   "id": "f5dc7efc",
   "metadata": {},
   "outputs": [],
   "source": []
  }
 ],
 "metadata": {
  "kernelspec": {
   "display_name": "Python 3",
   "language": "python",
   "name": "python3"
  },
  "language_info": {
   "codemirror_mode": {
    "name": "ipython",
    "version": 3
   },
   "file_extension": ".py",
   "mimetype": "text/x-python",
   "name": "python",
   "nbconvert_exporter": "python",
   "pygments_lexer": "ipython3",
   "version": "3.8.8"
  }
 },
 "nbformat": 4,
 "nbformat_minor": 5
}
