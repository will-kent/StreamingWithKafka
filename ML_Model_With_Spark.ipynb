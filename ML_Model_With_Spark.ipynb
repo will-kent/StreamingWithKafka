{
 "cells": [
  {
   "cell_type": "code",
   "execution_count": 5,
   "metadata": {},
   "outputs": [],
   "source": [
    "# Import relevant functions\n",
    "import gensim\n",
    "from gensim.utils import simple_preprocess\n",
    "import gensim.corpora as corpora\n",
    "import numpy as np\n",
    "import pandas as pd\n",
    "from pyspark.sql import SparkSession\n",
    "import pyspark\n",
    "from pyspark import broadcast, SparkContext\n",
    "from pyspark.ml.feature import CountVectorizer, CountVectorizerModel, Tokenizer, RegexTokenizer, StopWordsRemover, OneHotEncoder, StringIndexer, VectorAssembler, VectorIndexer, Bucketizer\n",
    "from pyspark.ml.linalg import Vectors, SparseVector\n",
    "from pyspark.ml.clustering import LDA\n",
    "from pyspark.ml.functions import vector_to_array\n",
    "from pyspark.sql import SQLContext\n",
    "import pyspark.sql.functions as F\n",
    "from pyspark.sql.types import *\n",
    "from pyspark.mllib.util import MLUtils\n",
    "import re\n",
    "import scipy\n",
    "import string\n",
    "import sys"
   ]
  },
  {
   "cell_type": "code",
   "execution_count": 4,
   "metadata": {},
   "outputs": [],
   "source": [
    "# Build the spark session\n",
    "spark = SparkSession.builder \\\n",
    "        .appName('kafka') \\\n",
    "        .getOrCreate()"
   ]
  },
  {
   "cell_type": "code",
   "execution_count": 6,
   "metadata": {},
   "outputs": [
    {
     "data": {
      "text/plain": [
       "'3.1.1'"
      ]
     },
     "execution_count": 6,
     "metadata": {},
     "output_type": "execute_result"
    }
   ],
   "source": [
    "spark.version"
   ]
  },
  {
   "cell_type": "code",
   "execution_count": 7,
   "metadata": {},
   "outputs": [],
   "source": [
    "sc = spark.sparkContext"
   ]
  },
  {
   "cell_type": "markdown",
   "metadata": {},
   "source": [
    "## Load data from csv, strip to required size then save to parquet"
   ]
  },
  {
   "cell_type": "code",
   "execution_count": 8,
   "metadata": {},
   "outputs": [],
   "source": [
    "# Load all submission csv files\n",
    "data = spark.read.format('csv').options(header ='true').load(f\"./data/submissions/*.csv\")"
   ]
  },
  {
   "cell_type": "code",
   "execution_count": 9,
   "metadata": {},
   "outputs": [
    {
     "name": "stdout",
     "output_type": "stream",
     "text": [
      "root\n",
      " |-- _c0: string (nullable = true)\n",
      " |-- id: string (nullable = true)\n",
      " |-- author_fullname: string (nullable = true)\n",
      " |-- title: string (nullable = true)\n",
      " |-- score: string (nullable = true)\n",
      " |-- author_premium: string (nullable = true)\n",
      " |-- domain: string (nullable = true)\n",
      " |-- over_18: string (nullable = true)\n",
      " |-- subreddit_id: string (nullable = true)\n",
      " |-- permalink: string (nullable = true)\n",
      " |-- parent_whitelist_status: string (nullable = true)\n",
      " |-- url: string (nullable = true)\n",
      " |-- created_utc: string (nullable = true)\n",
      " |-- num_comments: string (nullable = true)\n",
      " |-- upvote_ratio: string (nullable = true)\n",
      "\n",
      "None\n"
     ]
    },
    {
     "data": {
      "text/plain": [
       "127600"
      ]
     },
     "execution_count": 9,
     "metadata": {},
     "output_type": "execute_result"
    }
   ],
   "source": [
    "print(data.printSchema())\n",
    "data.count()"
   ]
  },
  {
   "cell_type": "code",
   "execution_count": 10,
   "metadata": {},
   "outputs": [
    {
     "data": {
      "text/plain": [
       "[Row(_c0='0', id='l8zd9o', author_fullname='t2_a30zb78q', title='موقع إخباري متنوع.. تعرف علي آخر الأخبار', score='1', author_premium='False', domain='nabakham.com', over_18='False', subreddit_id='t5_2qh13', permalink='/r/worldnews/comments/l8zd9o/موقع_إخباري_متنوع_تعرف_علي_آخر_الأخبار/', parent_whitelist_status='all_ads', url='https://nabakham.com/', created_utc='1612051145', num_comments='1', upvote_ratio='1.0'),\n",
       " Row(_c0='1', id='l8zd2a', author_fullname='t2_9xscy03j', title='New clinical trials raise fears the coronavirus is learning how to resist vaccines', score='1', author_premium='True', domain='google.co.uk', over_18='False', subreddit_id='t5_2qh13', permalink='/r/worldnews/comments/l8zd2a/new_clinical_trials_raise_fears_the_coronavirus/', parent_whitelist_status='all_ads', url='https://www.google.co.uk/amp/s/news.yahoo.com/amphtml/clinical-trials-raise-fears-coronavirus-040855671.html', created_utc='1612051128', num_comments='0', upvote_ratio='1.0'),\n",
       " Row(_c0='2', id='l8zaej', author_fullname='t2_96wsbpaj', title='Maryland confirms case of South African Covid variant that’s more infectious', score='1', author_premium='False', domain='radarhitnews.com', over_18='False', subreddit_id='t5_2qh13', permalink='/r/worldnews/comments/l8zaej/maryland_confirms_case_of_south_african_covid/', parent_whitelist_status='all_ads', url='https://www.radarhitnews.com/maryland-confirms-case-of-south-african-covid-variant-thats-more-infectious/', created_utc='1612050907', num_comments='0', upvote_ratio='1.0'),\n",
       " Row(_c0='3', id='l8z6gl', author_fullname='t2_612zd', title='India’s government plans to introduce a bill in the country’s lower house that would ban private cryptocurrencies such as bitcoin and create a national cryptocurrency', score='1', author_premium='True', domain='cnbc.com', over_18='False', subreddit_id='t5_2qh13', permalink='/r/worldnews/comments/l8z6gl/indias_government_plans_to_introduce_a_bill_in/', parent_whitelist_status='all_ads', url='https://www.cnbc.com/2021/01/30/the-indian-government-may-ban-cryptocurrencies-like-bitcoin.html', created_utc='1612050575', num_comments='17', upvote_ratio='1.0'),\n",
       " Row(_c0='4', id='l8ywij', author_fullname='t2_l9irga5', title='UK applying to join Asia-Pacific free trade pact CPTPP', score='1', author_premium='False', domain='bbc.co.uk', over_18='False', subreddit_id='t5_2qh13', permalink='/r/worldnews/comments/l8ywij/uk_applying_to_join_asiapacific_free_trade_pact/', parent_whitelist_status='all_ads', url='https://www.bbc.co.uk/news/business-55871373', created_utc='1612049755', num_comments='2', upvote_ratio='1.0')]"
      ]
     },
     "execution_count": 10,
     "metadata": {},
     "output_type": "execute_result"
    }
   ],
   "source": [
    "data.head(5)"
   ]
  },
  {
   "cell_type": "code",
   "execution_count": 11,
   "metadata": {},
   "outputs": [
    {
     "data": {
      "text/plain": [
       "127600"
      ]
     },
     "execution_count": 11,
     "metadata": {},
     "output_type": "execute_result"
    }
   ],
   "source": [
    "# Only keep the needed columns and remove duplicate rows\n",
    "df = data.select('id','title','domain','subreddit_id','created_utc','num_comments')\n",
    "df = df.distinct()\n",
    "df.count()"
   ]
  },
  {
   "cell_type": "code",
   "execution_count": 12,
   "metadata": {},
   "outputs": [],
   "source": [
    "# Fill nulls in the num_comments field with zero\n",
    "df = df.na.fill(value=0,subset=[\"num_comments\"])"
   ]
  },
  {
   "cell_type": "code",
   "execution_count": 13,
   "metadata": {},
   "outputs": [
    {
     "name": "stdout",
     "output_type": "stream",
     "text": [
      "+------+--------------------+--------------------+------------+-----------+------------+\n",
      "|    id|               title|              domain|subreddit_id|created_utc|num_comments|\n",
      "+------+--------------------+--------------------+------------+-----------+------------+\n",
      "|l8w5qa|Jessica Simpson T...|           bluzz.org|    t5_2qh13| 1612042018|           0|\n",
      "|l8ni30|Pornhub Now Accep...|  cryptobriefing.com|    t5_2qh13| 1612019085|           0|\n",
      "|l8n6ta|India Mulls Law T...|            ndtv.com|    t5_2qh13| 1612018166|           2|\n",
      "|l8j19t|tìm hiểu drama là...|indexlink93447958...|    t5_2qh13| 1612003085|           0|\n",
      "|l8co25|House Democrats p...|           bluzz.org|    t5_2qh13| 1611977317|           0|\n",
      "+------+--------------------+--------------------+------------+-----------+------------+\n",
      "only showing top 5 rows\n",
      "\n"
     ]
    }
   ],
   "source": [
    "df.show(5)"
   ]
  },
  {
   "cell_type": "code",
   "execution_count": 16,
   "metadata": {},
   "outputs": [
    {
     "name": "stdout",
     "output_type": "stream",
     "text": [
      "+------+--------------------+--------------------+------------+-----------+------------+\n",
      "|    id|               title|              domain|subreddit_id|created_utc|num_comments|\n",
      "+------+--------------------+--------------------+------------+-----------+------------+\n",
      "|l8w5qa|Jessica Simpson T...|           bluzz.org|    t5_2qh13| 1612042018|           0|\n",
      "|l8ni30|Pornhub Now Accep...|  cryptobriefing.com|    t5_2qh13| 1612019085|           0|\n",
      "|l8n6ta|India Mulls Law T...|            ndtv.com|    t5_2qh13| 1612018166|           2|\n",
      "|l8j19t|tm hiu drama l g ...|indexlink93447958...|    t5_2qh13| 1612003085|           0|\n",
      "|l8co25|House Democrats p...|           bluzz.org|    t5_2qh13| 1611977317|           0|\n",
      "+------+--------------------+--------------------+------------+-----------+------------+\n",
      "only showing top 5 rows\n",
      "\n"
     ]
    }
   ],
   "source": [
    "# Remove punctuation and numbers from titles\n",
    "df = df.withColumn(\"title\", F.regexp_replace(F.col(\"title\"), '[^\\sa-zA-Z]', ''))\n",
    "df.show(5)"
   ]
  },
  {
   "cell_type": "markdown",
   "metadata": {},
   "source": [
    "## Prepare titles and do topics modelling"
   ]
  },
  {
   "cell_type": "code",
   "execution_count": 17,
   "metadata": {},
   "outputs": [],
   "source": [
    "tokenizer = Tokenizer(inputCol=\"title\", outputCol=\"words\")\n",
    "wordsDataFrame = tokenizer.transform(df)"
   ]
  },
  {
   "cell_type": "code",
   "execution_count": 18,
   "metadata": {},
   "outputs": [
    {
     "name": "stdout",
     "output_type": "stream",
     "text": [
      "+------+--------------------+--------------------+------------+-----------+------------+--------------------+\n",
      "|    id|               title|              domain|subreddit_id|created_utc|num_comments|               words|\n",
      "+------+--------------------+--------------------+------------+-----------+------------+--------------------+\n",
      "|l8w5qa|Jessica Simpson T...|           bluzz.org|    t5_2qh13| 1612042018|           0|[jessica, simpson...|\n",
      "|l8ni30|Pornhub Now Accep...|  cryptobriefing.com|    t5_2qh13| 1612019085|           0|[pornhub, now, ac...|\n",
      "|l8n6ta|India Mulls Law T...|            ndtv.com|    t5_2qh13| 1612018166|           2|[india, mulls, la...|\n",
      "|l8j19t|tm hiu drama l g ...|indexlink93447958...|    t5_2qh13| 1612003085|           0|[tm, hiu, drama, ...|\n",
      "|l8co25|House Democrats p...|           bluzz.org|    t5_2qh13| 1611977317|           0|[house, democrats...|\n",
      "|l7y8yl|Congos prime mini...|      abcnews.go.com|    t5_2qh13| 1611940865|           1|[congos, prime, m...|\n",
      "|l7y6fc|          JJ ENGLISH|         stepe.tokyo|    t5_2qh13| 1611940699|           0|       [jj, english]|\n",
      "|l7qrh2|China builds Digi...|     asia.nikkei.com|    t5_2qh13| 1611921378|           4|[china, builds, d...|\n",
      "|l7g5r4|GameStop effect c...|         reuters.com|    t5_2qh13| 1611886196|           9|[gamestop, effect...|\n",
      "|l77aqb|Russian President...|         stuff.co.nz|    t5_2qh13| 1611864604|          30|[russian, preside...|\n",
      "|l6wpsu|China sharpens la...|         reuters.com|    t5_2qh13| 1611840920|           0|[china, sharpens,...|\n",
      "|l6vfrx|Role Of Exercise ...|anthemseniors.tum...|    t5_2qh13| 1611836959|           2|[role, of, exerci...|\n",
      "|l686x9|Transfer news LIV...|           bluzz.org|    t5_2qh13| 1611764877|           0|[transfer, news, ...|\n",
      "|l5g6ya|Covid linked to r...|     theguardian.com|    t5_2qh13| 1611674759|           0|[covid, linked, t...|\n",
      "|l5cr2f|IDF troops shoot ...|        ynetnews.com|    t5_2qh13| 1611663026|           0|[idf, troops, sho...|\n",
      "|l51rbl|BC officials warn...|           bluzz.org|    t5_2qh13| 1611620811|           0|[bc, officials, w...|\n",
      "|l51nju|The baby boom tha...|        france24.com|    t5_2qh13| 1611620488|           0|[the, baby, boom,...|\n",
      "|l4znqi|Spending more on ...|for-hashtagsusa.b...|    t5_2qh13| 1611614625|           0|[spending, more, ...|\n",
      "|l4vc0j|Makers of Sophia ...|           bluzz.org|    t5_2qh13| 1611602806|           0|[makers, of, soph...|\n",
      "|l4sjox|            Be relax|         berelax.com|    t5_2qh13| 1611595374|           1|         [be, relax]|\n",
      "+------+--------------------+--------------------+------------+-----------+------------+--------------------+\n",
      "only showing top 20 rows\n",
      "\n"
     ]
    }
   ],
   "source": [
    "wordsDataFrame.show()"
   ]
  },
  {
   "cell_type": "code",
   "execution_count": 19,
   "metadata": {},
   "outputs": [],
   "source": [
    "stop_words =StopWordsRemover.loadDefaultStopWords(\"english\")\n",
    "stop_words = stop_words + ['a','i']"
   ]
  },
  {
   "cell_type": "code",
   "execution_count": 20,
   "metadata": {},
   "outputs": [],
   "source": [
    "remover = StopWordsRemover(inputCol=\"words\", outputCol=\"filtered\", stopWords = stop_words)\n",
    "wordsDataFrame = remover.transform(wordsDataFrame)"
   ]
  },
  {
   "cell_type": "code",
   "execution_count": 21,
   "metadata": {},
   "outputs": [
    {
     "name": "stdout",
     "output_type": "stream",
     "text": [
      "+------+--------------------------------------------------+-------------------------------+------------+-----------+------------+--------------------------------------------------+--------------------------------------------------+\n",
      "|    id|                                             title|                         domain|subreddit_id|created_utc|num_comments|                                             words|                                          filtered|\n",
      "+------+--------------------------------------------------+-------------------------------+------------+-----------+------------+--------------------------------------------------+--------------------------------------------------+\n",
      "|l8w5qa|Jessica Simpson Twins With Daughter Birdie in A...|                      bluzz.org|    t5_2qh13| 1612042018|           0|[jessica, simpson, twins, with, daughter, birdi...|[jessica, simpson, twins, daughter, birdie, ado...|\n",
      "|l8ni30|             Pornhub Now Accepts Dogecoin Payments|             cryptobriefing.com|    t5_2qh13| 1612019085|           0|       [pornhub, now, accepts, dogecoin, payments]|            [pornhub, accepts, dogecoin, payments]|\n",
      "|l8n6ta|India Mulls Law To Ban Cryptocurrencies Create ...|                       ndtv.com|    t5_2qh13| 1612018166|           2|[india, mulls, law, to, ban, cryptocurrencies, ...|[india, mulls, law, ban, cryptocurrencies, crea...|\n",
      "|l8j19t|tm hiu drama l g ti httpstcoDVkSVX httpstcoUYcN...|indexlink93447958.wordpress.com|    t5_2qh13| 1612003085|           0|[tm, hiu, drama, l, g, ti, httpstcodvksvx, http...|[tm, hiu, drama, l, g, ti, httpstcodvksvx, http...|\n",
      "|l8co25|House Democrats push to censure Georgia Congres...|                      bluzz.org|    t5_2qh13| 1611977317|           0|[house, democrats, push, to, censure, georgia, ...|[house, democrats, push, censure, georgia, cong...|\n",
      "|l7y8yl|Congos prime minister resigns after lawmakers v...|                 abcnews.go.com|    t5_2qh13| 1611940865|           1|[congos, prime, minister, resigns, after, lawma...|[congos, prime, minister, resigns, lawmakers, v...|\n",
      "|l7y6fc|                                        JJ ENGLISH|                    stepe.tokyo|    t5_2qh13| 1611940699|           0|                                     [jj, english]|                                     [jj, english]|\n",
      "|l7qrh2|China builds Digital Silk Road in Pakistan to A...|                asia.nikkei.com|    t5_2qh13| 1611921378|           4|[china, builds, digital, silk, road, in, pakist...|[china, builds, digital, silk, road, pakistan, ...|\n",
      "|l7g5r4|GameStop effect could ripple further as Wall St...|                    reuters.com|    t5_2qh13| 1611886196|           9|[gamestop, effect, could, ripple, further, as, ...|[gamestop, effect, ripple, wall, street, eyes, ...|\n",
      "|l77aqb|Russian President Vladimir Putin says world ris...|                    stuff.co.nz|    t5_2qh13| 1611864604|          30|[russian, president, vladimir, putin, says, wor...|[russian, president, vladimir, putin, says, wor...|\n",
      "|l6wpsu|China sharpens language warns Taiwan that indep...|                    reuters.com|    t5_2qh13| 1611840920|           0|[china, sharpens, language, warns, taiwan, that...|[china, sharpens, language, warns, taiwan, inde...|\n",
      "|l6vfrx|Role Of Exercise In Keeping Alzheimers Disease ...|       anthemseniors.tumblr.com|    t5_2qh13| 1611836959|           2|[role, of, exercise, in, keeping, alzheimers, d...|[role, exercise, keeping, alzheimers, disease, ...|\n",
      "|l686x9|Transfer news LIVE Celtic Rangers Aberdeen Hibs...|                      bluzz.org|    t5_2qh13| 1611764877|           0|[transfer, news, live, celtic, rangers, aberdee...|[transfer, news, live, celtic, rangers, aberdee...|\n",
      "|l5g6ya|Covid linked to risk of mental illness and brai...|                theguardian.com|    t5_2qh13| 1611674759|           0|[covid, linked, to, risk, of, mental, illness, ...|[covid, linked, risk, mental, illness, brain, d...|\n",
      "|l5cr2f|IDF troops shoot and kill attempted attacker in...|                   ynetnews.com|    t5_2qh13| 1611663026|           0|[idf, troops, shoot, and, kill, attempted, atta...|[idf, troops, shoot, kill, attempted, attacker,...|\n",
      "|l51rbl|BC officials warn new vaccine delay means secon...|                      bluzz.org|    t5_2qh13| 1611620811|           0|[bc, officials, warn, new, vaccine, delay, mean...|[bc, officials, warn, new, vaccine, delay, mean...|\n",
      "|l51nju|The baby boom that never was France sees sharp ...|                   france24.com|    t5_2qh13| 1611620488|           0|[the, baby, boom, that, never, was, france, see...|[baby, boom, never, france, sees, sharp, declin...|\n",
      "|l4znqi|Spending more on DoorDash and UberEats This fee...|   for-hashtagsusa.blogspot.com|    t5_2qh13| 1611614625|           0|[spending, more, on, doordash, and, ubereats, t...|[spending, doordash, ubereats, fee, may, usa, h...|\n",
      "|l4vc0j|Makers of Sophia the robot plan mass rollout am...|                      bluzz.org|    t5_2qh13| 1611602806|           0|[makers, of, sophia, the, robot, plan, mass, ro...|[makers, sophia, robot, plan, mass, rollout, am...|\n",
      "|l4sjox|                                          Be relax|                    berelax.com|    t5_2qh13| 1611595374|           1|                                       [be, relax]|                                           [relax]|\n",
      "+------+--------------------------------------------------+-------------------------------+------------+-----------+------------+--------------------------------------------------+--------------------------------------------------+\n",
      "only showing top 20 rows\n",
      "\n"
     ]
    }
   ],
   "source": [
    "wordsDataFrame.show(truncate = 50)"
   ]
  },
  {
   "cell_type": "code",
   "execution_count": 22,
   "metadata": {},
   "outputs": [
    {
     "name": "stdout",
     "output_type": "stream",
     "text": [
      "+--------------------+------+\n",
      "|             vectors|    id|\n",
      "+--------------------+------+\n",
      "|(68283,[464,1644,...|l8w5qa|\n",
      "|(68283,[2208,2387...|l8ni30|\n",
      "|(68283,[8,129,224...|l8n6ta|\n",
      "|(68283,[0,47,65,9...|l8j19t|\n",
      "|(68283,[88,712,84...|l8co25|\n",
      "|(68283,[99,477,51...|l7y8yl|\n",
      "|(68283,[1495,9609...|l7y6fc|\n",
      "|(68283,[6,226,378...|l7qrh2|\n",
      "|(68283,[768,895,1...|l7g5r4|\n",
      "|(68283,[4,21,33,1...|l77aqb|\n",
      "|(68283,[6,97,157,...|l6wpsu|\n",
      "|(68283,[866,1391,...|l6vfrx|\n",
      "|(68283,[7,27,246,...|l686x9|\n",
      "|(68283,[1,191,456...|l5g6ya|\n",
      "|(68283,[240,323,3...|l5cr2f|\n",
      "|(68283,[2,5,183,2...|l51rbl|\n",
      "|(68283,[117,208,2...|l51nju|\n",
      "|(68283,[18,26,35,...|l4znqi|\n",
      "|(68283,[38,43,190...|l4vc0j|\n",
      "|(68283,[6388],[1.0])|l4sjox|\n",
      "+--------------------+------+\n",
      "only showing top 20 rows\n",
      "\n"
     ]
    }
   ],
   "source": [
    "cv = CountVectorizer(inputCol=\"filtered\", outputCol=\"vectors\")\n",
    "cvmodel = cv.fit(wordsDataFrame)\n",
    "\n",
    "#save the countvectorizer to apply to new texts\n",
    "cvmodel.write().overwrite().save('count_vectorizer_model')\n",
    "# When need to relaod this model elsewhere use : loadedModel = CountVectorizerModel.load('count_vectorizer_model')\n",
    "\n",
    "df_vect = cvmodel.transform(wordsDataFrame)\n",
    "basics = df_vect.select('vectors', 'id')\n",
    "basics.show()"
   ]
  },
  {
   "cell_type": "code",
   "execution_count": 23,
   "metadata": {
    "tags": []
   },
   "outputs": [],
   "source": [
    "basics.write.mode(\"overwrite\").parquet('lda_basics')"
   ]
  },
  {
   "cell_type": "code",
   "execution_count": 24,
   "metadata": {},
   "outputs": [],
   "source": [
    "basics= spark.read.parquet('lda_basics')"
   ]
  },
  {
   "cell_type": "code",
   "execution_count": 25,
   "metadata": {},
   "outputs": [],
   "source": [
    "# Create the LDA model and fit it\n",
    "num_topics = 20\n",
    "lda = LDA(featuresCol='vectors',k=num_topics, seed=42)\n",
    "#Train the LDA model\n",
    "lda_model = lda.fit(basics)\n",
    "\n",
    "# Save teh model to be applied later in stream pipeline\n",
    "lda_model.write().overwrite().save('lda_distributed_model')\n",
    "# When need to relaod this model elsewhere use : sameModel = DistributedLDAModel.load('lda_distributed_model')"
   ]
  },
  {
   "cell_type": "code",
   "execution_count": 26,
   "metadata": {},
   "outputs": [
    {
     "name": "stdout",
     "output_type": "stream",
     "text": [
      "+-----+--------------------------------------------------+--------------------------------------------------+\n",
      "|topic|                                       termIndices|                                       termWeights|\n",
      "+-----+--------------------------------------------------+--------------------------------------------------+\n",
      "|    0|[1527, 873, 615, 273, 0, 213, 221, 1, 27260, 27...|[7.055094649167458E-4, 6.077309513852824E-4, 6....|\n",
      "|    1|[5475, 7414, 11627, 7057, 13477, 17586, 16497, ...|[3.0670203550234326E-4, 2.563892080466726E-4, 1...|\n",
      "|    2|    [48, 12, 2, 81, 85, 919, 0, 8590, 11714, 4192]|[0.011627328242460442, 0.011284175883587764, 0....|\n",
      "|    3|[0, 6, 7358, 1097, 9752, 9238, 9906, 9853, 9011...|[2.3048720922918541E-4, 2.2139110730733357E-4, ...|\n",
      "|    4|[591, 2036, 88, 2537, 1637, 573, 2776, 0, 3525,...|[9.1564175254082E-4, 9.14738990840352E-4, 7.321...|\n",
      "|    5|[3590, 0, 4277, 5088, 4685, 6321, 5360, 1866, 4...|[6.478889532414813E-4, 3.888782755041842E-4, 3....|\n",
      "|    6|   [2319, 2451, 3, 0, 11815, 13, 4, 1, 2383, 8362]|[8.718266795079883E-4, 7.851614769253053E-4, 3....|\n",
      "|    7|[0, 7231, 8412, 3845, 17, 7699, 4627, 12850, 11...|[2.793513117584939E-4, 1.80381946391781E-4, 1.7...|\n",
      "|    8|                   [0, 1, 2, 4, 3, 5, 8, 6, 9, 10]|[0.025110513352501824, 0.009558884142127308, 0....|\n",
      "|    9|[0, 962, 3013, 7024, 13992, 4, 8848, 9406, 4199...|[2.068473779579717E-4, 1.7152726477410053E-4, 1...|\n",
      "|   10|            [0, 3, 2, 47, 62, 65, 22, 54, 91, 100]|[0.07260718232761991, 0.0050515380218637915, 0....|\n",
      "|   11|      [0, 307, 298, 7, 18, 446, 213, 27, 1056, 15]|[0.008939874962305864, 0.003166510069062865, 0....|\n",
      "|   12|[26051, 9068, 0, 8650, 7720, 23645, 26278, 10, ...|[1.042156576997957E-4, 9.779481001464418E-5, 9....|\n",
      "|   13|      [446, 0, 1, 3580, 4, 5635, 298, 5855, 10, 3]|[0.0010912608543534093, 7.877498160628398E-4, 6...|\n",
      "|   14|[76, 433, 1209, 1376, 1073, 1964, 1453, 2092, 2...|[0.004718409623078062, 0.0032874854204535857, 0...|\n",
      "|   15|      [0, 2, 48, 12, 85, 81, 919, 1, 13440, 11067]|[3.648392464849238E-4, 3.4673510961840244E-4, 2...|\n",
      "|   16|          [0, 2, 1, 8, 3397, 2448, 7, 799, 12, 37]|[0.0018491778850027942, 4.270672328223181E-4, 3...|\n",
      "|   17|  [5, 0, 2, 11164, 1, 26, 18, 13555, 12555, 12891]|[1.9973572893410845E-4, 1.7114337367467428E-4, ...|\n",
      "|   18|        [2798, 0, 50, 4, 7620, 2, 29, 1, 58, 6095]|[4.386428597304885E-4, 3.7462257096377677E-4, 2...|\n",
      "|   19|   [0, 139, 149, 120, 161, 133, 231, 19, 233, 235]|[0.006522574007892567, 0.00643136021154984, 0.0...|\n",
      "+-----+--------------------------------------------------+--------------------------------------------------+\n",
      "\n"
     ]
    }
   ],
   "source": [
    "# See the results of modelling\n",
    "ldatopics = lda_model.describeTopics(10)\n",
    "ldatopics.show(truncate = 50)"
   ]
  },
  {
   "cell_type": "code",
   "execution_count": 27,
   "metadata": {},
   "outputs": [
    {
     "name": "stdout",
     "output_type": "stream",
     "text": [
      "Number of words in word vectors: 68283\n",
      "Example last words: \n"
     ]
    },
    {
     "data": {
      "text/plain": [
       "['leadup', 'batangas', 'intergenerational', 'rpartis', 'dundrennan']"
      ]
     },
     "execution_count": 27,
     "metadata": {},
     "output_type": "execute_result"
    }
   ],
   "source": [
    "# For mapping words to the model term indices, first collect the words used in the input vectors\n",
    "vocab = cvmodel.vocabulary\n",
    "vocab_broadcast = sc.broadcast(vocab) # saves the words to a broadcast variable for use in mapping\n",
    "print(\"Number of words in word vectors: \" + str(len(vocab)))\n",
    "print(\"Example last words: \")\n",
    "vocab[-6:-1]"
   ]
  },
  {
   "cell_type": "code",
   "execution_count": 29,
   "metadata": {},
   "outputs": [],
   "source": [
    "# Now match input words to terms in model output topics\n",
    "def map_termID_to_Word(termIndices):\n",
    "    words = []\n",
    "    for termID in termIndices:\n",
    "        words.append(vocab_broadcast.value[termID])\n",
    "\n",
    "    return words\n",
    "\n",
    "udf_map_termID_to_Word = F.udf(map_termID_to_Word , ArrayType(StringType()))\n",
    "\n",
    "ldatopics_mapped = ldatopics.withColumn(\"topic_desc\", udf_map_termID_to_Word(ldatopics.termIndices))"
   ]
  },
  {
   "cell_type": "code",
   "execution_count": 30,
   "metadata": {},
   "outputs": [
    {
     "name": "stdout",
     "output_type": "stream",
     "text": [
      "+-----+-------------------------------------------------------------------+-------------------------------------------------------------------------------------------------------------------------------------------------------------------------------------------------------------------------------------+----------------------------------------------------------------------------------------------------------+\n",
      "|topic|termIndices                                                        |termWeights                                                                                                                                                                                                                          |topic_desc                                                                                                |\n",
      "+-----+-------------------------------------------------------------------+-------------------------------------------------------------------------------------------------------------------------------------------------------------------------------------------------------------------------------------+----------------------------------------------------------------------------------------------------------+\n",
      "|0    |[1527, 873, 615, 273, 0, 213, 221, 1, 27260, 27328]                |[7.055094649167458E-4, 6.077309513852824E-4, 6.02721546533968E-4, 5.081820826806008E-4, 4.962702006175397E-4, 1.6124596751957131E-4, 1.2209733180571584E-4, 1.1369121773303387E-4, 9.914564216450549E-5, 9.62611055533585E-5]        |[verified, cash, accounts, app, , buy, full, covid, purus, furbo]                                         |\n",
      "|1    |[5475, 7414, 11627, 7057, 13477, 17586, 16497, 12430, 15974, 14828]|[3.0670203550234326E-4, 2.563892080466726E-4, 1.642915572505214E-4, 1.480458496641816E-4, 1.3775698609948654E-4, 1.3461004608075636E-4, 1.2111479231959961E-4, 1.2032921577283453E-4, 1.1982303685609613E-4, 1.1654918759126905E-4]  |[dvd, ve, sondakika, ne, salk, dakika, httpstconmmflori, haber, httpstcoruvloz, salkta]                   |\n",
      "|2    |[48, 12, 2, 81, 85, 919, 0, 8590, 11714, 4192]                     |[0.011627328242460442, 0.011284175883587764, 0.010738079234389743, 0.01050065042576097, 0.01041000941895065, 0.0021354712186201033, 3.419286213481029E-4, 3.005378251481064E-4, 1.0589993293128337E-4, 1.0565241025354119E-4]        |[youtube, video, new, nithyananda, kailasas, sph, , yum, httpstcothjeewbq, minsk]                         |\n",
      "|3    |[0, 6, 7358, 1097, 9752, 9238, 9906, 9853, 9011, 3]                |[2.3048720922918541E-4, 2.2139110730733357E-4, 1.4870791754626023E-4, 1.429218717053051E-4, 1.389361987710973E-4, 1.3764124144913738E-4, 1.3031524679757848E-4, 1.2801723156236148E-4, 1.1883393933152892E-4, 1.1409262766784503E-4] |[, china, rogers, yang, sabyan, marco, ayus, nissa, terkait, us]                                          |\n",
      "|4    |[591, 2036, 88, 2537, 1637, 573, 2776, 0, 3525, 4050]              |[9.1564175254082E-4, 9.14738990840352E-4, 7.321967831076745E-4, 6.748026052056749E-4, 6.714342246090731E-4, 6.551512807270136E-4, 6.549795187594816E-4, 5.21419492016385E-4, 3.6203954911792646E-4, 3.417378844148199E-4]            |[visit, amritsar, house, columbia, sc, pressure, washing, , chrissy, teigen]                              |\n",
      "|5    |[3590, 0, 4277, 5088, 4685, 6321, 5360, 1866, 4865, 5515]          |[6.478889532414813E-4, 3.888782755041842E-4, 3.5189181284241654E-4, 3.387756848596479E-4, 3.00209314455668E-4, 2.9453058946496034E-4, 2.732511199301803E-4, 2.6660849675786E-4, 2.663683363210509E-4, 1.974848119994538E-4]          |[pln, , gratis, listrik, token, klaim, atau, februari, ting, login]                                       |\n",
      "|6    |[2319, 2451, 3, 0, 11815, 13, 4, 1, 2383, 8362]                    |[8.718266795079883E-4, 7.851614769253053E-4, 3.3816397874696894E-4, 2.8731326481161527E-4, 2.7435090145389425E-4, 2.3725132091468318E-4, 2.0869878423019587E-4, 1.9644207739778836E-4, 1.6227290900017999E-4, 1.4031310957720396E-4] |[atlas, url, us, , gkn, trump, says, covid, jadi, emeao]                                                  |\n",
      "|7    |[0, 7231, 8412, 3845, 17, 7699, 4627, 12850, 11873, 14230]         |[2.793513117584939E-4, 1.80381946391781E-4, 1.7593930326085142E-4, 1.716410470365132E-4, 1.3745308705140805E-4, 1.3197716368736046E-4, 1.236927313985013E-4, 1.0825774531834337E-4, 1.0433596892041338E-4, 1.0424379476408518E-4]    |[, polri, reefs, seo, biden, movers, packers, penjara, fka, philippineclaimed]                            |\n",
      "|8    |[0, 1, 2, 4, 3, 5, 8, 6, 9, 10]                                    |[0.025110513352501824, 0.009558884142127308, 0.006074624680863654, 0.005386717951085538, 0.005382562127354237, 0.00407930558242287, 0.0034963030161272567, 0.0032912166598016695, 0.003072711218054098, 0.0029533793703290646]       |[, covid, new, says, us, vaccine, india, china, coronavirus, free]                                        |\n",
      "|9    |[0, 962, 3013, 7024, 13992, 4, 8848, 9406, 4199, 4900]             |[2.068473779579717E-4, 1.7152726477410053E-4, 1.7076351024119274E-4, 1.669693332436739E-4, 1.6675536804202658E-4, 1.5932152013432328E-4, 1.547558967315413E-4, 1.5231786292912373E-4, 1.5100814283117433E-4, 1.4369350095208794E-4]  |[, church, catholic, jp, bain, says, allelectric, ars, bless, marie]                                      |\n",
      "|10   |[0, 3, 2, 47, 62, 65, 22, 54, 91, 100]                             |[0.07260718232761991, 0.0050515380218637915, 0.003194250766992999, 0.003153262038965318, 0.0030014859664819417, 0.0027845301871047847, 0.002691794060012015, 0.0025456913270846975, 0.002376912621492566, 0.002305968017870478]      |[, us, new, g, market, l, israel, gaza, ti, blog]                                                         |\n",
      "|11   |[0, 307, 298, 7, 18, 446, 213, 27, 1056, 15]                       |[0.008939874962305864, 0.003166510069062865, 0.00280151992222178, 0.0027567183405301085, 0.0016875187582082818, 0.0015745449099326674, 0.0013877191093146929, 0.0013126710331571867, 0.0011501603618682174, 0.0011081770513126324]   |[, reviews, di, news, usa, dan, buy, live, ini, uk]                                                       |\n",
      "|12   |[26051, 9068, 0, 8650, 7720, 23645, 26278, 10, 13254, 23659]       |[1.042156576997957E-4, 9.779481001464418E-5, 9.751530399667385E-5, 8.730876332575124E-5, 8.531846702062629E-5, 7.812171958295193E-5, 7.709645797437458E-5, 7.655144559506079E-5, 7.40765394335857E-5, 7.07813246302378E-5]           |[hitohana, cryptic, , courage, crossword, httpstcovlgtgxiv, httpstcokgzzjahr, free, cbntt, tuhacci]       |\n",
      "|13   |[446, 0, 1, 3580, 4, 5635, 298, 5855, 10, 3]                       |[0.0010912608543534093, 7.877498160628398E-4, 6.622260317030518E-4, 5.637887772314899E-4, 4.3749830406671926E-4, 4.3571501402195155E-4, 3.605909457420915E-4, 3.5424350835310697E-4, 3.4940554090890724E-4, 3.209968623039356E-4]    |[dan, , covid, xt, says, synapse, di, tinnitus, free, us]                                                 |\n",
      "|14   |[76, 433, 1209, 1376, 1073, 1964, 1453, 2092, 2593, 2229]          |[0.004718409623078062, 0.0032874854204535857, 0.0014520715505220165, 0.001218538193113261, 0.0010874568596822326, 9.98513757892785E-4, 8.285944642574091E-4, 8.168473515027659E-4, 7.262372301360083E-4, 5.952597922173093E-4]       |[de, e, em, para, o, como, que, croch, com, na]                                                           |\n",
      "|15   |[0, 2, 48, 12, 85, 81, 919, 1, 13440, 11067]                       |[3.648392464849238E-4, 3.4673510961840244E-4, 2.6248178863371563E-4, 2.521743295623218E-4, 2.461351562868304E-4, 2.4509471808893376E-4, 2.293145814850669E-4, 2.092068808786837E-4, 1.7772976377668847E-4, 1.61442845108696E-4]      |[, new, youtube, video, kailasas, nithyananda, sph, covid, buzzzzometer, buzzing]                         |\n",
      "|16   |[0, 2, 1, 8, 3397, 2448, 7, 799, 12, 37]                           |[0.0018491778850027942, 4.270672328223181E-4, 3.6470252062334457E-4, 2.788723923628115E-4, 2.689100716652461E-4, 2.6593015156850384E-4, 2.634574983714633E-4, 2.4596790412186015E-4, 2.33974426766176E-4, 2.2120565794863295E-4]     |[, new, covid, india, ac, milan, news, job, video, government]                                            |\n",
      "|17   |[5, 0, 2, 11164, 1, 26, 18, 13555, 12555, 12891]                   |[1.9973572893410845E-4, 1.7114337367467428E-4, 1.3151881845715465E-4, 1.2962877660009788E-4, 1.0525739492420651E-4, 9.63061746847787E-5, 9.50906471602104E-5, 8.357996345646335E-5, 8.293377710083015E-5, 8.259185782924519E-5]      |[vaccine, , new, sns, covid, httpsiftttkuzqh, usa, httpstcogzjvxaczt, httpstcoxglaweh, httpstcomkzvnuicuk]|\n",
      "|18   |[2798, 0, 50, 4, 7620, 2, 29, 1, 58, 6095]                         |[4.386428597304885E-4, 3.7462257096377677E-4, 2.1848166250019595E-4, 2.0863737025571253E-4, 1.8478571193374815E-4, 1.8066114075939224E-4, 1.7767696314231266E-4, 1.7174765972131068E-4, 1.6589325659822234E-4, 1.6305148594551635E-4]|[ltd, , russia, says, deshaun, new, myanmar, covid, say, watson]                                          |\n",
      "|19   |[0, 139, 149, 120, 161, 133, 231, 19, 233, 235]                    |[0.006522574007892567, 0.00643136021154984, 0.006331161447803871, 0.006317196105454894, 0.006298004555884833, 0.0061937848473749895, 0.005872054910760372, 0.005839568006189004, 0.0058300721458886704, 0.00582346211649608]         |[, ai, based, sexy, reddit, funny, ais, one, wholly, dungeon]                                             |\n",
      "+-----+-------------------------------------------------------------------+-------------------------------------------------------------------------------------------------------------------------------------------------------------------------------------------------------------------------------------+----------------------------------------------------------------------------------------------------------+\n",
      "\n"
     ]
    }
   ],
   "source": [
    "ldatopics_mapped.show(truncate=False)"
   ]
  },
  {
   "cell_type": "code",
   "execution_count": 31,
   "metadata": {},
   "outputs": [],
   "source": [
    "# Use the model to allocate topic weightings for each title\n",
    "indiv = lda_model.transform(basics)"
   ]
  },
  {
   "cell_type": "code",
   "execution_count": 32,
   "metadata": {},
   "outputs": [
    {
     "name": "stdout",
     "output_type": "stream",
     "text": [
      "+--------------------+------+--------------------+\n",
      "|             vectors|    id|   topicDistribution|\n",
      "+--------------------+------+--------------------+\n",
      "|(68283,[18,26,83,...|l8xslp|[0.00580927295834...|\n",
      "|(68283,[214,267,2...|l8vqvn|[0.00421945021569...|\n",
      "|       (68283,[],[])|l8usg7|[0.0,0.0,0.0,0.0,...|\n",
      "|(68283,[0,66,121,...|l8t0zg|[0.00386671573789...|\n",
      "|(68283,[0,10,20,2...|l8o2wz|[0.00464299987876...|\n",
      "|(68283,[12,71,372...|l8k2ic|[0.00580927296207...|\n",
      "|(68283,[1,815,236...|l8ip36|[0.00464299988399...|\n",
      "|(68283,[5,11,478,...|l8bylm|[0.00464299990936...|\n",
      "|(68283,[1,4,43,18...|l89f20|[0.00464299987924...|\n",
      "|(68283,[1,5,63,21...|l88ld9|[0.00580927295893...|\n",
      "|(68283,[3,4,126,1...|l7sxn2|[0.00516106957905...|\n",
      "|(68283,[145,416,4...|l7si03|[0.00664368512307...|\n",
      "|(68283,[11,218,34...|l7rn9f|[0.00421945022387...|\n",
      "|(68283,[0,2,45,48...|l7pbej|[0.00464299987897...|\n",
      "|   (68283,[0],[1.0])|l7ddrt|[0.02357359743736...|\n",
      "|(68283,[678,895,1...|l763bt|[0.00464299987939...|\n",
      "|(68283,[1120,2626...|l6vj09|[0.00464299989272...|\n",
      "|(68283,[25,319,64...|l6pzor|[0.00516106958319...|\n",
      "|(68283,[153,363,6...|l6hlca|[0.00516106957149...|\n",
      "|(68283,[265,455,5...|l6hlb0|[0.00421945023523...|\n",
      "+--------------------+------+--------------------+\n",
      "only showing top 20 rows\n",
      "\n"
     ]
    }
   ],
   "source": [
    "indiv.show()"
   ]
  },
  {
   "cell_type": "markdown",
   "metadata": {},
   "source": [
    "## Build features and target dataset"
   ]
  },
  {
   "cell_type": "code",
   "execution_count": 33,
   "metadata": {
    "tags": []
   },
   "outputs": [],
   "source": [
    "# convert epoch time into datetime, but keep epoch time as id\n",
    "df= df.withColumn('timestamp', F.from_unixtime(df.created_utc,'yyyy-MM-dd HH:mm:ss')) "
   ]
  },
  {
   "cell_type": "code",
   "execution_count": 36,
   "metadata": {
    "tags": []
   },
   "outputs": [],
   "source": [
    "df = df.withColumn(\"hour\", F.hour(F.col(\"timestamp\"))).withColumn(\"day\", F.dayofweek(F.col(\"timestamp\")))\n",
    "df = df.withColumn(\"hour\", F.col(\"hour\").astype(StringType())).withColumn(\"day\", F.col(\"day\").astype(StringType()))"
   ]
  },
  {
   "cell_type": "code",
   "execution_count": 37,
   "metadata": {},
   "outputs": [
    {
     "name": "stdout",
     "output_type": "stream",
     "text": [
      "+------+------------------------------------------------------------+-------------------------------+------------+-----------+------------+-------------------+----+---+\n",
      "|    id|                                                       title|                         domain|subreddit_id|created_utc|num_comments|          timestamp|hour|day|\n",
      "+------+------------------------------------------------------------+-------------------------------+------------+-----------+------------+-------------------+----+---+\n",
      "|l8w5qa|  Jessica Simpson Twins With Daughter Birdie in Adorable Pic|                      bluzz.org|    t5_2qh13| 1612042018|           0|2021-01-30 21:26:58|  21|  7|\n",
      "|l8ni30|                       Pornhub Now Accepts Dogecoin Payments|             cryptobriefing.com|    t5_2qh13| 1612019085|           0|2021-01-30 15:04:45|  15|  7|\n",
      "|l8n6ta|India Mulls Law To Ban Cryptocurrencies Create Official D...|                       ndtv.com|    t5_2qh13| 1612018166|           2|2021-01-30 14:49:26|  14|  7|\n",
      "|l8j19t|tm hiu drama l g ti httpstcoDVkSVX httpstcoUYcNoG httpstc...|indexlink93447958.wordpress.com|    t5_2qh13| 1612003085|           0|2021-01-30 10:38:05|  10|  7|\n",
      "|l8co25|House Democrats push to censure Georgia Congresswoman Mar...|                      bluzz.org|    t5_2qh13| 1611977317|           0|2021-01-30 03:28:37|   3|  7|\n",
      "|l7y8yl|  Congos prime minister resigns after lawmakers vote him out|                 abcnews.go.com|    t5_2qh13| 1611940865|           1|2021-01-29 17:21:05|  17|  6|\n",
      "|l7y6fc|                                                  JJ ENGLISH|                    stepe.tokyo|    t5_2qh13| 1611940699|           0|2021-01-29 17:18:19|  17|  6|\n",
      "|l7qrh2|China builds Digital Silk Road in Pakistan to Africa and ...|                asia.nikkei.com|    t5_2qh13| 1611921378|           4|2021-01-29 11:56:18|  11|  6|\n",
      "|l7g5r4|GameStop effect could ripple further as Wall Street eyes ...|                    reuters.com|    t5_2qh13| 1611886196|           9|2021-01-29 02:09:56|   2|  6|\n",
      "|l77aqb|Russian President Vladimir Putin says world risks sliding...|                    stuff.co.nz|    t5_2qh13| 1611864604|          30|2021-01-28 20:10:04|  20|  5|\n",
      "|l6wpsu|China sharpens language warns Taiwan that independence me...|                    reuters.com|    t5_2qh13| 1611840920|           0|2021-01-28 13:35:20|  13|  5|\n",
      "|l6vfrx|       Role Of Exercise In Keeping Alzheimers Disease At Bay|       anthemseniors.tumblr.com|    t5_2qh13| 1611836959|           2|2021-01-28 12:29:19|  12|  5|\n",
      "|l686x9|Transfer news LIVE Celtic Rangers Aberdeen Hibs Hearts an...|                      bluzz.org|    t5_2qh13| 1611764877|           0|2021-01-27 16:27:57|  16|  4|\n",
      "|l5g6ya|Covid linked to risk of mental illness and brain disorder...|                theguardian.com|    t5_2qh13| 1611674759|           0|2021-01-26 15:25:59|  15|  3|\n",
      "|l5cr2f|   IDF troops shoot and kill attempted attacker in West Bank|                   ynetnews.com|    t5_2qh13| 1611663026|           0|2021-01-26 12:10:26|  12|  3|\n",
      "|l51rbl|BC officials warn new vaccine delay means second doses wi...|                      bluzz.org|    t5_2qh13| 1611620811|           0|2021-01-26 00:26:51|   0|  3|\n",
      "|l51nju|The baby boom that never was France sees sharp decline in...|                   france24.com|    t5_2qh13| 1611620488|           0|2021-01-26 00:21:28|   0|  3|\n",
      "|l4znqi|Spending more on DoorDash and UberEats This fee may be wh...|   for-hashtagsusa.blogspot.com|    t5_2qh13| 1611614625|           0|2021-01-25 22:43:45|  22|  2|\n",
      "|l4vc0j|  Makers of Sophia the robot plan mass rollout amid pandemic|                      bluzz.org|    t5_2qh13| 1611602806|           0|2021-01-25 19:26:46|  19|  2|\n",
      "|l4sjox|                                                    Be relax|                    berelax.com|    t5_2qh13| 1611595374|           1|2021-01-25 17:22:54|  17|  2|\n",
      "+------+------------------------------------------------------------+-------------------------------+------------+-----------+------------+-------------------+----+---+\n",
      "only showing top 20 rows\n",
      "\n"
     ]
    }
   ],
   "source": [
    "df.show(truncate=60)"
   ]
  },
  {
   "cell_type": "code",
   "execution_count": 38,
   "metadata": {},
   "outputs": [
    {
     "name": "stdout",
     "output_type": "stream",
     "text": [
      "root\n",
      " |-- id: string (nullable = true)\n",
      " |-- title: string (nullable = true)\n",
      " |-- domain: string (nullable = true)\n",
      " |-- subreddit_id: string (nullable = true)\n",
      " |-- created_utc: string (nullable = true)\n",
      " |-- num_comments: string (nullable = true)\n",
      " |-- timestamp: string (nullable = true)\n",
      " |-- hour: string (nullable = true)\n",
      " |-- day: string (nullable = true)\n",
      "\n"
     ]
    }
   ],
   "source": [
    "df.printSchema()"
   ]
  },
  {
   "cell_type": "code",
   "execution_count": 39,
   "metadata": {},
   "outputs": [],
   "source": [
    "# Create features df by combining topic distributions for each title, with the other features of domain, hour and day\n",
    "temp = indiv.select('topicDistribution')\n",
    "# And a list of sequential column titles\n",
    "X_titles = [f'T_{i}' for i in range(1, num_topics +1)]\n",
    "X_titles = ['id'] + X_titles # adding the id at start"
   ]
  },
  {
   "cell_type": "code",
   "execution_count": 41,
   "metadata": {},
   "outputs": [
    {
     "name": "stdout",
     "output_type": "stream",
     "text": [
      "+------+--------------------+--------------------+--------------------+--------------------+--------------------+--------------------+--------------------+--------------------+--------------------+--------------------+--------------------+--------------------+--------------------+--------------------+--------------------+--------------------+--------------------+--------------------+--------------------+--------------------+\n",
      "|    id|                 T_1|                 T_2|                 T_3|                 T_4|                 T_5|                 T_6|                 T_7|                 T_8|                 T_9|                T_10|                T_11|                T_12|                T_13|                T_14|                T_15|                T_16|                T_17|                T_18|                T_19|                T_20|\n",
      "+------+--------------------+--------------------+--------------------+--------------------+--------------------+--------------------+--------------------+--------------------+--------------------+--------------------+--------------------+--------------------+--------------------+--------------------+--------------------+--------------------+--------------------+--------------------+--------------------+--------------------+\n",
      "|l8xslp|0.005809272958349002| 0.00580803058686244|0.005844573859458398|0.005811577465982552|0.005831033386939667|0.005811424574499783|0.005824406227608688|0.005811658208502448|  0.3569624756268326|0.005814767076149129|  0.5381753271070402|0.005910315825232141|0.005805844814969653| 0.00584357121780092|0.005826357685384148| 0.00581467501042769|0.005832363266551022|0.005808682595675...|0.005821035010232...|0.005832607495501129|\n",
      "|l8vqvn|0.004219450215696672|0.004218547843505...|0.004245090326715...|0.004221124051241704|0.004235255470047955|0.004221012999279734|0.004230441966287207|0.004221182694923286| 0.45523379483588927|0.004223440760329394|  0.4686016275975097|0.004292840691312607|0.004216960251751628|0.004244362076115258|0.004231859368786183|0.004223373889575233|0.004236221402220904|0.004219021417460...|0.004227993347381778|0.004236398793969...|\n",
      "|l8usg7|                 0.0|                 0.0|                 0.0|                 0.0|                 0.0|                 0.0|                 0.0|                 0.0|                 0.0|                 0.0|                 0.0|                 0.0|                 0.0|                 0.0|                 0.0|                 0.0|                 0.0|                 0.0|                 0.0|                 0.0|\n",
      "|l8t0zg|0.003866715737893...|0.003865888802544...|0.003890212404396867|0.003868249643767...|0.003881199716250236|0.003868147879046434|0.003876788608309...|0.003868303386771193|  0.8413840906142138|0.003870372683957...|0.004669851148415826|0.003933970975915848|0.003864433928019919|0.003889545036240...| 0.08802671819197254|0.003870311402721009|0.003882084901172...|0.003866322786197...| 0.00387454468879529|0.003882247463396814|\n",
      "|l8o2wz|0.004642999878764291|0.004642006926166069|0.004671213750293007|0.004644841732556236|0.004660391668169819| 0.00464471953574625|0.004655094983270762|0.004644906265086737|   0.734393123647227|0.004647390994028...|0.005607373241973503|0.004723757313860284|0.004640259971617...| 0.18085991508070248|0.004656654666111...|0.004647317412167674|0.004661454561436...|0.004642528037336602|0.004652400571741815|0.004661649761743489|\n",
      "|l8k2ic|0.005809272962076...|0.005808030591249806|0.005844573911460538|0.005811577469616567|0.005831033389534399|0.005811424578581508|0.005824406231486992|0.005811658212523317|  0.8881219155596236|0.005814767079388338|0.007015887066290155|0.005910315821461402|0.005805844818274119| 0.00584357122324805|0.005826357690166985|0.005814675014911856|0.005832363270016641|0.005808682599409235|0.005821035011663939|0.005832607499015...|\n",
      "|l8ip36|0.004642999883999646|0.004642006930409486|0.004671213759236...| 0.00464484173626841|0.004660391794887049|0.004644719541580981|0.004655094989531862| 0.00464490627095786|  0.9105826268430487|0.004647391004180...|0.005607372504848729|0.004723757318666462|0.004640259976177556|0.004670412405524...|0.004656654675675717|0.004647317414842...|0.004661454567432604|0.004642528042773425|0.004652400576438808| 0.00466164976351938|\n",
      "|l8bylm|0.004642999909361489|0.004642006966622657|0.004671213780291...|0.004644841761619636|0.004660391706297717|0.004644719573188268|0.004655095022759084|0.004644906297930...|  0.9105826261528586|0.004647391034728395|0.005607372795782795|0.004723757351324...|0.004640260001107134|0.004670412430566438|0.004656654697120665|0.004647317451697668|0.004661454596938...|0.004642528064420111|0.004652400606842116|0.004661649798542...|\n",
      "|l89f20|0.004642999879244833|0.004642006926217209|0.004671213749853414|0.004644841733134626|0.004660391670115178|0.004644719535668...|0.004655094984885397|0.004644906264951...|  0.7763812987248263|0.004647390994326554| 0.13980870082532046|0.004723757331362921|0.004640259971626349|0.004670412398561144|0.004656654666642025|0.004647317411739258|0.004661454561472025| 0.00464252803769492|0.004652400572250998|0.004661649760106...|\n",
      "|l88ld9| 0.00580927295893474|0.005808030586914...|0.005844573859783...|0.005811577466189642|0.005831033385342...|0.005811424574884597| 0.00582440622756471|0.005811658208958798|  0.8881219169210581|0.005814767076265141|0.007015885824360552|0.005910315813575113|0.005805844814765069|0.005843571218609612|0.005826357686324141| 0.00581467501087283|0.005832363265931...|0.005808682596145...|0.005821035008003823|0.005832607495517067|\n",
      "|l7sxn2|0.005161069579053487|0.005159965828621...|0.005192431573933228|0.005163116944942361|0.005180401957406209|0.005162981113654...|0.005174514262667585|0.005163188678485257|  0.9006053631714585|0.005165950658709713|0.006233048478633397|0.005250837988114983|0.005158023946168378|0.005191540810856408|0.005176247974956...|0.005165868862760398|0.005181583447965533|0.005160545088652...|0.005171519207129004|0.005181800425831002|\n",
      "|l7si03|0.006643685123079403|0.006642264301940192|0.006684056450735453|0.006646320637534414|0.006668571094808976|0.006646145785306377|0.006660992052026187|0.006646412976632519|  0.8720523615187377|0.006649968386342079| 0.00802360930914762|0.006759241220227836|0.006639764577867559|0.006682909795699481|0.006663223805354637|0.006649863096289227|0.006670091992157786| 0.00664300996197788|0.006657136608348032|0.006670371305786...|\n",
      "|l7rn9f|0.004219450223874015|0.004218547853268...|0.004245090332451311|0.004221124057909462|0.004235255479693787|0.004221013006998638| 0.27859855857215926|0.004221182703990462|  0.6443714557045831|0.004223440767834768| 0.00509584996628944|0.004292840718276596|0.004216960259676...|0.004244362084404852|0.004231859376972646|0.004223373898514...|0.004236221409951983|0.004219021425566973| 0.00422799335582885|0.004236398801754487|\n",
      "|l7pbej|0.004642999878971845|0.004642006926781526|0.004671213757074632|0.004644841732225689|0.004660391669775613|0.004644719535723359|0.004655094989478838|0.004644906265461258|  0.9105826251444898|0.004647390994967908|0.005607374405144302|0.004723757315927271|0.004640259971328216|0.004670412399231063| 0.00465665466568322|0.004647317412946104|0.004661454562736001|0.004642528037683913|0.004652400571817724|0.004661649762551667|\n",
      "|l7ddrt|0.023573597437365697|0.023568555982489383| 0.02371684586679612|0.023582948956274514| 0.02366189962242975| 0.02358232853540223|0.023635007114471585|0.023583276604711198|0.036352946749069026| 0.02359589215675024|  0.5381240588766828|0.023983621853213816|0.023559686283732267|0.023712777217359156|0.023642925987187407|0.023595518561355704|0.023667296181300514|  0.0235712017866422|0.023621326956479734|0.023668287270286782|\n",
      "|l763bt|0.004642999879394471| 0.00464200692634841|0.004671213750867181|0.004644841733435164|  0.4843619918927528|0.004644719535428686|0.004655094987297169|0.004644906265156...|  0.4308810264855085|0.004647390994546483|0.005607372851962...|0.004723757314166082|0.004640259971378...|0.004670412400313163|0.004656654666703117|0.004647317411521988|0.004661454561167901|0.004642528037535928|0.004652400572773566|0.004661649761741...|\n",
      "|l6vj09|0.004642999892727528|0.004642006937434358| 0.00467121376320828|0.004644841745336576|0.004660391683111414|0.004644719543583421|0.004655094996856665|0.004644906277732771|  0.9105826267302408|0.004647391023262237|0.005607372580410...|0.004723757332567221|0.004640259983701845|0.004670412417589...|0.004656654680291376|0.004647317425578598|0.004661454577741912|0.004642528048080172|0.004652400585231416|0.004661649775313679|\n",
      "|l6pzor|0.005161069583198233|0.005159965836247961|0.005192431579074707|0.005163116951226747|0.005180401963322661|0.005162981118649445| 0.00517451426841278|0.005163188686092417|  0.9006053633764196| 0.00516595066196873| 0.00623304810998368|0.005250837997042812|0.005158023953175193|0.005191540866945745|0.005176247982829597|0.005165868871921804|0.005181583454765...|0.005160545093415904|0.005171519212628406|0.005181800432677415|\n",
      "|l6hlca|0.005161069571492927|0.005159965824771632|0.005192431569245887|0.005163116940051807|0.005180401951249284|0.005162981108221268|0.005174514257746687| 0.00516318867362216|  0.9006053638107009|0.005165950651596985|0.006233047937690841|0.005250837984139025|0.005158023942005662| 0.00519154080220607|0.005176247970226711|0.005165868857974174|0.005181583442636353|0.005160545081273...|  0.0051715192014482|0.005181800421700...|\n",
      "|l6hlb0|0.004219450235231417|0.004218547851963...|0.004245090341965312| 0.00422112406632307|0.004235255482276425|0.004221013021476028|  0.0042304419828236|   0.004221182712405|  0.9187395693768369|0.004223440771985456|0.005095852769801111|0.004292840709686148|0.004216960266788...|0.004244362097639411|0.004231859378945...|0.004223373906026548|0.004236221418356397|0.004219021431664311|0.004227993367057...|0.004236398810747...|\n",
      "+------+--------------------+--------------------+--------------------+--------------------+--------------------+--------------------+--------------------+--------------------+--------------------+--------------------+--------------------+--------------------+--------------------+--------------------+--------------------+--------------------+--------------------+--------------------+--------------------+--------------------+\n",
      "only showing top 20 rows\n",
      "\n"
     ]
    }
   ],
   "source": [
    "temp = indiv.withColumn(\"T_\", vector_to_array(\"topicDistribution\")).select([\"id\"] + [F.col(\"T_\")[i] for i in range(num_topics)]).drop('vectors', 'topicDistribution')\n",
    "temp = temp.toDF(*X_titles)\n",
    "temp.show()"
   ]
  },
  {
   "cell_type": "code",
   "execution_count": 42,
   "metadata": {},
   "outputs": [],
   "source": [
    "rf_full = temp.join(df, on = 'id', how= 'left').drop('id','subreddit_id','title','timestamp','created_utc')"
   ]
  },
  {
   "cell_type": "code",
   "execution_count": 43,
   "metadata": {},
   "outputs": [
    {
     "name": "stdout",
     "output_type": "stream",
     "text": [
      "root\n",
      " |-- T_1: double (nullable = true)\n",
      " |-- T_2: double (nullable = true)\n",
      " |-- T_3: double (nullable = true)\n",
      " |-- T_4: double (nullable = true)\n",
      " |-- T_5: double (nullable = true)\n",
      " |-- T_6: double (nullable = true)\n",
      " |-- T_7: double (nullable = true)\n",
      " |-- T_8: double (nullable = true)\n",
      " |-- T_9: double (nullable = true)\n",
      " |-- T_10: double (nullable = true)\n",
      " |-- T_11: double (nullable = true)\n",
      " |-- T_12: double (nullable = true)\n",
      " |-- T_13: double (nullable = true)\n",
      " |-- T_14: double (nullable = true)\n",
      " |-- T_15: double (nullable = true)\n",
      " |-- T_16: double (nullable = true)\n",
      " |-- T_17: double (nullable = true)\n",
      " |-- T_18: double (nullable = true)\n",
      " |-- T_19: double (nullable = true)\n",
      " |-- T_20: double (nullable = true)\n",
      " |-- domain: string (nullable = true)\n",
      " |-- num_comments: string (nullable = true)\n",
      " |-- hour: string (nullable = true)\n",
      " |-- day: string (nullable = true)\n",
      "\n"
     ]
    }
   ],
   "source": [
    "rf_full.printSchema()"
   ]
  },
  {
   "cell_type": "code",
   "execution_count": 44,
   "metadata": {},
   "outputs": [
    {
     "data": {
      "text/plain": [
       "127600"
      ]
     },
     "execution_count": 44,
     "metadata": {},
     "output_type": "execute_result"
    }
   ],
   "source": [
    "rf_full.count()"
   ]
  },
  {
   "cell_type": "code",
   "execution_count": 45,
   "metadata": {},
   "outputs": [
    {
     "name": "stdout",
     "output_type": "stream",
     "text": [
      "+--------------------+--------------------+--------------------+--------------------+--------------------+--------------------+--------------------+--------------------+--------------------+--------------------+--------------------+--------------------+--------------------+--------------------+--------------------+--------------------+--------------------+--------------------+--------------------+--------------------+--------------------+----+---+--------------+\n",
      "|                 T_1|                 T_2|                 T_3|                 T_4|                 T_5|                 T_6|                 T_7|                 T_8|                 T_9|                T_10|                T_11|                T_12|                T_13|                T_14|                T_15|                T_16|                T_17|                T_18|                T_19|                T_20|              domain|hour|day|group_comments|\n",
      "+--------------------+--------------------+--------------------+--------------------+--------------------+--------------------+--------------------+--------------------+--------------------+--------------------+--------------------+--------------------+--------------------+--------------------+--------------------+--------------------+--------------------+--------------------+--------------------+--------------------+--------------------+----+---+--------------+\n",
      "|0.004219450214726834|0.004218547842174023|0.004245090323871215|0.004221124048313861|0.004235255469256049|0.004221012998457479|0.004230441964204539| 0.00422118269386279| 0.18022608153067682|0.004223440758111663|  0.7436093409298999|0.004292840689349701|0.004216960250293465|0.004244362075289319|0.004231859367183281|0.004223373887861...|0.004236221401468...|0.004219021415963823| 0.00422799334597294|0.004236398793062382|           bluzz.org|   6|  6|           0.0|\n",
      "|0.006643685121405206|0.006642264301192677| 0.00668405645020677|0.006646320634714902|0.006668571093915232|0.006646145783589...|0.006660992048001148|0.006646412976861954|  0.8720523618083224|0.006649968382465091|0.008023609050027214|0.006759241217716137|0.006639764577074089|0.006682909795048...|0.006663223803248977|0.006649863093817...|0.006670091992331038|0.006643009960755841|0.006657136606170686|0.006670371303135248|       betacrack.com|  10|  6|           0.0|\n",
      "|0.002897742421838...|0.002897122709837...|0.002915350979297...|0.002898891940851587|0.002908596810464369|0.002898815676641...|0.002905291097083...|0.002898932215876...|  0.9441937272553023|0.002900482960298587|0.003499617579833...|0.002948143939622...|0.002896032417797265|0.002914850847722...|0.002906264509974415|0.002900437037022478|0.002909260173739...|0.002897447940436162| 0.00290360948806693|0.002909381998291335|           bluzz.org|  11|  6|           0.0|\n",
      "|0.007758002058713954|0.007756342931653897|0.007805144700396025|0.007761079618119916|0.007787062052089299| 0.00776087543802745|0.007778211807375197|0.007761187446663821|  0.8505922468130016|0.007765339191930304|0.009369378641385701|0.007892939898513595|0.007753423939788532|0.007803805719731156|0.007780817884497...|0.007765216237822952|0.007788838043516083|0.007757213658414...|0.007773709714329402|0.007789164204029507|           bluzz.org|  16|  6|           0.0|\n",
      "|0.004219450245495088|0.004218547869843823|0.004245090360950844|0.004221124081859244|0.004235255488960...|0.004221013030552005|0.004230442025162706|0.004221182725852209|  0.9187395715522877|0.004223440792625...|0.005095850320702524|0.004292840726891314|0.004216960278497253|0.004244362102005891|0.004231859388547012|0.004223373926514835| 0.00423622143317809|0.004219021438445346|0.004227993374817381| 0.00423639883681092|           bluzz.org|  23|  6|           0.0|\n",
      "|0.002439290010132844|0.002438768341871...|0.002454112715559413|0.002440257661967...|0.002448427155951229|0.002440193464162...|0.002445644409460...|0.002440291565857346|0.003761627555749...|  0.0024415969666516|   0.952207163692519|0.002481717493008724|0.002437850546433...|0.002453691709046...|0.002446463816378...|0.002441558309307903|0.002448985533676311|0.002439042118304...|0.002444228846452...|0.002449088087509663|indexlink93447958...|   8|  7|           0.0|\n",
      "|0.004219450215806492| 0.00421854784378416|0.004245090325383448|0.004221124049561...|0.004235255469487691|0.004221012999529513|0.004230441966813684|0.004221182694968109|   0.918739572105722|0.004223440759517836|0.005095850328186069| 0.00429284069187417|0.004216960251539848|0.004244362077090134|0.004231859369373455|0.004223373889479547|0.004236221402508679|0.004219021417712322|0.004227993347875906| 0.00423639879378527|       dstarnews.com|  18|  7|           0.0|\n",
      "|0.005161069582708011|0.005159965839099903|0.005192431587091285|0.005163116950678923|0.005180401966383439| 0.00516298112603755|0.005174514272684732|0.005163188686024997|  0.9006053597830758|0.005165950668649456|0.006233051690324348|0.005250837999813602|0.005158023959285979|0.005191540820432314|0.005176247982107237|0.005165868874360451|0.005181583458204...| 0.00516054509659666|0.005171519219052...|0.005181800437389005|middleeastmonitor...|  19|  7|           0.0|\n",
      "|0.004219450218653066|0.004218547845186427|0.004245090329272081|0.004221124052920463| 0.00423525547801341|0.004221013003269...|0.004230441969514...|0.004221182697719...|  0.9187395719639506|0.004223440761761086|0.005095850413748931|0.004292840693045882|0.004216960254795388|0.004244362080917...|0.004231859371915922|0.004223373891385785|0.004236221404342725|0.004219021420256473|0.004227993350741...|0.004236398798589852|     itstrending.org|  21|  7|           0.0|\n",
      "|                 0.0|                 0.0|                 0.0|                 0.0|                 0.0|                 0.0|                 0.0|                 0.0|                 0.0|                 0.0|                 0.0|                 0.0|                 0.0|                 0.0|                 0.0|                 0.0|                 0.0|                 0.0|                 0.0|                 0.0|         stepe.tokyo|   0|  1|           0.0|\n",
      "|0.005809272959702366|0.005808030588603099|0.005844573861121...|0.005811577467652954|0.005831033384362237|0.005811424575522696|0.005824406228580051| 0.00581165821035462|  0.8881219150551113|0.005814767077436158|0.007015887659630928|0.005910315826758301|0.005805844815951905|0.005843571219477403|0.005826357688775503|0.005814675011295112|0.005832363268184619|0.005808682596237204|0.005821035009233679|0.005832607496008...|             cutt.ly|   4|  1|           0.0|\n",
      "|0.003312828903412...|0.003312120422861...|0.003332959803694184|0.003314143084292...|0.003325238126964...|0.003314055897120316|0.003321458888477...|0.003314189128313...|  0.9361997704972673|0.003315962008523...|0.004000918913444532|0.003370450177907118|0.003310873949830475|0.003332388021264801|0.003322571737435...|0.003315909506199219|0.003325996511715...|0.003312492238100...|0.003319536393794777| 0.00332613578937919|           bluzz.org|  14|  1|           0.0|\n",
      "|0.023573597437365697|0.023568555982489383| 0.02371684586679612|0.023582948956274514| 0.02366189962242975| 0.02358232853540223|0.023635007114471585|0.023583276604711198|0.036352946749069026| 0.02359589215675024|  0.5381240588766828|0.023983621853213816|0.023559686283732267|0.023712777217359156|0.023642925987187407|0.023595518561355704|0.023667296181300514|  0.0235712017866422|0.023621326956479734|0.023668287270286782|         stepe.tokyo|  15|  1|           0.0|\n",
      "| 0.00421945021837501|0.004218547846114...|0.004245090328324...|0.004221124051622427|0.004235255473124623|0.004221013002456446|0.004230441967663...|0.004221182697701831|  0.9187395728155027|0.004223440762204383|0.005095849574263294|0.004292840693150399|0.004216960253593173|0.004244362078632353|0.004231859372016704|0.004223373891934281|0.004236221405491339|0.004219021420835224|0.004227993350254...|0.004236398796738564|           bluzz.org|  23|  1|           0.0|\n",
      "|0.004219450218309988|0.004218547847481839|0.004245090354092307|0.004221124052689773| 0.00423525547346794|0.004221013002541...|0.004230441968371106|0.004221182698896547|  0.7922032366049339|0.004223440761160946|  0.1316321857446709|0.004292840699751...|0.004216960253212837|0.004244362079622591|0.004231859373113618|0.004223373893810334|0.004236221405564894|0.004219021421708013|  0.0042279933502698|0.004236398796329691|            youtu.be|   1|  2|           0.0|\n",
      "|0.007758002056095959|0.007756342928439197|  0.8464337827746092|0.007761079613940969|0.007787062047576...|0.007760875435082...|0.007778211801653758| 0.00776118744204524|0.011963612730411435|0.007765339183439525|0.009369374745122611|0.007892939883228006|0.007753423936417539|0.007803805715039472|0.007780817879601...| 0.00776521623513544|0.007788838038315...|0.007757213654814...|0.007773709701637435| 0.00778916419739434|         youtube.com|   4|  2|           0.0|\n",
      "| 0.00464299987708273|0.004642006924376035|0.004671213748321182|0.004644841730442709|0.004660391667086024|0.004644719533897802|0.004655094982312708|0.004644906263005...|  0.9105826266654916|0.004647390992873229|0.005607372936336329|0.004723757309885592|0.004640259969382...|0.004670412399471187|0.004656654664297939|0.004647317410362595|0.004661454559929238|0.004642528035921843|0.004652400570366111|0.004661649759156964|          apnews.com|  10|  2|           0.0|\n",
      "|0.005161069575925861|0.005159965829302023|0.005192431573821694|0.005163116943946...|0.005180401954190205|0.005162981111222919|0.005174514264684399|0.005163188678723611|  0.9006053627933048|0.005165950655700918|0.006233048837916862|0.005250838010178433|0.005158023948287087|0.005191540808674851| 0.00517624797780947|0.005165868871695888|0.005181583447985344|0.005160545084073372|0.005171519206762416|0.005181800425793155|           bluzz.org|  15|  2|           0.0|\n",
      "|0.004642999877268064|0.004642006924303749|0.004671213748286...|0.004644841730651586|0.004660391666570772|0.004644719533676653|0.004655094983306824|0.004644906263786189|  0.9105826269756053|0.004647390992640733|0.005607372625010474|0.004723757311732405|0.004640259969458532|0.004670412398503695|0.004656654664230...|0.004647317410137513|0.004661454559037102|0.004642528035672217| 0.00465240057120582| 0.00466164975891483|      uk.reuters.com|  15|  2|           0.0|\n",
      "|0.004219450215040...|0.004218547842611063|0.004245090329689647|0.004221124048074606|0.004235255468698055|0.004221012998958...|0.004230441964633...|0.004221182694181141|  0.9187395724027582|0.004223440758532409|0.005095850043152361|0.004292840691840669|0.004216960250658225|    0.00424436207575|0.004231859367627...|0.004223373888524756| 0.00423622140178978|0.004219021416491293| 0.00422799334649712|0.004236398794490172|           bluzz.org|  16|  2|           0.0|\n",
      "+--------------------+--------------------+--------------------+--------------------+--------------------+--------------------+--------------------+--------------------+--------------------+--------------------+--------------------+--------------------+--------------------+--------------------+--------------------+--------------------+--------------------+--------------------+--------------------+--------------------+--------------------+----+---+--------------+\n",
      "only showing top 20 rows\n",
      "\n"
     ]
    }
   ],
   "source": [
    "# Convert the number of comments into numerical and create a grouped categorical\n",
    "rf_full = rf_full.withColumn(\"num_comments\", F.col(\"num_comments\").astype(IntegerType()))\n",
    "bucketizer = Bucketizer(splitsArray=[[0,5,25,float(\"inf\")]],inputCols=[\"num_comments\"], outputCols=[\"group_comments\"])\n",
    "rf_full = bucketizer.setHandleInvalid(\"keep\").transform(rf_full)\n",
    "rf_full = rf_full.drop('num_comments')\n",
    "rf_full.show(20)"
   ]
  },
  {
   "cell_type": "code",
   "execution_count": 46,
   "metadata": {},
   "outputs": [
    {
     "name": "stdout",
     "output_type": "stream",
     "text": [
      "root\n",
      " |-- T_1: double (nullable = true)\n",
      " |-- T_2: double (nullable = true)\n",
      " |-- T_3: double (nullable = true)\n",
      " |-- T_4: double (nullable = true)\n",
      " |-- T_5: double (nullable = true)\n",
      " |-- T_6: double (nullable = true)\n",
      " |-- T_7: double (nullable = true)\n",
      " |-- T_8: double (nullable = true)\n",
      " |-- T_9: double (nullable = true)\n",
      " |-- T_10: double (nullable = true)\n",
      " |-- T_11: double (nullable = true)\n",
      " |-- T_12: double (nullable = true)\n",
      " |-- T_13: double (nullable = true)\n",
      " |-- T_14: double (nullable = true)\n",
      " |-- T_15: double (nullable = true)\n",
      " |-- T_16: double (nullable = true)\n",
      " |-- T_17: double (nullable = true)\n",
      " |-- T_18: double (nullable = true)\n",
      " |-- T_19: double (nullable = true)\n",
      " |-- T_20: double (nullable = true)\n",
      " |-- domain: string (nullable = true)\n",
      " |-- hour: string (nullable = true)\n",
      " |-- day: string (nullable = true)\n",
      " |-- group_comments: double (nullable = true)\n",
      "\n"
     ]
    }
   ],
   "source": [
    "rf_full.printSchema()"
   ]
  },
  {
   "cell_type": "code",
   "execution_count": 47,
   "metadata": {},
   "outputs": [],
   "source": [
    "# Drop rows where there are null values, to avaoid probelms with modelling\n",
    "rf_full = rf_full.na.drop(\"any\")"
   ]
  },
  {
   "cell_type": "code",
   "execution_count": 50,
   "metadata": {},
   "outputs": [
    {
     "name": "stdout",
     "output_type": "stream",
     "text": [
      "+---+---+---+---+---+---+---+---+---+----+----+----+----+----+----+----+----+----+----+----+------+----+---+--------------+\n",
      "|T_1|T_2|T_3|T_4|T_5|T_6|T_7|T_8|T_9|T_10|T_11|T_12|T_13|T_14|T_15|T_16|T_17|T_18|T_19|T_20|domain|hour|day|group_comments|\n",
      "+---+---+---+---+---+---+---+---+---+----+----+----+----+----+----+----+----+----+----+----+------+----+---+--------------+\n",
      "|  0|  0|  0|  0|  0|  0|  0|  0|  0|   0|   0|   0|   0|   0|   0|   0|   0|   0|   0|   0|     0|   0|  0|             0|\n",
      "+---+---+---+---+---+---+---+---+---+----+----+----+----+----+----+----+----+----+----+----+------+----+---+--------------+\n",
      "\n",
      "None\n"
     ]
    }
   ],
   "source": [
    "# Check all gone\n",
    "print(rf_full.select([F.count(F.when(F.isnan(c) | F.col(c).isNull(), c)).alias(c) for c in rf_full.columns]).show()) "
   ]
  },
  {
   "cell_type": "code",
   "execution_count": 52,
   "metadata": {
    "tags": []
   },
   "outputs": [],
   "source": [
    "rf_full.write.mode(\"overwrite\").parquet('rf_full')"
   ]
  },
  {
   "cell_type": "code",
   "execution_count": 53,
   "metadata": {
    "tags": []
   },
   "outputs": [],
   "source": [
    "rf_full = spark.read.parquet('rf_full')"
   ]
  },
  {
   "cell_type": "markdown",
   "metadata": {},
   "source": [
    "## Now build the ML model"
   ]
  },
  {
   "cell_type": "code",
   "execution_count": 54,
   "metadata": {},
   "outputs": [],
   "source": [
    "from pyspark.ml import Pipeline, PipelineModel\n",
    "from pyspark.ml.classification import GBTClassifier, RandomForestClassifier\n",
    "from pyspark.ml.evaluation import MulticlassClassificationEvaluator\n",
    "from pyspark.mllib.evaluation import MulticlassMetrics"
   ]
  },
  {
   "cell_type": "code",
   "execution_count": 55,
   "metadata": {},
   "outputs": [],
   "source": [
    "# Need to one-hot-encode the domain, hour and day columns as they are categorical\n",
    "#Create variable for all categorical columns\n",
    "cat_cols = ['domain','hour','day']\n",
    "#Create and empty list and put the string indexed and one-hot-encoded transformations into it\n",
    "stages = []\n",
    "for cat_col in cat_cols:\n",
    "    col_indexer = StringIndexer(inputCol=cat_col, outputCol=f\"{cat_col}_ind\",handleInvalid='skip')\n",
    "    col_encoder = OneHotEncoder(inputCols=[f\"{cat_col}_ind\"], outputCols=[f\"{cat_col}_ohe\"])\n",
    "    stages += [col_indexer, col_encoder]"
   ]
  },
  {
   "cell_type": "code",
   "execution_count": 56,
   "metadata": {},
   "outputs": [],
   "source": [
    "# Split data into train and test sets\n",
    "train, test = rf_full.randomSplit([0.8, 0.2], seed=42)\n",
    "\n",
    "# Seperate out the features from the data\n",
    "X = rf_full.drop('group_comments')\n",
    "y= rf_full.select('group_comments')\n",
    "\n",
    "# Make list of numeric columns (here that is all columns in features not categorical)\n",
    "features_cols = X.columns\n",
    "num_cols = [x for x in features_cols if x not in cat_cols]"
   ]
  },
  {
   "cell_type": "code",
   "execution_count": 57,
   "metadata": {},
   "outputs": [],
   "source": [
    "# Change title of one not encoded categoricals\n",
    "cat_cols_ohe = [f\"{cat_col}_ohe\" for cat_col in cat_cols]"
   ]
  },
  {
   "cell_type": "code",
   "execution_count": 58,
   "metadata": {},
   "outputs": [],
   "source": [
    "# Build all features into one vetor\n",
    "assembler = VectorAssembler(inputCols=cat_cols_ohe + num_cols, outputCol=\"features\")\n",
    "stages += [assembler]"
   ]
  },
  {
   "cell_type": "code",
   "execution_count": 59,
   "metadata": {},
   "outputs": [],
   "source": [
    "# Specify the model core and target variable\n",
    "rf = RandomForestClassifier(labelCol=\"group_comments\",featuresCol=\"features\")\n",
    "stages += [rf]"
   ]
  },
  {
   "cell_type": "code",
   "execution_count": 60,
   "metadata": {},
   "outputs": [],
   "source": [
    "# Populate the pipeline\n",
    "pipeline = Pipeline(stages=stages)"
   ]
  },
  {
   "cell_type": "code",
   "execution_count": 61,
   "metadata": {},
   "outputs": [
    {
     "name": "stdout",
     "output_type": "stream",
     "text": [
      "Time elapsed (hh:mm:ss.ms) 0:01:28.924435\n"
     ]
    }
   ],
   "source": [
    "# Fit the model to training set via pipeline\n",
    "from datetime import datetime \n",
    "start_time = datetime.now() \n",
    "\n",
    "pipeline_model = pipeline.fit(train)\n",
    "\n",
    "print('Time elapsed (hh:mm:ss.ms) {}'.format(datetime.now() - start_time))"
   ]
  },
  {
   "cell_type": "code",
   "execution_count": 62,
   "metadata": {},
   "outputs": [],
   "source": [
    "# Save the model for later use\n",
    "pipeline_model.write().overwrite().save('pipeline_model')"
   ]
  },
  {
   "cell_type": "code",
   "execution_count": 63,
   "metadata": {},
   "outputs": [],
   "source": [
    "# Test the model\n",
    "test_preds = pipeline_model.transform(test)"
   ]
  },
  {
   "cell_type": "code",
   "execution_count": 64,
   "metadata": {},
   "outputs": [
    {
     "name": "stdout",
     "output_type": "stream",
     "text": [
      "Test Error = 0.174157\n"
     ]
    }
   ],
   "source": [
    "evaluator = MulticlassClassificationEvaluator(labelCol=rf.getLabelCol(), predictionCol=rf.getPredictionCol(), metricName=\"accuracy\")\n",
    "accuracy = evaluator.evaluate(test_preds)\n",
    "print(\"Test Error = %g\" % (1.0 - accuracy))"
   ]
  },
  {
   "cell_type": "code",
   "execution_count": 65,
   "metadata": {},
   "outputs": [
    {
     "name": "stdout",
     "output_type": "stream",
     "text": [
      "+----------+\n",
      "|prediction|\n",
      "+----------+\n",
      "|       0.0|\n",
      "|       0.0|\n",
      "|       0.0|\n",
      "|       0.0|\n",
      "|       0.0|\n",
      "+----------+\n",
      "only showing top 5 rows\n",
      "\n"
     ]
    }
   ],
   "source": [
    "test_preds.select('prediction').show(5)"
   ]
  },
  {
   "cell_type": "code",
   "execution_count": 66,
   "metadata": {},
   "outputs": [],
   "source": [
    "preds_and_labels = test_preds.select(['prediction','group_comments']).withColumn('label', F.col('group_comments').cast(FloatType())).orderBy('prediction')"
   ]
  },
  {
   "cell_type": "code",
   "execution_count": 67,
   "metadata": {},
   "outputs": [
    {
     "name": "stdout",
     "output_type": "stream",
     "text": [
      "[[20196.     0.     0.]\n",
      " [ 2628.     0.     0.]\n",
      " [ 1631.     0.     0.]]\n"
     ]
    }
   ],
   "source": [
    "# Select only prediction and label columns\n",
    "preds_and_labels = preds_and_labels.select(['prediction','label'])\n",
    "\n",
    "metrics = MulticlassMetrics(preds_and_labels.rdd.map(tuple))\n",
    "\n",
    "print(metrics.confusionMatrix().toArray())"
   ]
  },
  {
   "cell_type": "code",
   "execution_count": 68,
   "metadata": {},
   "outputs": [],
   "source": [
    "spark.stop()"
   ]
  },
  {
   "cell_type": "code",
   "execution_count": null,
   "metadata": {},
   "outputs": [],
   "source": []
  }
 ],
 "metadata": {
  "kernelspec": {
   "display_name": "Python 3",
   "language": "python",
   "name": "python3"
  },
  "language_info": {
   "codemirror_mode": {
    "name": "ipython",
    "version": 3
   },
   "file_extension": ".py",
   "mimetype": "text/x-python",
   "name": "python",
   "nbconvert_exporter": "python",
   "pygments_lexer": "ipython3",
   "version": "3.8.8"
  }
 },
 "nbformat": 4,
 "nbformat_minor": 4
}
