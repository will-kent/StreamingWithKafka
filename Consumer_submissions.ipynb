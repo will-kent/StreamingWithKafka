{
 "cells": [
  {
   "cell_type": "code",
   "execution_count": 1,
   "id": "aefd2b84",
   "metadata": {},
   "outputs": [],
   "source": [
    "from confluent_kafka import Consumer\n",
    "import sys\n",
    "import json"
   ]
  },
  {
   "cell_type": "code",
   "execution_count": 2,
   "id": "c363d07e",
   "metadata": {},
   "outputs": [],
   "source": [
    "conf = {'bootstrap.servers': \"broker:29092\",\n",
    "        'group.id': \"reddit_raw_data\",\n",
    "        'auto.offset.reset': 'latest'}\n",
    "\n",
    "consumer = Consumer(conf)"
   ]
  },
  {
   "cell_type": "code",
   "execution_count": null,
   "id": "2f446b4a",
   "metadata": {},
   "outputs": [
    {
     "name": "stderr",
     "output_type": "stream",
     "text": [
      "% submissions [0] at offset 106 with key b'nu9x1s':\n",
      "% submissions [0] at offset 107 with key b'nu9xug':\n",
      "% submissions [0] at offset 108 with key b'nu9yy1':\n"
     ]
    }
   ],
   "source": [
    "consumer.subscribe([\"submissions\"])\n",
    "\n",
    "try:\n",
    "    while True:\n",
    "        msg = consumer.poll(timeout=1.0)\n",
    "        if msg is None:\n",
    "            continue\n",
    "        if msg.error():\n",
    "            raise Exception(msg.error())\n",
    "        else:\n",
    "            sys.stderr.write('%% %s [%d] at offset %d with key %s:\\n' %\n",
    "                                (msg.topic(), msg.partition(), msg.offset(),\n",
    "                                str(msg.key())))\n",
    "            msg_dict = json.loads(msg.value())\n",
    "            msg_body = msg_dict['domain']\n",
    "except Exception as e:\n",
    "    import traceback\n",
    "    print(traceback.format_exc())\n",
    "finally:\n",
    "    consumer.close()"
   ]
  },
  {
   "cell_type": "code",
   "execution_count": null,
   "id": "02d6ccaf",
   "metadata": {},
   "outputs": [],
   "source": []
  }
 ],
 "metadata": {
  "kernelspec": {
   "display_name": "Python 3",
   "language": "python",
   "name": "python3"
  },
  "language_info": {
   "codemirror_mode": {
    "name": "ipython",
    "version": 3
   },
   "file_extension": ".py",
   "mimetype": "text/x-python",
   "name": "python",
   "nbconvert_exporter": "python",
   "pygments_lexer": "ipython3",
   "version": "3.8.8"
  }
 },
 "nbformat": 4,
 "nbformat_minor": 5
}
