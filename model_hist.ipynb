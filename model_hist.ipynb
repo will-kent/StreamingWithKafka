{
 "cells": [
  {
   "cell_type": "code",
   "execution_count": 2,
   "metadata": {},
   "outputs": [
    {
     "name": "stdout",
     "output_type": "stream",
     "text": [
      "Collecting gensim\n",
      "  Downloading gensim-4.0.1-cp38-cp38-manylinux1_x86_64.whl (23.9 MB)\n",
      "\u001b[K     |████████████████████████████████| 23.9 MB 11.1 MB/s eta 0:00:01     |████████████████████████████▉   | 21.5 MB 11.1 MB/s eta 0:00:01\n",
      "\u001b[?25hRequirement already satisfied: scipy>=0.18.1 in /opt/conda/lib/python3.8/site-packages (from gensim) (1.6.2)\n",
      "Collecting smart-open>=1.8.1\n",
      "  Downloading smart_open-5.1.0-py3-none-any.whl (57 kB)\n",
      "\u001b[K     |████████████████████████████████| 57 kB 4.2 MB/s eta 0:00:01\n",
      "\u001b[?25hRequirement already satisfied: numpy>=1.11.3 in /opt/conda/lib/python3.8/site-packages (from gensim) (1.20.2)\n",
      "Installing collected packages: smart-open, gensim\n",
      "Successfully installed gensim-4.0.1 smart-open-5.1.0\n",
      "Collecting nltk\n",
      "  Downloading nltk-3.6.2-py3-none-any.whl (1.5 MB)\n",
      "\u001b[K     |████████████████████████████████| 1.5 MB 3.7 MB/s eta 0:00:01\n",
      "\u001b[?25hRequirement already satisfied: click in /opt/conda/lib/python3.8/site-packages (from nltk) (7.1.2)\n",
      "Requirement already satisfied: joblib in /opt/conda/lib/python3.8/site-packages (from nltk) (1.0.1)\n",
      "Collecting regex\n",
      "  Downloading regex-2021.4.4-cp38-cp38-manylinux2014_x86_64.whl (733 kB)\n",
      "\u001b[K     |████████████████████████████████| 733 kB 10.0 MB/s eta 0:00:01\n",
      "\u001b[?25hRequirement already satisfied: tqdm in /opt/conda/lib/python3.8/site-packages (from nltk) (4.60.0)\n",
      "Installing collected packages: regex, nltk\n",
      "Successfully installed nltk-3.6.2 regex-2021.4.4\n"
     ]
    }
   ],
   "source": [
    "! pip install gensim\n",
    "! pip install nltk\n"
   ]
  },
  {
   "cell_type": "code",
   "execution_count": 3,
   "metadata": {},
   "outputs": [
    {
     "name": "stderr",
     "output_type": "stream",
     "text": [
      "/opt/conda/lib/python3.8/site-packages/gensim/similarities/__init__.py:15: UserWarning: The gensim.similarities.levenshtein submodule is disabled, because the optional Levenshtein package <https://pypi.org/project/python-Levenshtein/> is unavailable. Install Levenhstein (e.g. `pip install python-Levenshtein`) to suppress this warning.\n",
      "  warnings.warn(msg)\n"
     ]
    }
   ],
   "source": [
    "from pyspark.sql import SparkSession\n",
    "import pandas as pd\n",
    "import numpy as np\n",
    "import re\n",
    "import sys\n",
    "import scipy\n",
    "import gensim\n",
    "from gensim.utils import simple_preprocess\n",
    "import gensim.corpora as corpora\n"
   ]
  },
  {
   "cell_type": "code",
   "execution_count": 4,
   "metadata": {},
   "outputs": [],
   "source": [
    "import string\n",
    "import pyspark\n",
    "import pyspark.sql.functions as F\n",
    "from pyspark import broadcast, SparkContext\n",
    "from pyspark.sql import SQLContext\n",
    "from pyspark.mllib.util import MLUtils\n",
    "from pyspark.sql.types import *\n",
    "from pyspark.ml.feature import CountVectorizer, CountVectorizerModel, Tokenizer, RegexTokenizer, StopWordsRemover, OneHotEncoder, StringIndexer, VectorAssembler, VectorIndexer, Bucketizer\n",
    "from pyspark.ml.linalg import Vectors, SparseVector\n",
    "from pyspark.ml.clustering import LDA\n",
    "from pyspark.ml.functions import vector_to_array\n"
   ]
  },
  {
   "cell_type": "code",
   "execution_count": 88,
   "metadata": {},
   "outputs": [],
   "source": [
    "from pyspark.sql.functions import month, year, mean, count, dayofweek, hour, col, min, max, avg, sum, when, lit, desc, unix_timestamp, from_unixtime, udf, regexp_replace"
   ]
  },
  {
   "cell_type": "code",
   "execution_count": 9,
   "metadata": {},
   "outputs": [],
   "source": [
    "# Build the spark session\n",
    "spark = SparkSession.builder \\\n",
    "        .appName('reddit_app') \\\n",
    "        .getOrCreate()"
   ]
  },
  {
   "cell_type": "code",
   "execution_count": 10,
   "metadata": {},
   "outputs": [
    {
     "data": {
      "text/plain": [
       "'3.1.1'"
      ]
     },
     "execution_count": 10,
     "metadata": {},
     "output_type": "execute_result"
    }
   ],
   "source": [
    "spark.version"
   ]
  },
  {
   "cell_type": "code",
   "execution_count": 11,
   "metadata": {},
   "outputs": [],
   "source": [
    "sc = spark.sparkContext"
   ]
  },
  {
   "cell_type": "markdown",
   "metadata": {},
   "source": [
    "## Load data from csv, strip to required size then save to parquet"
   ]
  },
  {
   "cell_type": "code",
   "execution_count": 101,
   "metadata": {},
   "outputs": [],
   "source": [
    "# Load all submission csv files\n",
    "data = spark.read.format('csv').options(header ='true').load(f\"./submissions/*.csv\")"
   ]
  },
  {
   "cell_type": "code",
   "execution_count": 102,
   "metadata": {},
   "outputs": [
    {
     "name": "stdout",
     "output_type": "stream",
     "text": [
      "root\n",
      " |-- _c0: string (nullable = true)\n",
      " |-- id: string (nullable = true)\n",
      " |-- author_fullname: string (nullable = true)\n",
      " |-- title: string (nullable = true)\n",
      " |-- score: string (nullable = true)\n",
      " |-- author_premium: string (nullable = true)\n",
      " |-- domain: string (nullable = true)\n",
      " |-- over_18: string (nullable = true)\n",
      " |-- subreddit_id: string (nullable = true)\n",
      " |-- permalink: string (nullable = true)\n",
      " |-- parent_whitelist_status: string (nullable = true)\n",
      " |-- url: string (nullable = true)\n",
      " |-- created_utc: string (nullable = true)\n",
      "\n",
      "None\n"
     ]
    },
    {
     "data": {
      "text/plain": [
       "80648"
      ]
     },
     "execution_count": 102,
     "metadata": {},
     "output_type": "execute_result"
    }
   ],
   "source": [
    "print(data.printSchema())\n",
    "data.count()"
   ]
  },
  {
   "cell_type": "code",
   "execution_count": 76,
   "metadata": {},
   "outputs": [
    {
     "data": {
      "text/plain": [
       "[Row(_c0='0', id='mhj2t3', author_fullname='t2_ape487w4', title='British Government’s ‘Gaslighting’ Report on Racism Says Slavery Had Some Upsides', score='1', author_premium='False', domain='thedailybeast.com', over_18='False', subreddit_id='t5_2qh13', permalink='/r/worldnews/comments/mhj2t3/british_governments_gaslighting_report_on_racism/', parent_whitelist_status='all_ads', url='https://www.thedailybeast.com/british-governments-gaslighting-report-on-racism-says-slavery-had-some-upsides', created_utc='1617235221'),\n",
       " Row(_c0='1', id='mhj8o3', author_fullname='t2_72m2t7ri', title='Blessed April Greetings from SAM Climate Smart Trust', score='1', author_premium='False', domain='youtube.com', over_18='False', subreddit_id='t5_2qh13', permalink='/r/worldnews/comments/mhj8o3/blessed_april_greetings_from_sam_climate_smart/', parent_whitelist_status='all_ads', url='https://youtube.com/watch?v=JO74vX9teF4&amp;feature=share', created_utc='1617235743'),\n",
       " Row(_c0='2', id='mhj983', author_fullname='t2_b0p97zv3', title='\"Watch out for new Android malware – pretends to be a \"\"System Update\"\"\"', score='1', author_premium='False', domain='outputmedianews.blogspot.com', over_18='False', subreddit_id='t5_2qh13', permalink='/r/worldnews/comments/mhj983/watch_out_for_new_android_malware_pretends_to_be/', parent_whitelist_status='all_ads', url='https://outputmedianews.blogspot.com/2021/03/watch-out-for-new-android-malware.html', created_utc='1617235798'),\n",
       " Row(_c0='3', id='mhj9xc', author_fullname='t2_fklj5', title='Kremlin jails elderly father of key Navalny associate', score='1', author_premium='False', domain='msn.com', over_18='False', subreddit_id='t5_2qh13', permalink='/r/worldnews/comments/mhj9xc/kremlin_jails_elderly_father_of_key_navalny/', parent_whitelist_status='all_ads', url='https://www.msn.com/en-gb/news/world/kremlin-jails-elderly-father-of-key-navalny-associate-provoking-hostage-claims/ar-BB1f5lKb', created_utc='1617235859'),\n",
       " Row(_c0='4', id='mhjab5', author_fullname='t2_2bqswhg2', title='U.S. trade war pushing China to steal tech, talent, Taiwan says', score='1', author_premium='False', domain='reuters.com', over_18='False', subreddit_id='t5_2qh13', permalink='/r/worldnews/comments/mhjab5/us_trade_war_pushing_china_to_steal_tech_talent/', parent_whitelist_status='all_ads', url='https://www.reuters.com/article/us-taiwan-china-tech-idUSKBN2BN0II', created_utc='1617235896')]"
      ]
     },
     "execution_count": 76,
     "metadata": {},
     "output_type": "execute_result"
    }
   ],
   "source": [
    "data.head(5)"
   ]
  },
  {
   "cell_type": "code",
   "execution_count": 103,
   "metadata": {},
   "outputs": [
    {
     "data": {
      "text/plain": [
       "1700"
      ]
     },
     "execution_count": 103,
     "metadata": {},
     "output_type": "execute_result"
    }
   ],
   "source": [
    "# Only keep the needed columns and remove duplicate rows\n",
    "data = data.select('id','title','domain','subreddit_id','created_utc')\n",
    "data = data.distinct()\n",
    "data.count()"
   ]
  },
  {
   "cell_type": "code",
   "execution_count": 106,
   "metadata": {},
   "outputs": [],
   "source": [
    "# Also load all comment files, so can calcluate numebr of comments for each submission\n",
    "comms =spark.read.format('csv').options(header ='true').load(f\"./comments/*.csv\")"
   ]
  },
  {
   "cell_type": "code",
   "execution_count": 107,
   "metadata": {},
   "outputs": [
    {
     "name": "stdout",
     "output_type": "stream",
     "text": [
      "root\n",
      " |-- _c0: string (nullable = true)\n",
      " |-- id: string (nullable = true)\n",
      " |-- link_id: string (nullable = true)\n",
      "\n",
      "None\n"
     ]
    },
    {
     "data": {
      "text/plain": [
       "71524"
      ]
     },
     "execution_count": 107,
     "metadata": {},
     "output_type": "execute_result"
    }
   ],
   "source": [
    "print(comms.printSchema())\n",
    "comms.count()"
   ]
  },
  {
   "cell_type": "code",
   "execution_count": 108,
   "metadata": {},
   "outputs": [
    {
     "data": {
      "text/plain": [
       "1700"
      ]
     },
     "execution_count": 108,
     "metadata": {},
     "output_type": "execute_result"
    }
   ],
   "source": [
    "# Only keep the needed columns and remove duplicate rows\n",
    "comms = comms.drop('_c0')\n",
    "comms = comms.distinct()\n",
    "comms.count()"
   ]
  },
  {
   "cell_type": "code",
   "execution_count": 190,
   "metadata": {},
   "outputs": [
    {
     "name": "stdout",
     "output_type": "stream",
     "text": [
      "547\n",
      "+-------+------------+\n",
      "|link_id|num_comments|\n",
      "+-------+------------+\n",
      "| fbc8v0|           1|\n",
      "| l92q0n|           1|\n",
      "| hi55dq|           1|\n",
      "| l9pizh|           2|\n",
      "| hia8fx|           1|\n",
      "+-------+------------+\n",
      "only showing top 5 rows\n",
      "\n"
     ]
    }
   ],
   "source": [
    "# Group comments by link_id and count, then join to submissions data\n",
    "total_comms = comms.groupBy('link_id').count()\n",
    "total_comms = total_comms.withColumnRenamed('count','num_comments')\n",
    "# Remove the prefix in link_id so it will match to submissions format i.e. after the underscore\n",
    "total_comms = total_comms.withColumn('link_id', regexp_replace(col('link_id'), 't3_', ''))\n",
    "print(total_comms.count())\n",
    "total_comms.show(5)"
   ]
  },
  {
   "cell_type": "code",
   "execution_count": 191,
   "metadata": {},
   "outputs": [
    {
     "name": "stdout",
     "output_type": "stream",
     "text": [
      "root\n",
      " |-- id: string (nullable = true)\n",
      " |-- title: string (nullable = true)\n",
      " |-- domain: string (nullable = true)\n",
      " |-- subreddit_id: string (nullable = true)\n",
      " |-- created_utc: string (nullable = true)\n",
      " |-- link_id: string (nullable = true)\n",
      " |-- num_comments: long (nullable = true)\n",
      "\n",
      "None\n",
      "+------+--------------------+---------------+------------+-----------+-------+------------+\n",
      "|    id|               title|         domain|subreddit_id|created_utc|link_id|num_comments|\n",
      "+------+--------------------+---------------+------------+-----------+-------+------------+\n",
      "|fbmdfg|\"Greta Thunberg B...|              1|     bbc.com|    all_ads|   null|        null|\n",
      "|k4axmk|Mark Angel is Nig...|   ghlatest.net|    t5_2qh13| 1606787707|   null|        null|\n",
      "|k4b1z0|Australia demands...|edition.cnn.com|    t5_2qh13| 1606788095|   null|        null|\n",
      "|i1jwlh|googul TEA provid...|   foodtour.xyz|    t5_2qh13| 1596245778|   null|        null|\n",
      "|ikahmv|Hundreds protest ...|  worldnewj.com|    t5_2qh13| 1598921474|   null|        null|\n",
      "+------+--------------------+---------------+------------+-----------+-------+------------+\n",
      "only showing top 5 rows\n",
      "\n"
     ]
    }
   ],
   "source": [
    "df = data.join(total_comms, data.id == total_comms.link_id, how= 'left')\n",
    "print(df.printSchema())\n",
    "df.count()\n",
    "df.show(5)"
   ]
  },
  {
   "cell_type": "code",
   "execution_count": 192,
   "metadata": {},
   "outputs": [
    {
     "name": "stdout",
     "output_type": "stream",
     "text": [
      "+------+------------------------------+-----------------+------------+-----------+-------+------------+\n",
      "|    id|                         title|           domain|subreddit_id|created_utc|link_id|num_comments|\n",
      "+------+------------------------------+-----------------+------------+-----------+-------+------------+\n",
      "|l9ptoo|Potential military coup und...|        bbc.co.uk|    t5_2qh13| 1612138100| l9ptoo|           1|\n",
      "|mhj2t3|British Government’s ‘Gasli...|thedailybeast.com|    t5_2qh13| 1617235221| mhj2t3|           1|\n",
      "|gb7i55|Michigan launches GI Bill f...|       nypost.com|    t5_2qh13| 1588291304| gb7i55|           1|\n",
      "|ewxhk0|Brexit is finally official ...|24hrnewsworld.com|    t5_2qh13| 1580515275| ewxhk0|           1|\n",
      "|k48use|Tony Evers on Monday formal...|  edition.cnn.com|    t5_2qh13| 1606780985| k48use|           1|\n",
      "|fsohtz|28 Texas spring-breakers te...|      reuters.com|    t5_2qh13| 1585699310| fsohtz|           1|\n",
      "|gb7htr|Logging returns to NSW nati...|       smh.com.au|    t5_2qh13| 1588291273| gb7htr|           1|\n",
      "|mhj8o3|Blessed April Greetings fro...|      youtube.com|    t5_2qh13| 1617235743| mhj8o3|           1|\n",
      "|fsogsk| Coronavirus outbreak timeline|         youtu.be|    t5_2qh13| 1585699212| fsogsk|           1|\n",
      "|fsoi6m|Trump says he wouldn't have...|      thehill.com|    t5_2qh13| 1585699346| fsoi6m|           1|\n",
      "|i1ijos|Zimbabwe Cracks Down on Pro...|foreignpolicy.com|    t5_2qh13| 1596240268| i1ijos|           1|\n",
      "|l9pt9z|Myanmar Leader, Daw Aung Sa...|      nytimes.com|    t5_2qh13| 1612138066| l9pt9z|           1|\n",
      "|ik9q6s|Enhanced video of Portland ...|      twitter.com|    t5_2qh13| 1598918608| ik9q6s|           1|\n",
      "+------+------------------------------+-----------------+------------+-----------+-------+------------+\n",
      "\n"
     ]
    }
   ],
   "source": [
    "df.filter(df.link_id.isNotNull()).show(truncate=30)"
   ]
  },
  {
   "cell_type": "code",
   "execution_count": 193,
   "metadata": {},
   "outputs": [],
   "source": [
    "df = df.na.fill(value=0,subset=[\"num_comments\"])"
   ]
  },
  {
   "cell_type": "code",
   "execution_count": 194,
   "metadata": {},
   "outputs": [
    {
     "name": "stdout",
     "output_type": "stream",
     "text": [
      "+------+--------------------+---------------+------------+-----------+-------+------------+\n",
      "|    id|               title|         domain|subreddit_id|created_utc|link_id|num_comments|\n",
      "+------+--------------------+---------------+------------+-----------+-------+------------+\n",
      "|fbmdfg|\"Greta Thunberg B...|              1|     bbc.com|    all_ads|   null|           0|\n",
      "|k4axmk|Mark Angel is Nig...|   ghlatest.net|    t5_2qh13| 1606787707|   null|           0|\n",
      "|k4b1z0|Australia demands...|edition.cnn.com|    t5_2qh13| 1606788095|   null|           0|\n",
      "|i1jwlh|googul TEA provid...|   foodtour.xyz|    t5_2qh13| 1596245778|   null|           0|\n",
      "|ikahmv|Hundreds protest ...|  worldnewj.com|    t5_2qh13| 1598921474|   null|           0|\n",
      "+------+--------------------+---------------+------------+-----------+-------+------------+\n",
      "only showing top 5 rows\n",
      "\n"
     ]
    }
   ],
   "source": [
    "df.show(5)"
   ]
  },
  {
   "cell_type": "code",
   "execution_count": 195,
   "metadata": {},
   "outputs": [
    {
     "name": "stdout",
     "output_type": "stream",
     "text": [
      "+------+--------------------+---------------+------------+-----------+-------+------------+\n",
      "|    id|               title|         domain|subreddit_id|created_utc|link_id|num_comments|\n",
      "+------+--------------------+---------------+------------+-----------+-------+------------+\n",
      "|fbmdfg|Greta Thunberg Br...|              1|     bbc.com|    all_ads|   null|           0|\n",
      "|k4axmk|Mark Angel is Nig...|   ghlatest.net|    t5_2qh13| 1606787707|   null|           0|\n",
      "|k4b1z0|Australia demands...|edition.cnn.com|    t5_2qh13| 1606788095|   null|           0|\n",
      "|i1jwlh|googul TEA provid...|   foodtour.xyz|    t5_2qh13| 1596245778|   null|           0|\n",
      "|ikahmv|Hundreds protest ...|  worldnewj.com|    t5_2qh13| 1598921474|   null|           0|\n",
      "+------+--------------------+---------------+------------+-----------+-------+------------+\n",
      "only showing top 5 rows\n",
      "\n"
     ]
    }
   ],
   "source": [
    "#Remove punctuation and numbers from titles\n",
    "df = df.withColumn(\"title\", regexp_replace(col(\"title\"), '[^\\sa-zA-Z]', ''))\n",
    "df.show(5)"
   ]
  },
  {
   "cell_type": "code",
   "execution_count": null,
   "metadata": {},
   "outputs": [],
   "source": []
  },
  {
   "cell_type": "code",
   "execution_count": 196,
   "metadata": {},
   "outputs": [],
   "source": [
    "df.write.parquet('reddit_data', mode='overwrite')"
   ]
  },
  {
   "cell_type": "code",
   "execution_count": 197,
   "metadata": {},
   "outputs": [],
   "source": [
    "df= spark.read.parquet('reddit_data')"
   ]
  },
  {
   "cell_type": "code",
   "execution_count": 198,
   "metadata": {},
   "outputs": [
    {
     "name": "stdout",
     "output_type": "stream",
     "text": [
      "root\n",
      " |-- id: string (nullable = true)\n",
      " |-- title: string (nullable = true)\n",
      " |-- domain: string (nullable = true)\n",
      " |-- subreddit_id: string (nullable = true)\n",
      " |-- created_utc: string (nullable = true)\n",
      " |-- link_id: string (nullable = true)\n",
      " |-- num_comments: long (nullable = true)\n",
      "\n"
     ]
    }
   ],
   "source": [
    "df.printSchema()"
   ]
  },
  {
   "cell_type": "markdown",
   "metadata": {},
   "source": [
    "## Prepare titles and do topics modelling"
   ]
  },
  {
   "cell_type": "code",
   "execution_count": 199,
   "metadata": {},
   "outputs": [],
   "source": [
    "tokenizer = Tokenizer(inputCol=\"title\", outputCol=\"words\")\n",
    "wordsDataFrame = tokenizer.transform(df)"
   ]
  },
  {
   "cell_type": "code",
   "execution_count": 200,
   "metadata": {},
   "outputs": [
    {
     "name": "stdout",
     "output_type": "stream",
     "text": [
      "+------+--------------------+--------------------+------------+-----------+-------+------------+--------------------+\n",
      "|    id|               title|              domain|subreddit_id|created_utc|link_id|num_comments|               words|\n",
      "+------+--------------------+--------------------+------------+-----------+-------+------------+--------------------+\n",
      "|mhlgtj|Cn h bin s hu lu ...|      solifeland.com|    t5_2qh13| 1617243528|   null|           0|[cn, h, bin, s, h...|\n",
      "|mhlu2w|Reports that mult...|         twitter.com|    t5_2qh13| 1617244881|   null|           0|[reports, that, m...|\n",
      "|fsq0qp|Russia sent Italy...| businessinsider.com|    t5_2qh13| 1585704991|   null|           0|[russia, sent, it...|\n",
      "|fblzl5|Ganbare Super Str...|   24hrnewsworld.com|    t5_2qh13| 1583022931|   null|           0|[ganbare, super, ...|\n",
      "|lw5pgd|We attack Indones...|   news.mongabay.com|    t5_2qh13| 1614701722|   null|           0|[we, attack, indo...|\n",
      "|i1irvy|Wigan residents s...|    thecanadian.news|    t5_2qh13| 1596241147|   null|           0|[wigan, residents...|\n",
      "|i1j4bz|WHO reports recor...|         reuters.com|    t5_2qh13| 1596242537|   null|           0|[who, reports, re...|\n",
      "|j2zl8e|Depression In Youths|hitechethics.blog...|    t5_2qh13| 1601517487|   null|           0|[depression, in, ...|\n",
      "|ika9mn|A memorial for  m...|        france24.com|    t5_2qh13| 1598920598|   null|           0|[a, memorial, for...|\n",
      "|ikahqt|FT Racing Wheel  ...|       worldnewj.com|    t5_2qh13| 1598921486|   null|           0|[ft, racing, whee...|\n",
      "|guairn|Three decades of ...|     theguardian.com|    t5_2qh13| 1590971703|   null|           0|[three, decades, ...|\n",
      "|gub860|Liverpool could w...|    newslodge.com.ng|    t5_2qh13| 1590974416|   null|           0|[liverpool, could...|\n",
      "|ko1gqr|New York has admi...|           bluzz.org|    t5_2qh13| 1609460795|   null|           0|[new, york, has, ...|\n",
      "|ko2er6|Here Are  Famous ...|           bluzz.org|    t5_2qh13| 1609464389|   null|           0|[here, are, , fam...|\n",
      "|hj0m6r|Second hand ships...|    newslodge.com.ng|    t5_2qh13| 1593566423|   null|           0|[second, hand, sh...|\n",
      "|hj0ust|Man shot by far l...|            kjzz.com|    t5_2qh13| 1593567372|   null|           0|[man, shot, by, f...|\n",
      "|gb836t|  Fincantieri       |       udefense.info|    t5_2qh13| 1588293335|   null|           0|       [fincantieri]|\n",
      "|gb99ca|Pope Pius XII acc...|  washingtonpost.com|    t5_2qh13| 1588297879|   null|           0|[pope, pius, xii,...|\n",
      "|fspfao|US will run out o...|     theguardian.com|    t5_2qh13| 1585702751|   null|           0|[us, will, run, o...|\n",
      "|fbmary|Experts warn Aust...|            phys.org|    t5_2qh13| 1583024348|   null|           0|[experts, warn, a...|\n",
      "+------+--------------------+--------------------+------------+-----------+-------+------------+--------------------+\n",
      "only showing top 20 rows\n",
      "\n"
     ]
    }
   ],
   "source": [
    "wordsDataFrame.show()"
   ]
  },
  {
   "cell_type": "code",
   "execution_count": 201,
   "metadata": {},
   "outputs": [],
   "source": [
    "stop_words =StopWordsRemover.loadDefaultStopWords(\"english\")\n",
    "stop_words = stop_words + ['a','i']"
   ]
  },
  {
   "cell_type": "code",
   "execution_count": 202,
   "metadata": {},
   "outputs": [],
   "source": [
    "remover = StopWordsRemover(inputCol=\"words\", outputCol=\"filtered\", stopWords = stop_words)\n",
    "wordsDataFrame = remover.transform(wordsDataFrame)"
   ]
  },
  {
   "cell_type": "code",
   "execution_count": 203,
   "metadata": {},
   "outputs": [
    {
     "name": "stdout",
     "output_type": "stream",
     "text": [
      "+------+--------------------+--------------------+------------+-----------+-------+------------+--------------------+--------------------+\n",
      "|    id|               title|              domain|subreddit_id|created_utc|link_id|num_comments|               words|            filtered|\n",
      "+------+--------------------+--------------------+------------+-----------+-------+------------+--------------------+--------------------+\n",
      "|mhlgtj|Cn h bin s hu lu ...|      solifeland.com|    t5_2qh13| 1617243528|   null|           0|[cn, h, bin, s, h...|[cn, h, bin, hu, ...|\n",
      "|mhlu2w|Reports that mult...|         twitter.com|    t5_2qh13| 1617244881|   null|           0|[reports, that, m...|[reports, multipl...|\n",
      "|fsq0qp|Russia sent Italy...| businessinsider.com|    t5_2qh13| 1585704991|   null|           0|[russia, sent, it...|[russia, sent, it...|\n",
      "|fblzl5|Ganbare Super Str...|   24hrnewsworld.com|    t5_2qh13| 1583022931|   null|           0|[ganbare, super, ...|[ganbare, super, ...|\n",
      "|lw5pgd|We attack Indones...|   news.mongabay.com|    t5_2qh13| 1614701722|   null|           0|[we, attack, indo...|[attack, indonesi...|\n",
      "|i1irvy|Wigan residents s...|    thecanadian.news|    t5_2qh13| 1596241147|   null|           0|[wigan, residents...|[wigan, residents...|\n",
      "|i1j4bz|WHO reports recor...|         reuters.com|    t5_2qh13| 1596242537|   null|           0|[who, reports, re...|[reports, record,...|\n",
      "|j2zl8e|Depression In Youths|hitechethics.blog...|    t5_2qh13| 1601517487|   null|           0|[depression, in, ...|[depression, youths]|\n",
      "|ika9mn|A memorial for  m...|        france24.com|    t5_2qh13| 1598920598|   null|           0|[a, memorial, for...|[memorial, , murd...|\n",
      "|ikahqt|FT Racing Wheel  ...|       worldnewj.com|    t5_2qh13| 1598921486|   null|           0|[ft, racing, whee...|[ft, racing, whee...|\n",
      "|guairn|Three decades of ...|     theguardian.com|    t5_2qh13| 1590971703|   null|           0|[three, decades, ...|[three, decades, ...|\n",
      "|gub860|Liverpool could w...|    newslodge.com.ng|    t5_2qh13| 1590974416|   null|           0|[liverpool, could...|[liverpool, win, ...|\n",
      "|ko1gqr|New York has admi...|           bluzz.org|    t5_2qh13| 1609460795|   null|           0|[new, york, has, ...|[new, york, admin...|\n",
      "|ko2er6|Here Are  Famous ...|           bluzz.org|    t5_2qh13| 1609464389|   null|           0|[here, are, , fam...|[, famous, guys, ...|\n",
      "|hj0m6r|Second hand ships...|    newslodge.com.ng|    t5_2qh13| 1593566423|   null|           0|[second, hand, sh...|[second, hand, sh...|\n",
      "|hj0ust|Man shot by far l...|            kjzz.com|    t5_2qh13| 1593567372|   null|           0|[man, shot, by, f...|[man, shot, far, ...|\n",
      "|gb836t|  Fincantieri       |       udefense.info|    t5_2qh13| 1588293335|   null|           0|       [fincantieri]|       [fincantieri]|\n",
      "|gb99ca|Pope Pius XII acc...|  washingtonpost.com|    t5_2qh13| 1588297879|   null|           0|[pope, pius, xii,...|[pope, pius, xii,...|\n",
      "|fspfao|US will run out o...|     theguardian.com|    t5_2qh13| 1585702751|   null|           0|[us, will, run, o...|[us, run, avocado...|\n",
      "|fbmary|Experts warn Aust...|            phys.org|    t5_2qh13| 1583024348|   null|           0|[experts, warn, a...|[experts, warn, a...|\n",
      "+------+--------------------+--------------------+------------+-----------+-------+------------+--------------------+--------------------+\n",
      "only showing top 20 rows\n",
      "\n"
     ]
    }
   ],
   "source": [
    "wordsDataFrame.show()"
   ]
  },
  {
   "cell_type": "code",
   "execution_count": 204,
   "metadata": {},
   "outputs": [
    {
     "name": "stdout",
     "output_type": "stream",
     "text": [
      "+--------------------+------+\n",
      "|             vectors|    id|\n",
      "+--------------------+------+\n",
      "|(6178,[0,29,39,41...|mhlgtj|\n",
      "|(6178,[28,30,68,1...|mhlu2w|\n",
      "|(6178,[1,18,65,72...|fsq0qp|\n",
      "|(6178,[494,575,45...|fblzl5|\n",
      "|(6178,[76,102,104...|lw5pgd|\n",
      "|(6178,[77,127,441...|i1irvy|\n",
      "|(6178,[1,32,68,12...|i1j4bz|\n",
      "|(6178,[2027,6137]...|j2zl8e|\n",
      "|(6178,[0,102,139,...|ika9mn|\n",
      "|(6178,[0,524,763,...|ikahqt|\n",
      "|(6178,[0,37,59,13...|guairn|\n",
      "|(6178,[10,967,105...|gub860|\n",
      "|(6178,[2,5,26,160...|ko1gqr|\n",
      "|(6178,[0,249,727,...|ko2er6|\n",
      "|(6178,[207,1306,1...|hj0m6r|\n",
      "|(6178,[19,94,294,...|hj0ust|\n",
      "| (6178,[3297],[1.0])|gb836t|\n",
      "|(6178,[7,30,65,75...|gb99ca|\n",
      "|(6178,[3,4,7,90,1...|fspfao|\n",
      "|(6178,[0,16,31,89...|fbmary|\n",
      "+--------------------+------+\n",
      "only showing top 20 rows\n",
      "\n"
     ]
    }
   ],
   "source": [
    "cv = CountVectorizer(inputCol=\"filtered\", outputCol=\"vectors\")\n",
    "cvmodel = cv.fit(wordsDataFrame)\n",
    "df_vect = cvmodel.transform(wordsDataFrame)\n",
    "basics = df_vect.select('vectors', 'id')\n",
    "basics.show()"
   ]
  },
  {
   "cell_type": "code",
   "execution_count": 218,
   "metadata": {},
   "outputs": [],
   "source": [
    "# Create the LDA model and fit it\n",
    "num_topics = 20\n",
    "lda = LDA(featuresCol='vectors',k=num_topics, seed=42)\n",
    "#Train the LDA model\n",
    "model = lda.fit(basics)"
   ]
  },
  {
   "cell_type": "code",
   "execution_count": 206,
   "metadata": {},
   "outputs": [
    {
     "name": "stdout",
     "output_type": "stream",
     "text": [
      "+-----+---------------------------------------------------------+----------------------------------------------------------------------------------------------------+\n",
      "|topic|                                              termIndices|                                                                                         termWeights|\n",
      "+-----+---------------------------------------------------------+----------------------------------------------------------------------------------------------------+\n",
      "|    0|    [204, 89, 122, 762, 838, 1425, 1848, 322, 1189, 2235]|[0.0012678998507832564, 0.0011068580560100229, 9.262934147928398E-4, 8.117138231307551E-4, 8.0389...|\n",
      "|    1|                        [0, 1, 5, 10, 4, 2, 3, 25, 16, 8]|[0.0317462620231647, 0.008963583225651387, 0.004341257794022516, 0.004334524169802166, 0.00416171...|\n",
      "|    2|          [99, 146, 291, 203, 312, 213, 118, 7, 429, 486]|[0.0018872771501108096, 0.001129977119372255, 8.873721093781615E-4, 8.50515073242995E-4, 7.536073...|\n",
      "|    3|      [21, 14, 310, 156, 742, 175, 157, 1391, 3650, 3509]|[0.0021310128546146658, 0.0021300576675121427, 7.18185203387837E-4, 6.20726824303998E-4, 6.122217...|\n",
      "|    4|                  [18, 23, 24, 33, 20, 42, 55, 38, 78, 7]|[0.00398865945084144, 0.0038023966180115005, 0.003782393924442026, 0.003497598883320363, 0.003377...|\n",
      "|    5|  [635, 574, 323, 1869, 778, 1834, 245, 2139, 1281, 5562]|[8.712816712649168E-4, 7.602180969269602E-4, 6.242576075953647E-4, 5.529917111864616E-4, 5.448012...|\n",
      "|    6|            [40, 62, 641, 265, 1, 109, 266, 130, 486, 70]|[0.0018016090367381798, 0.0012881990974014626, 9.861535569284316E-4, 9.606751232120403E-4, 9.0157...|\n",
      "|    7|         [357, 167, 624, 392, 4, 34, 142, 527, 1251, 517]|[0.0012691340602038847, 0.0011753164872685877, 0.0011155929634421482, 0.001092924870725883, 0.001...|\n",
      "|    8|           [0, 100, 381, 14, 465, 476, 181, 184, 60, 238]|[0.00240482054228541, 0.0016937414488977392, 0.0015387150022648027, 0.001527540675655474, 0.00149...|\n",
      "|    9|  [346, 629, 2125, 488, 1787, 1255, 619, 1214, 1595, 101]|[9.083662190929778E-4, 7.118786120319529E-4, 5.446645467072487E-4, 5.398856573601449E-4, 5.387320...|\n",
      "|   10|     [1870, 81, 643, 1815, 648, 652, 953, 473, 934, 2463]|[5.124758148176335E-4, 5.084125189573129E-4, 4.8283602032750064E-4, 4.813267506922101E-4, 4.53531...|\n",
      "|   11|             [3, 76, 96, 248, 558, 784, 80, 48, 334, 368]|[0.004315822221034985, 0.0017901414202810884, 0.0011241087133723785, 9.718671502718297E-4, 8.8164...|\n",
      "|   12|[254, 3878, 1352, 620, 3416, 4033, 5670, 630, 3731, 4283]|[0.0012975029988965033, 6.771353923923375E-4, 6.568792252375367E-4, 6.398139338968388E-4, 6.38728...|\n",
      "|   13|                    [0, 6, 9, 11, 12, 29, 15, 45, 53, 41]|[0.016640297384252687, 0.005192983519589121, 0.004399115570342507, 0.004173716449750638, 0.003825...|\n",
      "|   14|      [3, 279, 170, 2631, 523, 220, 2880, 3324, 4943, 73]|[0.0010429385529579715, 0.0010158062327663144, 8.139045528310259E-4, 8.071525134963011E-4, 8.0415...|\n",
      "|   15|      [35, 923, 1081, 681, 59, 239, 408, 965, 1196, 1194]|[9.347281854164114E-4, 9.242943870328849E-4, 8.310760168882082E-4, 7.503368167521117E-4, 7.480518...|\n",
      "|   16|         [363, 779, 179, 575, 904, 703, 1304, 185, 3, 56]|[8.274093469246386E-4, 6.741688795904225E-4, 6.478292187052926E-4, 6.466871425438093E-4, 6.383073...|\n",
      "|   17|         [127, 26, 49, 1498, 144, 281, 7, 332, 1170, 417]|[0.0015554627281467363, 9.659530868561381E-4, 8.157232610556168E-4, 7.613881921708876E-4, 7.47057...|\n",
      "|   18|      [31, 214, 287, 220, 585, 374, 1972, 571, 744, 4500]|[0.0010884409917195526, 0.001011112409666667, 9.451628416911038E-4, 8.189263045332175E-4, 7.95788...|\n",
      "|   19|             [2, 17, 84, 466, 192, 0, 331, 143, 897, 407]|[0.004310826694638192, 0.0015469116926863137, 0.001411225168193703, 0.0011827050062710085, 0.0010...|\n",
      "+-----+---------------------------------------------------------+----------------------------------------------------------------------------------------------------+\n",
      "\n"
     ]
    }
   ],
   "source": [
    "# See the results of modelling\n",
    "ldatopics = model.describeTopics(10)\n",
    "ldatopics.show(truncate = 100)"
   ]
  },
  {
   "cell_type": "code",
   "execution_count": 207,
   "metadata": {},
   "outputs": [
    {
     "name": "stdout",
     "output_type": "stream",
     "text": [
      "Number of words in word vectors: 6178\n",
      "Example last words: \n"
     ]
    },
    {
     "data": {
      "text/plain": [
       "['juan', 'diego', 'khe', 'wounds', 'skinned']"
      ]
     },
     "execution_count": 207,
     "metadata": {},
     "output_type": "execute_result"
    }
   ],
   "source": [
    "# For mapping words to the model term indices, first collect the words used in the input vectors\n",
    "vocab = cvmodel.vocabulary\n",
    "vocab_broadcast = sc.broadcast(vocab) # saves the words to a broadcast variable for use in mapping\n",
    "print(\"Number of words in word vectors: \" + str(len(vocab)))\n",
    "print(\"Example last words: \")\n",
    "vocab[-6:-1]"
   ]
  },
  {
   "cell_type": "code",
   "execution_count": 208,
   "metadata": {},
   "outputs": [],
   "source": [
    "# Now match input words to terms in model output topics\n",
    "def map_termID_to_Word(termIndices):\n",
    "    words = []\n",
    "    for termID in termIndices:\n",
    "        words.append(vocab_broadcast.value[termID])\n",
    "\n",
    "    return words\n",
    "\n",
    "udf_map_termID_to_Word = udf(map_termID_to_Word , ArrayType(StringType()))\n",
    "\n",
    "ldatopics_mapped = ldatopics.withColumn(\"topic_desc\", udf_map_termID_to_Word(ldatopics.termIndices))"
   ]
  },
  {
   "cell_type": "code",
   "execution_count": 209,
   "metadata": {},
   "outputs": [
    {
     "name": "stdout",
     "output_type": "stream",
     "text": [
      "+-----+---------------------------------------------------------+---------------------------------------------------------------------------------------------------------------------------------------------------------------------------------------------------------------------------------+--------------------------------------------------------------------------------------------+\n",
      "|topic|termIndices                                              |termWeights                                                                                                                                                                                                                      |topic_desc                                                                                  |\n",
      "+-----+---------------------------------------------------------+---------------------------------------------------------------------------------------------------------------------------------------------------------------------------------------------------------------------------------+--------------------------------------------------------------------------------------------+\n",
      "|0    |[204, 89, 122, 762, 838, 1425, 1848, 322, 1189, 2235]    |[0.0012678998507832564, 0.0011068580560100229, 9.262934147928398E-4, 8.117138231307551E-4, 8.038998389086852E-4, 7.911090185789501E-4, 7.825654419839969E-4, 7.308746725899496E-4, 7.287745638704448E-4, 6.983610615191186E-4]   |[child, security, law, nicki, shared, vaccination, breastfeeding, right, saying, uae]       |\n",
      "|1    |[0, 1, 5, 10, 4, 2, 3, 25, 16, 8]                        |[0.0317462620231647, 0.008963583225651387, 0.004341257794022516, 0.004334524169802166, 0.004161718495541467, 0.003945217443733947, 0.002506769784292301, 0.002095400222802835, 0.002050180998154788, 0.0018634423117294806]      |[, coronavirus, covid, first, us, new, trump, chinese, australia, china]                    |\n",
      "|2    |[99, 146, 291, 203, 312, 213, 118, 7, 429, 486]          |[0.0018872771501108096, 0.001129977119372255, 8.873721093781615E-4, 8.50515073242995E-4, 7.536073823697343E-4, 7.517323532766931E-4, 7.49163552664498E-4, 7.407628657422036E-4, 7.345753866466372E-4, 6.866152717210375E-4]      |[north, kim, strategic, weapon, leaves, korea, show, says, nuclear, ends]                   |\n",
      "|3    |[21, 14, 310, 156, 742, 175, 157, 1391, 3650, 3509]      |[0.0021310128546146658, 0.0021300576675121427, 7.18185203387837E-4, 6.20726824303998E-4, 6.122217266051731E-4, 5.876652893278432E-4, 5.798059813413567E-4, 5.682586751050362E-4, 5.457821275598822E-4, 5.338416095322651E-4]     |[googulxyz, googul, recovery, bill, se, apple, online, tea, muestran, avances]              |\n",
      "|4    |[18, 23, 24, 33, 20, 42, 55, 38, 78, 7]                  |[0.00398865945084144, 0.0038023966180115005, 0.003782393924442026, 0.003497598883320363, 0.0033770460085957134, 0.0030445804047330004, 0.0025484333638137006, 0.002521014705770203, 0.0024210845466262738, 0.0019351487274607954]|[military, kyi, suu, myanmar, detained, party, aung, san, coup, says]                       |\n",
      "|5    |[635, 574, 323, 1869, 778, 1834, 245, 2139, 1281, 5562]  |[8.712816712649168E-4, 7.602180969269602E-4, 6.242576075953647E-4, 5.529917111864616E-4, 5.448012362002289E-4, 5.400191270704729E-4, 5.369121178331175E-4, 5.363568108409807E-4, 5.343550664438805E-4, 5.318824623973623E-4]     |[head, masked, singer, javier, censorship, laura, go, ceriani, racism, tomorrows]           |\n",
      "|6    |[40, 62, 641, 265, 1, 109, 266, 130, 486, 70]            |[0.0018016090367381798, 0.0012881990974014626, 9.861535569284316E-4, 9.606751232120403E-4, 9.01575262828143E-4, 8.597301104210423E-4, 8.277158458149346E-4, 8.050325445630224E-4, 7.08109505729409E-4, 7.058682458573669E-4]     |[biden, former, joe, wall, coronavirus, border, senate, election, ends, facebook]           |\n",
      "|7    |[357, 167, 624, 392, 4, 34, 142, 527, 1251, 517]         |[0.0012691340602038847, 0.0011753164872685877, 0.0011155929634421482, 0.001092924870725883, 0.0010016760512328718, 9.982659627077318E-4, 9.771785113356721E-4, 9.715641617227477E-4, 9.257061901075723E-4, 9.176258981897332E-4] |[navalny, work, relationship, opposition, us, leader, russia, split, weber, peter]          |\n",
      "|8    |[0, 100, 381, 14, 465, 476, 181, 184, 60, 238]           |[0.00240482054228541, 0.0016937414488977392, 0.0015387150022648027, 0.001527540675655474, 0.0014959125914768539, 0.001487511272637848, 0.0014516044042051529, 0.0014426048865371444, 9.005675550729981E-4, 8.825627315988922E-4] |[, google, advertising, googul, auto, sns, avisering, frn, shows, days]                     |\n",
      "|9    |[346, 629, 2125, 488, 1787, 1255, 619, 1214, 1595, 101]  |[9.083662190929778E-4, 7.118786120319529E-4, 5.446645467072487E-4, 5.398856573601449E-4, 5.387320985923133E-4, 5.13317953178321E-4, 5.055460068270931E-4, 4.998990305893683E-4, 4.891218107568526E-4, 4.5606626967427687E-4]     |[greta, thunberg, jinping, check, fact, xi, minneapolis, truck, drives, climate]            |\n",
      "|10   |[1870, 81, 643, 1815, 648, 652, 953, 473, 934, 2463]     |[5.124758148176335E-4, 5.084125189573129E-4, 4.8283602032750064E-4, 4.813267506922101E-4, 4.535314128953784E-4, 4.4689373200794755E-4, 4.108356780444853E-4, 3.907333382885523E-4, 3.85933404007368E-4, 3.823911800859626E-4]    |[jared, fight, scientist, kushner, mosque, temple, iranian, find, startup, willies]         |\n",
      "|11   |[3, 76, 96, 248, 558, 784, 80, 48, 334, 368]             |[0.004315822221034985, 0.0017901414202810884, 0.0011241087133723785, 9.718671502718297E-4, 8.816472585681507E-4, 8.473876130327108E-4, 8.137943844441206E-4, 7.955639675361472E-4, 7.326902211206138E-4, 6.921825325660518E-4]   |[trump, black, make, presidential, debates, torpedoed, today, pandemic, allies, debate]     |\n",
      "|12   |[254, 3878, 1352, 620, 3416, 4033, 5670, 630, 3731, 4283]|[0.0012975029988965033, 6.771353923923375E-4, 6.568792252375367E-4, 6.398139338968388E-4, 6.387285952037465E-4, 6.220941594965048E-4, 6.190013369909739E-4, 6.175193301243636E-4, 6.080773997357325E-4, 6.066198633588738E-4]    |[media, player, kelly, jack, core, contest, carson, happy, favour, sussexs]                 |\n",
      "|13   |[0, 6, 9, 11, 12, 29, 15, 45, 53, 41]                    |[0.016640297384252687, 0.005192983519589121, 0.004399115570342507, 0.004173716449750638, 0.0038259169100511494, 0.0032835215438443478, 0.0031361135880674613, 0.0031064034229769184, 0.003104755803206016, 0.003103554157890253] |[, httpsifttteavj, usa, httpsiftttkuzqh, police, blog, de, thongtinduan, phongthuy, duan]   |\n",
      "|14   |[3, 279, 170, 2631, 523, 220, 2880, 3324, 4943, 73]      |[0.0010429385529579715, 0.0010158062327663144, 8.139045528310259E-4, 8.071525134963011E-4, 8.041519518664829E-4, 7.947043537070372E-4, 7.801255197522329E-4, 7.80027874729546E-4, 7.772842882349398E-4, 6.267450196294279E-4]    |[trump, stay, week, beginning, voice, reveals, subsequent, units, distant, time]            |\n",
      "|15   |[35, 923, 1081, 681, 59, 239, 408, 965, 1196, 1194]      |[9.347281854164114E-4, 9.242943870328849E-4, 8.310760168882082E-4, 7.503368167521117E-4, 7.48051887421338E-4, 7.299143618390484E-4, 6.935587247094691E-4, 6.88552312050864E-4, 6.82188843463209E-4, 6.750047390404872E-4]        |[day, dame, notre, football, report, use, needs, niece, steve, rebecca]                     |\n",
      "|16   |[363, 779, 179, 575, 904, 703, 1304, 185, 3, 56]         |[8.274093469246386E-4, 6.741688795904225E-4, 6.478292187052926E-4, 6.466871425438093E-4, 6.383073555965491E-4, 6.188413050841933E-4, 6.108289376996646E-4, 5.939743990110389E-4, 5.900531837524861E-4, 5.822421295402629E-4]     |[ahead, bowl, japan, super, nigeria, releases, promises, air, trump, health]                |\n",
      "|17   |[127, 26, 49, 1498, 144, 281, 7, 332, 1170, 417]         |[0.0015554627281467363, 9.659530868561381E-4, 8.157232610556168E-4, 7.613881921708876E-4, 7.470570095989082E-4, 6.690450146752666E-4, 6.672714577870662E-4, 6.639437775481962E-4, 6.407770487094456E-4, 6.353875718531779E-4]    |[say, vaccine, state, republicans, scientists, cuomo, says, final, approval, administration]|\n",
      "|18   |[31, 214, 287, 220, 585, 374, 1972, 571, 744, 4500]      |[0.0010884409917195526, 0.001011112409666667, 9.451628416911038E-4, 8.189263045332175E-4, 7.957886233694183E-4, 6.527092183133478E-4, 6.209434233414815E-4, 6.18609407353863E-4, 6.092064328849172E-4, 6.084577811489174E-4]     |[one, yearold, water, reveals, name, girl, rising, levels, island, dig]                     |\n",
      "|19   |[2, 17, 84, 466, 192, 0, 331, 143, 897, 407]             |[0.004310826694638192, 0.0015469116926863137, 0.001411225168193703, 0.0011827050062710085, 0.001042849849115889, 0.001027673203243101, 0.001026139620211473, 0.0010186614724574366, 0.0010023268925360275, 9.875550091589648E-4] |[new, year, workers, statement, ban, , announces, end, production, forest]                  |\n",
      "+-----+---------------------------------------------------------+---------------------------------------------------------------------------------------------------------------------------------------------------------------------------------------------------------------------------------+--------------------------------------------------------------------------------------------+\n",
      "\n"
     ]
    }
   ],
   "source": [
    "ldatopics_mapped.show(truncate=False)"
   ]
  },
  {
   "cell_type": "code",
   "execution_count": 210,
   "metadata": {},
   "outputs": [],
   "source": [
    "# Use the model to allocate topic weightings for each title\n",
    "indiv = model.transform(basics)"
   ]
  },
  {
   "cell_type": "code",
   "execution_count": 211,
   "metadata": {},
   "outputs": [
    {
     "name": "stdout",
     "output_type": "stream",
     "text": [
      "+----------------------------------------------------------------------------------------------------+------+----------------------------------------------------------------------------------------------------+\n",
      "|                                                                                             vectors|    id|                                                                                   topicDistribution|\n",
      "+----------------------------------------------------------------------------------------------------+------+----------------------------------------------------------------------------------------------------+\n",
      "|(6178,[0,29,39,41,43,44,45,46,47,50,51,53,54,293,434,572,655,668,695,1034,1185,1296,1417,1688,171...|mhlgtj|[0.0016162722546917453,0.002009110673516834,0.0016065295844630877,0.0016167244349579635,0.0016738...|\n",
      "|                    (6178,[28,30,68,103,196,252,270,768,1374],[1.0,1.0,1.0,1.0,1.0,1.0,1.0,1.0,1.0])|mhlu2w|[0.004700873924317509,0.005843432928403815,0.004672537693135672,0.004702189075609396,0.0048682762...|\n",
      "|(6178,[1,18,65,72,88,116,142,241,347,393,1998,3779,4151,4566,6167],[1.0,1.0,1.0,1.0,1.0,1.0,1.0,1...|fsq0qp|[0.0027601554269735076,0.618312455363522,0.0027435175822470613,0.0027609276298051705,0.1371900290...|\n",
      "|                                      (6178,[494,575,4573,5524,5681,5888],[1.0,1.0,1.0,1.0,1.0,1.0])|fblzl5|[0.006728383856397052,0.008363733133621234,0.00668782606775,0.0067302662434377165,0.0069679876412...|\n",
      "|(6178,[76,102,104,133,315,328,443,471,503,535,634,694,739,772,1075,1077,1248,2101,2337,2577,2707,...|lw5pgd|[0.001953619228807902,0.44170204879455766,0.0019418430766785393,0.001954165790228597,0.0020231893...|\n",
      "|                                (6178,[77,127,441,917,3461,4118,4203],[1.0,1.0,1.0,1.0,1.0,1.0,1.0])|i1irvy|[0.0058826458787779225,0.00731243832452216,0.005847186088497105,0.005884291653124887,0.0060921321...|\n",
      "|                                      (6178,[1,32,68,128,200,237,327],[1.0,1.0,1.0,1.0,1.0,1.0,1.0])|i1j4bz|[0.005882645852495309,0.8871917543962123,0.005847186059872675,0.005884291629741994,0.006092132133...|\n",
      "|                                                                        (6178,[2027,6137],[1.0,1.0])|j2zl8e|[0.015834218041892258,0.6963559562507919,0.01573877157844134,0.015838648001600147,0.0163980889327...|\n",
      "|       (6178,[0,102,139,174,767,1008,1103,1334,2832,5469],[1.0,1.0,1.0,1.0,1.0,1.0,1.0,1.0,1.0,1.0])|ika9mn|[0.004271791236601736,0.005310059490775279,0.004246041458092519,0.004272986344887615,0.0044239135...|\n",
      "|(6178,[0,524,763,818,1093,1145,1552,1823,2060,2369,3451,3851,4050,4279,4668],[1.0,1.0,3.0,1.0,1.0...|ikahqt|[0.0023452116883963914,0.955027172688725,0.0023310750702151364,0.0023458678026595805,0.0024287267...|\n",
      "|(6178,[0,37,59,137,139,222,326,416,418,541,589,646,767,788,856,940,949,1109,1204,1328,1655,1791,2...|guairn|[0.0016162722548713271,0.0020091107707307446,0.0016065295848101803,0.0016167244352962395,0.001673...|\n",
      "|                              (6178,[10,967,1053,1406,1918,2310,3087],[1.0,1.0,1.0,1.0,1.0,1.0,1.0])|gub860|[0.005882645854475282,0.8871917543187888,0.005847186061921114,0.005884291627311623,0.006092132329...|\n",
      "|                                      (6178,[2,5,26,160,344,471,2228],[1.0,1.0,1.0,1.0,1.0,1.0,1.0])|ko1gqr|[0.00588264585878824,0.7226641135344943,0.005847186065711712,0.005884291633981583,0.0060921321277...|\n",
      "|                                (6178,[0,249,727,1011,1174,1623,2256],[2.0,1.0,1.0,1.0,1.0,1.0,1.0])|ko2er6|[0.005225780694877801,0.8997880933832304,0.005194280395484041,0.005227242708651587,0.005411875432...|\n",
      "|                   (6178,[207,1306,1770,2094,2198,2813,3427,5088],[1.0,1.0,1.0,1.0,1.0,1.0,1.0,1.0])|hj0m6r|[0.005225780709738,0.5010203802946338,0.005194280397730656,0.005227242703081723,0.005411875442078...|\n",
      "|                       (6178,[19,94,294,1283,4439,4840,5553,5852],[1.0,1.0,1.0,1.0,1.0,1.0,1.0,1.0])|hj0ust|[0.005225780659552027,0.00649591772431305,0.0051942803621834325,0.005227242662731684,0.8987040526...|\n",
      "|                                                                                 (6178,[3297],[1.0])|gb836t|[0.023930926446485323,0.02974739135690396,0.023786674081379154,0.023937621446576678,0.53612559617...|\n",
      "|(6178,[7,30,65,750,1000,1376,1382,1500,2225,2281,3613],[1.0,1.0,1.0,1.0,1.0,1.0,1.0,1.0,1.0,1.0,1...|gb99ca|[0.0039144877036673045,0.004865913001401747,0.0038908917025180967,0.003915582849366117,0.36828443...|\n",
      "|(6178,[3,4,7,90,109,123,137,170,187,217,396,1336,2200,2222,2291,5100,5893,6087],[1.0,2.0,1.0,1.0,...|fspfao|[0.0021315798383489837,0.9591238720415635,0.0021187309617420264,0.0021321761841652668,0.002207487...|\n",
      "|(6178,[0,16,31,89,189,236,287,410,571,649,758,835,896,1041,1312,1537,1591,1637,1733,1972,2036,204...|fbmary|[0.0013782746184594304,0.03371690036817809,0.0013699665647309745,0.0013786602137031243,0.00142735...|\n",
      "+----------------------------------------------------------------------------------------------------+------+----------------------------------------------------------------------------------------------------+\n",
      "only showing top 20 rows\n",
      "\n"
     ]
    }
   ],
   "source": [
    "indiv.show(truncate = 100)"
   ]
  },
  {
   "cell_type": "code",
   "execution_count": null,
   "metadata": {},
   "outputs": [],
   "source": []
  },
  {
   "cell_type": "markdown",
   "metadata": {},
   "source": [
    "## Build features and target dataset"
   ]
  },
  {
   "cell_type": "code",
   "execution_count": null,
   "metadata": {},
   "outputs": [],
   "source": [
    "# convert epoch time into datetime, but keep epoch time as id"
   ]
  },
  {
   "cell_type": "code",
   "execution_count": 212,
   "metadata": {},
   "outputs": [],
   "source": [
    "df= df.withColumn('timestamp', from_unixtime(df.created_utc,'yyyy-MM-dd HH:mm:ss')) "
   ]
  },
  {
   "cell_type": "code",
   "execution_count": 213,
   "metadata": {},
   "outputs": [],
   "source": [
    "df = df.withColumn(\"hour\", hour(col(\"timestamp\"))).withColumn(\"day\", dayofweek(col(\"timestamp\")))\n",
    "df = df.withColumn(\"hour\", F.col(\"hour\").astype(StringType())).withColumn(\"day\", F.col(\"day\").astype(StringType()))"
   ]
  },
  {
   "cell_type": "code",
   "execution_count": 214,
   "metadata": {},
   "outputs": [
    {
     "name": "stdout",
     "output_type": "stream",
     "text": [
      "+------+--------------------+--------------------+------------+-----------+-------+------------+-------------------+----+---+\n",
      "|    id|               title|              domain|subreddit_id|created_utc|link_id|num_comments|          timestamp|hour|day|\n",
      "+------+--------------------+--------------------+------------+-----------+-------+------------+-------------------+----+---+\n",
      "|mhlgtj|Cn h bin s hu lu ...|      solifeland.com|    t5_2qh13| 1617243528|   null|           0|2021-04-01 02:18:48|   2|  5|\n",
      "|mhlu2w|Reports that mult...|         twitter.com|    t5_2qh13| 1617244881|   null|           0|2021-04-01 02:41:21|   2|  5|\n",
      "|fsq0qp|Russia sent Italy...| businessinsider.com|    t5_2qh13| 1585704991|   null|           0|2020-04-01 01:36:31|   1|  4|\n",
      "|fblzl5|Ganbare Super Str...|   24hrnewsworld.com|    t5_2qh13| 1583022931|   null|           0|2020-03-01 00:35:31|   0|  1|\n",
      "|lw5pgd|We attack Indones...|   news.mongabay.com|    t5_2qh13| 1614701722|   null|           0|2021-03-02 16:15:22|  16|  3|\n",
      "|i1irvy|Wigan residents s...|    thecanadian.news|    t5_2qh13| 1596241147|   null|           0|2020-08-01 00:19:07|   0|  7|\n",
      "|i1j4bz|WHO reports recor...|         reuters.com|    t5_2qh13| 1596242537|   null|           0|2020-08-01 00:42:17|   0|  7|\n",
      "|j2zl8e|Depression In Youths|hitechethics.blog...|    t5_2qh13| 1601517487|   null|           0|2020-10-01 01:58:07|   1|  5|\n",
      "|ika9mn|A memorial for  m...|        france24.com|    t5_2qh13| 1598920598|   null|           0|2020-09-01 00:36:38|   0|  3|\n",
      "|ikahqt|FT Racing Wheel  ...|       worldnewj.com|    t5_2qh13| 1598921486|   null|           0|2020-09-01 00:51:26|   0|  3|\n",
      "|guairn|Three decades of ...|     theguardian.com|    t5_2qh13| 1590971703|   null|           0|2020-06-01 00:35:03|   0|  2|\n",
      "|gub860|Liverpool could w...|    newslodge.com.ng|    t5_2qh13| 1590974416|   null|           0|2020-06-01 01:20:16|   1|  2|\n",
      "|ko1gqr|New York has admi...|           bluzz.org|    t5_2qh13| 1609460795|   null|           0|2021-01-01 00:26:35|   0|  6|\n",
      "|ko2er6|Here Are  Famous ...|           bluzz.org|    t5_2qh13| 1609464389|   null|           0|2021-01-01 01:26:29|   1|  6|\n",
      "|hj0m6r|Second hand ships...|    newslodge.com.ng|    t5_2qh13| 1593566423|   null|           0|2020-07-01 01:20:23|   1|  4|\n",
      "|hj0ust|Man shot by far l...|            kjzz.com|    t5_2qh13| 1593567372|   null|           0|2020-07-01 01:36:12|   1|  4|\n",
      "|gb836t|  Fincantieri       |       udefense.info|    t5_2qh13| 1588293335|   null|           0|2020-05-01 00:35:35|   0|  6|\n",
      "|gb99ca|Pope Pius XII acc...|  washingtonpost.com|    t5_2qh13| 1588297879|   null|           0|2020-05-01 01:51:19|   1|  6|\n",
      "|fspfao|US will run out o...|     theguardian.com|    t5_2qh13| 1585702751|   null|           0|2020-04-01 00:59:11|   0|  4|\n",
      "|fbmary|Experts warn Aust...|            phys.org|    t5_2qh13| 1583024348|   null|           0|2020-03-01 00:59:08|   0|  1|\n",
      "+------+--------------------+--------------------+------------+-----------+-------+------------+-------------------+----+---+\n",
      "only showing top 20 rows\n",
      "\n"
     ]
    }
   ],
   "source": [
    "df.show()"
   ]
  },
  {
   "cell_type": "code",
   "execution_count": 215,
   "metadata": {},
   "outputs": [
    {
     "name": "stdout",
     "output_type": "stream",
     "text": [
      "root\n",
      " |-- id: string (nullable = true)\n",
      " |-- title: string (nullable = true)\n",
      " |-- domain: string (nullable = true)\n",
      " |-- subreddit_id: string (nullable = true)\n",
      " |-- created_utc: string (nullable = true)\n",
      " |-- link_id: string (nullable = true)\n",
      " |-- num_comments: long (nullable = true)\n",
      " |-- timestamp: string (nullable = true)\n",
      " |-- hour: string (nullable = true)\n",
      " |-- day: string (nullable = true)\n",
      "\n"
     ]
    }
   ],
   "source": [
    "df.printSchema()"
   ]
  },
  {
   "cell_type": "code",
   "execution_count": 221,
   "metadata": {},
   "outputs": [],
   "source": [
    "# Create features df by combining topic distributions for each title, with the other features of domain, hour and day\n",
    "temp = indiv.select('topicDistribution')\n",
    "# And a list of sequential column titles\n",
    "X_titles = [f'T_{i}' for i in range(1, num_topics +1)]\n",
    "X_titles = ['id'] + X_titles # adding the id at start"
   ]
  },
  {
   "cell_type": "code",
   "execution_count": 222,
   "metadata": {},
   "outputs": [
    {
     "name": "stdout",
     "output_type": "stream",
     "text": [
      "+------+---------------------+---------------------+---------------------+---------------------+---------------------+---------------------+---------------------+---------------------+---------------------+---------------------+---------------------+---------------------+---------------------+---------------------+---------------------+---------------------+---------------------+---------------------+---------------------+---------------------+\n",
      "|    id|                  T_1|                  T_2|                  T_3|                  T_4|                  T_5|                  T_6|                  T_7|                  T_8|                  T_9|                 T_10|                 T_11|                 T_12|                 T_13|                 T_14|                 T_15|                 T_16|                 T_17|                 T_18|                 T_19|                 T_20|\n",
      "+------+---------------------+---------------------+---------------------+---------------------+---------------------+---------------------+---------------------+---------------------+---------------------+---------------------+---------------------+---------------------+---------------------+---------------------+---------------------+---------------------+---------------------+---------------------+---------------------+---------------------+\n",
      "|mhlgtj|0.0016162722546917453| 0.002009110673516834|0.0016065295844630877|0.0016167244349579635| 0.001673829150588589| 0.001601691615142411|0.0016369830910608393|0.0016196696117977505|0.0016280929965089075|0.0016015539773831335|0.0015999456621034547|0.0016371207768200054|0.0016025170507806613|   0.9688661885565789|0.0016064059928532761| 0.001612702939744162|0.0016135076086626475|0.0016085052829263393|0.0016124725486549643|0.0016301761907643387|\n",
      "|mhlu2w| 0.004700873924317509| 0.005843432928403815| 0.004672537693135672| 0.004702189075609396|0.0048682762559840425| 0.004658466620102723| 0.004761110701521821| 0.004710755024193071| 0.004735254157390825|  0.00465806630627727| 0.004653388573478444|0.0047615111550328455| 0.004660867372442911|   0.9094483466293501|0.0046721782307767796| 0.004690492691322916| 0.004692833043462188| 0.004678283946381718|0.0046898226064639465| 0.004741313064352037|\n",
      "|fsq0qp|0.0027601554269735076|    0.618312455363522|0.0027435175822470613|0.0027609276298051705|  0.13719002905734576| 0.002735255640150539|0.0027955239322245188| 0.002765957202236889|0.0027803420535117158| 0.002735020591802046|  0.00273227402493979|0.0027957590596275313|0.0027366652604299125|    0.197618858797901|0.0027433065210271516|0.0027540600057137047| 0.002755434159302441|0.0027468915444855066| 0.002753666556799524| 0.002783899589954427|\n",
      "|fblzl5| 0.006728383856397052| 0.008363733133621234|     0.00668782606775|0.0067302662434377165|0.0069679876412018305| 0.006667686073235191| 0.006814601066089797| 0.006742526728089611| 0.006777592479480486|0.0066671130975399975| 0.006660417840090272|0.0068151742380799215|  0.00667112227777557| 0.007783205186178682| 0.006687311571292268| 0.006713525160442901|    0.869326645980995| 0.006696050707768793| 0.006712566047153859| 0.006786264603379891|\n",
      "|lw5pgd| 0.001953619228807902|  0.44170204879455766|0.0019418430766785393| 0.001954165790228597| 0.002023189364242239| 0.001935995328546984| 0.001978652815945692| 0.001957725679427356| 0.001967907188257327|0.0019358289637120567| 0.001933884961516976|0.0019788192478622556| 0.001936993050601904|  0.23849444290254415|0.0019416936868518256|0.0019493049284603665|0.0019502775476652984|0.0019442311401206833|0.0019490264510279446|  0.28657034985294416|\n",
      "|i1irvy|0.0058826458787779225|  0.00731243832452216| 0.005847186088497105| 0.005884291653124887| 0.006092132168191025|0.0058295776268816645| 0.005958025831669338| 0.005895011029390117| 0.005925669103996277| 0.005829076671344824| 0.005823222999727723| 0.005958526964182125| 0.005832581909604178| 0.006804879779295676| 0.005846736254046132| 0.005869654867179683| 0.005872583564406945|   0.8857336917952969| 0.005868816317889839| 0.005933251171975425|\n",
      "|i1j4bz| 0.005882645852495309|   0.8871917543962123| 0.005847186059872675| 0.005884291629741994| 0.006092132133110338| 0.005829577603034046|0.0059580257993598435| 0.005895011002156934| 0.005925669076630542|0.0058290766515663945| 0.005823222965281752|  0.00595852692473645| 0.005832581889671221|0.0068048790429274236| 0.005846736231681406| 0.005869654839083941| 0.005872583541966287| 0.005854376887557953| 0.005868816297803584| 0.005933251175109694|\n",
      "|j2zl8e| 0.015834218041892258|   0.6963559562507919|  0.01573877157844134| 0.015838648001600147| 0.016398088932764718| 0.015691375116637964|  0.01603711704264105| 0.015867501210036647| 0.015950022964817775|  0.01569002676555001|  0.01567427045189813|  0.01603846591642351| 0.015699461743236925|  0.01831657948545701| 0.015737560736993568|  0.01579925043624228|  0.01580713353509192| 0.015758126940131185| 0.015796993309728783|   0.0159704315396231|\n",
      "|ika9mn| 0.004271791236601736| 0.005310059490775279| 0.004246041458092519| 0.004272986344887615| 0.004423913531715139| 0.004233254754087322| 0.004326529768825456|0.0042807704175462785|0.0043030333413091575|0.0042328909789153156| 0.004228640217587746|0.0043268936734281085| 0.004235436372017064|   0.9177136506668373|0.0042457148066018914|    0.004262357575306| 0.004264484305076318| 0.004251263208620348| 0.004261748651919808| 0.004308539199849582|\n",
      "|ikahqt|0.0023452116883963914|    0.955027172688725|0.0023310750702151364|0.0023458678026595805|0.0024287267710391934|0.0023240551744470165|0.0023752631220634547| 0.002350141255116485| 0.002362363592045086|0.0023238554624527737|0.0023215217956666827| 0.002375462903263496|0.0023252528820614203| 0.002712874799442104|0.0023308957383411776|0.0023400326361970743|0.0023412001862526334|0.0023339418098562432|0.0023396983136246365| 0.002365386308134425|\n",
      "|guairn|0.0016162722548713271|0.0020091107707307446|0.0016065295848101803|0.0016167244352962395|0.0016738291516442349|0.0016016916153266919|0.0016369830915316838|0.0016196696123439486|0.0016280929968232095|0.0016015539777025376| 0.001599945662277207| 0.001637120777288433|0.0016025170510297383|   0.9688661884515161|0.0016064059932148617| 0.001612702941307835|0.0016135076091439262|0.0016085052830983589|0.0016124725488085533|0.0016301761912341929|\n",
      "|gub860| 0.005882645854475282|   0.8871917543187888| 0.005847186061921114| 0.005884291627311623|  0.00609213232998495| 0.005829577604996329| 0.005958025802684375| 0.005895011005282601| 0.005925669074300789|0.0058290766534119754| 0.005823222967695221|0.0059585269274999575|  0.00583258189273633| 0.006804878925050402| 0.005846736233278033|0.0058696548406212265|0.0058725835440508155| 0.005854376888932006| 0.005868816298524655| 0.005933251148453632|\n",
      "|ko1gqr|  0.00588264585878824|   0.7226641135344943| 0.005847186065711712| 0.005884291633981583| 0.006092132127712378| 0.005829577607429225| 0.005958025812477367| 0.005895011007436879|0.0059256690783228766| 0.005829076655803881| 0.005823222971173962|0.0059585269329779185| 0.005832581895706414| 0.006804879434316156| 0.005846736234674753| 0.005869654846042567| 0.005872583545262049| 0.005854376896083536|0.0058688163059794785|  0.17046089155562466|\n",
      "|ko2er6| 0.005225780694877801|   0.8997880933832304| 0.005194280395484041| 0.005227242708651587| 0.005411875432132599| 0.005178638130585442| 0.005292743616583888| 0.005236765138206071| 0.005263999890999559| 0.005178193114958917| 0.005172993055288745| 0.005293188793233537| 0.005181306954139163|0.0060450366329737205|  0.00519388079893969| 0.005214240282671668| 0.005216841961845721|0.0052006682857742995| 0.005213495375707722| 0.005270735353715062|\n",
      "|hj0m6r|    0.005225780709738|   0.5010203802946338| 0.005194280397730656| 0.005227242703081723| 0.005411875442078887| 0.005178638128691045| 0.005292743613465981| 0.005236765139428741| 0.005263999895932623| 0.005178193114115212| 0.005172993061775587|0.0052931887936180045| 0.005181306957174769|   0.4048127497051485| 0.005193880797858011| 0.005214240282098661| 0.005216841963353674| 0.005200668283769169| 0.005213495373549843|0.0052707353427570835|\n",
      "|hj0ust| 0.005225780659552027|  0.00649591772431305|0.0051942803621834325| 0.005227242662731684|   0.8987040526366696| 0.005178638092459216| 0.005292743566316588| 0.005236765098082371| 0.005263999841726332| 0.005178193077926932| 0.005172993023690536|0.0052931887359145115| 0.005181306915786737| 0.006045035801483774|0.0051938807615743085| 0.005214240242771927| 0.005216841922147174| 0.005200668251580856|0.0052134953341205865| 0.005270735288968229|\n",
      "|gb836t| 0.023930926446485323|  0.02974739135690396| 0.023786674081379154| 0.023937621446576678|   0.5361255961721582| 0.023715041914302848| 0.024237576185626726|  0.02398122856032468| 0.024105947287115227|  0.02371300397051698| 0.023689190793048723| 0.024239614887202453| 0.023727263406636254| 0.027682623651431256|   0.0237848440561239|  0.02387807819900563|   0.0238899923581719|  0.02381592666920734|  0.02387466708033708|  0.02413679147744559|\n",
      "|gb99ca|0.0039144877036673045| 0.004865913001401747|0.0038908917025180967| 0.003915582849366117|   0.3682844347663307| 0.003879174509589147| 0.003964647773071056| 0.003922715842106165| 0.003943116636992704| 0.003878841161973092|0.0038749459447037222|0.0039649812338616265|0.0038811736503390217|   0.5603657420402693|0.0038905923730232017|0.0039058430959782735| 0.003907791942666997| 0.003895676692720419|0.0039052851056389083|0.0039481619737821915|\n",
      "|fspfao|0.0021315798383489837|   0.9591238720415635|0.0021187309617420264|0.0021321761841652668| 0.002207487305976075|0.0021123505273345465| 0.002158893809313264|  0.00213606035612752| 0.002147169328757234|   0.0021121690097943| 0.002110047921191701|0.0021590753879462965| 0.002113439134067052|0.0024657519826353073| 0.002118567971430558|0.0021268725378035423| 0.002127933752433665|0.0021213365623039076|0.0021265686893152252|0.0021499166977501857|\n",
      "|fbmary|0.0013782746184594304|  0.03371690036817809|0.0013699665647309745|0.0013786602137031243|0.0014273562086341341|0.0013658409909012182|0.0013959357634159176|0.0013811717103614102|0.0013883547444130204|0.0013657236204233133|  0.00136435213109888|0.0013960531747954387|0.0013665448803646366|  0.00159434931688015|0.0013698611719653625|0.0013752308875310112|0.0013759170684011315| 0.001371651339564379|   0.9412277240400827|0.0013901311860955831|\n",
      "+------+---------------------+---------------------+---------------------+---------------------+---------------------+---------------------+---------------------+---------------------+---------------------+---------------------+---------------------+---------------------+---------------------+---------------------+---------------------+---------------------+---------------------+---------------------+---------------------+---------------------+\n",
      "only showing top 20 rows\n",
      "\n"
     ]
    }
   ],
   "source": [
    "temp = indiv.withColumn(\"T_\", vector_to_array(\"topicDistribution\")).select([\"id\"] + [col(\"T_\")[i] for i in range(20)]).drop('vectors', 'topicDistribution')\n",
    "temp = temp.toDF(*X_titles)\n",
    "temp.show(truncate =100)"
   ]
  },
  {
   "cell_type": "code",
   "execution_count": 223,
   "metadata": {},
   "outputs": [],
   "source": [
    "rf_full = temp.join(df, on = 'id', how= 'left').drop('id','subreddit_id','title','timestamp','created_utc','link_id')"
   ]
  },
  {
   "cell_type": "code",
   "execution_count": 224,
   "metadata": {},
   "outputs": [
    {
     "name": "stdout",
     "output_type": "stream",
     "text": [
      "root\n",
      " |-- T_1: double (nullable = true)\n",
      " |-- T_2: double (nullable = true)\n",
      " |-- T_3: double (nullable = true)\n",
      " |-- T_4: double (nullable = true)\n",
      " |-- T_5: double (nullable = true)\n",
      " |-- T_6: double (nullable = true)\n",
      " |-- T_7: double (nullable = true)\n",
      " |-- T_8: double (nullable = true)\n",
      " |-- T_9: double (nullable = true)\n",
      " |-- T_10: double (nullable = true)\n",
      " |-- T_11: double (nullable = true)\n",
      " |-- T_12: double (nullable = true)\n",
      " |-- T_13: double (nullable = true)\n",
      " |-- T_14: double (nullable = true)\n",
      " |-- T_15: double (nullable = true)\n",
      " |-- T_16: double (nullable = true)\n",
      " |-- T_17: double (nullable = true)\n",
      " |-- T_18: double (nullable = true)\n",
      " |-- T_19: double (nullable = true)\n",
      " |-- T_20: double (nullable = true)\n",
      " |-- domain: string (nullable = true)\n",
      " |-- num_comments: long (nullable = true)\n",
      " |-- hour: string (nullable = true)\n",
      " |-- day: string (nullable = true)\n",
      "\n"
     ]
    }
   ],
   "source": [
    "rf_full.printSchema()"
   ]
  },
  {
   "cell_type": "code",
   "execution_count": 225,
   "metadata": {},
   "outputs": [
    {
     "data": {
      "text/plain": [
       "1700"
      ]
     },
     "execution_count": 225,
     "metadata": {},
     "output_type": "execute_result"
    }
   ],
   "source": [
    "rf_full.count()"
   ]
  },
  {
   "cell_type": "code",
   "execution_count": 226,
   "metadata": {},
   "outputs": [
    {
     "name": "stdout",
     "output_type": "stream",
     "text": [
      "+---------------------+--------------------+---------------------+---------------------+---------------------+---------------------+---------------------+---------------------+---------------------+---------------------+---------------------+---------------------+---------------------+---------------------+---------------------+---------------------+---------------------+---------------------+---------------------+---------------------+-------------------------+----+---+--------------+\n",
      "|                  T_1|                 T_2|                  T_3|                  T_4|                  T_5|                  T_6|                  T_7|                  T_8|                  T_9|                 T_10|                 T_11|                 T_12|                 T_13|                 T_14|                 T_15|                 T_16|                 T_17|                 T_18|                 T_19|                 T_20|                   domain|hour|day|group_comments|\n",
      "+---------------------+--------------------+---------------------+---------------------+---------------------+---------------------+---------------------+---------------------+---------------------+---------------------+---------------------+---------------------+---------------------+---------------------+---------------------+---------------------+---------------------+---------------------+---------------------+---------------------+-------------------------+----+---+--------------+\n",
      "|0.0016162722546917453|0.002009110673516834|0.0016065295844630877|0.0016167244349579635| 0.001673829150588589| 0.001601691615142411|0.0016369830910608393|0.0016196696117977505|0.0016280929965089075|0.0016015539773831335|0.0015999456621034547|0.0016371207768200054|0.0016025170507806613|   0.9688661885565789|0.0016064059928532761| 0.001612702939744162|0.0016135076086626475|0.0016085052829263393|0.0016124725486549643|0.0016301761907643387|           solifeland.com|   2|  5|           0.0|\n",
      "| 0.004700873924317509|0.005843432928403815| 0.004672537693135672| 0.004702189075609396|0.0048682762559840425| 0.004658466620102723| 0.004761110701521821| 0.004710755024193071| 0.004735254157390825|  0.00465806630627727| 0.004653388573478444|0.0047615111550328455| 0.004660867372442911|   0.9094483466293501|0.0046721782307767796| 0.004690492691322916| 0.004692833043462188| 0.004678283946381718|0.0046898226064639465| 0.004741313064352037|              twitter.com|   2|  5|           0.0|\n",
      "|0.0027601554269735076|   0.618312455363522|0.0027435175822470613|0.0027609276298051705|  0.13719002905734576| 0.002735255640150539|0.0027955239322245188| 0.002765957202236889|0.0027803420535117158| 0.002735020591802046|  0.00273227402493979|0.0027957590596275313|0.0027366652604299125|    0.197618858797901|0.0027433065210271516|0.0027540600057137047| 0.002755434159302441|0.0027468915444855066| 0.002753666556799524| 0.002783899589954427|      businessinsider.com|   1|  4|           0.0|\n",
      "| 0.006728383856397052|0.008363733133621234|     0.00668782606775|0.0067302662434377165|0.0069679876412018305| 0.006667686073235191| 0.006814601066089797| 0.006742526728089611| 0.006777592479480486|0.0066671130975399975| 0.006660417840090272|0.0068151742380799215|  0.00667112227777557| 0.007783205186178682| 0.006687311571292268| 0.006713525160442901|    0.869326645980995| 0.006696050707768793| 0.006712566047153859| 0.006786264603379891|        24hrnewsworld.com|   0|  1|           0.0|\n",
      "| 0.001953619228807902| 0.44170204879455766|0.0019418430766785393| 0.001954165790228597| 0.002023189364242239| 0.001935995328546984| 0.001978652815945692| 0.001957725679427356| 0.001967907188257327|0.0019358289637120567| 0.001933884961516976|0.0019788192478622556| 0.001936993050601904|  0.23849444290254415|0.0019416936868518256|0.0019493049284603665|0.0019502775476652984|0.0019442311401206833|0.0019490264510279446|  0.28657034985294416|        news.mongabay.com|  16|  3|           0.0|\n",
      "|0.0058826458787779225| 0.00731243832452216| 0.005847186088497105| 0.005884291653124887| 0.006092132168191025|0.0058295776268816645| 0.005958025831669338| 0.005895011029390117| 0.005925669103996277| 0.005829076671344824| 0.005823222999727723| 0.005958526964182125| 0.005832581909604178| 0.006804879779295676| 0.005846736254046132| 0.005869654867179683| 0.005872583564406945|   0.8857336917952969| 0.005868816317889839| 0.005933251171975425|         thecanadian.news|   0|  7|           0.0|\n",
      "| 0.005882645852495309|  0.8871917543962123| 0.005847186059872675| 0.005884291629741994| 0.006092132133110338| 0.005829577603034046|0.0059580257993598435| 0.005895011002156934| 0.005925669076630542|0.0058290766515663945| 0.005823222965281752|  0.00595852692473645| 0.005832581889671221|0.0068048790429274236| 0.005846736231681406| 0.005869654839083941| 0.005872583541966287| 0.005854376887557953| 0.005868816297803584| 0.005933251175109694|              reuters.com|   0|  7|           0.0|\n",
      "| 0.015834218041892258|  0.6963559562507919|  0.01573877157844134| 0.015838648001600147| 0.016398088932764718| 0.015691375116637964|  0.01603711704264105| 0.015867501210036647| 0.015950022964817775|  0.01569002676555001|  0.01567427045189813|  0.01603846591642351| 0.015699461743236925|  0.01831657948545701| 0.015737560736993568|  0.01579925043624228|  0.01580713353509192| 0.015758126940131185| 0.015796993309728783|   0.0159704315396231|hitechethics.blogspot.com|   1|  5|           0.0|\n",
      "+---------------------+--------------------+---------------------+---------------------+---------------------+---------------------+---------------------+---------------------+---------------------+---------------------+---------------------+---------------------+---------------------+---------------------+---------------------+---------------------+---------------------+---------------------+---------------------+---------------------+-------------------------+----+---+--------------+\n",
      "only showing top 8 rows\n",
      "\n"
     ]
    }
   ],
   "source": [
    "# Convert the number of comments into numerical and create a grouped categorical\n",
    "rf_full = rf_full.withColumn(\"num_comments\", F.col(\"num_comments\").astype(IntegerType()))\n",
    "bucketizer = Bucketizer(splitsArray=[[0,1,2,float(\"inf\")]],inputCols=[\"num_comments\"], outputCols=[\"group_comments\"])\n",
    "rf_full = bucketizer.setHandleInvalid(\"keep\").transform(rf_full)\n",
    "rf_full = rf_full.drop('num_comments')\n",
    "rf_full.show(8, truncate=100)"
   ]
  },
  {
   "cell_type": "code",
   "execution_count": null,
   "metadata": {},
   "outputs": [],
   "source": []
  },
  {
   "cell_type": "code",
   "execution_count": null,
   "metadata": {},
   "outputs": [],
   "source": []
  },
  {
   "cell_type": "markdown",
   "metadata": {},
   "source": [
    "## Now build the ML model"
   ]
  },
  {
   "cell_type": "code",
   "execution_count": 71,
   "metadata": {},
   "outputs": [],
   "source": [
    "from pyspark.ml import Pipeline, PipelineModel\n",
    "from pyspark.ml.classification import GBTClassifier, RandomForestClassifier\n",
    "from pyspark.ml.evaluation import MulticlassClassificationEvaluator\n",
    "from pyspark.mllib.evaluation import MulticlassMetrics"
   ]
  },
  {
   "cell_type": "code",
   "execution_count": 54,
   "metadata": {},
   "outputs": [],
   "source": [
    "# Need to one-hot-encode the domain, hour and day columns as they are categorical\n",
    "#Create variable for all categorical columns\n",
    "cat_cols = ['domain','hour','day']\n",
    "# Look at indexing and one-hot-encoding results for categoricals\n",
    "for cat_col in cat_cols:\n",
    "    col_indexer = StringIndexer(inputCol=cat_col, outputCol=f\"{cat_col}_ind\")\n",
    "    col_encoder = OneHotEncoder(inputCols=[f\"{cat_col}_ind\"], outputCols=[f\"{cat_col}_ohe\"])"
   ]
  },
  {
   "cell_type": "code",
   "execution_count": 55,
   "metadata": {},
   "outputs": [],
   "source": [
    "#Create and empty list and put the string indexed and one-hot-encoded transformations into it\n",
    "stages = []\n",
    "for cat_col in cat_cols:\n",
    "    col_indexer = StringIndexer(inputCol=cat_col, outputCol=f\"{cat_col}_ind\",handleInvalid='skip')\n",
    "    col_encoder = OneHotEncoder(inputCols=[f\"{cat_col}_ind\"], outputCols=[f\"{cat_col}_ohe\"])\n",
    "    stages += [col_indexer, col_encoder]"
   ]
  },
  {
   "cell_type": "code",
   "execution_count": 56,
   "metadata": {},
   "outputs": [],
   "source": [
    "# Split data into train and test sets\n",
    "train, test = rf_full.randomSplit([0.8, 0.2], seed=42)\n",
    "# Seperate out the features from the data\n",
    "X = rf_full.drop('group_comments')\n",
    "y= rf_full.select('group_comments')\n",
    "# make list of numeric columns (here that is all columns in features not categorical)\n",
    "features_cols = X.columns\n",
    "num_cols = [x for x in features_cols if x not in cat_cols]"
   ]
  },
  {
   "cell_type": "code",
   "execution_count": 57,
   "metadata": {},
   "outputs": [],
   "source": [
    "# Change title of one not encoded categoricals\n",
    "cat_cols_ohe = [f\"{cat_col}_ohe\" for cat_col in cat_cols]"
   ]
  },
  {
   "cell_type": "code",
   "execution_count": 58,
   "metadata": {},
   "outputs": [],
   "source": [
    "# Build all features into one vetor\n",
    "assembler = VectorAssembler(inputCols=cat_cols_ohe + num_cols, outputCol=\"features\")\n",
    "stages += [assembler]"
   ]
  },
  {
   "cell_type": "code",
   "execution_count": 59,
   "metadata": {},
   "outputs": [],
   "source": [
    "#specify the model core and target variable\n",
    "rf = RandomForestClassifier(labelCol=\"group_comments\",featuresCol=\"features\")\n",
    "stages += [rf]"
   ]
  },
  {
   "cell_type": "code",
   "execution_count": 60,
   "metadata": {},
   "outputs": [],
   "source": [
    "# Populate the pipeline\n",
    "pipeline = Pipeline(stages=stages)"
   ]
  },
  {
   "cell_type": "code",
   "execution_count": 61,
   "metadata": {},
   "outputs": [
    {
     "name": "stdout",
     "output_type": "stream",
     "text": [
      "Time elapsed (hh:mm:ss.ms) 0:00:08.346667\n"
     ]
    }
   ],
   "source": [
    "# FIT MODEL TO TRAINING SET VIA PIPELINE\n",
    "from datetime import datetime \n",
    "start_time = datetime.now() \n",
    "\n",
    "pipeline_model = pipeline.fit(train)\n",
    "\n",
    "print('Time elapsed (hh:mm:ss.ms) {}'.format(datetime.now() - start_time))"
   ]
  },
  {
   "cell_type": "code",
   "execution_count": 62,
   "metadata": {},
   "outputs": [],
   "source": [
    "#Save the model for later use\n",
    "pipeline_model.save('rfC_model')"
   ]
  },
  {
   "cell_type": "code",
   "execution_count": 63,
   "metadata": {},
   "outputs": [],
   "source": [
    "test_preds = pipeline_model.transform(test)"
   ]
  },
  {
   "cell_type": "code",
   "execution_count": 65,
   "metadata": {},
   "outputs": [
    {
     "name": "stdout",
     "output_type": "stream",
     "text": [
      "Test Error = 0.672913\n"
     ]
    }
   ],
   "source": [
    "evaluator = MulticlassClassificationEvaluator(labelCol=rf.getLabelCol(), predictionCol=rf.getPredictionCol(), metricName=\"accuracy\")\n",
    "accuracy = evaluator.evaluate(test_preds)\n",
    "print(\"Test Error = %g\" % (1.0 - accuracy))"
   ]
  },
  {
   "cell_type": "code",
   "execution_count": 67,
   "metadata": {},
   "outputs": [
    {
     "name": "stdout",
     "output_type": "stream",
     "text": [
      "+--------------------+--------------------+--------------------+--------------------+--------------------+--------------------+--------------------+--------------------+--------------------+--------------------+--------------------+--------------------+--------------------+--------------------+--------------------+--------------------+--------------------+--------------------+--------------------+--------------------+---------+----+---+--------------+----------+-------------+--------+---------------+-------+-------------+--------------------+--------------------+--------------------+----------+\n",
      "|                 T_1|                 T_2|                 T_3|                 T_4|                 T_5|                 T_6|                 T_7|                 T_8|                 T_9|                T_10|                T_11|                T_12|                T_13|                T_14|                T_15|                T_16|                T_17|                T_18|                T_19|                T_20|   domain|hour|day|group_comments|domain_ind|   domain_ohe|hour_ind|       hour_ohe|day_ind|      day_ohe|            features|       rawPrediction|         probability|prediction|\n",
      "+--------------------+--------------------+--------------------+--------------------+--------------------+--------------------+--------------------+--------------------+--------------------+--------------------+--------------------+--------------------+--------------------+--------------------+--------------------+--------------------+--------------------+--------------------+--------------------+--------------------+---------+----+---+--------------+----------+-------------+--------+---------------+-------+-------------+--------------------+--------------------+--------------------+----------+\n",
      "|0.004284106138880148|0.004384726146901089|0.004242613282858...|0.004274446553013...|0.004975957814085437|0.004355985626636512|0.004244559132812318|0.004240908525109452|0.004492826567944...|0.004253884853721...|0.004699724878748865|0.004244452309397032|0.004357627632119423|0.004256775000969...|  0.9171452823367701|0.004271348956269539|0.004285673725408949|0.004244057780711692|0.004485830663746379|0.004259212073895511|  reuters|  23|  2|           1.0|       4.0|(6,[4],[1.0])|    19.0|(23,[19],[1.0])|    6.0|    (6,[],[])|(55,[4,25,35,36,3...|[5.12061831403337...|[0.25603091570166...|       2.0|\n",
      "|0.004284106141709...|0.004384726203161...|0.004242613284407835|0.004274446554995608|0.004975957865223016|0.004355985632796...| 0.00424455913457288|0.004240908526665612|0.004492826571604971|0.004253884854550897|0.004699724825781782|0.004244452311273923|0.004357627635522379|0.004256775001988464| 0.08550175329350707|0.004271348958427666|  0.8359292026922082|0.004244057782273...|0.004485830651978507|0.004259212077349995|  reuters|  22|  7|           0.0|       4.0|(6,[4],[1.0])|     9.0| (23,[9],[1.0])|    1.0|(6,[1],[1.0])|(55,[4,15,30,35,3...|[5.26347354907611...|[0.26317367745380...|       2.0|\n",
      "|0.004284106142491884|0.004384726146199954|0.004242613286664677|0.004274446557177316|0.004975957726951005|0.004355985631024267| 0.00424455913595719| 0.00424090852821042|0.004492826551700772|0.004253884855006...|0.004699724792000...| 0.00424445231217771|0.004357627635789281|0.004256775002037494|  0.9171452824928631|0.004271348958880763|0.004285673728292247|0.004244057782747132| 0.00448583065670365|0.004259212077123711|kyodonews|   3|  4|           2.0|       3.0|(6,[3],[1.0])|    14.0|(23,[14],[1.0])|    3.0|(6,[3],[1.0])|(55,[3,20,32,35,3...|[4.81607087922641...|[0.24080354396132...|       2.0|\n",
      "|0.004284106142893714|0.004384726149984382|0.004242613284646925| 0.00427444655553598|  0.9170684028879706| 0.00435598562995756|0.004244559135535243|0.004240908526400438|0.004492826549975922|0.004253884854213511|0.004699724788104493|0.004244452311653895|0.004357627634182428|0.004256775002151834|0.005052837348028...|0.004271348957437957|0.004285673731038177|0.004244057782570418|0.004485830650724...| 0.00425921207699364|kyodonews|  11|  3|           2.0|       3.0|(6,[3],[1.0])|    22.0|(23,[22],[1.0])|    5.0|(6,[5],[1.0])|(55,[3,28,34,35,3...|[5.33722913544797...|[0.26686145677239...|       2.0|\n",
      "|0.004284106146503132| 0.00438472615634784|0.004242613289150268|0.004274446560177141|   0.917068402573489|0.004355985638121687|0.004244559139897313|0.004240908531570658|0.004492826568026...|0.004253884859317422|0.004699724980934...|0.004244452316549653|0.004357627640425...|0.004256775007229479|0.005052837357147401|0.004271348963805621|0.004285673732159799|0.004244057787403072|0.004485830669910944|0.004259212081832695| guardian|  22|  2|           0.0|       6.0|    (6,[],[])|     9.0| (23,[9],[1.0])|    6.0|    (6,[],[])|(55,[15,35,36,37,...|[5.41106468954305...|[0.27055323447715...|       2.0|\n",
      "+--------------------+--------------------+--------------------+--------------------+--------------------+--------------------+--------------------+--------------------+--------------------+--------------------+--------------------+--------------------+--------------------+--------------------+--------------------+--------------------+--------------------+--------------------+--------------------+--------------------+---------+----+---+--------------+----------+-------------+--------+---------------+-------+-------------+--------------------+--------------------+--------------------+----------+\n",
      "only showing top 5 rows\n",
      "\n"
     ]
    }
   ],
   "source": [
    "test_preds.show(5)"
   ]
  },
  {
   "cell_type": "code",
   "execution_count": 69,
   "metadata": {},
   "outputs": [],
   "source": [
    "preds_and_labels = test_preds.select(['prediction','group_comments']).withColumn('label', F.col('group_comments').cast(FloatType())).orderBy('prediction')"
   ]
  },
  {
   "cell_type": "code",
   "execution_count": 72,
   "metadata": {},
   "outputs": [
    {
     "name": "stdout",
     "output_type": "stream",
     "text": [
      "[[ 30.  39. 112.]\n",
      " [ 39.  42. 126.]\n",
      " [ 34.  45. 120.]]\n"
     ]
    }
   ],
   "source": [
    "#select only prediction and label columns\n",
    "preds_and_labels = preds_and_labels.select(['prediction','label'])\n",
    "\n",
    "metrics = MulticlassMetrics(preds_and_labels.rdd.map(tuple))\n",
    "\n",
    "print(metrics.confusionMatrix().toArray())"
   ]
  },
  {
   "cell_type": "code",
   "execution_count": null,
   "metadata": {},
   "outputs": [],
   "source": []
  },
  {
   "cell_type": "code",
   "execution_count": null,
   "metadata": {},
   "outputs": [],
   "source": []
  },
  {
   "cell_type": "code",
   "execution_count": null,
   "metadata": {},
   "outputs": [],
   "source": []
  },
  {
   "cell_type": "code",
   "execution_count": null,
   "metadata": {},
   "outputs": [],
   "source": []
  },
  {
   "cell_type": "code",
   "execution_count": null,
   "metadata": {},
   "outputs": [],
   "source": []
  },
  {
   "cell_type": "code",
   "execution_count": 8,
   "metadata": {},
   "outputs": [],
   "source": [
    "spark.stop()"
   ]
  },
  {
   "cell_type": "code",
   "execution_count": null,
   "metadata": {},
   "outputs": [],
   "source": []
  }
 ],
 "metadata": {
  "kernelspec": {
   "display_name": "Python 3",
   "language": "python",
   "name": "python3"
  },
  "language_info": {
   "codemirror_mode": {
    "name": "ipython",
    "version": 3
   },
   "file_extension": ".py",
   "mimetype": "text/x-python",
   "name": "python",
   "nbconvert_exporter": "python",
   "pygments_lexer": "ipython3",
   "version": "3.8.8"
  }
 },
 "nbformat": 4,
 "nbformat_minor": 4
}
