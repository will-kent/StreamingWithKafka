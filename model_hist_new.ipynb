{
 "cells": [
  {
   "cell_type": "code",
   "execution_count": 1,
   "metadata": {},
   "outputs": [
    {
     "name": "stdout",
     "output_type": "stream",
     "text": [
      "Collecting gensim\n",
      "  Downloading gensim-4.0.1-cp38-cp38-manylinux1_x86_64.whl (23.9 MB)\n",
      "\u001b[K     |████████████████████████████████| 23.9 MB 3.0 MB/s eta 0:00:01\n",
      "\u001b[?25hRequirement already satisfied: numpy>=1.11.3 in /opt/conda/lib/python3.8/site-packages (from gensim) (1.20.2)\n",
      "Requirement already satisfied: scipy>=0.18.1 in /opt/conda/lib/python3.8/site-packages (from gensim) (1.6.2)\n",
      "Collecting smart-open>=1.8.1\n",
      "  Downloading smart_open-5.1.0-py3-none-any.whl (57 kB)\n",
      "\u001b[K     |████████████████████████████████| 57 kB 3.4 MB/s eta 0:00:01\n",
      "\u001b[?25hInstalling collected packages: smart-open, gensim\n",
      "Successfully installed gensim-4.0.1 smart-open-5.1.0\n"
     ]
    }
   ],
   "source": [
    "! pip install gensim"
   ]
  },
  {
   "cell_type": "code",
   "execution_count": 2,
   "metadata": {},
   "outputs": [
    {
     "name": "stderr",
     "output_type": "stream",
     "text": [
      "/opt/conda/lib/python3.8/site-packages/gensim/similarities/__init__.py:15: UserWarning: The gensim.similarities.levenshtein submodule is disabled, because the optional Levenshtein package <https://pypi.org/project/python-Levenshtein/> is unavailable. Install Levenhstein (e.g. `pip install python-Levenshtein`) to suppress this warning.\n",
      "  warnings.warn(msg)\n"
     ]
    }
   ],
   "source": [
    "from pyspark.sql import SparkSession\n",
    "import pandas as pd\n",
    "import numpy as np\n",
    "import re\n",
    "import sys\n",
    "import scipy\n",
    "import gensim\n",
    "from gensim.utils import simple_preprocess\n",
    "import gensim.corpora as corpora\n"
   ]
  },
  {
   "cell_type": "code",
   "execution_count": 3,
   "metadata": {},
   "outputs": [],
   "source": [
    "import string\n",
    "import pyspark\n",
    "import pyspark.sql.functions as F\n",
    "from pyspark import broadcast, SparkContext\n",
    "from pyspark.sql import SQLContext\n",
    "from pyspark.mllib.util import MLUtils\n",
    "from pyspark.sql.types import *\n",
    "from pyspark.ml.feature import CountVectorizer, CountVectorizerModel, Tokenizer, RegexTokenizer, StopWordsRemover, OneHotEncoder, StringIndexer, VectorAssembler, VectorIndexer, Bucketizer\n",
    "from pyspark.ml.linalg import Vectors, SparseVector\n",
    "from pyspark.ml.clustering import LDA\n",
    "from pyspark.ml.functions import vector_to_array\n"
   ]
  },
  {
   "cell_type": "code",
   "execution_count": 43,
   "metadata": {},
   "outputs": [],
   "source": [
    "from pyspark.sql.functions import month, year, mean, count, dayofweek, hour, col, min, max, avg, sum, when, lit, desc, unix_timestamp, from_unixtime, udf, regexp_replace, isnan"
   ]
  },
  {
   "cell_type": "code",
   "execution_count": 5,
   "metadata": {},
   "outputs": [],
   "source": [
    "# Build the spark session\n",
    "spark = SparkSession.builder \\\n",
    "        .appName('kafka') \\\n",
    "        .getOrCreate()"
   ]
  },
  {
   "cell_type": "code",
   "execution_count": 6,
   "metadata": {},
   "outputs": [
    {
     "data": {
      "text/plain": [
       "'3.1.1'"
      ]
     },
     "execution_count": 6,
     "metadata": {},
     "output_type": "execute_result"
    }
   ],
   "source": [
    "spark.version"
   ]
  },
  {
   "cell_type": "code",
   "execution_count": 7,
   "metadata": {},
   "outputs": [],
   "source": [
    "sc = spark.sparkContext"
   ]
  },
  {
   "cell_type": "markdown",
   "metadata": {},
   "source": [
    "## Load data from csv, strip to required size then save to parquet"
   ]
  },
  {
   "cell_type": "code",
   "execution_count": 6,
   "metadata": {},
   "outputs": [],
   "source": [
    "# Load all submission csv files\n",
    "data = spark.read.format('csv').options(header ='true').load(f\"./data/submissions/*.csv\")"
   ]
  },
  {
   "cell_type": "code",
   "execution_count": 7,
   "metadata": {},
   "outputs": [
    {
     "name": "stdout",
     "output_type": "stream",
     "text": [
      "root\n",
      " |-- _c0: string (nullable = true)\n",
      " |-- id: string (nullable = true)\n",
      " |-- author_fullname: string (nullable = true)\n",
      " |-- title: string (nullable = true)\n",
      " |-- score: string (nullable = true)\n",
      " |-- author_premium: string (nullable = true)\n",
      " |-- domain: string (nullable = true)\n",
      " |-- over_18: string (nullable = true)\n",
      " |-- subreddit_id: string (nullable = true)\n",
      " |-- permalink: string (nullable = true)\n",
      " |-- parent_whitelist_status: string (nullable = true)\n",
      " |-- url: string (nullable = true)\n",
      " |-- created_utc: string (nullable = true)\n",
      " |-- num_comments: string (nullable = true)\n",
      " |-- upvote_ratio: string (nullable = true)\n",
      "\n",
      "None\n"
     ]
    },
    {
     "data": {
      "text/plain": [
       "127600"
      ]
     },
     "execution_count": 7,
     "metadata": {},
     "output_type": "execute_result"
    }
   ],
   "source": [
    "print(data.printSchema())\n",
    "data.count()"
   ]
  },
  {
   "cell_type": "code",
   "execution_count": 8,
   "metadata": {},
   "outputs": [
    {
     "data": {
      "text/plain": [
       "[Row(_c0='0', id='l8zd9o', author_fullname='t2_a30zb78q', title='موقع إخباري متنوع.. تعرف علي آخر الأخبار', score='1', author_premium='False', domain='nabakham.com', over_18='False', subreddit_id='t5_2qh13', permalink='/r/worldnews/comments/l8zd9o/موقع_إخباري_متنوع_تعرف_علي_آخر_الأخبار/', parent_whitelist_status='all_ads', url='https://nabakham.com/', created_utc='1612051145', num_comments='1', upvote_ratio='1.0'),\n",
       " Row(_c0='1', id='l8zd2a', author_fullname='t2_9xscy03j', title='New clinical trials raise fears the coronavirus is learning how to resist vaccines', score='1', author_premium='True', domain='google.co.uk', over_18='False', subreddit_id='t5_2qh13', permalink='/r/worldnews/comments/l8zd2a/new_clinical_trials_raise_fears_the_coronavirus/', parent_whitelist_status='all_ads', url='https://www.google.co.uk/amp/s/news.yahoo.com/amphtml/clinical-trials-raise-fears-coronavirus-040855671.html', created_utc='1612051128', num_comments='0', upvote_ratio='1.0'),\n",
       " Row(_c0='2', id='l8zaej', author_fullname='t2_96wsbpaj', title='Maryland confirms case of South African Covid variant that’s more infectious', score='1', author_premium='False', domain='radarhitnews.com', over_18='False', subreddit_id='t5_2qh13', permalink='/r/worldnews/comments/l8zaej/maryland_confirms_case_of_south_african_covid/', parent_whitelist_status='all_ads', url='https://www.radarhitnews.com/maryland-confirms-case-of-south-african-covid-variant-thats-more-infectious/', created_utc='1612050907', num_comments='0', upvote_ratio='1.0'),\n",
       " Row(_c0='3', id='l8z6gl', author_fullname='t2_612zd', title='India’s government plans to introduce a bill in the country’s lower house that would ban private cryptocurrencies such as bitcoin and create a national cryptocurrency', score='1', author_premium='True', domain='cnbc.com', over_18='False', subreddit_id='t5_2qh13', permalink='/r/worldnews/comments/l8z6gl/indias_government_plans_to_introduce_a_bill_in/', parent_whitelist_status='all_ads', url='https://www.cnbc.com/2021/01/30/the-indian-government-may-ban-cryptocurrencies-like-bitcoin.html', created_utc='1612050575', num_comments='17', upvote_ratio='1.0'),\n",
       " Row(_c0='4', id='l8ywij', author_fullname='t2_l9irga5', title='UK applying to join Asia-Pacific free trade pact CPTPP', score='1', author_premium='False', domain='bbc.co.uk', over_18='False', subreddit_id='t5_2qh13', permalink='/r/worldnews/comments/l8ywij/uk_applying_to_join_asiapacific_free_trade_pact/', parent_whitelist_status='all_ads', url='https://www.bbc.co.uk/news/business-55871373', created_utc='1612049755', num_comments='2', upvote_ratio='1.0')]"
      ]
     },
     "execution_count": 8,
     "metadata": {},
     "output_type": "execute_result"
    }
   ],
   "source": [
    "data.head(5)"
   ]
  },
  {
   "cell_type": "code",
   "execution_count": 8,
   "metadata": {},
   "outputs": [
    {
     "data": {
      "text/plain": [
       "127600"
      ]
     },
     "execution_count": 8,
     "metadata": {},
     "output_type": "execute_result"
    }
   ],
   "source": [
    "# Only keep the needed columns and remove duplicate rows\n",
    "df = data.select('id','title','domain','subreddit_id','created_utc','num_comments')\n",
    "df = df.distinct()\n",
    "df.count()"
   ]
  },
  {
   "cell_type": "code",
   "execution_count": 9,
   "metadata": {},
   "outputs": [],
   "source": [
    "df = df.na.fill(value=0,subset=[\"num_comments\"])"
   ]
  },
  {
   "cell_type": "code",
   "execution_count": 11,
   "metadata": {},
   "outputs": [
    {
     "name": "stdout",
     "output_type": "stream",
     "text": [
      "+------+--------------------+--------------------+------------+-----------+------------+\n",
      "|    id|               title|              domain|subreddit_id|created_utc|num_comments|\n",
      "+------+--------------------+--------------------+------------+-----------+------------+\n",
      "|l8w5qa|Jessica Simpson T...|           bluzz.org|    t5_2qh13| 1612042018|           0|\n",
      "|l8ni30|Pornhub Now Accep...|  cryptobriefing.com|    t5_2qh13| 1612019085|           0|\n",
      "|l8n6ta|India Mulls Law T...|            ndtv.com|    t5_2qh13| 1612018166|           2|\n",
      "|l8j19t|tìm hiểu drama là...|indexlink93447958...|    t5_2qh13| 1612003085|           0|\n",
      "|l8co25|House Democrats p...|           bluzz.org|    t5_2qh13| 1611977317|           0|\n",
      "+------+--------------------+--------------------+------------+-----------+------------+\n",
      "only showing top 5 rows\n",
      "\n"
     ]
    }
   ],
   "source": [
    "df.show(5)"
   ]
  },
  {
   "cell_type": "code",
   "execution_count": 10,
   "metadata": {},
   "outputs": [
    {
     "name": "stdout",
     "output_type": "stream",
     "text": [
      "+------+--------------------+--------------------+------------+-----------+------------+\n",
      "|    id|               title|              domain|subreddit_id|created_utc|num_comments|\n",
      "+------+--------------------+--------------------+------------+-----------+------------+\n",
      "|l8w5qa|Jessica Simpson T...|           bluzz.org|    t5_2qh13| 1612042018|           0|\n",
      "|l8ni30|Pornhub Now Accep...|  cryptobriefing.com|    t5_2qh13| 1612019085|           0|\n",
      "|l8n6ta|India Mulls Law T...|            ndtv.com|    t5_2qh13| 1612018166|           2|\n",
      "|l8j19t|tm hiu drama l g ...|indexlink93447958...|    t5_2qh13| 1612003085|           0|\n",
      "|l8co25|House Democrats p...|           bluzz.org|    t5_2qh13| 1611977317|           0|\n",
      "+------+--------------------+--------------------+------------+-----------+------------+\n",
      "only showing top 5 rows\n",
      "\n"
     ]
    }
   ],
   "source": [
    "#Remove punctuation and numbers from titles\n",
    "df = df.withColumn(\"title\", regexp_replace(col(\"title\"), '[^\\sa-zA-Z]', ''))\n",
    "df.show(5)"
   ]
  },
  {
   "cell_type": "markdown",
   "metadata": {},
   "source": [
    "## Prepare titles and do topics modelling"
   ]
  },
  {
   "cell_type": "code",
   "execution_count": 11,
   "metadata": {},
   "outputs": [],
   "source": [
    "tokenizer = Tokenizer(inputCol=\"title\", outputCol=\"words\")\n",
    "wordsDataFrame = tokenizer.transform(df)"
   ]
  },
  {
   "cell_type": "code",
   "execution_count": 14,
   "metadata": {},
   "outputs": [
    {
     "name": "stdout",
     "output_type": "stream",
     "text": [
      "+------+--------------------+--------------------+------------+-----------+------------+--------------------+\n",
      "|    id|               title|              domain|subreddit_id|created_utc|num_comments|               words|\n",
      "+------+--------------------+--------------------+------------+-----------+------------+--------------------+\n",
      "|l8w5qa|Jessica Simpson T...|           bluzz.org|    t5_2qh13| 1612042018|           0|[jessica, simpson...|\n",
      "|l8ni30|Pornhub Now Accep...|  cryptobriefing.com|    t5_2qh13| 1612019085|           0|[pornhub, now, ac...|\n",
      "|l8n6ta|India Mulls Law T...|            ndtv.com|    t5_2qh13| 1612018166|           2|[india, mulls, la...|\n",
      "|l8j19t|tm hiu drama l g ...|indexlink93447958...|    t5_2qh13| 1612003085|           0|[tm, hiu, drama, ...|\n",
      "|l8co25|House Democrats p...|           bluzz.org|    t5_2qh13| 1611977317|           0|[house, democrats...|\n",
      "|l7y8yl|Congos prime mini...|      abcnews.go.com|    t5_2qh13| 1611940865|           1|[congos, prime, m...|\n",
      "|l7y6fc|          JJ ENGLISH|         stepe.tokyo|    t5_2qh13| 1611940699|           0|       [jj, english]|\n",
      "|l7qrh2|China builds Digi...|     asia.nikkei.com|    t5_2qh13| 1611921378|           4|[china, builds, d...|\n",
      "|l7g5r4|GameStop effect c...|         reuters.com|    t5_2qh13| 1611886196|           9|[gamestop, effect...|\n",
      "|l77aqb|Russian President...|         stuff.co.nz|    t5_2qh13| 1611864604|          30|[russian, preside...|\n",
      "|l6wpsu|China sharpens la...|         reuters.com|    t5_2qh13| 1611840920|           0|[china, sharpens,...|\n",
      "|l6vfrx|Role Of Exercise ...|anthemseniors.tum...|    t5_2qh13| 1611836959|           2|[role, of, exerci...|\n",
      "|l686x9|Transfer news LIV...|           bluzz.org|    t5_2qh13| 1611764877|           0|[transfer, news, ...|\n",
      "|l5g6ya|Covid linked to r...|     theguardian.com|    t5_2qh13| 1611674759|           0|[covid, linked, t...|\n",
      "|l5cr2f|IDF troops shoot ...|        ynetnews.com|    t5_2qh13| 1611663026|           0|[idf, troops, sho...|\n",
      "|l51rbl|BC officials warn...|           bluzz.org|    t5_2qh13| 1611620811|           0|[bc, officials, w...|\n",
      "|l51nju|The baby boom tha...|        france24.com|    t5_2qh13| 1611620488|           0|[the, baby, boom,...|\n",
      "|l4znqi|Spending more on ...|for-hashtagsusa.b...|    t5_2qh13| 1611614625|           0|[spending, more, ...|\n",
      "|l4vc0j|Makers of Sophia ...|           bluzz.org|    t5_2qh13| 1611602806|           0|[makers, of, soph...|\n",
      "|l4sjox|            Be relax|         berelax.com|    t5_2qh13| 1611595374|           1|         [be, relax]|\n",
      "+------+--------------------+--------------------+------------+-----------+------------+--------------------+\n",
      "only showing top 20 rows\n",
      "\n"
     ]
    }
   ],
   "source": [
    "wordsDataFrame.show()"
   ]
  },
  {
   "cell_type": "code",
   "execution_count": 12,
   "metadata": {},
   "outputs": [],
   "source": [
    "stop_words =StopWordsRemover.loadDefaultStopWords(\"english\")\n",
    "stop_words = stop_words + ['a','i']"
   ]
  },
  {
   "cell_type": "code",
   "execution_count": 13,
   "metadata": {},
   "outputs": [],
   "source": [
    "remover = StopWordsRemover(inputCol=\"words\", outputCol=\"filtered\", stopWords = stop_words)\n",
    "wordsDataFrame = remover.transform(wordsDataFrame)"
   ]
  },
  {
   "cell_type": "code",
   "execution_count": 17,
   "metadata": {},
   "outputs": [
    {
     "name": "stdout",
     "output_type": "stream",
     "text": [
      "+------+--------------------------------------------------+-------------------------------+------------+-----------+------------+--------------------------------------------------+--------------------------------------------------+\n",
      "|    id|                                             title|                         domain|subreddit_id|created_utc|num_comments|                                             words|                                          filtered|\n",
      "+------+--------------------------------------------------+-------------------------------+------------+-----------+------------+--------------------------------------------------+--------------------------------------------------+\n",
      "|l8w5qa|Jessica Simpson Twins With Daughter Birdie in A...|                      bluzz.org|    t5_2qh13| 1612042018|           0|[jessica, simpson, twins, with, daughter, birdi...|[jessica, simpson, twins, daughter, birdie, ado...|\n",
      "|l8ni30|             Pornhub Now Accepts Dogecoin Payments|             cryptobriefing.com|    t5_2qh13| 1612019085|           0|       [pornhub, now, accepts, dogecoin, payments]|            [pornhub, accepts, dogecoin, payments]|\n",
      "|l8n6ta|India Mulls Law To Ban Cryptocurrencies Create ...|                       ndtv.com|    t5_2qh13| 1612018166|           2|[india, mulls, law, to, ban, cryptocurrencies, ...|[india, mulls, law, ban, cryptocurrencies, crea...|\n",
      "|l8j19t|tm hiu drama l g ti httpstcoDVkSVX httpstcoUYcN...|indexlink93447958.wordpress.com|    t5_2qh13| 1612003085|           0|[tm, hiu, drama, l, g, ti, httpstcodvksvx, http...|[tm, hiu, drama, l, g, ti, httpstcodvksvx, http...|\n",
      "|l8co25|House Democrats push to censure Georgia Congres...|                      bluzz.org|    t5_2qh13| 1611977317|           0|[house, democrats, push, to, censure, georgia, ...|[house, democrats, push, censure, georgia, cong...|\n",
      "|l7y8yl|Congos prime minister resigns after lawmakers v...|                 abcnews.go.com|    t5_2qh13| 1611940865|           1|[congos, prime, minister, resigns, after, lawma...|[congos, prime, minister, resigns, lawmakers, v...|\n",
      "|l7y6fc|                                        JJ ENGLISH|                    stepe.tokyo|    t5_2qh13| 1611940699|           0|                                     [jj, english]|                                     [jj, english]|\n",
      "|l7qrh2|China builds Digital Silk Road in Pakistan to A...|                asia.nikkei.com|    t5_2qh13| 1611921378|           4|[china, builds, digital, silk, road, in, pakist...|[china, builds, digital, silk, road, pakistan, ...|\n",
      "|l7g5r4|GameStop effect could ripple further as Wall St...|                    reuters.com|    t5_2qh13| 1611886196|           9|[gamestop, effect, could, ripple, further, as, ...|[gamestop, effect, ripple, wall, street, eyes, ...|\n",
      "|l77aqb|Russian President Vladimir Putin says world ris...|                    stuff.co.nz|    t5_2qh13| 1611864604|          30|[russian, president, vladimir, putin, says, wor...|[russian, president, vladimir, putin, says, wor...|\n",
      "|l6wpsu|China sharpens language warns Taiwan that indep...|                    reuters.com|    t5_2qh13| 1611840920|           0|[china, sharpens, language, warns, taiwan, that...|[china, sharpens, language, warns, taiwan, inde...|\n",
      "|l6vfrx|Role Of Exercise In Keeping Alzheimers Disease ...|       anthemseniors.tumblr.com|    t5_2qh13| 1611836959|           2|[role, of, exercise, in, keeping, alzheimers, d...|[role, exercise, keeping, alzheimers, disease, ...|\n",
      "|l686x9|Transfer news LIVE Celtic Rangers Aberdeen Hibs...|                      bluzz.org|    t5_2qh13| 1611764877|           0|[transfer, news, live, celtic, rangers, aberdee...|[transfer, news, live, celtic, rangers, aberdee...|\n",
      "|l5g6ya|Covid linked to risk of mental illness and brai...|                theguardian.com|    t5_2qh13| 1611674759|           0|[covid, linked, to, risk, of, mental, illness, ...|[covid, linked, risk, mental, illness, brain, d...|\n",
      "|l5cr2f|IDF troops shoot and kill attempted attacker in...|                   ynetnews.com|    t5_2qh13| 1611663026|           0|[idf, troops, shoot, and, kill, attempted, atta...|[idf, troops, shoot, kill, attempted, attacker,...|\n",
      "|l51rbl|BC officials warn new vaccine delay means secon...|                      bluzz.org|    t5_2qh13| 1611620811|           0|[bc, officials, warn, new, vaccine, delay, mean...|[bc, officials, warn, new, vaccine, delay, mean...|\n",
      "|l51nju|The baby boom that never was France sees sharp ...|                   france24.com|    t5_2qh13| 1611620488|           0|[the, baby, boom, that, never, was, france, see...|[baby, boom, never, france, sees, sharp, declin...|\n",
      "|l4znqi|Spending more on DoorDash and UberEats This fee...|   for-hashtagsusa.blogspot.com|    t5_2qh13| 1611614625|           0|[spending, more, on, doordash, and, ubereats, t...|[spending, doordash, ubereats, fee, may, usa, h...|\n",
      "|l4vc0j|Makers of Sophia the robot plan mass rollout am...|                      bluzz.org|    t5_2qh13| 1611602806|           0|[makers, of, sophia, the, robot, plan, mass, ro...|[makers, sophia, robot, plan, mass, rollout, am...|\n",
      "|l4sjox|                                          Be relax|                    berelax.com|    t5_2qh13| 1611595374|           1|                                       [be, relax]|                                           [relax]|\n",
      "+------+--------------------------------------------------+-------------------------------+------------+-----------+------------+--------------------------------------------------+--------------------------------------------------+\n",
      "only showing top 20 rows\n",
      "\n"
     ]
    }
   ],
   "source": [
    "wordsDataFrame.show(truncate = 50)"
   ]
  },
  {
   "cell_type": "code",
   "execution_count": 14,
   "metadata": {},
   "outputs": [
    {
     "name": "stdout",
     "output_type": "stream",
     "text": [
      "+--------------------+------+\n",
      "|             vectors|    id|\n",
      "+--------------------+------+\n",
      "|(68283,[464,1645,...|l8w5qa|\n",
      "|(68283,[2220,2382...|l8ni30|\n",
      "|(68283,[8,129,224...|l8n6ta|\n",
      "|(68283,[0,47,65,9...|l8j19t|\n",
      "|(68283,[88,712,84...|l8co25|\n",
      "|(68283,[99,477,51...|l7y8yl|\n",
      "|(68283,[1498,9570...|l7y6fc|\n",
      "|(68283,[6,225,378...|l7qrh2|\n",
      "|(68283,[768,895,1...|l7g5r4|\n",
      "|(68283,[4,21,33,1...|l77aqb|\n",
      "|(68283,[6,97,157,...|l6wpsu|\n",
      "|(68283,[863,1397,...|l6vfrx|\n",
      "|(68283,[7,27,247,...|l686x9|\n",
      "|(68283,[1,191,456...|l5g6ya|\n",
      "|(68283,[240,323,3...|l5cr2f|\n",
      "|(68283,[2,5,183,2...|l51rbl|\n",
      "|(68283,[117,208,2...|l51nju|\n",
      "|(68283,[18,26,35,...|l4znqi|\n",
      "|(68283,[38,43,190...|l4vc0j|\n",
      "|(68283,[6255],[1.0])|l4sjox|\n",
      "+--------------------+------+\n",
      "only showing top 20 rows\n",
      "\n"
     ]
    }
   ],
   "source": [
    "cv = CountVectorizer(inputCol=\"filtered\", outputCol=\"vectors\")\n",
    "cvmodel = cv.fit(wordsDataFrame)\n",
    "\n",
    "#save th countvectorizer to apply to new texts\n",
    "cvmodel.write().overwrite().save('count_vectorizer_model')\n",
    "# When need to relaod this model elsewhere use : loadedModel = CountVectorizerModel.load('count_vectorizer_model')\n",
    "\n",
    "df_vect = cvmodel.transform(wordsDataFrame)\n",
    "basics = df_vect.select('vectors', 'id')\n",
    "basics.show()"
   ]
  },
  {
   "cell_type": "code",
   "execution_count": 15,
   "metadata": {
    "tags": []
   },
   "outputs": [],
   "source": [
    "basics.write.mode(\"overwrite\").parquet('lda_basics')"
   ]
  },
  {
   "cell_type": "code",
   "execution_count": 16,
   "metadata": {},
   "outputs": [],
   "source": [
    "basics= spark.read.parquet('lda_basics')"
   ]
  },
  {
   "cell_type": "code",
   "execution_count": 17,
   "metadata": {},
   "outputs": [],
   "source": [
    "# Create the LDA model and fit it\n",
    "num_topics = 20\n",
    "lda = LDA(featuresCol='vectors',k=num_topics, seed=42)\n",
    "#Train the LDA model\n",
    "lda_model = lda.fit(basics)\n",
    "\n",
    "# Save teh model to be applied later in stream pipeline\n",
    "lda_model.write().overwrite().save('lda_distributed_model')\n",
    "# When need to relaod this model elsewhere use : sameModel = DistributedLDAModel.load('lda_distributed_model')"
   ]
  },
  {
   "cell_type": "code",
   "execution_count": 18,
   "metadata": {},
   "outputs": [
    {
     "name": "stdout",
     "output_type": "stream",
     "text": [
      "+-----+--------------------------------------------------+--------------------------------------------------+\n",
      "|topic|                                       termIndices|                                       termWeights|\n",
      "+-----+--------------------------------------------------+--------------------------------------------------+\n",
      "|    0|[0, 273, 7552, 873, 79, 25006, 1528, 616, 1, 5557]|[5.538735792542494E-4, 1.990048559790569E-4, 1....|\n",
      "|    1|[298, 4858, 0, 446, 2595, 8525, 10599, 9988, 74...|[7.485265172648988E-4, 3.348183251550614E-4, 2....|\n",
      "|    2|        [48, 12, 2, 81, 85, 918, 0, 94, 160, 5048]|[0.012289764480241687, 0.011485272140385177, 0....|\n",
      "|    3|        [0, 6026, 11, 6, 433, 3, 593, 678, 331, 1]|[3.3400557656743644E-4, 3.170723394473146E-4, 3...|\n",
      "|    4|   [161, 139, 149, 133, 120, 19, 0, 231, 236, 233]|[0.006821106519123967, 0.006627767440201427, 0....|\n",
      "|    5|[1355, 52, 1162, 0, 2799, 7028, 23, 194, 11856,...|[0.0010139612943358192, 9.102326738652258E-4, 8...|\n",
      "|    6|   [2767, 2537, 1, 0, 3, 1637, 281, 11194, 41, 34]|[5.971834716803535E-4, 5.558465334830067E-4, 2....|\n",
      "|    7|[1738, 1730, 52, 2037, 591, 12257, 12349, 0, 13...|[0.001393679940999922, 0.001376723764877311, 0....|\n",
      "|    8|                 [0, 1, 2, 5, 10, 8, 15, 9, 4, 20]|[0.025788285440084446, 0.014206440061570026, 0....|\n",
      "|    9|[660, 741, 1061, 1138, 1415, 864, 388, 663, 4, ...|[0.0020498199413340797, 0.0019617235727686965, ...|\n",
      "|   10|               [0, 3, 4, 2, 13, 14, 6, 18, 17, 26]|[0.051170128052200274, 0.0068777596002466065, 0...|\n",
      "|   11|  [0, 7, 349, 71, 915, 993, 988, 1322, 1319, 1042]|[0.005087431108881915, 0.002548601527528343, 0....|\n",
      "|   12|[5497, 0, 14167, 14917, 16436, 33478, 25133, 12...|[1.7999996987485688E-4, 1.3304388943727612E-4, ...|\n",
      "|   13|   [0, 2050, 349, 2849, 3, 1, 1042, 4, 4502, 2143]|[9.18553755435214E-4, 8.86880127692907E-4, 8.11...|\n",
      "|   14|[13046, 0, 5213, 7240, 6650, 10886, 4, 3, 1462,...|[1.2084139473441324E-4, 1.0500360945285268E-4, ...|\n",
      "|   15|[76, 350, 914, 2567, 2499, 1836, 2801, 0, 4835,...|[0.0014558099913698894, 9.9905308727503E-4, 8.9...|\n",
      "|   16| [76, 0, 435, 298, 446, 1094, 1209, 1058, 1376, 1]|[0.00624486919299778, 0.005465227206544764, 0.0...|\n",
      "|   17|         [5507, 0, 5, 22, 276, 2, 18, 9083, 23, 1]|[3.4000907076159364E-4, 3.3614395627916876E-4, ...|\n",
      "|   18|     [2302, 2447, 0, 50, 4, 2, 1852, 158, 93, 288]|[8.579655225569963E-4, 7.960383010424501E-4, 3....|\n",
      "|   19|[0, 789, 8587, 9423, 12608, 14153, 14550, 2660,...|[5.247886424659237E-4, 2.1478473220399251E-4, 2...|\n",
      "+-----+--------------------------------------------------+--------------------------------------------------+\n",
      "\n"
     ]
    }
   ],
   "source": [
    "# See the results of modelling\n",
    "ldatopics = lda_model.describeTopics(10)\n",
    "ldatopics.show(truncate = 50)"
   ]
  },
  {
   "cell_type": "code",
   "execution_count": 27,
   "metadata": {},
   "outputs": [
    {
     "name": "stdout",
     "output_type": "stream",
     "text": [
      "Number of words in word vectors: 68283\n",
      "Example last words: \n"
     ]
    },
    {
     "data": {
      "text/plain": [
       "['rambut', 'flav', 'pil', 'alirezas', 'lifelessonswecanlearnfrom']"
      ]
     },
     "execution_count": 27,
     "metadata": {},
     "output_type": "execute_result"
    }
   ],
   "source": [
    "# For mapping words to the model term indices, first collect the words used in the input vectors\n",
    "vocab = cvmodel.vocabulary\n",
    "vocab_broadcast = sc.broadcast(vocab) # saves the words to a broadcast variable for use in mapping\n",
    "print(\"Number of words in word vectors: \" + str(len(vocab)))\n",
    "print(\"Example last words: \")\n",
    "vocab[-6:-1]"
   ]
  },
  {
   "cell_type": "code",
   "execution_count": 28,
   "metadata": {},
   "outputs": [],
   "source": [
    "# Now match input words to terms in model output topics\n",
    "def map_termID_to_Word(termIndices):\n",
    "    words = []\n",
    "    for termID in termIndices:\n",
    "        words.append(vocab_broadcast.value[termID])\n",
    "\n",
    "    return words\n",
    "\n",
    "udf_map_termID_to_Word = udf(map_termID_to_Word , ArrayType(StringType()))\n",
    "\n",
    "ldatopics_mapped = ldatopics.withColumn(\"topic_desc\", udf_map_termID_to_Word(ldatopics.termIndices))"
   ]
  },
  {
   "cell_type": "code",
   "execution_count": 29,
   "metadata": {},
   "outputs": [
    {
     "name": "stdout",
     "output_type": "stream",
     "text": [
      "+-----+----------------------------------------------------------------+-------------------------------------------------------------------------------------------------------------------------------------------------------------------------------------------------------------------------------------+-------------------------------------------------------------------------------------------------------------------------+\n",
      "|topic|termIndices                                                     |termWeights                                                                                                                                                                                                                          |topic_desc                                                                                                               |\n",
      "+-----+----------------------------------------------------------------+-------------------------------------------------------------------------------------------------------------------------------------------------------------------------------------------------------------------------------------+-------------------------------------------------------------------------------------------------------------------------+\n",
      "|0    |[0, 443, 2275, 1987, 1059, 4019, 298, 1943, 9872, 7975]         |[6.829364956757909E-4, 6.430462103699064E-4, 5.16690730378091E-4, 3.4748591876831585E-4, 3.1692617524045754E-4, 3.148821331175193E-4, 3.0938473428216687E-4, 3.023605221227537E-4, 2.7197975247226705E-4, 2.5947477749216087E-4]     |[, dan, tak, untuk, ini, minta, di, dengan, dpd, ketua]                                                                  |\n",
      "|1    |[5483, 12401, 12342, 13260, 0, 11430, 1, 11868, 21356, 16420]   |[1.7364732062812916E-4, 1.6863625834802367E-4, 1.6719184908147602E-4, 1.4472276134670523E-4, 1.3159608765043662E-4, 1.255019596121402E-4, 1.1647138024514557E-4, 1.1084712189397921E-4, 1.1076752831187593E-4, 1.0953603795348174E-4]|[dvd, httpstcomuxxyab, httpstcocuwzyqvyq, httpstcoqyqpgadz, , jcom, covid, httpstcothjeewbq, puri, httpstcoiyzrtgmfj]    |\n",
      "|2    |[48, 12, 2, 81, 85, 919, 0, 160, 94, 350]                       |[0.012103388987273471, 0.011569216603673826, 0.010736506170175582, 0.010635067359964829, 0.010451091273614054, 0.002086510292176122, 7.120489231553628E-4, 2.519705399013813E-4, 1.8496477589772435E-4, 1.8228791178152035E-4]       |[youtube, video, new, nithyananda, kailasas, sph, , navalny, prince, meghan]                                             |\n",
      "|3    |[1738, 1728, 52, 0, 5518, 11, 3, 17, 6, 16]                     |[0.0013275078537426496, 0.0013263209084891819, 0.0013114838922339677, 3.418831329818749E-4, 3.3760751385605636E-4, 2.3620133574122146E-4, 1.9560268385119837E-4, 1.6197893697662255E-4, 1.5997196082942223E-4, 1.5652781290254302E-4]|[sweets, skyscraper, daily, , hh, first, us, biden, china, people]                                                       |\n",
      "|4    |[1355, 1163, 52, 0, 7431, 13, 161, 5961, 5, 374]                |[0.0011548456691333575, 9.85537575761565E-4, 8.915479479191481E-4, 4.040124447117847E-4, 2.156113060867175E-4, 1.775660630607173E-4, 1.7382447788948403E-4, 1.585117709295563E-4, 1.5346994901826915E-4, 1.483691881753801E-4]       |[chase, square, daily, , jazz, trump, reddit, tired, vaccine, body]                                                      |\n",
      "|5    |[590, 2036, 0, 298, 4866, 5443, 5908, 3577, 9429, 8471]         |[0.0012546127485395524, 0.0012342862850454038, 5.624634846651574E-4, 4.559270103885453E-4, 3.201738572247641E-4, 2.7294413464680803E-4, 2.5050691193546584E-4, 2.0726542438346182E-4, 2.0718625196268159E-4, 1.9846921720537557E-4]  |[visit, amritsar, , di, ting, meninggal, dunia, ada, escorts, yum]                                                       |\n",
      "|6    |[0, 21, 443, 1, 3, 6829, 4694, 6798, 4183, 6302]                |[3.3741985050447256E-4, 2.849728182188183E-4, 2.4251085553813148E-4, 2.4077290357884913E-4, 2.3513788302581033E-4, 2.2228240437481396E-4, 1.9254426032438648E-4, 1.8937021254797107E-4, 1.699872855851489E-4, 1.6667747919473002E-4] |[, world, dan, covid, us, ibu, wow, seorang, pria, tewas]                                                                |\n",
      "|7    |[0, 2136, 17, 7755, 12682, 2, 15969, 16416, 360, 5763]          |[1.7632484896355465E-4, 1.608923939416857E-4, 1.5082795957138887E-4, 1.3311185770959965E-4, 1.2245147867163465E-4, 1.2219919913982952E-4, 1.1942128719199595E-4, 1.1762787741972024E-4, 1.1737087229991902E-4, 1.1708587962217862E-4]|[, recipe, biden, trades, coi, new, httpstcopdgkdkxw, httpstcowqjmbizb, share, harus]                                    |\n",
      "|8    |[0, 1, 5, 2, 10, 8, 4, 20, 24, 7]                               |[0.023160180717690885, 0.011262102741853009, 0.005737815083316012, 0.0056965832372894865, 0.004545657451097598, 0.004444044945252639, 0.004031255536688134, 0.003349527294069868, 0.0030968382980136057, 0.00291005489070771]        |[, covid, vaccine, new, free, india, says, crack, download, news]                                                        |\n",
      "|9    |[987, 992, 395, 113, 0, 739, 4, 2332, 6718, 3402]               |[0.0013828032403061265, 0.001191531346479863, 5.316544455466498E-4, 4.1369214369808095E-4, 3.697395070091246E-4, 3.399998944009202E-4, 2.4085500123173598E-4, 2.1103401444988947E-4, 2.108759800840444E-4, 1.9860754574241998E-4]    |[jeff, bezos, ceo, amazon, , step, says, amazons, jassy, andy]                                                           |\n",
      "|10   |[0, 3, 2, 4, 6, 1, 17, 18, 13, 26]                              |[0.05474001125587438, 0.008334303837339359, 0.004727257428531216, 0.004100063336429009, 0.003762287565959363, 0.003556938216836597, 0.0030581717367727463, 0.0029202070227373183, 0.0025752820702632734, 0.0025149988439393664]      |[, us, new, says, china, covid, biden, usa, trump, httpsiftttkuzqh]                                                      |\n",
      "|11   |[0, 342, 7, 71, 915, 1320, 1319, 468, 474, 1791]                |[0.005421909010687864, 0.0020421559007006394, 0.0019867113463140455, 0.0018848597642169935, 0.0018122374164618853, 0.0014958325078293796, 0.0014890760762275399, 0.0012075713852185228, 0.0010108945260345994, 8.447698749611481E-4] |[, missing, news, watch, porn, visite, vidos, site, link, channels]                                                      |\n",
      "|12   |[0, 394, 2798, 8779, 54, 8093, 9707, 26821, 14869, 633]         |[1.5631136060327916E-4, 1.252742991501227E-4, 1.0274059921351177E-4, 1.0037640424301167E-4, 8.124736161512129E-5, 8.00259854837476E-5, 7.8381120061374E-5, 7.813330923591798E-5, 7.53220247911238E-5, 7.428302603956653E-5]          |[, growth, ltd, sonic, gaza, beg, ora, furime, soak, wins]                                                               |\n",
      "|13   |[76, 433, 0, 349, 914, 1210, 1377, 1971, 1453, 2592]            |[0.008433364549220373, 0.00310955847110577, 0.002746638554072318, 0.001953607289447302, 0.0015863280544961143, 0.001405115860417979, 0.0010607008859517357, 9.221347023993016E-4, 8.972388784892909E-4, 8.127597895973776E-4]        |[de, e, , la, en, em, para, como, que, com]                                                                              |\n",
      "|14   |[0, 9664, 12452, 8829, 11280, 11742, 13527, 12493, 21620, 20459]|[1.5547914974743644E-4, 1.1959335547894303E-4, 1.1355498642057942E-4, 1.1159912490823289E-4, 1.1128726711822377E-4, 1.1120354353868825E-4, 9.339084939807545E-5, 9.25298449117005E-5, 9.23045394464451E-5, 9.19427589617004E-5]      |[, httpstcoutfmeqnrnk, labeouf, shia, twigs, fka, httpstcogzjvxaczt, httpstcoxglaweh, httpstcopqzdzsqgo, httpstcodfmmgxo]|\n",
      "|15   |[1, 0, 15904, 2, 4, 15041, 14295, 15554, 25253, 143]            |[2.7925812354727436E-4, 2.069146788982822E-4, 1.5549131511144888E-4, 1.4720283331108515E-4, 1.3873266898074298E-4, 1.3635652639634198E-4, 1.349489701534463E-4, 1.2319064132323415E-4, 1.1952588380359291E-4, 1.1836533979101013E-4] |[covid, , iphoneipad, new, says, httpstcoizcszsgohm, httpstcokuwrytptua, httpstcojsoxbeufjz, dearmob, see]               |\n",
      "|16   |[0, 120, 133, 161, 139, 149, 19, 231, 236, 233]                 |[0.00819637691357416, 0.006365277586142463, 0.006337074387111065, 0.006212532332590349, 0.006202275739507269, 0.005783143932537067, 0.005669944055542602, 0.005382368513366803, 0.0053484783081765045, 0.00532746035053368]          |[, sexy, funny, reddit, ai, based, one, ais, dungeon, wholly]                                                            |\n",
      "|17   |[0, 2, 5, 26, 18, 1, 6, 9, 163, 15498]                          |[4.476723174305612E-4, 2.1254423907864092E-4, 1.9458365983704312E-4, 1.5702792418236048E-4, 1.5613422588459339E-4, 1.5468099930777656E-4, 1.448989763191068E-4, 1.310186104760864E-4, 1.2755063454809984E-4, 1.2696048545197624E-4]  |[, new, vaccine, httpsiftttkuzqh, usa, covid, china, coronavirus, hong, rutgers]                                         |\n",
      "|18   |[1060, 1139, 1412, 863, 29, 207, 663, 57, 657, 742]             |[0.0017368199321232528, 0.001688447513231534, 0.0013122880685927144, 0.001231185135229381, 8.812554753550991E-4, 8.048587942490009E-4, 7.353876428225313E-4, 7.290639976028882E-4, 5.152385683423544E-4, 5.104704915290047E-4]       |[suu, kyi, aung, san, myanmar, coup, detained, military, suez, canal]                                                    |\n",
      "|19   |[0, 1851, 11009, 6647, 65, 1059, 447, 14673, 6207, 16831]       |[4.3550794898043445E-4, 1.78472496837988E-4, 1.251173986349126E-4, 1.1340334852246005E-4, 1.1238517829299349E-4, 1.1068482986952841E-4, 1.0027526907315185E-4, 9.805108857159555E-5, 9.687123640490165E-5, 9.65203904977789E-5]      |[, nm, rope, italia, l, ini, bt, ghttpstcomzrijqtqi, nhun, coppa]                                                        |\n",
      "+-----+----------------------------------------------------------------+-------------------------------------------------------------------------------------------------------------------------------------------------------------------------------------------------------------------------------------+-------------------------------------------------------------------------------------------------------------------------+\n",
      "\n"
     ]
    }
   ],
   "source": [
    "ldatopics_mapped.show(truncate=False)"
   ]
  },
  {
   "cell_type": "code",
   "execution_count": 19,
   "metadata": {},
   "outputs": [],
   "source": [
    "# Use the model to allocate topic weightings for each title\n",
    "indiv = lda_model.transform(basics)"
   ]
  },
  {
   "cell_type": "code",
   "execution_count": 21,
   "metadata": {},
   "outputs": [
    {
     "name": "stdout",
     "output_type": "stream",
     "text": [
      "+--------------------+------+--------------------+\n",
      "|             vectors|    id|   topicDistribution|\n",
      "+--------------------+------+--------------------+\n",
      "|(68283,[18,26,83,...|l8xslp|[0.00580986353959...|\n",
      "|(68283,[214,267,2...|l8vqvn|[0.00421993242201...|\n",
      "|       (68283,[],[])|l8usg7|[0.0,0.0,0.0,0.0,...|\n",
      "|(68283,[0,66,121,...|l8t0zg|[0.00386716845783...|\n",
      "|(68283,[0,10,20,2...|l8o2wz|[0.00464351487824...|\n",
      "|(68283,[12,71,372...|l8k2ic|[0.00580986354293...|\n",
      "|(68283,[1,815,237...|l8ip36|[0.00464351488199...|\n",
      "|(68283,[5,11,479,...|l8bylm|[0.00464351491842...|\n",
      "|(68283,[1,4,43,18...|l89f20|[0.00464351487738...|\n",
      "|(68283,[1,5,63,21...|l88ld9|[0.00580986353995...|\n",
      "|(68283,[3,4,126,1...|l7sxn2|[0.00516162081526...|\n",
      "|(68283,[145,418,4...|l7si03|[0.00664431653027...|\n",
      "|(68283,[11,218,34...|l7rn9f|[0.00421993242862...|\n",
      "|(68283,[0,2,45,48...|l7pbej|[0.00464351487861...|\n",
      "|   (68283,[0],[1.0])|l7ddrt|[0.02357267036537...|\n",
      "|(68283,[678,895,1...|l763bt|[0.00464351487832...|\n",
      "|(68283,[1126,2624...|l6vj09|[0.00464351489782...|\n",
      "|(68283,[25,319,64...|l6pzor|[0.00516162082273...|\n",
      "|(68283,[153,363,6...|l6hlca|[0.00516162081007...|\n",
      "|(68283,[265,455,5...|l6hlb0|[0.00421993242771...|\n",
      "+--------------------+------+--------------------+\n",
      "only showing top 20 rows\n",
      "\n"
     ]
    }
   ],
   "source": [
    "indiv.show()"
   ]
  },
  {
   "cell_type": "markdown",
   "metadata": {},
   "source": [
    "## Build features and target dataset"
   ]
  },
  {
   "cell_type": "code",
   "execution_count": null,
   "metadata": {},
   "outputs": [],
   "source": [
    "# convert epoch time into datetime, but keep epoch time as id"
   ]
  },
  {
   "cell_type": "code",
   "execution_count": 22,
   "metadata": {
    "tags": []
   },
   "outputs": [],
   "source": [
    "df= df.withColumn('timestamp', from_unixtime(df.created_utc,'yyyy-MM-dd HH:mm:ss')) "
   ]
  },
  {
   "cell_type": "code",
   "execution_count": 23,
   "metadata": {
    "tags": []
   },
   "outputs": [],
   "source": [
    "df = df.withColumn(\"hour\", hour(col(\"timestamp\"))).withColumn(\"day\", dayofweek(col(\"timestamp\")))\n",
    "df = df.withColumn(\"hour\", F.col(\"hour\").astype(StringType())).withColumn(\"day\", F.col(\"day\").astype(StringType()))"
   ]
  },
  {
   "cell_type": "code",
   "execution_count": 24,
   "metadata": {},
   "outputs": [
    {
     "name": "stdout",
     "output_type": "stream",
     "text": [
      "+------+------------------------------------------------------------+-------------------------------+------------+-----------+------------+-------------------+----+---+\n",
      "|    id|                                                       title|                         domain|subreddit_id|created_utc|num_comments|          timestamp|hour|day|\n",
      "+------+------------------------------------------------------------+-------------------------------+------------+-----------+------------+-------------------+----+---+\n",
      "|l8w5qa|  Jessica Simpson Twins With Daughter Birdie in Adorable Pic|                      bluzz.org|    t5_2qh13| 1612042018|           0|2021-01-30 21:26:58|  21|  7|\n",
      "|l8ni30|                       Pornhub Now Accepts Dogecoin Payments|             cryptobriefing.com|    t5_2qh13| 1612019085|           0|2021-01-30 15:04:45|  15|  7|\n",
      "|l8n6ta|India Mulls Law To Ban Cryptocurrencies Create Official D...|                       ndtv.com|    t5_2qh13| 1612018166|           2|2021-01-30 14:49:26|  14|  7|\n",
      "|l8j19t|tm hiu drama l g ti httpstcoDVkSVX httpstcoUYcNoG httpstc...|indexlink93447958.wordpress.com|    t5_2qh13| 1612003085|           0|2021-01-30 10:38:05|  10|  7|\n",
      "|l8co25|House Democrats push to censure Georgia Congresswoman Mar...|                      bluzz.org|    t5_2qh13| 1611977317|           0|2021-01-30 03:28:37|   3|  7|\n",
      "|l7y8yl|  Congos prime minister resigns after lawmakers vote him out|                 abcnews.go.com|    t5_2qh13| 1611940865|           1|2021-01-29 17:21:05|  17|  6|\n",
      "|l7y6fc|                                                  JJ ENGLISH|                    stepe.tokyo|    t5_2qh13| 1611940699|           0|2021-01-29 17:18:19|  17|  6|\n",
      "|l7qrh2|China builds Digital Silk Road in Pakistan to Africa and ...|                asia.nikkei.com|    t5_2qh13| 1611921378|           4|2021-01-29 11:56:18|  11|  6|\n",
      "|l7g5r4|GameStop effect could ripple further as Wall Street eyes ...|                    reuters.com|    t5_2qh13| 1611886196|           9|2021-01-29 02:09:56|   2|  6|\n",
      "|l77aqb|Russian President Vladimir Putin says world risks sliding...|                    stuff.co.nz|    t5_2qh13| 1611864604|          30|2021-01-28 20:10:04|  20|  5|\n",
      "|l6wpsu|China sharpens language warns Taiwan that independence me...|                    reuters.com|    t5_2qh13| 1611840920|           0|2021-01-28 13:35:20|  13|  5|\n",
      "|l6vfrx|       Role Of Exercise In Keeping Alzheimers Disease At Bay|       anthemseniors.tumblr.com|    t5_2qh13| 1611836959|           2|2021-01-28 12:29:19|  12|  5|\n",
      "|l686x9|Transfer news LIVE Celtic Rangers Aberdeen Hibs Hearts an...|                      bluzz.org|    t5_2qh13| 1611764877|           0|2021-01-27 16:27:57|  16|  4|\n",
      "|l5g6ya|Covid linked to risk of mental illness and brain disorder...|                theguardian.com|    t5_2qh13| 1611674759|           0|2021-01-26 15:25:59|  15|  3|\n",
      "|l5cr2f|   IDF troops shoot and kill attempted attacker in West Bank|                   ynetnews.com|    t5_2qh13| 1611663026|           0|2021-01-26 12:10:26|  12|  3|\n",
      "|l51rbl|BC officials warn new vaccine delay means second doses wi...|                      bluzz.org|    t5_2qh13| 1611620811|           0|2021-01-26 00:26:51|   0|  3|\n",
      "|l51nju|The baby boom that never was France sees sharp decline in...|                   france24.com|    t5_2qh13| 1611620488|           0|2021-01-26 00:21:28|   0|  3|\n",
      "|l4znqi|Spending more on DoorDash and UberEats This fee may be wh...|   for-hashtagsusa.blogspot.com|    t5_2qh13| 1611614625|           0|2021-01-25 22:43:45|  22|  2|\n",
      "|l4vc0j|  Makers of Sophia the robot plan mass rollout amid pandemic|                      bluzz.org|    t5_2qh13| 1611602806|           0|2021-01-25 19:26:46|  19|  2|\n",
      "|l4sjox|                                                    Be relax|                    berelax.com|    t5_2qh13| 1611595374|           1|2021-01-25 17:22:54|  17|  2|\n",
      "+------+------------------------------------------------------------+-------------------------------+------------+-----------+------------+-------------------+----+---+\n",
      "only showing top 20 rows\n",
      "\n"
     ]
    }
   ],
   "source": [
    "df.show(truncate =60)"
   ]
  },
  {
   "cell_type": "code",
   "execution_count": 25,
   "metadata": {},
   "outputs": [
    {
     "name": "stdout",
     "output_type": "stream",
     "text": [
      "root\n",
      " |-- id: string (nullable = true)\n",
      " |-- title: string (nullable = true)\n",
      " |-- domain: string (nullable = true)\n",
      " |-- subreddit_id: string (nullable = true)\n",
      " |-- created_utc: string (nullable = true)\n",
      " |-- num_comments: string (nullable = true)\n",
      " |-- timestamp: string (nullable = true)\n",
      " |-- hour: string (nullable = true)\n",
      " |-- day: string (nullable = true)\n",
      "\n"
     ]
    }
   ],
   "source": [
    "df.printSchema()"
   ]
  },
  {
   "cell_type": "code",
   "execution_count": 26,
   "metadata": {},
   "outputs": [],
   "source": [
    "# Create features df by combining topic distributions for each title, with the other features of domain, hour and day\n",
    "temp = indiv.select('topicDistribution')\n",
    "# And a list of sequential column titles\n",
    "X_titles = [f'T_{i}' for i in range(1, num_topics +1)]\n",
    "X_titles = ['id'] + X_titles # adding the id at start"
   ]
  },
  {
   "cell_type": "code",
   "execution_count": 27,
   "metadata": {},
   "outputs": [
    {
     "name": "stdout",
     "output_type": "stream",
     "text": [
      "+------+--------------------+--------------------+--------------------+--------------------+--------------------+--------------------+--------------------+--------------------+--------------------+--------------------+--------------------+--------------------+--------------------+--------------------+--------------------+--------------------+--------------------+--------------------+--------------------+--------------------+\n",
      "|    id|                 T_1|                 T_2|                 T_3|                 T_4|                 T_5|                 T_6|                 T_7|                 T_8|                 T_9|                T_10|                T_11|                T_12|                T_13|                T_14|                T_15|                T_16|                T_17|                T_18|                T_19|                T_20|\n",
      "+------+--------------------+--------------------+--------------------+--------------------+--------------------+--------------------+--------------------+--------------------+--------------------+--------------------+--------------------+--------------------+--------------------+--------------------+--------------------+--------------------+--------------------+--------------------+--------------------+--------------------+\n",
      "|l8xslp|0.005809863539597791|0.005811770905370103|0.005849981224398133|0.005818134311859149|0.005840757062766847|0.005812570661505445|0.005818899392473951|0.005815816199790639|0.007583064728207621|0.005832934309129456|  0.8874684965115003|0.005902432646951242|0.005806256444417089|0.005849339934199632|0.005807497960686...| 0.00582009404566059|0.005905663736511676|0.005817560015562752|0.005821510023834373|0.005807356345577148|\n",
      "|l8vqvn|0.004219932422018242|0.004221317816770...|0.004249071474604106|0.004225939808623357|0.004242371601530...|0.004221898710619466|0.004226495516789366|0.004224256073136...|0.005507880845380158|0.004236689629217...|  0.9182639399023814|0.004287169004146522|0.004217312446323485|0.004248605678947784| 0.00421821420878201|0.004227363240248124|0.004289515876013594|0.004225522674695609|0.004228391721778346|0.004218111347993786|\n",
      "|l8usg7|                 0.0|                 0.0|                 0.0|                 0.0|                 0.0|                 0.0|                 0.0|                 0.0|                 0.0|                 0.0|                 0.0|                 0.0|                 0.0|                 0.0|                 0.0|                 0.0|                 0.0|                 0.0|                 0.0|                 0.0|\n",
      "|l8t0zg|0.003867168457831...| 0.00386843804150996|0.003893871641342...|0.003872673659604...|0.003887731842549...|0.003868970376329...|0.003873182913385...| 0.00387113067467415| 0.00504745010130854|0.003882524852628259|  0.8159138777438577|0.003928784424328...|0.003864767499608...|0.003893444784294571|0.003865593879364081|0.003873978100085...|  0.1131136993883637|0.003872291395904...|0.003874920606511926|0.003865499616516718|\n",
      "|l8o2wz|0.004643514878246935|0.004645039334775917|0.004675578809881276|0.004650125266407706|0.004668206427442247|0.004645678537802865|0.004650736754721...|0.004648272523170...|  0.9094500820566558|0.004661954119235...|0.006670213438580535|0.004717500439697809|0.004640631919174...|0.004675066269241752|0.004641624196478593|0.004651691577098296|0.004720082884637556|0.004649666261164064|0.004652823293666438|0.004641511011920217|\n",
      "|l8k2ic|0.005809863542934523|0.005811770908712796|0.005849981286613624|0.005818134314021816|0.005840757064573199|0.005812570664475829|0.005818899395572288|0.005815816203167537|0.007583069235377912|0.005832934311625014|  0.8874684918603515|0.005902432664982994|0.005806256447016822|0.005849339941762524|0.005807497964316693|0.005820094051183674|0.005905663749774187|0.005817560017918846|0.005821510026600644|0.005807356349017...|\n",
      "|l8ip36|0.004643514881990...|0.004645039338563608|0.004675578814190159| 0.00465012527167935|0.004668206430792751|0.004645678541064233|0.004650736758345073|0.004648272525982092|  0.9094500976694718|0.004661954121722386|0.006670197743835976|0.004717500438164886|0.004640631923730621|0.004675066275240714| 0.00464162420123359|0.004651691581488706|0.004720082902320681|0.004649666265492884| 0.00465282329822777|0.004641511016461933|\n",
      "|l8bylm|0.004643514918428707|0.004645039372153...|0.004675578839143776| 0.00465012529171377|0.004668206460503673|0.004645678571939423|0.004650736784899839|0.004648272553710993|  0.9094500817969648|0.004661954150447...|0.006670213078668198| 0.00471750047931907| 0.00464063195165418|0.004675066303220706|0.004641624233707...| 0.00465169160398229|0.004720082922983228| 0.00464966628708281|0.004652823348838091|0.004641511050637847|\n",
      "|l89f20|0.004643514877387442|0.004645039333016666|0.004675578809095575|0.004650125265961...|0.004668206429394641|0.004645678536140448|0.004650736753676074|0.004648272521677843|  0.6856655667374406|0.004661954117346595| 0.23045472878842727|0.004717500434423316|0.004640631917753848|0.004675066259257609|0.004641624195909633|0.004651691577493854|0.004720082881860168|0.004649666260948882| 0.00465282329235375|0.004641511010434315|\n",
      "|l88ld9| 0.00580986353995171| 0.00581177090554236|  0.0058499812249156|0.005818134311787961|0.005840757061223845|0.005812570661726433|0.005818899393082467|  0.0058158162001595|  0.8867059725903885|0.005832934309166...|0.008345588656379766|0.005902432638321707|0.005806256444717092|0.005849339934119091|0.005807497960864...|0.005820094046081148| 0.00590566373647255|0.005817560015563...|0.005821510023700974|0.005807356345835435|\n",
      "|l7sxn2|0.005161620815261969|0.005163315364012858|0.005197262320969163|0.005168968765818212|0.005189067353289646| 0.00516402588602267|0.005169648482882908|0.005166909299601683|0.006736983076312007|0.005182117436426...|   0.900024330269689|0.005243861405662...|0.005158416184896509| 0.00519669259490998|0.005159519179553518|0.005170709840812737|0.005246731985234341| 0.00516845854662763|0.005171967827412009|0.005159393364604418|\n",
      "|l7si03|0.006644316530276002|0.006646497844448...|0.006690196194041018|0.006653775206345149|0.006679647191017064|0.006647412466288774|0.006654650173156071|0.006651124151102307|  0.8704338453043835|0.006670700884721798|0.009544291621551718|0.006750181043965...|0.006640191356937...|0.006689462799225655|0.006641611187539478|0.006656016410134704|0.006753876215295788|0.006653118424902147|0.006657635761075...|0.006641449233591626|\n",
      "|l7rn9f|0.004219932428624221|0.004221317822207...| 0.00424907148250309|0.004225939818194434|0.004242371611493686|0.004221898718044363|0.004226495527782646| 0.00422425608043786|  0.9177100878786172|0.004236689637162984|0.006061732729730823|0.004287169009431088|0.004217312454314295|0.004248605690086894|0.004218214213406084|0.004227363247721346|0.004289515882007169|0.004225522682352739|0.004228391731512388|0.004218111354368759|\n",
      "|l7pbej| 0.00464351487861414|0.004645039333885...|0.004675578819705987|0.004650125266291126|0.004668206427292246|0.004645678537455...|0.004650736755306708|0.004648272523470388|  0.1689242931081859|0.004661954118842384|  0.7471960023760211|0.004717500442782976| 0.00464063191945217|0.004675066268573879| 0.00464162419661006|0.004651691578227709|0.004720082879914738|0.004649666263431689|0.004652823294365076|0.004641511011570574|\n",
      "|l7ddrt|0.023572670365376178|0.023580409220818225|0.023735441997201175|0.023606227809763028|0.023698016327276937| 0.02358365411549793|0.023609332013030056|0.023596822411407446|0.030767198805999055|0.023666276631695547|  0.5434198822861794|0.023948255941772075|0.023558035103677537| 0.02373284005089339|0.023563072373423127|0.023614179144462736| 0.02396136565602429|0.023603897685290597|0.023619924266959223|0.023562497793252004|\n",
      "|l763bt|0.004643514878323419|0.004645039333464219|0.004675578809530745|0.004650125273765307|0.004668206428424255|0.004645678536546...|0.004650736754403776|0.004648272522397848|0.006060742594492951|0.004661954118001433|0.006670215455325779|0.004717500436257...|0.004640631918922803|0.004675066259211124|  0.9080309616574704|0.004651691577432108|0.004720082880322...|0.004649666261733934|0.004652823292815739|0.004641511011157597|\n",
      "|l6vj09|0.004643514897822952|0.004645039351487554|0.004675578827970482|0.004650125291815454|0.004668206445887275|0.004645678554300186|0.004650736776079346|0.004648272543386375|  0.5270423930261883| 0.00466195413193943|  0.3890779021564182| 0.00471750045455225|0.004640631934112...|0.004675066280016585|0.004641624216264999| 0.00465169159899717|0.004720082903453149| 0.00464966627766676|0.004652823306282618|0.004641511025358331|\n",
      "|l6pzor|0.005161620822737331|0.005163315369183...|0.005197262325532745|0.005168968769180...|0.005189067360097091|0.005164025892848...|0.005169648487610636|0.005166909304567272|0.006736977356763...|0.005182117441819...|  0.9000243358935525| 0.00524386141073842|0.005158416189343687|0.005196692586146727|0.005159519185741246|0.005170709843620826|0.005246731999033526|0.005168458553993304|0.005171967835423...|0.005159393372065014|\n",
      "|l6hlca| 0.00516162081007106| 0.00516331535897675|0.005197262315234733|0.005168968760757802|0.005189067348642739|0.005164025881059032|0.005169648476344...|0.005166909294859713|0.006736975901823116|0.005182117431299907|   0.900024337549079|0.005243861397541642|0.005158416180824606|0.005196692577723092|0.005159519173344589|0.005170709834938299|0.005246731982711602|0.005168458541698286|0.005171967823276281|0.005159393359792...|\n",
      "|l6hlb0|0.004219932427715...|0.004221317824757208|0.004249071483419425|0.004225939817898909|0.004242371612138532|0.004221898716541568|0.004226495521652...|0.004224256079472629|  0.5058348266491829|0.004236689635869307| 0.41793699396799033|0.004287169010268224|0.004217312455202401|0.004248605690022172|0.004218214215689639|0.004227363245151099|0.004289515882215257|0.004225522680349463| 0.00422839172885096|0.004218111355612013|\n",
      "+------+--------------------+--------------------+--------------------+--------------------+--------------------+--------------------+--------------------+--------------------+--------------------+--------------------+--------------------+--------------------+--------------------+--------------------+--------------------+--------------------+--------------------+--------------------+--------------------+--------------------+\n",
      "only showing top 20 rows\n",
      "\n"
     ]
    }
   ],
   "source": [
    "temp = indiv.withColumn(\"T_\", vector_to_array(\"topicDistribution\")).select([\"id\"] + [col(\"T_\")[i] for i in range(num_topics)]).drop('vectors', 'topicDistribution')\n",
    "temp = temp.toDF(*X_titles)\n",
    "temp.show()"
   ]
  },
  {
   "cell_type": "code",
   "execution_count": 46,
   "metadata": {},
   "outputs": [],
   "source": [
    "rf_full = temp.join(df, on = 'id', how= 'left').drop('id','subreddit_id','title','timestamp','created_utc')"
   ]
  },
  {
   "cell_type": "code",
   "execution_count": 29,
   "metadata": {},
   "outputs": [
    {
     "name": "stdout",
     "output_type": "stream",
     "text": [
      "root\n",
      " |-- T_1: double (nullable = true)\n",
      " |-- T_2: double (nullable = true)\n",
      " |-- T_3: double (nullable = true)\n",
      " |-- T_4: double (nullable = true)\n",
      " |-- T_5: double (nullable = true)\n",
      " |-- T_6: double (nullable = true)\n",
      " |-- T_7: double (nullable = true)\n",
      " |-- T_8: double (nullable = true)\n",
      " |-- T_9: double (nullable = true)\n",
      " |-- T_10: double (nullable = true)\n",
      " |-- T_11: double (nullable = true)\n",
      " |-- T_12: double (nullable = true)\n",
      " |-- T_13: double (nullable = true)\n",
      " |-- T_14: double (nullable = true)\n",
      " |-- T_15: double (nullable = true)\n",
      " |-- T_16: double (nullable = true)\n",
      " |-- T_17: double (nullable = true)\n",
      " |-- T_18: double (nullable = true)\n",
      " |-- T_19: double (nullable = true)\n",
      " |-- T_20: double (nullable = true)\n",
      " |-- domain: string (nullable = true)\n",
      " |-- num_comments: string (nullable = true)\n",
      " |-- hour: string (nullable = true)\n",
      " |-- day: string (nullable = true)\n",
      "\n"
     ]
    }
   ],
   "source": [
    "rf_full.printSchema()"
   ]
  },
  {
   "cell_type": "code",
   "execution_count": 30,
   "metadata": {},
   "outputs": [
    {
     "data": {
      "text/plain": [
       "127600"
      ]
     },
     "execution_count": 30,
     "metadata": {},
     "output_type": "execute_result"
    }
   ],
   "source": [
    "rf_full.count()"
   ]
  },
  {
   "cell_type": "code",
   "execution_count": 47,
   "metadata": {},
   "outputs": [
    {
     "name": "stdout",
     "output_type": "stream",
     "text": [
      "+--------------------+--------------------+--------------------+--------------------+--------------------+--------------------+--------------------+--------------------+--------------------+--------------------+--------------------+--------------------+--------------------+--------------------+--------------------+--------------------+--------------------+--------------------+--------------------+--------------------+--------------------+----+---+--------------+\n",
      "|                 T_1|                 T_2|                 T_3|                 T_4|                 T_5|                 T_6|                 T_7|                 T_8|                 T_9|                T_10|                T_11|                T_12|                T_13|                T_14|                T_15|                T_16|                T_17|                T_18|                T_19|                T_20|              domain|hour|day|group_comments|\n",
      "+--------------------+--------------------+--------------------+--------------------+--------------------+--------------------+--------------------+--------------------+--------------------+--------------------+--------------------+--------------------+--------------------+--------------------+--------------------+--------------------+--------------------+--------------------+--------------------+--------------------+--------------------+----+---+--------------+\n",
      "|0.004219932422262283|0.004221317814943307|0.004249071473314288|0.004225939807750972|0.004242371601089237|0.004221898714781086|0.004226495515749...|0.004224256079533084|  0.2072874036754573|0.004236689627776596|   0.716484417085286|0.004287168998443347|0.004217312445435674|0.004248605678988236|0.004218214207131061|0.004227363239490...|0.004289515872249758|0.004225522673472358|0.004228391719740564|0.004218111347105224|           bluzz.org|   6|  6|           0.0|\n",
      "|0.006644316525872677| 0.00664649783992101|0.006690196192195207|0.006653775203044...|0.006679647189024763|0.006647412462634221|0.006654650170218...|0.006651124148705...|  0.8704338999600928|0.006670700878750...|0.009544237025459364|0.006750181039217144|0.006640191354138092|0.006689462793260312|0.006641611185314913|0.006656016408250104|0.006753876211892415|0.006653118421840319|0.006657635758617358|0.006641449231549428|       betacrack.com|  10|  6|           0.0|\n",
      "|0.002898103982695052|0.002899055424066...|0.002918115681280613|0.002902229648596837| 0.00291351443761279|0.002899454362055...|0.002902611289941394|0.002901073317638424|  0.9434861137792826|0.002909612255335...|0.004163002887190223|0.002944279744877765|0.002896304673917...|0.002917795787214...|0.002896923973197...|0.002903207213128...|0.002945891496709815|0.002901943175177...|0.002903913537894...|0.002896853332184247|           bluzz.org|  11|  6|           0.0|\n",
      "|0.007758670750232...|0.007761217904292554|0.007812245142637476|0.007769715794711273|0.007799926910729183| 0.00776228592396504|0.007770737505162...|0.007766620115725...| 0.01012668792859871|0.007789480166284465|  0.8497219339069998|0.007882290380317973|  0.0077538537233096|0.007811388746757361| 0.00775551168277717| 0.00777233288165376|0.007886605287054368|0.007768948859785...|0.007774223823204719|0.007755322565801067|           bluzz.org|  16|  6|           0.0|\n",
      "|0.004219932431926376|0.004221317826897826|0.004249071498316258|0.004225939822662948|0.004242371615429518|0.004221898720982937|0.004226495534664677|0.004224256087157492|0.005507899471929947|0.004236689643939037|   0.918263921033637|0.004287169020060...|0.004217312454486953| 0.00424860570475425|0.004218214217629129|0.004227363250625...|0.004289515889611488|0.004225522686347086|0.004228391730613455|0.004218111358327855|           bluzz.org|  23|  6|           0.0|\n",
      "|0.002439603244201...|0.002440404161075...|0.002456448947724...|0.002443076200987751|0.002452575654612...|0.002440739984698...|0.002443397463788...|0.002442102809965451|0.003184182728180545|0.002449290825152...|  0.9527472173828652|0.002478473671484...|0.002438088599882216|0.002456179664953...|0.002438609919846...|0.002443899109071...|0.002479830437710...|0.002442835049675...|0.002444493687919...| 0.00243855045620534|indexlink93447958...|   8|  7|           0.0|\n",
      "|0.004219932423037595|0.004221317816156601|0.004249071475185949|0.004225939810921777|0.004242371601648885|0.004221898711111996|0.004226495517448055|0.004224256073166773| 0.20888638737226325|0.004236689630048579|  0.7148854333668201|0.004287169002009129|0.004217312446969...|0.004248605679785...|0.004218214208310721|0.004227363241047745|0.004289515876903099|0.004225522675866545|0.004228391722595...|0.004218111348702326|       dstarnews.com|  18|  7|           0.0|\n",
      "|0.005161620826407...|0.005163315373227615|0.005197262331683601|0.005168968778698481|0.005189067372008687|0.005164025898758691|0.005169648491680498|0.005166909312165349|  0.3946083154592576| 0.00518211744497042|  0.5121529976785777|0.005243861449107957| 0.00515841619434147|0.005196692599950873|0.005159519184429959|0.005170709852163579|0.005246731994246752|0.005168458553821...|0.005171967835154747|0.005159393369346164|middleeastmonitor...|  19|  7|           0.0|\n",
      "|0.004219932424057654|0.004221317818271482|0.004249071476720558|0.004225939810886549|0.004242371605325903|0.004221898713117281|0.004226495518820295| 0.00422425607520209|0.005507877893670689|0.004236689631736311|  0.9182639428147348|0.004287168999303395| 0.00421731244925484|0.004248605689607837|0.004218214211301...|0.004227363242814572| 0.00428951587520509|0.004225522676566237|0.004228391723619718|0.004218111349782671|     itstrending.org|  21|  7|           0.0|\n",
      "|                 0.0|                 0.0|                 0.0|                 0.0|                 0.0|                 0.0|                 0.0|                 0.0|                 0.0|                 0.0|                 0.0|                 0.0|                 0.0|                 0.0|                 0.0|                 0.0|                 0.0|                 0.0|                 0.0|                 0.0|         stepe.tokyo|   0|  1|           0.0|\n",
      "|0.005809863540579418|0.005811770907500451|0.005849981225749...|0.005818134313429417|0.005840757062162708|0.005812570662504253|0.005818899393480725|0.005815816200926392|  0.8867059555463445|0.005832934311535869|0.008345605656566134|0.005902432647837857|0.005806256445320923|0.005849339935098891|0.005807497961322865|0.005820094046831421|0.005905663753350699|0.005817560017324653| 0.00582151002531716| 0.00580735634681591|             cutt.ly|   4|  1|           0.0|\n",
      "|0.003313231334121088|0.003314319060086...|0.003336109527505...|0.003317947965128308|0.003330849197682...|0.003314775143555...|0.003318384272388281|0.003316625998987...|    0.93539101771866|0.003326388063275019| 0.00475930536071936|0.003366021364495...|0.003311174290561...|0.003335743818756009|0.003311882298452...|0.003319065556029...|0.003367863979776...| 0.00331762045608625|0.003319873055333...|0.003311801538399...|           bluzz.org|  14|  1|           0.0|\n",
      "|0.023572670365376178|0.023580409220818225|0.023735441997201175|0.023606227809763028|0.023698016327276937| 0.02358365411549793|0.023609332013030056|0.023596822411407446|0.030767198805999055|0.023666276631695547|  0.5434198822861794|0.023948255941772075|0.023558035103677537| 0.02373284005089339|0.023563072373423127|0.023614179144462736| 0.02396136565602429|0.023603897685290597|0.023619924266959223|0.023562497793252004|         stepe.tokyo|  15|  1|           0.0|\n",
      "|0.004219932429589324|0.004221317824633532|0.004249071481975735|0.004225939815016634|0.004242371607140391|0.004221898716966...|0.004226495523456148|0.004224256079745761|0.005507880450747886|0.004236689637278341|   0.918263940166595|0.004287169014957601|0.004217312453229296|0.004248605688330049|0.004218214218088999|0.004227363245750...|0.004289515878902...|0.004225522683726269|0.004228391728859043|0.004218111355009561|           bluzz.org|  23|  1|           0.0|\n",
      "|0.004219932423321895|0.004221317817582463|0.004249071499833695|0.004225939810370242|0.004242371604008618|0.004221898712894022|0.004226495521442373|  0.0042242560745438|0.005507883483047938|0.004236689630684088|  0.9182639372001721|0.004287169013719488|0.004217312448165981|0.004248605682960563|0.004218214210135257|0.004227363242776622|0.004289515876297487|0.004225522676308784|0.004228391722759151|0.004218111348975511|            youtu.be|   1|  2|           0.0|\n",
      "|0.007758670746145012|0.007761217900914...|   0.846389254928527|0.007769715789636894|0.007799926906082956|0.007762285920204851|0.007770737502128565|0.007766620112143408| 0.01012665698530439|0.007789480162197728|0.011144955141505836|0.007882290370174452|0.007753853720182...|0.007811388737922...|0.007755511679081343|0.007772332879507886|0.007886605280118336|0.007768948856442934|0.007774223819598...|0.007755322562181132|         youtube.com|   4|  2|           0.0|\n",
      "|0.004643514876529744|0.004645039332301...|0.004675578808191735| 0.00465012526505901|0.004668206424943772|0.004645678535008983|0.004650736753301927|0.004648272521078545|0.006060742727925497| 0.00466195411829075|  0.9100595528146678|0.004717500433197821|0.004640631916886614|0.004675066259109904|0.004641624195128246|0.004651691576074225|0.004720082880706643|0.004649666259739391|0.004652823292204863|0.004641511009653623|          apnews.com|  10|  2|           0.0|\n",
      "|0.005161620810792078| 0.00516331535897649|0.005197262316564804|0.005168968764882169|0.005189067349162446|0.005164025881819038|0.005169648476984426|0.005166909295352775|0.006736976876721744|0.005182117430408...|  0.9000243365554799|0.005243861405994379|0.005158416181573582|0.005196692577810123|0.005159519173886401|0.005170709834896239|0.005246731982894113|0.005168458542066921|0.005171967823870...|0.005159393359863...|           bluzz.org|  15|  2|           0.0|\n",
      "|0.004643514877743149|0.004645039332734458|0.004675578808748639|0.004650125265253933|0.004668206428500916|0.004645678536367041|0.004650736753496308|0.004648272521528382|  0.9094500900781787|0.004661954116438086|0.006670205442911979|0.004717500441618966|0.004640631917085778|0.004675066265039483|0.004641624195770971|0.004651691576047608|0.004720082878994245|0.004649666260454445|0.004652823293442998|0.004641511009644134|      uk.reuters.com|  15|  2|           0.0|\n",
      "|  0.0042199324204402|0.004221317814887663|0.004249071477020...|0.004225939807267585| 0.00424237160135536|0.004221898709588307|0.004226495515866...|0.004224256071684293|  0.9177100308911452|0.004236689627474708|0.006061789879120111|0.004287168998681251|0.004217312445483583|0.004248605678078828| 0.00421821420729668|0.004227363239470327|0.004289515875149...| 0.00422552267326088|0.004228391719701486|0.004218111347027141|           bluzz.org|  16|  2|           0.0|\n",
      "+--------------------+--------------------+--------------------+--------------------+--------------------+--------------------+--------------------+--------------------+--------------------+--------------------+--------------------+--------------------+--------------------+--------------------+--------------------+--------------------+--------------------+--------------------+--------------------+--------------------+--------------------+----+---+--------------+\n",
      "only showing top 20 rows\n",
      "\n"
     ]
    }
   ],
   "source": [
    "# Convert the number of comments into numerical and create a grouped categorical\n",
    "rf_full = rf_full.withColumn(\"num_comments\", F.col(\"num_comments\").astype(IntegerType()))\n",
    "bucketizer = Bucketizer(splitsArray=[[0,5,25,float(\"inf\")]],inputCols=[\"num_comments\"], outputCols=[\"group_comments\"])\n",
    "rf_full = bucketizer.setHandleInvalid(\"keep\").transform(rf_full)\n",
    "rf_full = rf_full.drop('num_comments')\n",
    "rf_full.show(20)"
   ]
  },
  {
   "cell_type": "code",
   "execution_count": 32,
   "metadata": {},
   "outputs": [
    {
     "name": "stdout",
     "output_type": "stream",
     "text": [
      "root\n",
      " |-- T_1: double (nullable = true)\n",
      " |-- T_2: double (nullable = true)\n",
      " |-- T_3: double (nullable = true)\n",
      " |-- T_4: double (nullable = true)\n",
      " |-- T_5: double (nullable = true)\n",
      " |-- T_6: double (nullable = true)\n",
      " |-- T_7: double (nullable = true)\n",
      " |-- T_8: double (nullable = true)\n",
      " |-- T_9: double (nullable = true)\n",
      " |-- T_10: double (nullable = true)\n",
      " |-- T_11: double (nullable = true)\n",
      " |-- T_12: double (nullable = true)\n",
      " |-- T_13: double (nullable = true)\n",
      " |-- T_14: double (nullable = true)\n",
      " |-- T_15: double (nullable = true)\n",
      " |-- T_16: double (nullable = true)\n",
      " |-- T_17: double (nullable = true)\n",
      " |-- T_18: double (nullable = true)\n",
      " |-- T_19: double (nullable = true)\n",
      " |-- T_20: double (nullable = true)\n",
      " |-- domain: string (nullable = true)\n",
      " |-- hour: string (nullable = true)\n",
      " |-- day: string (nullable = true)\n",
      " |-- group_comments: double (nullable = true)\n",
      "\n"
     ]
    }
   ],
   "source": [
    "rf_full.printSchema()"
   ]
  },
  {
   "cell_type": "code",
   "execution_count": 48,
   "metadata": {},
   "outputs": [],
   "source": [
    "# Drop rows where there are null values, to avaoid probelms with modelling\n",
    "rf_full = rf_full.na.drop(\"any\")"
   ]
  },
  {
   "cell_type": "code",
   "execution_count": 49,
   "metadata": {},
   "outputs": [
    {
     "name": "stdout",
     "output_type": "stream",
     "text": [
      "+---+---+---+---+---+---+---+---+---+----+----+----+----+----+----+----+----+----+----+----+------+----+---+--------------+\n",
      "|T_1|T_2|T_3|T_4|T_5|T_6|T_7|T_8|T_9|T_10|T_11|T_12|T_13|T_14|T_15|T_16|T_17|T_18|T_19|T_20|domain|hour|day|group_comments|\n",
      "+---+---+---+---+---+---+---+---+---+----+----+----+----+----+----+----+----+----+----+----+------+----+---+--------------+\n",
      "|  0|  0|  0|  0|  0|  0|  0|  0|  0|   0|   0|   0|   0|   0|   0|   0|   0|   0|   0|   0|     0|   0|  0|             0|\n",
      "+---+---+---+---+---+---+---+---+---+----+----+----+----+----+----+----+----+----+----+----+------+----+---+--------------+\n",
      "\n",
      "None\n"
     ]
    }
   ],
   "source": [
    "# Check all gone\n",
    "print(rf_full.select([count(when(isnan(c) | col(c).isNull(), c)).alias(c) for c in rf_full.columns]).show()) "
   ]
  },
  {
   "cell_type": "code",
   "execution_count": 50,
   "metadata": {
    "tags": []
   },
   "outputs": [],
   "source": [
    "rf_full.write.mode(\"overwrite\").parquet('rf_full')"
   ]
  },
  {
   "cell_type": "code",
   "execution_count": 51,
   "metadata": {
    "tags": []
   },
   "outputs": [],
   "source": [
    "rf_full= spark.read.parquet('rf_full')"
   ]
  },
  {
   "cell_type": "markdown",
   "metadata": {},
   "source": [
    "## Now build the ML model"
   ]
  },
  {
   "cell_type": "code",
   "execution_count": 52,
   "metadata": {},
   "outputs": [],
   "source": [
    "from pyspark.ml import Pipeline, PipelineModel\n",
    "from pyspark.ml.classification import GBTClassifier, RandomForestClassifier\n",
    "from pyspark.ml.evaluation import MulticlassClassificationEvaluator\n",
    "from pyspark.mllib.evaluation import MulticlassMetrics"
   ]
  },
  {
   "cell_type": "code",
   "execution_count": 53,
   "metadata": {},
   "outputs": [],
   "source": [
    "# Need to one-hot-encode the domain, hour and day columns as they are categorical\n",
    "#Create variable for all categorical columns\n",
    "cat_cols = ['domain','hour','day']\n",
    "#Create and empty list and put the string indexed and one-hot-encoded transformations into it\n",
    "stages = []\n",
    "for cat_col in cat_cols:\n",
    "    col_indexer = StringIndexer(inputCol=cat_col, outputCol=f\"{cat_col}_ind\",handleInvalid='skip')\n",
    "    col_encoder = OneHotEncoder(inputCols=[f\"{cat_col}_ind\"], outputCols=[f\"{cat_col}_ohe\"])\n",
    "    stages += [col_indexer, col_encoder]"
   ]
  },
  {
   "cell_type": "code",
   "execution_count": 54,
   "metadata": {},
   "outputs": [],
   "source": [
    "# Split data into train and test sets\n",
    "train, test = rf_full.randomSplit([0.8, 0.2], seed=42)\n",
    "# Seperate out the features from the data\n",
    "X = rf_full.drop('group_comments')\n",
    "y= rf_full.select('group_comments')\n",
    "# make list of numeric columns (here that is all columns in features not categorical)\n",
    "features_cols = X.columns\n",
    "num_cols = [x for x in features_cols if x not in cat_cols]"
   ]
  },
  {
   "cell_type": "code",
   "execution_count": 55,
   "metadata": {},
   "outputs": [],
   "source": [
    "# Change title of one not encoded categoricals\n",
    "cat_cols_ohe = [f\"{cat_col}_ohe\" for cat_col in cat_cols]"
   ]
  },
  {
   "cell_type": "code",
   "execution_count": 56,
   "metadata": {},
   "outputs": [],
   "source": [
    "# Build all features into one vetor\n",
    "assembler = VectorAssembler(inputCols=cat_cols_ohe + num_cols, outputCol=\"features\")\n",
    "stages += [assembler]"
   ]
  },
  {
   "cell_type": "code",
   "execution_count": 57,
   "metadata": {},
   "outputs": [],
   "source": [
    "#specify the model core and target variable\n",
    "rf = RandomForestClassifier(labelCol=\"group_comments\",featuresCol=\"features\")\n",
    "stages += [rf]"
   ]
  },
  {
   "cell_type": "code",
   "execution_count": 58,
   "metadata": {},
   "outputs": [],
   "source": [
    "# Populate the pipeline\n",
    "pipeline = Pipeline(stages=stages)"
   ]
  },
  {
   "cell_type": "code",
   "execution_count": 59,
   "metadata": {},
   "outputs": [
    {
     "name": "stdout",
     "output_type": "stream",
     "text": [
      "Time elapsed (hh:mm:ss.ms) 0:01:15.580071\n"
     ]
    }
   ],
   "source": [
    "# FIT MODEL TO TRAINING SET VIA PIPELINE\n",
    "from datetime import datetime \n",
    "start_time = datetime.now() \n",
    "\n",
    "pipeline_model = pipeline.fit(train)\n",
    "\n",
    "print('Time elapsed (hh:mm:ss.ms) {}'.format(datetime.now() - start_time))"
   ]
  },
  {
   "cell_type": "code",
   "execution_count": 60,
   "metadata": {},
   "outputs": [],
   "source": [
    "#Save the model for later use\n",
    "pipeline_model.write().overwrite().save('pipeline_model')"
   ]
  },
  {
   "cell_type": "code",
   "execution_count": 61,
   "metadata": {},
   "outputs": [],
   "source": [
    "test_preds = pipeline_model.transform(test)"
   ]
  },
  {
   "cell_type": "code",
   "execution_count": 62,
   "metadata": {},
   "outputs": [
    {
     "name": "stdout",
     "output_type": "stream",
     "text": [
      "Test Error = 0.172747\n"
     ]
    }
   ],
   "source": [
    "evaluator = MulticlassClassificationEvaluator(labelCol=rf.getLabelCol(), predictionCol=rf.getPredictionCol(), metricName=\"accuracy\")\n",
    "accuracy = evaluator.evaluate(test_preds)\n",
    "print(\"Test Error = %g\" % (1.0 - accuracy))"
   ]
  },
  {
   "cell_type": "code",
   "execution_count": 64,
   "metadata": {},
   "outputs": [
    {
     "name": "stdout",
     "output_type": "stream",
     "text": [
      "+----------+\n",
      "|prediction|\n",
      "+----------+\n",
      "|       0.0|\n",
      "|       0.0|\n",
      "|       0.0|\n",
      "|       0.0|\n",
      "|       0.0|\n",
      "+----------+\n",
      "only showing top 5 rows\n",
      "\n"
     ]
    }
   ],
   "source": [
    "test_preds.select('prediction').show(5)"
   ]
  },
  {
   "cell_type": "code",
   "execution_count": 65,
   "metadata": {},
   "outputs": [],
   "source": [
    "preds_and_labels = test_preds.select(['prediction','group_comments']).withColumn('label', F.col('group_comments').cast(FloatType())).orderBy('prediction')"
   ]
  },
  {
   "cell_type": "code",
   "execution_count": 66,
   "metadata": {},
   "outputs": [
    {
     "name": "stdout",
     "output_type": "stream",
     "text": [
      "[[20113.     0.     0.]\n",
      " [ 2556.     0.     0.]\n",
      " [ 1644.     0.     0.]]\n"
     ]
    }
   ],
   "source": [
    "#select only prediction and label columns\n",
    "preds_and_labels = preds_and_labels.select(['prediction','label'])\n",
    "\n",
    "metrics = MulticlassMetrics(preds_and_labels.rdd.map(tuple))\n",
    "\n",
    "print(metrics.confusionMatrix().toArray())"
   ]
  },
  {
   "cell_type": "code",
   "execution_count": null,
   "metadata": {},
   "outputs": [],
   "source": []
  },
  {
   "cell_type": "code",
   "execution_count": null,
   "metadata": {},
   "outputs": [],
   "source": []
  },
  {
   "cell_type": "code",
   "execution_count": null,
   "metadata": {},
   "outputs": [],
   "source": []
  },
  {
   "cell_type": "code",
   "execution_count": null,
   "metadata": {},
   "outputs": [],
   "source": []
  },
  {
   "cell_type": "code",
   "execution_count": null,
   "metadata": {},
   "outputs": [],
   "source": []
  },
  {
   "cell_type": "code",
   "execution_count": 67,
   "metadata": {},
   "outputs": [],
   "source": [
    "spark.stop()"
   ]
  },
  {
   "cell_type": "code",
   "execution_count": null,
   "metadata": {},
   "outputs": [],
   "source": []
  }
 ],
 "metadata": {
  "kernelspec": {
   "display_name": "Python 3",
   "language": "python",
   "name": "python3"
  },
  "language_info": {
   "codemirror_mode": {
    "name": "ipython",
    "version": 3
   },
   "file_extension": ".py",
   "mimetype": "text/x-python",
   "name": "python",
   "nbconvert_exporter": "python",
   "pygments_lexer": "ipython3",
   "version": "3.8.8"
  }
 },
 "nbformat": 4,
 "nbformat_minor": 4
}
